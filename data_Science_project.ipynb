{
 "cells": [
  {
   "cell_type": "code",
   "execution_count": 2,
   "metadata": {},
   "outputs": [
    {
     "name": "stdout",
     "output_type": "stream",
     "text": [
      "Mobile Numbers: \n",
      " 0314343303 (Zong)\n",
      " 0349475009 (Telenor)\n",
      " 0303797829 (Moblink)\n",
      " 0343156256 (Telenor)\n",
      " 0354801433 (Scom)\n",
      " 0329373592 (Warid)\n",
      " 0359478234 (Scom)\n",
      " 0336743440 (Ufone)\n",
      " 0345481853 (Telenor)\n",
      " 0306523345 (Moblink)\n",
      "\n",
      " Total users\n",
      " Moblink Users: 2\n",
      " Zong Users: 1\n",
      " Warid Users: 1\n",
      " Ufone Users: 1\n",
      " Telenor Users: 3\n",
      " Scom Users: 2\n",
      " Instaphone Users: 0\n"
     ]
    }
   ],
   "source": [
    "import random\n",
    "\n",
    "networks = {\n",
    "    \"Moblink\": \"030\",\n",
    "    \"Zong\": \"031\",\n",
    "    \"Warid\": \"032\",\n",
    "    \"Ufone\": \"033\",\n",
    "    \"Telenor\": \"034\",\n",
    "    \"Scom\": \"035\",\n",
    "    \"Instaphone\": \"036\"\n",
    "}\n",
    "mobile_numbers = []\n",
    "\n",
    "for number in range(10):\n",
    "    network_name = random.choice(list(networks.keys()))\n",
    "    prefix = networks[network_name]\n",
    "    random_suffix = ''.join(random.choices('03123456789', k=7))\n",
    "    mobile_number = prefix + random_suffix\n",
    "    mobile_numbers.append((network_name, mobile_number))\n",
    "\n",
    "print(\"Mobile Numbers: \")\n",
    "for network_name, mobile_number in mobile_numbers:\n",
    "    print(f\" {mobile_number} ({network_name})\")\n",
    "\n",
    "network_counts = {network_name: 0 for network_name in networks.keys()}\n",
    "for network_name, mobile_number in mobile_numbers:\n",
    "    network_counts[network_name] += 1\n",
    "\n",
    "print(\"\\n Total users\")\n",
    "for network_name, count in network_counts.items():\n",
    "    print(f\" {network_name} Users: {count}\")"
   ]
  }
 ],
 "metadata": {
  "kernelspec": {
   "display_name": "Python 3",
   "language": "python",
   "name": "python3"
  },
  "language_info": {
   "codemirror_mode": {
    "name": "ipython",
    "version": 3
   },
   "file_extension": ".py",
   "mimetype": "text/x-python",
   "name": "python",
   "nbconvert_exporter": "python",
   "pygments_lexer": "ipython3",
   "version": "3.11.4"
  },
  "orig_nbformat": 4
 },
 "nbformat": 4,
 "nbformat_minor": 2
}
