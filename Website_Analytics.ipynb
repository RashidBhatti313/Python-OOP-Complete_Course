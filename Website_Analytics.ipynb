{
 "cells": [
  {
   "cell_type": "code",
   "execution_count": null,
   "metadata": {},
   "outputs": [],
   "source": [
    "data = [\n",
    "    {\"page_name\": \"Page 1\", \"page_views\": 1000, \"bounce_rate\": 0.4},\n",
    "    {\"page_name\": \"Page 2\", \"page_views\": 800, \"bounce_rate\": 0.6},\n",
    "    {\"page_name\": \"Page 3\", \"page_views\": 1200, \"bounce_rate\": 0.3},\n",
    "]\n",
    "\n",
    "total_bounce_rate = sum"
   ]
  }
 ],
 "metadata": {
  "language_info": {
   "name": "python"
  }
 },
 "nbformat": 4,
 "nbformat_minor": 2
}
