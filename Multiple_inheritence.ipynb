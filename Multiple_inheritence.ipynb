{
 "cells": [
  {
   "cell_type": "code",
   "execution_count": 1,
   "metadata": {},
   "outputs": [
    {
     "name": "stdout",
     "output_type": "stream",
     "text": [
      " name = Omniv \n",
      " eat = meat \n",
      " age = 5\n"
     ]
    }
   ],
   "source": [
    "class Herbivours:\n",
    "    def __init__(self, name, eat, age) -> None:\n",
    "        self.name = name\n",
    "        self.age = age\n",
    "        self.eat = eat\n",
    "\n",
    "    def __str__(self) -> str:\n",
    "        return f\" name = {self.name} \\n eat = {self.eat} \\n age = {self.age}\"\n",
    "    \n",
    "class Carnivours:\n",
    "    def __init__(self, name, age, eat) -> None:\n",
    "        self.name = name\n",
    "        self.age = age\n",
    "        self.eat = eat\n",
    "\n",
    "class Omnivours(Herbivours, Carnivours):\n",
    "    def __init__(self, name, eat, age, both) -> None:\n",
    "        super().__init__(name, eat, age)\n",
    "        self.both = both\n",
    "\n",
    "omni = Omnivours(\"Omniv\", \"meat\", 5, \"cow\")\n",
    "# print(omni.name)\n",
    "# print(omni.age)\n",
    "# print(omni.eat)\n",
    "# print(omni.both)\n",
    "print(omni)\n"
   ]
  }
 ],
 "metadata": {
  "kernelspec": {
   "display_name": "Python 3",
   "language": "python",
   "name": "python3"
  },
  "language_info": {
   "codemirror_mode": {
    "name": "ipython",
    "version": 3
   },
   "file_extension": ".py",
   "mimetype": "text/x-python",
   "name": "python",
   "nbconvert_exporter": "python",
   "pygments_lexer": "ipython3",
   "version": "3.11.4"
  },
  "orig_nbformat": 4
 },
 "nbformat": 4,
 "nbformat_minor": 2
}
