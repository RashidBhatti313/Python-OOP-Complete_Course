{
 "cells": [
  {
   "cell_type": "code",
   "execution_count": 1,
   "metadata": {},
   "outputs": [],
   "source": [
    "class BaseClass:                    # }                    |\n",
    "    pass                            # }                    |\n",
    "#                                   # } single_inheritence |\n",
    "class Derived1(BaseClass):          # } ]                  |\n",
    "    pass                            # } ]                  |Hybird_\n",
    "#                                       ]                  |inheritence\n",
    "class Derived2(BaseClass):          #   ]                  |\n",
    "    pass                            #   ]                  |\n",
    "#                                       ]                  |\n",
    "class Derived3(Derived1, Derived2): #   ] Multiple_inheri  |\n",
    "    pass                            #   ]           tence  |"
   ]
  },
  {
   "cell_type": "code",
   "execution_count": 4,
   "metadata": {},
   "outputs": [
    {
     "name": "stdout",
     "output_type": "stream",
     "text": [
      "Method from class B\n"
     ]
    },
    {
     "data": {
      "text/plain": [
       "'None'"
      ]
     },
     "execution_count": 4,
     "metadata": {},
     "output_type": "execute_result"
    }
   ],
   "source": [
    "class A:\n",
    "    def method(self):\n",
    "        print(\"Method from class A\")\n",
    "\n",
    "class B(A):\n",
    "    def method(self):\n",
    "        print(\"Method from class B\")\n",
    "\n",
    "class C(A):\n",
    "    def method(self):\n",
    "        print(\"Method from class C\")\n",
    "\n",
    "class D(B, C):\n",
    "    def method(self):\n",
    "        return f\"{super().method()}\"\n",
    "\n",
    "obj = D()\n",
    "obj.method()"
   ]
  },
  {
   "cell_type": "code",
   "execution_count": 8,
   "metadata": {},
   "outputs": [
    {
     "name": "stdout",
     "output_type": "stream",
     "text": [
      "Drawing shape\n",
      "Filling with color\n"
     ]
    }
   ],
   "source": [
    "class Shape:\n",
    "    def draw(self):\n",
    "        print(\"Drawing shape\")\n",
    "\n",
    "class Color(Shape):\n",
    "    def fill(self):\n",
    "        print(\"Filling with color\")\n",
    "\n",
    "class Square(Shape):\n",
    "    pass\n",
    "\n",
    "class ColoredCircle(Color, Square):\n",
    "    pass\n",
    "\n",
    "circle = ColoredCircle()\n",
    "circle.draw()  # Output: Drawing shape\n",
    "circle.fill()  # Output: Filling with color\n"
   ]
  },
  {
   "cell_type": "code",
   "execution_count": 7,
   "metadata": {},
   "outputs": [
    {
     "name": "stdout",
     "output_type": "stream",
     "text": [
      "Greetings from Musician\n"
     ]
    }
   ],
   "source": [
    "class Person:\n",
    "    def greet(self):\n",
    "        print(\"Greetings from Person\")\n",
    "\n",
    "class Athlete(Person):\n",
    "    pass\n",
    "\n",
    "class Musician(Person):\n",
    "    def greet(self):\n",
    "        print(\"Greetings from Musician\")\n",
    "\n",
    "class Multitalented(Athlete, Musician):\n",
    "    pass\n",
    "\n",
    "person = Multitalented()\n",
    "person.greet()  # Output: Greetings from Athlete\n"
   ]
  },
  {
   "cell_type": "code",
   "execution_count": 9,
   "metadata": {},
   "outputs": [
    {
     "name": "stdout",
     "output_type": "stream",
     "text": [
      " The car is vehicles\n",
      " The Truck is vehicles\n"
     ]
    }
   ],
   "source": [
    "class Vehicles:\n",
    "    def show(self):\n",
    "        pass\n",
    "\n",
    "class Car(Vehicles):\n",
    "    def show(self):\n",
    "        print (f\" The car is vehicles\")\n",
    "    \n",
    "class Truck(Vehicles):\n",
    "    def show(self):\n",
    "        print (f\" The Truck is vehicles\")\n",
    "    \n",
    "class Bus(Car, Truck):\n",
    "    def show(self):\n",
    "        pass\n",
    "\n",
    "vehi = Vehicles()\n",
    "car = Car()\n",
    "car.show()\n",
    "truck = Truck()\n",
    "truck.show()\n",
    "    "
   ]
  }
 ],
 "metadata": {
  "kernelspec": {
   "display_name": "Python 3",
   "language": "python",
   "name": "python3"
  },
  "language_info": {
   "codemirror_mode": {
    "name": "ipython",
    "version": 3
   },
   "file_extension": ".py",
   "mimetype": "text/x-python",
   "name": "python",
   "nbconvert_exporter": "python",
   "pygments_lexer": "ipython3",
   "version": "3.11.4"
  },
  "orig_nbformat": 4
 },
 "nbformat": 4,
 "nbformat_minor": 2
}
