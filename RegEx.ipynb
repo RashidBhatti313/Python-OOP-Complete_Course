{
 "cells": [
  {
   "cell_type": "markdown",
   "metadata": {},
   "source": [
    "Exercise 1: Write a program search the "
   ]
  },
  {
   "cell_type": "code",
   "execution_count": 12,
   "metadata": {},
   "outputs": [
    {
     "name": "stdout",
     "output_type": "stream",
     "text": [
      "pattern found inside the string\n"
     ]
    }
   ],
   "source": [
    "import re\n",
    "\n",
    "string = \"Python is fun\"\n",
    "# check if 'python' is at the bigininig\n",
    "match = re.search('^Python', string)\n",
    "\n",
    "if match:\n",
    "    print(\"pattern found inside the string\")\n",
    "else:\n",
    "    print(\"Pattern not found.\")"
   ]
  },
  {
   "cell_type": "markdown",
   "metadata": {},
   "source": [
    "Exercise 2: Write a code that will able to extract ou from all the words in the string. "
   ]
  },
  {
   "cell_type": "code",
   "execution_count": 13,
   "metadata": {},
   "outputs": [
    {
     "name": "stdout",
     "output_type": "stream",
     "text": [
      "['Sp']\n"
     ]
    }
   ],
   "source": [
    "import re\n",
    "\n",
    "str = \" The rain in Spain.\"\n",
    "x = re.findall(\"Sp\", str)\n",
    "print(x)"
   ]
  },
  {
   "cell_type": "markdown",
   "metadata": {},
   "source": [
    "Exercise 3: \n",
    "\\d - Matches any decimal digit. Equivalent to [0-9] "
   ]
  },
  {
   "cell_type": "code",
   "execution_count": 14,
   "metadata": {},
   "outputs": [
    {
     "name": "stdout",
     "output_type": "stream",
     "text": [
      "['12', '89', '34']\n"
     ]
    }
   ],
   "source": [
    "# Program to extract numbers from a string\n",
    "import re\n",
    "\n",
    "string = 'hello 12 hi 89. Howdy 34.'\n",
    "pattern = '\\d+'\n",
    "\n",
    "result = re.findall(pattern, string)\n",
    "print(result)"
   ]
  },
  {
   "cell_type": "markdown",
   "metadata": {},
   "source": [
    "Exercise 4: "
   ]
  },
  {
   "cell_type": "code",
   "execution_count": 15,
   "metadata": {},
   "outputs": [
    {
     "name": "stdout",
     "output_type": "stream",
     "text": [
      "['Twelve:', ' Eighty nine: ', '.']\n"
     ]
    }
   ],
   "source": [
    "import re\n",
    "string = 'Twelve:12 Eighty nine: 89.'\n",
    "pattern = '\\d+'\n",
    "result = re.split(pattern, string)\n",
    "print(result)"
   ]
  },
  {
   "cell_type": "markdown",
   "metadata": {},
   "source": [
    "Exercise 6: "
   ]
  },
  {
   "cell_type": "code",
   "execution_count": 16,
   "metadata": {},
   "outputs": [
    {
     "name": "stdout",
     "output_type": "stream",
     "text": [
      "abc12\\de23f456\n"
     ]
    }
   ],
   "source": [
    "# Program to all removed whitespaces\n",
    "import re\n",
    "\n",
    "#multiline string\n",
    "string = 'abc 12\\ de 23 \\n f45 6'\n",
    "\n",
    "# matches all whitespace characters\n",
    "pattern = '\\s+'\n",
    "\n",
    "# empty string\n",
    "replace = ''\n",
    "new_string = re.sub(pattern, replace, string)\n",
    "print(new_string)"
   ]
  },
  {
   "cell_type": "markdown",
   "metadata": {},
   "source": [
    "#### Task1: \n",
    "You are working in Data Science project in which you need to find the mobile networks in \n",
    "certain area."
   ]
  },
  {
   "cell_type": "code",
   "execution_count": 18,
   "metadata": {},
   "outputs": [],
   "source": [
    "import random\n",
    "\n",
    "networks = {\n",
    "    \"Moblink\": \"030\",\n",
    "    \"Zong\": \"031\",\n",
    "    \"Warid\": \"032\",\n",
    "    \"Ufone\": \"033\",\n",
    "    \"Telenor\": \"034\",\n",
    "    \"Scom\": \"035\",\n",
    "    \"Instaphone\": \"036\"\n",
    "}"
   ]
  },
  {
   "cell_type": "code",
   "execution_count": 25,
   "metadata": {},
   "outputs": [
    {
     "data": {
      "text/plain": [
       "[('Warid', '0323540336'),\n",
       " ('Ufone', '0337801596'),\n",
       " ('Instaphone', '0366321256'),\n",
       " ('Moblink', '0305884630'),\n",
       " ('Ufone', '0331748956'),\n",
       " ('Instaphone', '0366669307'),\n",
       " ('Warid', '0320556921'),\n",
       " ('Ufone', '0338998193'),\n",
       " ('Zong', '0315859370'),\n",
       " ('Scom', '0355683936')]"
      ]
     },
     "execution_count": 25,
     "metadata": {},
     "output_type": "execute_result"
    }
   ],
   "source": [
    "mobile_numbers = []\n",
    "\n",
    "for number in range(10):\n",
    "    network_name = random.choice(list(networks.keys()))\n",
    "    # print(network_name)\n",
    "    prefix = networks[network_name]\n",
    "    \n",
    "    random_suffix = ''.join(random.choices('03123456789', k=7))\n",
    "    \n",
    "    mobile_number = prefix + random_suffix\n",
    "    mobile_numbers.append((network_name, mobile_number))\n",
    "mobile_numbers"
   ]
  },
  {
   "cell_type": "code",
   "execution_count": 17,
   "metadata": {},
   "outputs": [
    {
     "name": "stdout",
     "output_type": "stream",
     "text": [
      "Mobile Numbers: \n",
      " 0327947370 (Warid)\n",
      " 0368335432 (Instaphone)\n",
      " 0303906075 (Moblink)\n",
      " 0343326381 (Telenor)\n",
      " 0323550637 (Warid)\n",
      " 0310423378 (Zong)\n",
      " 0334023438 (Ufone)\n",
      " 0308252437 (Moblink)\n",
      " 0362341532 (Instaphone)\n",
      " 0335906563 (Ufone)\n",
      "\n",
      " Total users: \n",
      " Moblink Users: 2\n",
      " Zong Users: 1\n",
      " Warid Users: 2\n",
      " Ufone Users: 2\n",
      " Telenor Users: 1\n",
      " Scom Users: 0\n",
      " Instaphone Users: 2\n"
     ]
    }
   ],
   "source": [
    "import random\n",
    "\n",
    "networks = {\n",
    "    \"Moblink\": \"030\",\n",
    "    \"Zong\": \"031\",\n",
    "    \"Warid\": \"032\",\n",
    "    \"Ufone\": \"033\",\n",
    "    \"Telenor\": \"034\",\n",
    "    \"Scom\": \"035\",\n",
    "    \"Instaphone\": \"036\"\n",
    "}\n",
    "mobile_numbers = []\n",
    "\n",
    "for number in range(10):\n",
    "    network_name = random.choice(list(networks.keys()))\n",
    "    prefix = networks[network_name]\n",
    "    random_suffix = ''.join(random.choices('03123456789', k=7))\n",
    "    mobile_number = prefix + random_suffix\n",
    "    mobile_numbers.append((network_name, mobile_number))\n",
    "\n",
    "print(\"Mobile Numbers: \")\n",
    "for network_name, mobile_number in mobile_numbers:\n",
    "    print(f\" {mobile_number} ({network_name})\")\n",
    "\n",
    "network_counts = {network_name: 0 for network_name in networks.keys()}\n",
    "for network_name, mobile_number in mobile_numbers:\n",
    "    network_counts[network_name] += 1\n",
    "\n",
    "print(\"\\n Total users: \")\n",
    "for network_name, count in network_counts.items():\n",
    "    print(f\" {network_name} Users: {count}\")"
   ]
  }
 ],
 "metadata": {
  "kernelspec": {
   "display_name": "Python 3",
   "language": "python",
   "name": "python3"
  },
  "language_info": {
   "codemirror_mode": {
    "name": "ipython",
    "version": 3
   },
   "file_extension": ".py",
   "mimetype": "text/x-python",
   "name": "python",
   "nbconvert_exporter": "python",
   "pygments_lexer": "ipython3",
   "version": "3.11.4"
  },
  "orig_nbformat": 4
 },
 "nbformat": 4,
 "nbformat_minor": 2
}
