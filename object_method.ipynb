{
 "cells": [
  {
   "cell_type": "code",
   "execution_count": 4,
   "metadata": {},
   "outputs": [
    {
     "name": "stdout",
     "output_type": "stream",
     "text": [
      " name = Rashid \n",
      " Age = 18 \n",
      " Address = Juhar \n",
      " Email = rashidbhatti121@gmial.com \n",
      " CNIC = 4554545454545\n"
     ]
    }
   ],
   "source": [
    "class Person:\n",
    "    def __init__(self, name, age, Address, email, CNIC) -> None:\n",
    "        self.n = name\n",
    "        self.ag = age\n",
    "        self.Add = Address\n",
    "        self.gmail = email\n",
    "        self.NIC = CNIC\n",
    "\n",
    "    def show(self):\n",
    "        return f\" name = {self.n} \\n Age = {self.ag} \\n Address = {self.Add} \\n Email = {self.gmail} \\n CNIC = {self.NIC}\"\n",
    "    \n",
    "\n",
    "P1 = Person(\"Rashid\", 18, \"Juhar\", \"rashidbhatti121@gmial.com\", 4554545454545)\n",
    "print(P1.show())\n"
   ]
  },
  {
   "cell_type": "code",
   "execution_count": 5,
   "metadata": {},
   "outputs": [
    {
     "name": "stdout",
     "output_type": "stream",
     "text": [
      " name = Rashid \n",
      " Age = 18 \n",
      " Address = Juhar \n",
      " Email = rashidbhatti121@gmial.com \n",
      " CNIC = 4554545454545\n"
     ]
    }
   ],
   "source": [
    "class Person:\n",
    "    def __init__(self, name, age, Address, email, CNIC) -> None:\n",
    "        self.n = name\n",
    "        self.ag = age\n",
    "        self.Add = Address\n",
    "        self.gmail = email\n",
    "        self.NIC = CNIC\n",
    "\n",
    "    def __str__(self):\n",
    "        return f\" name = {self.n} \\n Age = {self.ag} \\n Address = {self.Add} \\n Email = {self.gmail} \\n CNIC = {self.NIC}\"\n",
    "    \n",
    "\n",
    "P1 = Person(\"Rashid\", 18, \"Juhar\", \"rashidbhatti121@gmial.com\", 4554545454545)\n",
    "print(P1)"
   ]
  }
 ],
 "metadata": {
  "kernelspec": {
   "display_name": "Python 3",
   "language": "python",
   "name": "python3"
  },
  "language_info": {
   "codemirror_mode": {
    "name": "ipython",
    "version": 3
   },
   "file_extension": ".py",
   "mimetype": "text/x-python",
   "name": "python",
   "nbconvert_exporter": "python",
   "pygments_lexer": "ipython3",
   "version": "3.11.4"
  },
  "orig_nbformat": 4
 },
 "nbformat": 4,
 "nbformat_minor": 2
}
