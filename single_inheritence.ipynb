{
 "cells": [
  {
   "cell_type": "code",
   "execution_count": 4,
   "metadata": {},
   "outputs": [
    {
     "name": "stdout",
     "output_type": "stream",
     "text": [
      "<__main__.Animal object at 0x000001846D6D3190>\n"
     ]
    }
   ],
   "source": [
    "class Animal:\n",
    "    def __init__(self, name, age) -> None:\n",
    "        self.name = name\n",
    "        self.age = age\n",
    "\n",
    "    def speak(self):\n",
    "        pass\n",
    "\n",
    "    # def __str__(self) -> str:\n",
    "    #     pass\n",
    "        \n",
    "\n",
    "class Carnivours(Animal):\n",
    "    def __init__(self, name, age) -> None:\n",
    "        super().__init__(name, age)\n",
    "\n",
    "    def eat(self):\n",
    "        return f\" They eat meat \"\n",
    "    \n",
    " \n",
    "animal1 = Animal(\"LOIN\", 5)\n",
    "print(animal1)\n"
   ]
  },
  {
   "cell_type": "code",
   "execution_count": 8,
   "metadata": {},
   "outputs": [
    {
     "name": "stdout",
     "output_type": "stream",
     "text": [
      "Sound is made by animals \n",
      "Bark!\n"
     ]
    }
   ],
   "source": [
    "class Animal:\n",
    "    def __init__(self, name, age) -> None:\n",
    "        self.name = name\n",
    "        self.age = age\n",
    "\n",
    "    def make_sound(self):\n",
    "        print(\"Sound is made by animals \")\n",
    "\n",
    "class Dog(Animal):\n",
    "    def __init__(self, name, age, bread) -> None:\n",
    "        super().__init__(name, age)\n",
    "        self.bread = bread\n",
    "\n",
    "    def make_sound(self):\n",
    "        print(\"Bark!\")\n",
    "\n",
    "d = Animal(\"Dog\", 5)\n",
    "d.make_sound()\n",
    "\n",
    "a = Dog(\"bull\", 5, \"DOggerman\")\n",
    "a.make_sound()"
   ]
  },
  {
   "cell_type": "code",
   "execution_count": 14,
   "metadata": {},
   "outputs": [
    {
     "name": "stdout",
     "output_type": "stream",
     "text": [
      "The sound of cat\n",
      "Meow!\n"
     ]
    }
   ],
   "source": [
    "class Animal:\n",
    "    def __init__(self, name, age) -> None:\n",
    "        self.name = name\n",
    "        self.age = age\n",
    "\n",
    "    def make_sound(self):\n",
    "        print(\"The sound of cat\")\n",
    "\n",
    "class Cat(Animal):\n",
    "    def __init__(self, name, age, bread) -> None:\n",
    "        super().__init__(name, age)\n",
    "        self.bread = bread\n",
    "\n",
    "    def make_sound(self):\n",
    "        print(\"Meow!\")\n",
    "        \n",
    "a2 = Animal(\"cat\", 4)\n",
    "a2.make_sound()\n",
    "\n",
    "c = Cat(\"cato\", 5 , \"milk\")\n",
    "c.make_sound()\n",
    "\n"
   ]
  },
  {
   "cell_type": "code",
   "execution_count": null,
   "metadata": {},
   "outputs": [],
   "source": []
  }
 ],
 "metadata": {
  "kernelspec": {
   "display_name": "Python 3",
   "language": "python",
   "name": "python3"
  },
  "language_info": {
   "codemirror_mode": {
    "name": "ipython",
    "version": 3
   },
   "file_extension": ".py",
   "mimetype": "text/x-python",
   "name": "python",
   "nbconvert_exporter": "python",
   "pygments_lexer": "ipython3",
   "version": "3.11.4"
  },
  "orig_nbformat": 4
 },
 "nbformat": 4,
 "nbformat_minor": 2
}
