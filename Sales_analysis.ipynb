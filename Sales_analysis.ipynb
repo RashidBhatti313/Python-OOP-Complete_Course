{
 "cells": [
  {
   "cell_type": "code",
   "execution_count": 7,
   "metadata": {},
   "outputs": [
    {
     "name": "stdout",
     "output_type": "stream",
     "text": [
      "Total sales for each Month: \n",
      "YearMonth\n",
      "2023-10    1000\n",
      "Name: Total sales Amount, dtype: int64\n",
      "\n",
      "Month with the Highest Total Sales:\n",
      "2023-10 with $1000 in sales\n",
      "\n",
      "Average Daily Sales for the Entire Dataset:\n",
      "$200.00\n"
     ]
    }
   ],
   "source": [
    "import pandas as pd\n",
    "\n",
    "data = {'Date': ['2023-10-10', '2023-10-11', '2023-10-12', '2023-10-13', '2023-10-14'],\n",
    "        'Total sales Amount': [100, 150, 200, 250, 300]}\n",
    "\n",
    "sales_data = pd.DataFrame(data)\n",
    "sales_data['Date'] = pd.to_datetime(sales_data['Date'])\n",
    "sales_data['YearMonth'] = sales_data['Date'].dt.strftime('%Y-%m')\n",
    "monthly_sales = sales_data.groupby('YearMonth')['Total sales Amount'].sum()\n",
    "month_with_highest_sales = monthly_sales.idxmax()\n",
    "highest_sales_amount = monthly_sales.max()\n",
    "average_daily_sales = sales_data['Total sales Amount'].mean()\n",
    "\n",
    "print(\"Total sales for each Month: \")\n",
    "print(monthly_sales)\n",
    "print(\"\\nMonth with the Highest Total Sales:\")\n",
    "print(f\"{month_with_highest_sales} with ${highest_sales_amount} in sales\")\n",
    "print(\"\\nAverage Daily Sales for the Entire Dataset:\")\n",
    "print(f\"${average_daily_sales:.2f}\")"
   ]
  },
  {
   "cell_type": "code",
   "execution_count": 27,
   "metadata": {},
   "outputs": [
    {
     "name": "stdout",
     "output_type": "stream",
     "text": [
      "Total Sales for Each Month:\n",
      "2023-01: $1000\n",
      "\n",
      "Month with the Highest Total Sales:\n",
      "2023-01 with $1000 in sales\n",
      "\n",
      "Average Daily Sales for the Entire Dataset:\n",
      "$200.00\n"
     ]
    }
   ],
   "source": [
    "data = [\n",
    "    {'Date': '2023-01-02', 'Total Sales Amount': 100},\n",
    "    {'Date': '2023-01-03', 'Total Sales Amount': 150},\n",
    "    {'Date': '2023-01-04', 'Total Sales Amount': 200},\n",
    "    {'Date': '2023-01-05', 'Total Sales Amount': 250},\n",
    "    {'Date': '2023-01-06', 'Total Sales Amount': 300}\n",
    "]\n",
    "\n",
    "monthly_sales = {}\n",
    "highest_month = None\n",
    "highest_sales = 0\n",
    "total_sales = 0\n",
    "\n",
    "for entry in data:\n",
    "    date = entry['Date']\n",
    "    sales_amount = entry['Total Sales Amount']\n",
    "\n",
    "    year, month, _ = date.split('-')\n",
    "    year_month = f\"{year}-{month}\"\n",
    "\n",
    "    if year_month in monthly_sales:\n",
    "        monthly_sales[year_month] += sales_amount\n",
    "    else:\n",
    "        monthly_sales[year_month] = sales_amount\n",
    "\n",
    "    total_sales += sales_amount\n",
    "\n",
    "    if monthly_sales[year_month] > highest_sales:\n",
    "        highest_sales = monthly_sales[year_month]\n",
    "        highest_month = year_month\n",
    "\n",
    "num_days = len(data)\n",
    "average_daily_sales = total_sales / num_days\n",
    "\n",
    "print(\"Total Sales for Each Month:\")\n",
    "for month, sales in monthly_sales.items():\n",
    "    print(f\"{month}: ${sales}\")\n",
    "\n",
    "print(\"\\nMonth with the Highest Total Sales:\")\n",
    "print(f\"{highest_month} with ${highest_sales} in sales\")\n",
    "\n",
    "print(\"\\nAverage Daily Sales for the Entire Dataset:\")\n",
    "print(f\"${average_daily_sales:.2f}\")"
   ]
  }
 ],
 "metadata": {
  "kernelspec": {
   "display_name": "Python 3",
   "language": "python",
   "name": "python3"
  },
  "language_info": {
   "codemirror_mode": {
    "name": "ipython",
    "version": 3
   },
   "file_extension": ".py",
   "mimetype": "text/x-python",
   "name": "python",
   "nbconvert_exporter": "python",
   "pygments_lexer": "ipython3",
   "version": "3.11.4"
  }
 },
 "nbformat": 4,
 "nbformat_minor": 2
}
