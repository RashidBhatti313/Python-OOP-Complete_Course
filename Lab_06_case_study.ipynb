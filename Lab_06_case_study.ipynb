{
 "cells": [
  {
   "cell_type": "markdown",
   "metadata": {},
   "source": [
    "## Case Study 1: \n",
    "Create a class Employee and derive a child class programmer using public inheritance. \n",
    "• Create class case diagram. \n",
    "• Code the parent and derive classes on python"
   ]
  },
  {
   "cell_type": "code",
   "execution_count": 7,
   "metadata": {},
   "outputs": [
    {
     "name": "stdout",
     "output_type": "stream",
     "text": [
      " Name = Rashid \n",
      " Age = 18 \n",
      " Address = Juhar \n",
      " Email = rashidbhatti12212@gmail.com \n",
      " CNIC = 1221212221\n",
      "  Name = Ali \n",
      " Age = 22 \n",
      " Address = Karachi \n",
      " Email = allikkk1212@gmail.com \n",
      " CNIC = 5544456665 \n",
      " Programming = Python\n"
     ]
    }
   ],
   "source": [
    "class Employee:\n",
    "    def __init__(self, name, age, Addres, Email, CNIC) -> None:\n",
    "        self.n = name\n",
    "        self.ag = age\n",
    "        self.Add = Addres\n",
    "        self.Gmail = Email\n",
    "        self.NIC = CNIC\n",
    "\n",
    "    def __str__(self) -> str:\n",
    "        return f\" Name = {self.n} \\n Age = {self.ag} \\n Address = {self.Add} \\n Email = {self.Gmail} \\n CNIC = {self.NIC}\"\n",
    "\n",
    "class Programmer(Employee):\n",
    "    def __init__(self, name, age, Addres, Email, CNIC, Programming) -> None:\n",
    "        super().__init__(name, age, Addres, Email, CNIC)\n",
    "        self.program = Programming\n",
    "\n",
    "    def __str__(self) -> str:\n",
    "        return f\" {super().__str__()} \\n Programming = {self.program}\"\n",
    "    \n",
    "employee = Employee(\"Rashid\", 18, \"Juhar\", \"rashidbhatti12212@gmail.com\", 1221212221)\n",
    "print(employee)\n",
    "\n",
    "programmer = Programmer(\"Ali\", 22, \"Karachi\", \"allikkk1212@gmail.com\", 5544456665, \"Python\")\n",
    "print(programmer)\n",
    "\n"
   ]
  },
  {
   "cell_type": "markdown",
   "metadata": {},
   "source": [
    "## Case Study 2\n",
    "Create a parent class Employee, derive child class Programmer and Designer using inheritance \n",
    "• Create class case diagram. \n",
    "• Code the parent and derive classes on python"
   ]
  },
  {
   "cell_type": "code",
   "execution_count": 10,
   "metadata": {},
   "outputs": [
    {
     "name": "stdout",
     "output_type": "stream",
     "text": [
      " Name = Junaid \n",
      " Age = 21 \n",
      " Address = Malir \n",
      " Email = junaidali2255@gmail.com \n",
      " CNIC = 56566556555\n",
      "  Name = Kashif \n",
      " Age = 12 \n",
      " Address = bahria \n",
      " Email = kashifhussain0855@gmail.com \n",
      " CNIC = 8898889898 \n",
      " Programming = Jaava\n",
      "  Name = Waqas \n",
      " Age = 18 \n",
      " Address = Bhattaiabad \n",
      " Email = waqasahmed7777@gmail.com \n",
      " CNIC = 7787878787 \n",
      " Desiging = printed\n"
     ]
    }
   ],
   "source": [
    "class Employee:\n",
    "    def __init__(self, name, age, Addres, Email, CNIC) -> None:\n",
    "        self.n = name\n",
    "        self.ag = age\n",
    "        self.Add = Addres\n",
    "        self.Gmail = Email\n",
    "        self.NIC = CNIC\n",
    "\n",
    "    def __str__(self) -> str:\n",
    "        return f\" Name = {self.n} \\n Age = {self.ag} \\n Address = {self.Add} \\n Email = {self.Gmail} \\n CNIC = {self.NIC}\"\n",
    "\n",
    "class Programmer(Employee):\n",
    "    def __init__(self, name, age, Addres, Email, CNIC, Programming) -> None:\n",
    "        super().__init__(name, age, Addres, Email, CNIC)\n",
    "        self.program = Programming\n",
    "\n",
    "    def __str__(self) -> str:\n",
    "        return f\" {super().__str__()} \\n Programming = {self.program}\"\n",
    "    \n",
    "class Designer(Employee):\n",
    "    def __init__(self, name, age, Addres, Email, CNIC, Desiging) -> None:\n",
    "        super().__init__(name, age, Addres, Email, CNIC)\n",
    "        self.design = Desiging\n",
    "\n",
    "    def __str__(self) -> str:\n",
    "        return f\" {super().__str__()} \\n Desiging = {self.design}\"\n",
    "    \n",
    "Emp1 = Employee(\"Junaid\", 21, \"Malir\", \"junaidali2255@gmail.com\", 56566556555)\n",
    "print(Emp1)\n",
    "\n",
    "Prog1 = Programmer(\"Kashif\", 12, \"bahria\", \"kashifhussain0855@gmail.com\", 8898889898, \"Jaava\")\n",
    "print(Prog1)\n",
    "\n",
    "Desig1 = Designer(\"Waqas\", 18, \"Bhattaiabad\", \"waqasahmed7777@gmail.com\", 7787878787, \"printed\")\n",
    "print(Desig1)"
   ]
  },
  {
   "cell_type": "markdown",
   "metadata": {},
   "source": [
    "## Case Study 3: \n",
    "1. Analyze the detail system of Cargo Management System. You can take help of internet to \n",
    "\n",
    "find you any cargo management system. Your task is as follows:\n",
    "a. Define all the existing processes in cargo management system. \n",
    "b. Create the main classes.\n",
    "c. Create use case diagram. \n",
    "d. Make activity and sequence diagram. \n",
    "e. Now select any class and try to enhance it according to your gap \n",
    "analysis. \n",
    "f. Code the class for which you have enhance the process. "
   ]
  },
  {
   "cell_type": "code",
   "execution_count": 11,
   "metadata": {},
   "outputs": [
    {
     "name": "stdout",
     "output_type": "stream",
     "text": [
      " ID = cargo_1 \n",
      " Description = Electronics \n",
      " Weight = 500\n"
     ]
    }
   ],
   "source": [
    "class Cargo:\n",
    "    def __init__(self, ID, Description, Weight) -> None:\n",
    "        self.id = ID\n",
    "        self.descrip = Description\n",
    "        self.wazan = Weight\n",
    "\n",
    "    def __str__(self) -> str:\n",
    "        return f\" ID = {self.id} \\n Description = {self.descrip} \\n Weight = {self.wazan}\"\n",
    "    \n",
    "cargo = Cargo(\"cargo_1\", \"Electronics\", 500)\n",
    "print(cargo)"
   ]
  }
 ],
 "metadata": {
  "kernelspec": {
   "display_name": "Python 3",
   "language": "python",
   "name": "python3"
  },
  "language_info": {
   "codemirror_mode": {
    "name": "ipython",
    "version": 3
   },
   "file_extension": ".py",
   "mimetype": "text/x-python",
   "name": "python",
   "nbconvert_exporter": "python",
   "pygments_lexer": "ipython3",
   "version": "3.11.4"
  },
  "orig_nbformat": 4
 },
 "nbformat": 4,
 "nbformat_minor": 2
}
