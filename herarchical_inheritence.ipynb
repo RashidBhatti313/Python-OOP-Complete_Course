{
 "cells": [
  {
   "cell_type": "code",
   "execution_count": 4,
   "metadata": {},
   "outputs": [
    {
     "name": "stdout",
     "output_type": "stream",
     "text": [
      "name = Ali \n",
      " age = 22\n",
      "name = asad \n",
      " age = 22 \n",
      " Student-ID = 4121402\n",
      "name = qasim \n",
      " age = 26 \n",
      " Subject = Math\n"
     ]
    }
   ],
   "source": [
    "class Person:\n",
    "    def __init__(self, name, age) -> None:\n",
    "        self.name = name\n",
    "        self.age = age\n",
    "\n",
    "    def __str__(self) -> str:\n",
    "        return f\"name = {self.name} \\n age = {self.age}\"\n",
    "    \n",
    "class Student(Person):\n",
    "    def __init__(self, name, age, student_id) -> None:\n",
    "        super().__init__(name, age)\n",
    "        self.student = student_id\n",
    "\n",
    "    def __str__(self) -> str:\n",
    "        return f\"{super().__str__()} \\n Student-ID = {self.student}\"\n",
    "    \n",
    "class Teacher(Person):\n",
    "    def __init__(self, name, age, subject) -> None:\n",
    "        super().__init__(name, age)\n",
    "        self.subject = subject\n",
    "\n",
    "    def __str__(self) -> str:\n",
    "        return f\"{super().__str__()} \\n Subject = {self.subject}\"\n",
    "    \n",
    "person = Person(\"Ali\", 22)\n",
    "print(person)\n",
    "student = Student(\"asad\", 22, 4121402)\n",
    "print(student)\n",
    "teacher = Teacher(\"qasim\", 26, \"Math\")\n",
    "print(teacher)\n"
   ]
  },
  {
   "cell_type": "code",
   "execution_count": 5,
   "metadata": {},
   "outputs": [
    {
     "name": "stdout",
     "output_type": "stream",
     "text": [
      "This is a Toyota Corolla.\n",
      "The car is driving.\n",
      "This is a Giant Mountain Bike.\n",
      "The bike is being ridden.\n",
      "This is a Mercedes Sprinter.\n",
      "The bus is transporting passengers.\n"
     ]
    }
   ],
   "source": [
    "class Vehicle:\n",
    "    def __init__(self, make, model):\n",
    "        self.make = make\n",
    "        self.model = model\n",
    "\n",
    "    def display_info(self):\n",
    "        print(f\"This is a {self.make} {self.model}.\")\n",
    "\n",
    "class Car(Vehicle):\n",
    "    def drive(self):\n",
    "        print(f\"The car is driving.\")\n",
    "\n",
    "class Bike(Vehicle):\n",
    "    def ride(self):\n",
    "        print(f\"The bike is being ridden.\")\n",
    "\n",
    "class Bus(Vehicle):\n",
    "    def transport(self):\n",
    "        print(f\"The bus is transporting passengers.\")\n",
    "\n",
    "car = Car(\"Toyota\", \"Corolla\")\n",
    "car.display_info()  # Output: This is a Toyota Corolla.\n",
    "car.drive()         # Output: The car is driving.\n",
    "\n",
    "bike = Bike(\"Giant\", \"Mountain Bike\")\n",
    "bike.display_info()  # Output: This is a Giant Mountain Bike.\n",
    "bike.ride()          # Output: The bike is being ridden.\n",
    "\n",
    "bus = Bus(\"Mercedes\", \"Sprinter\")\n",
    "bus.display_info()   # Output: This is a Mercedes Sprinter.\n",
    "bus.transport()      # Output: The bus is transporting passengers.\n"
   ]
  },
  {
   "cell_type": "code",
   "execution_count": 9,
   "metadata": {},
   "outputs": [
    {
     "name": "stdout",
     "output_type": "stream",
     "text": [
      " This is a = sdad \n",
      " named = lion\n",
      "The dog is barking!\n",
      "The cat is Meow!\n",
      "The cow is mooing!\n"
     ]
    }
   ],
   "source": [
    "class Animal:\n",
    "    def __init__(self, name, species) -> None:\n",
    "        self.name = name\n",
    "        self.species = species\n",
    "\n",
    "    def info(self):\n",
    "        print(f\" This is a = {self.species} \\n named = {self.name}\")\n",
    "\n",
    "class Dog(Animal):\n",
    "    def bark(self):\n",
    "        print(f\"The dog is barking!\")\n",
    "\n",
    "class Cat(Animal):\n",
    "    def Meow(self):\n",
    "        print(f\"The cat is Meow!\")\n",
    "\n",
    "class Cow(Animal):\n",
    "    def moo(self):\n",
    "        print(f\"The cow is mooing!\")\n",
    "\n",
    "\n",
    "animal = Animal(\"lion\", \"sdad\")\n",
    "animal.info()\n",
    "\n",
    "dog = Dog(\"Buddy\", \"Dog\")\n",
    "dog.bark()\n",
    "\n",
    "cat = Cat(\"bisket\", \"Cat\")\n",
    "cat.Meow()\n",
    "\n",
    "cow = Cow(\"Daisy\", \"Cow\")\n",
    "cow.moo()"
   ]
  }
 ],
 "metadata": {
  "kernelspec": {
   "display_name": "Python 3",
   "language": "python",
   "name": "python3"
  },
  "language_info": {
   "codemirror_mode": {
    "name": "ipython",
    "version": 3
   },
   "file_extension": ".py",
   "mimetype": "text/x-python",
   "name": "python",
   "nbconvert_exporter": "python",
   "pygments_lexer": "ipython3",
   "version": "3.11.4"
  },
  "orig_nbformat": 4
 },
 "nbformat": 4,
 "nbformat_minor": 2
}
