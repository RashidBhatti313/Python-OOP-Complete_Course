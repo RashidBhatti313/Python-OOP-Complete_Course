{
 "cells": [
  {
   "cell_type": "markdown",
   "id": "0c431a0f",
   "metadata": {},
   "source": [
    "# Chapter 1: Introduction to Python"
   ]
  },
  {
   "cell_type": "markdown",
   "id": "2cb87692",
   "metadata": {},
   "source": [
    "Python is a popular, high-level programming language that is known for its simplicity, readability, and ease of use. In this chapter, we will introduce you to the basics of Python programming, including how to install and set up Python on your computer, and how to write your first Python program."
   ]
  },
  {
   "cell_type": "markdown",
   "id": "6a0e740b",
   "metadata": {},
   "source": [
    "## 1.1 What is Python?"
   ]
  },
  {
   "cell_type": "markdown",
   "id": "a4fa8d2f",
   "metadata": {},
   "source": [
    "Python is an interpreted, high-level programming language that was first released in 1991 by Guido van Rossum. It is named after the British comedy group Monty Python, and its design philosophy emphasizes code readability and simplicity. Python is a general-purpose language that can be used for a wide variety of applications, including web development, data analysis, machine learning, and scientific computing."
   ]
  },
  {
   "cell_type": "markdown",
   "id": "1f3f08ba",
   "metadata": {},
   "source": [
    "## 1.2 Installing Python"
   ]
  },
  {
   "cell_type": "markdown",
   "id": "50e409f8",
   "metadata": {},
   "source": [
    "Before you can start programming in Python, you need to install Python on your computer. Python is available for free on the official Python website, and there are versions of Python available for Windows, macOS, and Linux. In this chapter, we will show you how to download and install Python on your computer.\n"
   ]
  },
  {
   "cell_type": "markdown",
   "id": "d56a0c2c",
   "metadata": {},
   "source": [
    "Follow these steps:\n",
    "1. Go to this url https://www.python.org/downloads/\n",
    "2. Download the file for your operating system\n",
    "3. Run the downloaded file, and click on Install Now.\n",
    "4. Add Python path to the environment variables"
   ]
  },
  {
   "cell_type": "markdown",
   "id": "4981308c",
   "metadata": {},
   "source": [
    "## 1.3 The Python Interpreter"
   ]
  },
  {
   "attachments": {
    "image.png": {
     "image/png": "[encoded data removed]"
    }
   },
   "cell_type": "markdown",
   "id": "0f73e60c",
   "metadata": {},
   "source": [
    "The Python interpreter is a program that runs Python code. When you write a Python program, you can save it in a file with the .py extension, and then run it using the Python interpreter. The Python interpreter is also useful for testing out small code snippets or running Python commands interactively.\n",
    "\n",
    "You can access Python interpreter by simply typing `python` in command prompt.<br>\n",
    "It will look similar to the image provided below\n",
    "\n",
    "![image.png](attachment:image.png)"
   ]
  },
  {
   "cell_type": "markdown",
   "id": "190c1457",
   "metadata": {},
   "source": [
    "## 1.4 Your First Python Program"
   ]
  },
  {
   "attachments": {
    "image-2.png": {
     "image/png": "[encoded data removed]"
    },
    "image.png": {
     "image/png": "[encoded data removed]"
    }
   },
   "cell_type": "markdown",
   "id": "831f2fb1",
   "metadata": {},
   "source": [
    "Let's write your first Python program! We will start with a simple \"Hello, World!\" program that prints a message to the screen.<br>We will walk you through the process of writing the program, saving it to a file, and then running it using the Python interpreter.\n",
    "\n",
    "We will be using Notepad to write and learn simple programs, and run using Python interpretor.\n",
    "1. Open a new notebook and write `print(\"Hello, World!\")`\n",
    "2. Save the file in this name format `<filename>.py`\n",
    "3. Open command prompt and change directory to where you have saved the file\n",
    "4. Type `python <filename>.py`\n",
    "5. It will run the Python file and will show the output on the command prompt\n",
    "\n",
    "The notebook file will look something like this\n",
    "\n",
    "![image.png](attachment:image.png)\n",
    "<br><br>\n",
    "And after running it with Python interpreter, it will look something like this\n",
    "\n",
    "![image-2.png](attachment:image-2.png)\n"
   ]
  },
  {
   "cell_type": "markdown",
   "id": "d2dc8739",
   "metadata": {},
   "source": [
    "## 1.5 Variables and Data Types\n"
   ]
  },
  {
   "cell_type": "markdown",
   "id": "421c91ef",
   "metadata": {},
   "source": [
    "In Python, a variable is a name that refers to a value. Variables can be used to store data, such as numbers or strings of text.<br>In this section, we will introduce you to some of the basic data types in Python, including integers, floating-point numbers, and strings."
   ]
  },
  {
   "cell_type": "markdown",
   "id": "1a69e8e1",
   "metadata": {},
   "source": [
    "### Integer"
   ]
  },
  {
   "cell_type": "code",
   "execution_count": 1,
   "id": "109fe083",
   "metadata": {},
   "outputs": [],
   "source": [
    "x = 7"
   ]
  },
  {
   "cell_type": "code",
   "execution_count": 4,
   "id": "45ba641c",
   "metadata": {},
   "outputs": [
    {
     "data": {
      "text/plain": [
       "7"
      ]
     },
     "execution_count": 4,
     "metadata": {},
     "output_type": "execute_result"
    }
   ],
   "source": [
    "x"
   ]
  },
  {
   "cell_type": "code",
   "execution_count": 10,
   "id": "0e9cbe30",
   "metadata": {},
   "outputs": [],
   "source": [
    "xx = -17"
   ]
  },
  {
   "cell_type": "code",
   "execution_count": 11,
   "id": "482ee8fc",
   "metadata": {},
   "outputs": [
    {
     "data": {
      "text/plain": [
       "-17"
      ]
     },
     "execution_count": 11,
     "metadata": {},
     "output_type": "execute_result"
    }
   ],
   "source": [
    "xx"
   ]
  },
  {
   "cell_type": "markdown",
   "id": "d5852f8c",
   "metadata": {},
   "source": [
    "### Float"
   ]
  },
  {
   "cell_type": "code",
   "execution_count": 2,
   "id": "55a9c419",
   "metadata": {},
   "outputs": [],
   "source": [
    "y = 3.1415"
   ]
  },
  {
   "cell_type": "code",
   "execution_count": 5,
   "id": "2fa6b179",
   "metadata": {},
   "outputs": [
    {
     "data": {
      "text/plain": [
       "3.1415"
      ]
     },
     "execution_count": 5,
     "metadata": {},
     "output_type": "execute_result"
    }
   ],
   "source": [
    "y"
   ]
  },
  {
   "cell_type": "markdown",
   "id": "1db6b19a",
   "metadata": {},
   "source": [
    "### String"
   ]
  },
  {
   "cell_type": "code",
   "execution_count": 8,
   "id": "2be52398",
   "metadata": {},
   "outputs": [],
   "source": [
    "z = \"Hello\"\n",
    "zz = 'World'"
   ]
  },
  {
   "cell_type": "code",
   "execution_count": 6,
   "id": "84bbc66a",
   "metadata": {},
   "outputs": [
    {
     "data": {
      "text/plain": [
       "'Hello'"
      ]
     },
     "execution_count": 6,
     "metadata": {},
     "output_type": "execute_result"
    }
   ],
   "source": [
    "z"
   ]
  },
  {
   "cell_type": "code",
   "execution_count": 9,
   "id": "86314fe4",
   "metadata": {},
   "outputs": [
    {
     "data": {
      "text/plain": [
       "'World'"
      ]
     },
     "execution_count": 9,
     "metadata": {},
     "output_type": "execute_result"
    }
   ],
   "source": [
    "zz"
   ]
  },
  {
   "cell_type": "markdown",
   "id": "ee671875",
   "metadata": {},
   "source": [
    "In the above example, we are declaring strings in double quotes and single quotes. Both represent the same data type, String. When you output a String, Python interpreter will show in single quotes."
   ]
  },
  {
   "cell_type": "markdown",
   "id": "7eb3d0a5",
   "metadata": {},
   "source": [
    "## 1.6 Operators"
   ]
  },
  {
   "cell_type": "markdown",
   "id": "9045542c",
   "metadata": {},
   "source": [
    "Operators are symbols that are used to perform operations on variables and values in Python. There are several different types of operators in Python, including arithmetic operators, comparison operators, and logical operators. We will introduce you to some of the most commonly used operators in Python."
   ]
  },
  {
   "cell_type": "markdown",
   "id": "b1ca8b57",
   "metadata": {},
   "source": [
    "### Arithmetic Operators"
   ]
  },
  {
   "cell_type": "markdown",
   "id": "53382d26",
   "metadata": {},
   "source": [
    "An arithmetic operator is a mathematical function that takes two operands and performs a calculation on them."
   ]
  },
  {
   "cell_type": "code",
   "execution_count": 50,
   "id": "5d6e08cf",
   "metadata": {},
   "outputs": [],
   "source": [
    "# Let\n",
    "x = 10\n",
    "y = 4"
   ]
  },
  {
   "cell_type": "markdown",
   "id": "6688bbf2",
   "metadata": {},
   "source": [
    "#### Addition"
   ]
  },
  {
   "cell_type": "code",
   "execution_count": 32,
   "id": "a6eed141",
   "metadata": {},
   "outputs": [
    {
     "data": {
      "text/plain": [
       "14"
      ]
     },
     "execution_count": 32,
     "metadata": {},
     "output_type": "execute_result"
    }
   ],
   "source": [
    "x + y"
   ]
  },
  {
   "cell_type": "markdown",
   "id": "5e00dec1",
   "metadata": {},
   "source": [
    "#### Subtraction"
   ]
  },
  {
   "cell_type": "code",
   "execution_count": 33,
   "id": "a9e5ec76",
   "metadata": {},
   "outputs": [
    {
     "data": {
      "text/plain": [
       "6"
      ]
     },
     "execution_count": 33,
     "metadata": {},
     "output_type": "execute_result"
    }
   ],
   "source": [
    "x - y"
   ]
  },
  {
   "cell_type": "markdown",
   "id": "098102fb",
   "metadata": {},
   "source": [
    "#### Multiplication"
   ]
  },
  {
   "cell_type": "code",
   "execution_count": 34,
   "id": "6e3f5669",
   "metadata": {},
   "outputs": [
    {
     "data": {
      "text/plain": [
       "40"
      ]
     },
     "execution_count": 34,
     "metadata": {},
     "output_type": "execute_result"
    }
   ],
   "source": [
    "x * y"
   ]
  },
  {
   "cell_type": "markdown",
   "id": "ac1deab7",
   "metadata": {},
   "source": [
    "#### Division"
   ]
  },
  {
   "cell_type": "code",
   "execution_count": 35,
   "id": "1d063084",
   "metadata": {},
   "outputs": [
    {
     "data": {
      "text/plain": [
       "2.5"
      ]
     },
     "execution_count": 35,
     "metadata": {},
     "output_type": "execute_result"
    }
   ],
   "source": [
    "x / y"
   ]
  },
  {
   "cell_type": "markdown",
   "id": "bbe815c5",
   "metadata": {},
   "source": [
    "#### Floor Division"
   ]
  },
  {
   "cell_type": "code",
   "execution_count": 36,
   "id": "cef6f43f",
   "metadata": {},
   "outputs": [
    {
     "data": {
      "text/plain": [
       "2"
      ]
     },
     "execution_count": 36,
     "metadata": {},
     "output_type": "execute_result"
    }
   ],
   "source": [
    "x // y"
   ]
  },
  {
   "cell_type": "markdown",
   "id": "e86673f5",
   "metadata": {},
   "source": [
    "#### Modulus"
   ]
  },
  {
   "cell_type": "markdown",
   "id": "9068245d",
   "metadata": {},
   "source": [
    "Divides the numbers equally, and returns the remainder"
   ]
  },
  {
   "cell_type": "code",
   "execution_count": 37,
   "id": "cc745769",
   "metadata": {},
   "outputs": [
    {
     "data": {
      "text/plain": [
       "2"
      ]
     },
     "execution_count": 37,
     "metadata": {},
     "output_type": "execute_result"
    }
   ],
   "source": [
    "x % y"
   ]
  },
  {
   "cell_type": "code",
   "execution_count": 39,
   "id": "8ea81377",
   "metadata": {},
   "outputs": [
    {
     "data": {
      "text/plain": [
       "1"
      ]
     },
     "execution_count": 39,
     "metadata": {},
     "output_type": "execute_result"
    }
   ],
   "source": [
    "10 % 3"
   ]
  },
  {
   "cell_type": "markdown",
   "id": "62510271",
   "metadata": {},
   "source": [
    "#### Exponentiation"
   ]
  },
  {
   "cell_type": "markdown",
   "id": "3a9feb6f",
   "metadata": {},
   "source": [
    "Calculates x<sup>y</sup>"
   ]
  },
  {
   "cell_type": "code",
   "execution_count": 41,
   "id": "66e546c6",
   "metadata": {},
   "outputs": [
    {
     "data": {
      "text/plain": [
       "10000"
      ]
     },
     "execution_count": 41,
     "metadata": {},
     "output_type": "execute_result"
    }
   ],
   "source": [
    "x ** y"
   ]
  },
  {
   "cell_type": "markdown",
   "id": "7c23c52a",
   "metadata": {},
   "source": [
    "### Comparison Operators"
   ]
  },
  {
   "cell_type": "markdown",
   "id": "2d11fb86",
   "metadata": {},
   "source": [
    "A comparison operator is a binary operator that takes two operands whose values are being compared. Comparison operators are used in conditional statements, where the result of the comparison decides whether execution should proceed."
   ]
  },
  {
   "cell_type": "markdown",
   "id": "302e562f",
   "metadata": {},
   "source": [
    "#### Equal"
   ]
  },
  {
   "cell_type": "code",
   "execution_count": 42,
   "id": "a7680f82",
   "metadata": {},
   "outputs": [
    {
     "data": {
      "text/plain": [
       "False"
      ]
     },
     "execution_count": 42,
     "metadata": {},
     "output_type": "execute_result"
    }
   ],
   "source": [
    "x == y"
   ]
  },
  {
   "cell_type": "markdown",
   "id": "f4d45068",
   "metadata": {},
   "source": [
    "#### Not Equal"
   ]
  },
  {
   "cell_type": "code",
   "execution_count": 43,
   "id": "385f6c14",
   "metadata": {},
   "outputs": [
    {
     "data": {
      "text/plain": [
       "True"
      ]
     },
     "execution_count": 43,
     "metadata": {},
     "output_type": "execute_result"
    }
   ],
   "source": [
    "x != y"
   ]
  },
  {
   "cell_type": "markdown",
   "id": "e5271672",
   "metadata": {},
   "source": [
    "#### Greater than"
   ]
  },
  {
   "cell_type": "code",
   "execution_count": 44,
   "id": "ad06b8ca",
   "metadata": {},
   "outputs": [
    {
     "data": {
      "text/plain": [
       "True"
      ]
     },
     "execution_count": 44,
     "metadata": {},
     "output_type": "execute_result"
    }
   ],
   "source": [
    "x > y"
   ]
  },
  {
   "cell_type": "markdown",
   "id": "780264a1",
   "metadata": {},
   "source": [
    "#### Less than"
   ]
  },
  {
   "cell_type": "code",
   "execution_count": 45,
   "id": "1e832439",
   "metadata": {},
   "outputs": [
    {
     "data": {
      "text/plain": [
       "False"
      ]
     },
     "execution_count": 45,
     "metadata": {},
     "output_type": "execute_result"
    }
   ],
   "source": [
    "x < y"
   ]
  },
  {
   "cell_type": "markdown",
   "id": "e78c5b9e",
   "metadata": {},
   "source": [
    "#### Greater than or equal to"
   ]
  },
  {
   "cell_type": "code",
   "execution_count": 51,
   "id": "3cce5e33",
   "metadata": {},
   "outputs": [
    {
     "data": {
      "text/plain": [
       "True"
      ]
     },
     "execution_count": 51,
     "metadata": {},
     "output_type": "execute_result"
    }
   ],
   "source": [
    "x >= y"
   ]
  },
  {
   "cell_type": "code",
   "execution_count": 52,
   "id": "e592b147",
   "metadata": {},
   "outputs": [
    {
     "data": {
      "text/plain": [
       "True"
      ]
     },
     "execution_count": 52,
     "metadata": {},
     "output_type": "execute_result"
    }
   ],
   "source": [
    "x >= 10"
   ]
  },
  {
   "cell_type": "markdown",
   "id": "d1ddc7b0",
   "metadata": {},
   "source": [
    "#### Less than or equal to"
   ]
  },
  {
   "cell_type": "code",
   "execution_count": 47,
   "id": "be83941b",
   "metadata": {},
   "outputs": [
    {
     "data": {
      "text/plain": [
       "False"
      ]
     },
     "execution_count": 47,
     "metadata": {},
     "output_type": "execute_result"
    }
   ],
   "source": [
    "x <= y"
   ]
  },
  {
   "cell_type": "markdown",
   "id": "efd7e2ab",
   "metadata": {},
   "source": [
    "### Logical Operators"
   ]
  },
  {
   "cell_type": "markdown",
   "id": "db486108",
   "metadata": {},
   "source": [
    "#### `and` Returns True if both statements are true"
   ]
  },
  {
   "cell_type": "code",
   "execution_count": 57,
   "id": "cd1391d8",
   "metadata": {},
   "outputs": [
    {
     "data": {
      "text/plain": [
       "False"
      ]
     },
     "execution_count": 57,
     "metadata": {},
     "output_type": "execute_result"
    }
   ],
   "source": [
    "x < 10 and  x < 15"
   ]
  },
  {
   "cell_type": "markdown",
   "id": "4d730c87",
   "metadata": {},
   "source": [
    "#### `or` Returns True if one of the statements is true"
   ]
  },
  {
   "cell_type": "code",
   "execution_count": 58,
   "id": "6baa2ed2",
   "metadata": {},
   "outputs": [
    {
     "data": {
      "text/plain": [
       "True"
      ]
     },
     "execution_count": 58,
     "metadata": {},
     "output_type": "execute_result"
    }
   ],
   "source": [
    "x < 10 or  x < 15"
   ]
  },
  {
   "cell_type": "markdown",
   "id": "d73fe772",
   "metadata": {},
   "source": [
    "#### `not` Reverse the result, returns False if the result is true"
   ]
  },
  {
   "cell_type": "code",
   "execution_count": 59,
   "id": "8932ac4f",
   "metadata": {},
   "outputs": [
    {
     "data": {
      "text/plain": [
       "True"
      ]
     },
     "execution_count": 59,
     "metadata": {},
     "output_type": "execute_result"
    }
   ],
   "source": [
    "not(x < 10 and x < 15)"
   ]
  },
  {
   "cell_type": "markdown",
   "id": "750c01b2",
   "metadata": {},
   "source": [
    "## 1.7 Control Flow Statements"
   ]
  },
  {
   "cell_type": "markdown",
   "id": "c18fd639",
   "metadata": {},
   "source": [
    "Control flow statements are used to control the order in which a program executes. In Python, there are several different types of control flow statements, including if statements, for loops, and while loops. We will show you how to use these statements to create more complex programs."
   ]
  },
  {
   "cell_type": "markdown",
   "id": "7dc01d75",
   "metadata": {},
   "source": [
    "### `if` statements"
   ]
  },
  {
   "cell_type": "markdown",
   "id": "92bd9423",
   "metadata": {},
   "source": [
    "The if statement tells the Python interpreter to 'conditionally' execute a particular block of code."
   ]
  },
  {
   "cell_type": "code",
   "execution_count": 60,
   "id": "9fde95ec",
   "metadata": {},
   "outputs": [
    {
     "name": "stdout",
     "output_type": "stream",
     "text": [
      "The number is positive\n"
     ]
    }
   ],
   "source": [
    "if x < 0:\n",
    "    print(\"The number is negative\")\n",
    "elif x == 0:\n",
    "    print(\"The number is zero\")\n",
    "else:\n",
    "    print(\"The number is positive\")"
   ]
  },
  {
   "cell_type": "markdown",
   "id": "78c5147e",
   "metadata": {},
   "source": [
    "### `for` loop statement"
   ]
  },
  {
   "cell_type": "markdown",
   "id": "754ed1a1",
   "metadata": {},
   "source": [
    "Python for statement iterates over the members of a sequence in order, executing the block each time"
   ]
  },
  {
   "cell_type": "code",
   "execution_count": 63,
   "id": "d0f2b548",
   "metadata": {},
   "outputs": [],
   "source": [
    "# Let\n",
    "greet = \"Hello\""
   ]
  },
  {
   "cell_type": "code",
   "execution_count": 64,
   "id": "f5aa2242",
   "metadata": {},
   "outputs": [
    {
     "name": "stdout",
     "output_type": "stream",
     "text": [
      "H\n",
      "e\n",
      "l\n",
      "l\n",
      "o\n"
     ]
    }
   ],
   "source": [
    "for char in greet:\n",
    "    print(char)"
   ]
  },
  {
   "cell_type": "markdown",
   "id": "f63301d8",
   "metadata": {},
   "source": [
    "In the above example, we used a string as the sequence to iterate the loop on. In the coming chapters, we will learn about more data types and sequences."
   ]
  },
  {
   "cell_type": "markdown",
   "id": "17af69b6",
   "metadata": {},
   "source": [
    "### `while` loop statement"
   ]
  },
  {
   "cell_type": "markdown",
   "id": "2deca9ff",
   "metadata": {},
   "source": [
    "A while statement sets aside a block of code that is to be executed repeatedly until a condition is falsified."
   ]
  },
  {
   "cell_type": "code",
   "execution_count": 69,
   "id": "4402615c",
   "metadata": {},
   "outputs": [
    {
     "name": "stdout",
     "output_type": "stream",
     "text": [
      "0\n",
      "1\n",
      "2\n",
      "3\n",
      "4\n"
     ]
    }
   ],
   "source": [
    "# let\n",
    "i = 0\n",
    "\n",
    "while i < 5:\n",
    "    print(i)\n",
    "    i = i + 1  # You may also use: i += 1"
   ]
  },
  {
   "cell_type": "markdown",
   "id": "b288fc75",
   "metadata": {},
   "source": [
    "All the control flow statements mentioned above can be nested as many times as required.<br>\n",
    "For example, you can write an if statement inside another if statement.<br>\n",
    "An if statement inside a for loop.<br>\n",
    "An if statement inside a while loop.<br>\n",
    "A for loop inside an if statement.<br>\n",
    "A for loop inside a while loop<br>\n",
    "And so on, any kind of combination can be used to achieve desired results."
   ]
  },
  {
   "cell_type": "markdown",
   "id": "ea1cf159",
   "metadata": {},
   "source": [
    "## 1.8 Functions and Modules"
   ]
  },
  {
   "cell_type": "markdown",
   "id": "751d0020",
   "metadata": {},
   "source": [
    "Functions are reusable blocks of code that perform a specific task. They allow you to break down a program into smaller, more manageable parts. In Python, you can also use modules, which are collections of functions and variables that can be imported into your programs. We will show you how to define and use functions, as well as how to work with modules in Python."
   ]
  },
  {
   "cell_type": "markdown",
   "id": "472e433a",
   "metadata": {},
   "source": [
    "### Functions"
   ]
  },
  {
   "cell_type": "code",
   "execution_count": 80,
   "id": "a96541f3",
   "metadata": {},
   "outputs": [],
   "source": [
    "def add_numbers(a, b):\n",
    "    summed = a + b\n",
    "    return summed"
   ]
  },
  {
   "cell_type": "markdown",
   "id": "0cf2d55c",
   "metadata": {},
   "source": [
    "* `def` is the keyword used to define a function.\n",
    "* `add_numbers` is the name of the function.\n",
    "* `(a, b)` are the parameters of the function, which are placeholders for the actual values to be passed.\n",
    "* `summed = a + b` is the operation performed by the function.\n",
    "* `return summed` specifies the value to be returned by the function."
   ]
  },
  {
   "cell_type": "code",
   "execution_count": 77,
   "id": "4dc55866",
   "metadata": {},
   "outputs": [
    {
     "data": {
      "text/plain": [
       "11"
      ]
     },
     "execution_count": 77,
     "metadata": {},
     "output_type": "execute_result"
    }
   ],
   "source": [
    "add_numbers(4, 7)"
   ]
  },
  {
   "cell_type": "code",
   "execution_count": 78,
   "id": "65b6c4b0",
   "metadata": {},
   "outputs": [
    {
     "data": {
      "text/plain": [
       "5"
      ]
     },
     "execution_count": 78,
     "metadata": {},
     "output_type": "execute_result"
    }
   ],
   "source": [
    "add_numbers(3, 2)"
   ]
  },
  {
   "cell_type": "markdown",
   "id": "719259fa",
   "metadata": {},
   "source": [
    "You can also save the returned result of the function in a variable"
   ]
  },
  {
   "cell_type": "code",
   "execution_count": 79,
   "id": "d303bb1b",
   "metadata": {},
   "outputs": [
    {
     "name": "stdout",
     "output_type": "stream",
     "text": [
      "22\n"
     ]
    }
   ],
   "source": [
    "output = add_numbers(5, 17)\n",
    "print(output)"
   ]
  },
  {
   "cell_type": "code",
   "execution_count": 82,
   "id": "104323f7",
   "metadata": {},
   "outputs": [],
   "source": [
    "def greet(name):\n",
    "    message = \"Hello, \" + name + \"!\"\n",
    "    return message"
   ]
  },
  {
   "cell_type": "markdown",
   "id": "c1113057",
   "metadata": {},
   "source": [
    "In the function above, on line 2, we are using addition operator on strings.<br>\n",
    "When we use addition operator on strings, it will concatenate all strings together to create a single string."
   ]
  },
  {
   "cell_type": "code",
   "execution_count": 84,
   "id": "dc2ee267",
   "metadata": {},
   "outputs": [
    {
     "data": {
      "text/plain": [
       "'Hello, John!'"
      ]
     },
     "execution_count": 84,
     "metadata": {},
     "output_type": "execute_result"
    }
   ],
   "source": [
    "greet(\"John\")"
   ]
  },
  {
   "cell_type": "code",
   "execution_count": 85,
   "id": "0e0d363d",
   "metadata": {},
   "outputs": [
    {
     "data": {
      "text/plain": [
       "'Hello, Mark!'"
      ]
     },
     "execution_count": 85,
     "metadata": {},
     "output_type": "execute_result"
    }
   ],
   "source": [
    "greet(\"Mark\")"
   ]
  },
  {
   "cell_type": "markdown",
   "id": "6a13772a",
   "metadata": {},
   "source": [
    "### Modules"
   ]
  },
  {
   "cell_type": "markdown",
   "id": "e0b5aa7f",
   "metadata": {},
   "source": [
    "A module is a file containing Python definitions and statements. Modules serve as a way to organize and reuse code by grouping related functionalities together. They can include functions, classes, variables, and other Python code.<br>\n",
    "Create two Python files in a directory (as explained above, the file format for Python code will be `.py`), name one file `math_operations.py` and the other file `main.py`, and write following codes to the files respectively."
   ]
  },
  {
   "cell_type": "code",
   "execution_count": null,
   "id": "61750a2a",
   "metadata": {},
   "outputs": [],
   "source": [
    "# 'math_operations.py'\n",
    "def add_numbers(a, b):\n",
    "    summed = a + b\n",
    "    return summed\n",
    "\n",
    "def subtract_numbers(a, b):\n",
    "    difference = a - b\n",
    "    return difference"
   ]
  },
  {
   "cell_type": "code",
   "execution_count": null,
   "id": "6e83cb19",
   "metadata": {},
   "outputs": [],
   "source": [
    "# 'main.py'\n",
    "import math_operations\n",
    "\n",
    "result = math_operations.add_numbers(2, 3)\n",
    "print(result)  # Output: 5\n",
    "\n",
    "result = math_operations.subtract_numbers(5, 2)\n",
    "print(result)  # Output: 3"
   ]
  },
  {
   "cell_type": "markdown",
   "id": "4b9537b0",
   "metadata": {},
   "source": [
    "Alternatively, you can import specific functions from a module using the `from` keyword"
   ]
  },
  {
   "cell_type": "code",
   "execution_count": null,
   "id": "187553ec",
   "metadata": {},
   "outputs": [],
   "source": [
    "# 'main.py'\n",
    "from math_operations import add_numbers, subtract_numbers\n",
    "\n",
    "result = add_numbers(2, 3)\n",
    "print(result)  # Output: 5\n",
    "\n",
    "result = subtract_numbers(5, 2)\n",
    "print(result)  # Output: 3"
   ]
  },
  {
   "cell_type": "markdown",
   "id": "ef982142",
   "metadata": {},
   "source": [
    "Likewise, you can define a module to store variables."
   ]
  },
  {
   "cell_type": "code",
   "execution_count": null,
   "id": "8a0b8908",
   "metadata": {},
   "outputs": [],
   "source": [
    "# constants.py\n",
    "PI = 3.1415\n",
    "E = 2.7182\n",
    "PHI = 1.618\n",
    "C = 299792458  # m/s"
   ]
  },
  {
   "cell_type": "markdown",
   "id": "2fb746d4",
   "metadata": {},
   "source": [
    "You can import the whole constants module, or just the required constants as well."
   ]
  },
  {
   "cell_type": "markdown",
   "id": "43134714",
   "metadata": {},
   "source": [
    "## 1.9 Conclusion"
   ]
  },
  {
   "cell_type": "markdown",
   "id": "a19e3513",
   "metadata": {},
   "source": [
    "By the end of this chapter, you should have a basic understanding of Python programming, including how to install Python, write your first Python program, and use variables, operators, control flow statements, functions, and modules.<br>In the next chapter, we will continue to build on these concepts, and introduce you to some of the more advanced features of Python."
   ]
  },
  {
   "cell_type": "markdown",
   "id": "191c2cba",
   "metadata": {},
   "source": [
    "# Chapter 2: Basic Programming Concepts"
   ]
  },
  {
   "cell_type": "markdown",
   "id": "5f144d92",
   "metadata": {},
   "source": [
    "In Chapter 1, we introduced you to the basics of Python programming, including how to install and set up Python, how to write your first Python program, and how to work with variables, operators, control flow statements, functions, and modules. In this chapter, we will delve deeper into some of these concepts and introduce you to some new ones."
   ]
  },
  {
   "cell_type": "markdown",
   "id": "4816cd42",
   "metadata": {},
   "source": [
    "## 2.1 Recap of Chapter 1"
   ]
  },
  {
   "cell_type": "markdown",
   "id": "b639efde",
   "metadata": {},
   "source": [
    "Before we move on, let's do a quick recap of what we learned in Chapter 1. We'll review some of the key concepts and code examples from Chapter 1, to make sure that you have a solid foundation before we move on to more advanced topics."
   ]
  },
  {
   "cell_type": "markdown",
   "id": "af2fd1d1",
   "metadata": {},
   "source": [
    "### Variables and Data Types"
   ]
  },
  {
   "cell_type": "markdown",
   "id": "a8b3324f",
   "metadata": {},
   "source": [
    "Variables are used to store values that can be used later in the program. A variable can store values of different data types. We have discussed integers, floats, and strings."
   ]
  },
  {
   "cell_type": "markdown",
   "id": "56c0fdfd",
   "metadata": {},
   "source": [
    "### Operators"
   ]
  },
  {
   "cell_type": "markdown",
   "id": "24627609",
   "metadata": {},
   "source": [
    "Operators are basic building blocks of any computer program. Operators are used to perform mathematical operations in a program such as, add, subtract, multiply, divide and a few more."
   ]
  },
  {
   "cell_type": "markdown",
   "id": "05139359-ed0b-4f84-818f-a195ba5292a6",
   "metadata": {},
   "source": [
    "### Control Flow Statements"
   ]
  },
  {
   "cell_type": "markdown",
   "id": "1142fcbc-9f5e-48f8-b8a2-208b331a3aa4",
   "metadata": {},
   "source": [
    "A program's control flow is the order in which the program's code executes. The control flow of a Python program is regulated by conditional statements and loops."
   ]
  },
  {
   "cell_type": "markdown",
   "id": "01d84c7a-8ab6-46c7-9278-2f0512f8d50b",
   "metadata": {},
   "source": [
    "### Functions and Modules"
   ]
  },
  {
   "cell_type": "markdown",
   "id": "76f1463a-c28f-4657-b26a-a633c26e3f9e",
   "metadata": {},
   "source": [
    "A Python module is a file containing Python definitions and statements. A module can define functions, classes, and variables. A module can also include runnable code. Grouping related code into a module makes the code easier to understand and use. It also makes the code logically organized. A function is a block of code which only runs when it is called. You can pass data, known as parameters, into a function. A function can return data as a result."
   ]
  },
  {
   "cell_type": "markdown",
   "id": "433a4fc9-789d-481c-80a5-325dec6bf5fc",
   "metadata": {},
   "source": [
    "## 2.2 More about Variables and Data Types"
   ]
  },
  {
   "cell_type": "markdown",
   "id": "b37f1794-d838-4c1d-b085-d0cfb4544441",
   "metadata": {},
   "source": [
    "In Chapter 1, we introduced you to some basic data types in Python, including integers, floating-point numbers, and strings. In this section, we will explore these data types in more depth, and introduce you to some new ones, such as Boolean values, lists, and tuples."
   ]
  },
  {
   "cell_type": "markdown",
   "id": "f89ad334-1b20-4462-bbaa-5c6da195bc5d",
   "metadata": {},
   "source": [
    "### Boolean"
   ]
  },
  {
   "cell_type": "code",
   "execution_count": 3,
   "id": "e4f69616-42af-4ab4-96b2-7dd132d04258",
   "metadata": {},
   "outputs": [],
   "source": [
    "x = True\n",
    "y = False"
   ]
  },
  {
   "cell_type": "code",
   "execution_count": 6,
   "id": "81882f9c-2d58-4a58-99b2-68804c5cfe47",
   "metadata": {},
   "outputs": [
    {
     "data": {
      "text/plain": [
       "bool"
      ]
     },
     "execution_count": 6,
     "metadata": {},
     "output_type": "execute_result"
    }
   ],
   "source": [
    "type(x)  # type() is a predefined function that when passed a variable or data, returns the type of the data"
   ]
  },
  {
   "cell_type": "code",
   "execution_count": 9,
   "id": "34b71934-af49-4abc-97ed-c89921cc6611",
   "metadata": {},
   "outputs": [
    {
     "data": {
      "text/plain": [
       "False"
      ]
     },
     "execution_count": 9,
     "metadata": {},
     "output_type": "execute_result"
    }
   ],
   "source": [
    "y"
   ]
  },
  {
   "cell_type": "code",
   "execution_count": 10,
   "id": "5654bac2-d25f-41a5-bc93-d7042eb186b4",
   "metadata": {},
   "outputs": [
    {
     "data": {
      "text/plain": [
       "True"
      ]
     },
     "execution_count": 10,
     "metadata": {},
     "output_type": "execute_result"
    }
   ],
   "source": [
    "not y"
   ]
  },
  {
   "cell_type": "markdown",
   "id": "a6a6c77f-f111-4d62-8cda-a5dc096c63b3",
   "metadata": {},
   "source": [
    "### List"
   ]
  },
  {
   "cell_type": "markdown",
   "id": "9682254c-010f-4051-bbd2-478862f06749",
   "metadata": {},
   "source": [
    "A list is a data structure in Python that is a mutable, or changeable, ordered sequence of elements. Each element or value that is inside of a list is called an item. Just as strings are defined as characters between quotes, lists are defined by having values between square brackets []."
   ]
  },
  {
   "cell_type": "code",
   "execution_count": 11,
   "id": "11dac4cb-4be9-4bca-a052-00defe377052",
   "metadata": {},
   "outputs": [],
   "source": [
    "years = [1995, 2000, 1857, 2024, 1999]"
   ]
  },
  {
   "cell_type": "code",
   "execution_count": 12,
   "id": "ed7db42f-393e-4079-92d2-859c5169a7a3",
   "metadata": {},
   "outputs": [
    {
     "data": {
      "text/plain": [
       "[1995, 2000, 1857, 2024, 1999]"
      ]
     },
     "execution_count": 12,
     "metadata": {},
     "output_type": "execute_result"
    }
   ],
   "source": [
    "years"
   ]
  },
  {
   "cell_type": "code",
   "execution_count": 18,
   "id": "cf9cfbfb-a9d4-4b74-a3e4-f49c69c3d9ae",
   "metadata": {},
   "outputs": [
    {
     "data": {
      "text/plain": [
       "list"
      ]
     },
     "execution_count": 18,
     "metadata": {},
     "output_type": "execute_result"
    }
   ],
   "source": [
    "type(years)"
   ]
  },
  {
   "cell_type": "markdown",
   "id": "6b91d380-ff74-4368-ad5a-e0584eb66c64",
   "metadata": {},
   "source": [
    "### Tuple"
   ]
  },
  {
   "cell_type": "markdown",
   "id": "1cded071-95f1-4ca2-b3bc-13d2996abdaa",
   "metadata": {},
   "source": [
    "Python Tuple is a collection of objects separated by commas. In some ways, a tuple is similar to a Python list in terms of indexing, nested objects, and repetition but the main difference between both is Python tuple is immutable, unlike the Python list which is mutable (editable or changeable)."
   ]
  },
  {
   "cell_type": "code",
   "execution_count": 15,
   "id": "332c9554-76d3-4dbc-a697-568374f0113d",
   "metadata": {},
   "outputs": [],
   "source": [
    "names = (\"John\", \"Mike\", \"Kevin\")"
   ]
  },
  {
   "cell_type": "code",
   "execution_count": 17,
   "id": "f9caf5b7-8d07-466f-9a6e-8e2b2ef469b5",
   "metadata": {},
   "outputs": [
    {
     "data": {
      "text/plain": [
       "('John', 'Mike', 'Kevin')"
      ]
     },
     "execution_count": 17,
     "metadata": {},
     "output_type": "execute_result"
    }
   ],
   "source": [
    "names"
   ]
  },
  {
   "cell_type": "code",
   "execution_count": 19,
   "id": "4544592b-e8e0-4777-8907-6d9875048f73",
   "metadata": {},
   "outputs": [
    {
     "data": {
      "text/plain": [
       "tuple"
      ]
     },
     "execution_count": 19,
     "metadata": {},
     "output_type": "execute_result"
    }
   ],
   "source": [
    "type(names)"
   ]
  },
  {
   "cell_type": "markdown",
   "id": "56077b6f-27f2-44f8-bcb9-07a607012dd9",
   "metadata": {},
   "source": [
    "## 2.3 More about Operators"
   ]
  },
  {
   "cell_type": "markdown",
   "id": "9b184925-3e97-44d7-8c24-63e6f46a7731",
   "metadata": {},
   "source": [
    "In Chapter 1, we introduced you to some of the most commonly used operators in Python, such as arithmetic operators, comparison operators, and logical operators. In this section, we will introduce you to some new operators, such as the assignment operator, the membership operator, and the identity operator."
   ]
  },
  {
   "cell_type": "markdown",
   "id": "50c5b22d-f372-4ac7-b7f8-0de2e33155bd",
   "metadata": {},
   "source": [
    "### Assignment Operator"
   ]
  },
  {
   "cell_type": "markdown",
   "id": "9a154e18-afb7-414e-93ff-10128b6ccd99",
   "metadata": {},
   "source": [
    "Assignment operator `=` is used to define a variable in Python. As you might remember, we have already used it while creating a variable."
   ]
  },
  {
   "cell_type": "code",
   "execution_count": 24,
   "id": "de790176-4b14-4a14-853d-1587cf2f330a",
   "metadata": {},
   "outputs": [],
   "source": [
    "year = 2001"
   ]
  },
  {
   "cell_type": "markdown",
   "id": "6b8b3d2b-d13d-4986-a082-1ea6af3ddd3b",
   "metadata": {},
   "source": [
    "### Membership Operators"
   ]
  },
  {
   "cell_type": "markdown",
   "id": "4a7fbcf2-5ef6-4c55-9290-20ad29b0803f",
   "metadata": {},
   "source": [
    "Membership operators are used to test if a sequence is presented in an object."
   ]
  },
  {
   "cell_type": "markdown",
   "id": "c33192fb-e740-4cba-996d-0a80a9de6ff0",
   "metadata": {},
   "source": [
    "#### `in` Returns True if a sequence with the specified value is present in the object"
   ]
  },
  {
   "cell_type": "code",
   "execution_count": 26,
   "id": "42ff5bcc-a8a4-47e0-a76a-3093ee8ca367",
   "metadata": {},
   "outputs": [
    {
     "data": {
      "text/plain": [
       "False"
      ]
     },
     "execution_count": 26,
     "metadata": {},
     "output_type": "execute_result"
    }
   ],
   "source": [
    "year in years"
   ]
  },
  {
   "cell_type": "markdown",
   "id": "157b5e87-c886-4b28-82b9-4cbbdf65d159",
   "metadata": {},
   "source": [
    "#### `not in` Returns True if a sequence with the specified value is not present in the object"
   ]
  },
  {
   "cell_type": "code",
   "execution_count": 28,
   "id": "54152724-722d-489b-9a92-da60b6bae2f8",
   "metadata": {},
   "outputs": [
    {
     "data": {
      "text/plain": [
       "True"
      ]
     },
     "execution_count": 28,
     "metadata": {},
     "output_type": "execute_result"
    }
   ],
   "source": [
    "year not in years"
   ]
  },
  {
   "cell_type": "markdown",
   "id": "52535829-21be-4c57-93d7-7cb33a8b40a3",
   "metadata": {},
   "source": [
    "### Identity Operators"
   ]
  },
  {
   "cell_type": "markdown",
   "id": "513222d8-5200-4a60-884f-a07102e438e1",
   "metadata": {},
   "source": [
    "Identity operators are used to compare the objects, not if they are equal, but if they are actually the same object, with the same memory location."
   ]
  },
  {
   "cell_type": "code",
   "execution_count": 33,
   "id": "38606532-dcbb-48af-8e40-f659b894e261",
   "metadata": {},
   "outputs": [],
   "source": [
    "x = [\"apple\", \"banana\"]\n",
    "y = [\"apple\", \"banana\"]\n",
    "z = x"
   ]
  },
  {
   "cell_type": "markdown",
   "id": "f7be0cbc-d46b-4bc2-a66a-4e6f8d1dbeab",
   "metadata": {},
   "source": [
    "#### `is` Returns true if both variables are the same object"
   ]
  },
  {
   "cell_type": "code",
   "execution_count": 34,
   "id": "214fc6ac-d701-42b9-bb15-c469ecb946ef",
   "metadata": {},
   "outputs": [
    {
     "data": {
      "text/plain": [
       "False"
      ]
     },
     "execution_count": 34,
     "metadata": {},
     "output_type": "execute_result"
    }
   ],
   "source": [
    "x is y"
   ]
  },
  {
   "cell_type": "code",
   "execution_count": 35,
   "id": "30db14ba-ddc5-4cb3-9437-77d0a32edfb5",
   "metadata": {},
   "outputs": [
    {
     "data": {
      "text/plain": [
       "True"
      ]
     },
     "execution_count": 35,
     "metadata": {},
     "output_type": "execute_result"
    }
   ],
   "source": [
    "x is z"
   ]
  },
  {
   "cell_type": "code",
   "execution_count": 36,
   "id": "c1147849-6005-4243-88dc-8170ffb0843f",
   "metadata": {},
   "outputs": [
    {
     "data": {
      "text/plain": [
       "True"
      ]
     },
     "execution_count": 36,
     "metadata": {},
     "output_type": "execute_result"
    }
   ],
   "source": [
    "x == y"
   ]
  },
  {
   "cell_type": "markdown",
   "id": "aa8a43f7-7c5d-4150-b08c-dfab73aa2448",
   "metadata": {},
   "source": [
    "#### `is not` Returns true if both variables are not the same object"
   ]
  },
  {
   "cell_type": "code",
   "execution_count": 37,
   "id": "b4f6e406-2d71-4012-a293-fc9fcaa39bff",
   "metadata": {},
   "outputs": [
    {
     "data": {
      "text/plain": [
       "True"
      ]
     },
     "execution_count": 37,
     "metadata": {},
     "output_type": "execute_result"
    }
   ],
   "source": [
    "x is not y"
   ]
  },
  {
   "cell_type": "code",
   "execution_count": 38,
   "id": "5d1e5f1f-b83d-408b-9a35-00480b177c3b",
   "metadata": {},
   "outputs": [
    {
     "data": {
      "text/plain": [
       "False"
      ]
     },
     "execution_count": 38,
     "metadata": {},
     "output_type": "execute_result"
    }
   ],
   "source": [
    "x is not z"
   ]
  },
  {
   "cell_type": "code",
   "execution_count": 39,
   "id": "ca6251e9-75fb-496f-bfe8-5c4831e51b94",
   "metadata": {},
   "outputs": [
    {
     "data": {
      "text/plain": [
       "False"
      ]
     },
     "execution_count": 39,
     "metadata": {},
     "output_type": "execute_result"
    }
   ],
   "source": [
    "x != y"
   ]
  },
  {
   "cell_type": "markdown",
   "id": "2dd7e8c1-aaf5-4944-8198-17e4695fe4a9",
   "metadata": {},
   "source": [
    "## 2.4 More about Control Flow Statements"
   ]
  },
  {
   "cell_type": "markdown",
   "id": "0c1a5ed4-1063-4f0e-b412-9149a09247e4",
   "metadata": {},
   "source": [
    "In Chapter 1, we introduced you to some basic control flow statements in Python, such as if statements, for loops, and while loops. In this section, we will explore these statements in more depth, and introduce you to some new ones, such as the break statement and the continue statement."
   ]
  },
  {
   "cell_type": "markdown",
   "id": "914d2339-851b-4e52-aad1-c478aa70f636",
   "metadata": {},
   "source": [
    "### `break` is used to break out a for loop, or a while loop."
   ]
  },
  {
   "cell_type": "code",
   "execution_count": 42,
   "id": "2556602e-d081-424c-a747-918b4d97b581",
   "metadata": {},
   "outputs": [
    {
     "name": "stdout",
     "output_type": "stream",
     "text": [
      "0\n",
      "1\n",
      "2\n",
      "3\n"
     ]
    }
   ],
   "source": [
    "for i in range(9):\n",
    "  if i > 3:\n",
    "    break\n",
    "  print(i)"
   ]
  },
  {
   "cell_type": "markdown",
   "id": "bc0ded94-10f5-4526-abc9-20385363a9f2",
   "metadata": {},
   "source": [
    "### `continue` is used to end the current iteration in a for loop (or a while loop), and continues to the next iteration."
   ]
  },
  {
   "cell_type": "code",
   "execution_count": 43,
   "id": "fd873729-f5c7-44fd-ac38-6e68e7c786a2",
   "metadata": {},
   "outputs": [
    {
     "name": "stdout",
     "output_type": "stream",
     "text": [
      "0\n",
      "1\n",
      "2\n",
      "4\n",
      "5\n",
      "6\n",
      "7\n",
      "8\n"
     ]
    }
   ],
   "source": [
    "for i in range(9):\n",
    "  if i == 3:\n",
    "    continue\n",
    "  print(i)"
   ]
  },
  {
   "cell_type": "markdown",
   "id": "c383c148-51eb-43ea-a6ca-680b6c79d8e4",
   "metadata": {},
   "source": [
    "## 2.5 Functions with Parameters and Return Values"
   ]
  },
  {
   "cell_type": "markdown",
   "id": "9ad7a1a3-14b3-4e75-a356-816fa457fdc8",
   "metadata": {},
   "source": [
    "In Chapter 1, we introduced you to functions, which are reusable blocks of code that perform a specific task. In this section, we will show you how to define functions with parameters, which allow you to pass values into a function. We will also introduce you to return values, which allow functions to return a value to the code that called them."
   ]
  },
  {
   "cell_type": "markdown",
   "id": "2fbaf387-84c8-49af-90c5-f4b5d537a5da",
   "metadata": {},
   "source": [
    "### Creating a Function\n",
    "In Python a function is defined using the def keyword:\n",
    "#### Function without perameter "
   ]
  },
  {
   "cell_type": "code",
   "execution_count": 47,
   "id": "113c3b63-2caa-4454-a4bb-9bb46fb7d677",
   "metadata": {},
   "outputs": [],
   "source": [
    "def my_function():\n",
    "  print(\"Hello from a function\")"
   ]
  },
  {
   "cell_type": "markdown",
   "id": "f24914a6-b87b-4f75-aa6b-65fc13fb69ad",
   "metadata": {},
   "source": [
    "##### Calling a Function\n",
    "\n",
    " \n",
    "To call a function, use the functio's name:"
   ]
  },
  {
   "cell_type": "code",
   "execution_count": 50,
   "id": "fe7330e2-a229-41b9-8574-0ac450d3366f",
   "metadata": {},
   "outputs": [
    {
     "name": "stdout",
     "output_type": "stream",
     "text": [
      "Hello from a function\n"
     ]
    }
   ],
   "source": [
    "my_function()"
   ]
  },
  {
   "cell_type": "markdown",
   "id": "66aa70dc-8ad9-4380-bd59-ea9f2a678467",
   "metadata": {},
   "source": [
    "### Defining Functions with Parameters:\n",
    "Functions can be defined with parameters, which are placeholders for values that you can pass into the function when you call it. These parameters allow you to customize the behavior of the function based on the input values. Parameters are listed within the parentheses following the function name when defining it."
   ]
  },
  {
   "cell_type": "code",
   "execution_count": 52,
   "id": "f09b1d56-bd4e-4bb0-b53c-a926125a4e0f",
   "metadata": {},
   "outputs": [
    {
     "name": "stdout",
     "output_type": "stream",
     "text": [
      "Hello, John!\n"
     ]
    }
   ],
   "source": [
    "def greet(name):\n",
    "    print(f\"Hello, {name}!\")\n",
    "    \n",
    "# calling function\n",
    "greet(\"John\")"
   ]
  },
  {
   "cell_type": "markdown",
   "id": "692de39f-7bb1-420d-86e8-cf32725d3eed",
   "metadata": {},
   "source": [
    "### Return Values:\n",
    "Functions can also return values after performing their designated tasks. This allows the function to provide a result or output that can be used in the calling code. To return a value from a function, you use the return statement, followed by the value you want to return."
   ]
  },
  {
   "cell_type": "code",
   "execution_count": 54,
   "id": "742bc63a-a894-4169-9734-6cea542911fe",
   "metadata": {},
   "outputs": [
    {
     "data": {
      "text/plain": [
       "7"
      ]
     },
     "execution_count": 54,
     "metadata": {},
     "output_type": "execute_result"
    }
   ],
   "source": [
    "def add(a, b):\n",
    "    return a + b\n",
    "    \n",
    "add(3,4)"
   ]
  },
  {
   "cell_type": "markdown",
   "id": "f29fb990-c625-4b5c-9865-80355bc08ce0",
   "metadata": {},
   "source": [
    "An other example"
   ]
  },
  {
   "cell_type": "code",
   "execution_count": 57,
   "id": "2f6eea1a-546e-489b-bdc7-094c1efb65b6",
   "metadata": {},
   "outputs": [
    {
     "name": "stdout",
     "output_type": "stream",
     "text": [
      "Emil Refsnes\n",
      "Tobias Refsnes\n",
      "Linus Refsnes\n"
     ]
    }
   ],
   "source": [
    "def my_function(fname):\n",
    "  print(fname + \" Refsnes\")\n",
    "\n",
    "my_function(\"Emil\")\n",
    "my_function(\"Tobias\")\n",
    "my_function(\"Linus\")\n"
   ]
  },
  {
   "cell_type": "markdown",
   "id": "58c4dda7-d17d-49ed-bcb3-5a11a2ba5e11",
   "metadata": {},
   "source": [
    "## 2.6 Working with Files"
   ]
  },
  {
   "cell_type": "markdown",
   "id": "99c79cae-b9ad-42a3-9016-2d5284d05616",
   "metadata": {},
   "source": [
    "In Python, you can read and write files using file input/output (I/O) operations. In this section, we will show you how to open files, read from files, write to files, and close files in Python."
   ]
  },
  {
   "cell_type": "markdown",
   "id": "4c25e266-66c5-47cd-817b-1c9bff0d914c",
   "metadata": {},
   "source": [
    "### Opening Files:\n"
   ]
  },
  {
   "cell_type": "markdown",
   "id": "4d85cfaa-b517-432f-8b3b-ddbfe5612848",
   "metadata": {},
   "source": [
    "You can open a file using the built-in `open()` function. It takes two arguments: the file path and the mode in which you want to open the file ('r' for reading, 'w' for writing, 'a' for appending, and more)."
   ]
  },
  {
   "cell_type": "markdown",
   "id": "aa05b8e1-8d6d-4850-a47b-1093b48d208d",
   "metadata": {},
   "source": [
    "Assume we have the following file, located in the same folder as Python:\n"
   ]
  },
  {
   "cell_type": "markdown",
   "id": "49997e1d-0195-4bc9-a8e9-99c8562b1fd9",
   "metadata": {},
   "source": [
    "demofile.txt\n",
    "\n",
    "Hello! Welcome to demofile.txt\n",
    "This file is for testing purposes.\n",
    "Good Luck!"
   ]
  },
  {
   "cell_type": "code",
   "execution_count": 62,
   "id": "25a0c1a7-5ba6-4b47-941d-f9b0b9ee2e81",
   "metadata": {},
   "outputs": [],
   "source": [
    "# Opening a file in read mode\n",
    "file_path = 'demofile.txt'\n",
    "file = open(file_path, 'r')\n",
    "\n",
    "# Do something with the file\n",
    "\n",
    "# Remember to close the file when done\n",
    "file.close()\n"
   ]
  },
  {
   "cell_type": "markdown",
   "id": "3a45fac0-b393-4f40-b053-12f3e679b8ef",
   "metadata": {},
   "source": [
    "### Reading Files\n",
    "After opening the file in read mode, you can read its content using various methods like `read()`, `readline()`, or `readlines()`. Here's "
   ]
  },
  {
   "cell_type": "code",
   "execution_count": 63,
   "id": "a868ac68-582a-4a58-85f2-757e4f2e2db1",
   "metadata": {},
   "outputs": [
    {
     "name": "stdout",
     "output_type": "stream",
     "text": [
      "Hello! Welcome to demofile.txt\n",
      "This file is for testing purposes.\n",
      "Good Luck!\n"
     ]
    }
   ],
   "source": [
    "f = open(\"demofile.txt\", \"r\")\n",
    "print(f.read())"
   ]
  },
  {
   "cell_type": "code",
   "execution_count": 65,
   "id": "9d143172-ba67-4d63-bd83-1d7ae26da9ea",
   "metadata": {},
   "outputs": [
    {
     "name": "stdout",
     "output_type": "stream",
     "text": [
      "Hello! Welcome to demofile.txt\n",
      "This file is for testing purposes.\n",
      "Good Luck!\n"
     ]
    }
   ],
   "source": [
    "file_path = 'demofile.txt'\n",
    "file = open(file_path, 'r')\n",
    "\n",
    "lines = file.readlines()\n",
    "\n",
    "for line in lines:\n",
    "    print(line.strip())  # strip() removes the newline characters\n",
    "\n",
    "file.close()\n"
   ]
  },
  {
   "cell_type": "markdown",
   "id": "757224c4-3b91-40e1-a679-030faa1c17c0",
   "metadata": {},
   "source": [
    "### Writing to Files:\n",
    "To write to a file, open it in write mode ('w'). Be careful, as this will overwrite the file's content. You can use the` write()` method to add content to the file."
   ]
  },
  {
   "cell_type": "code",
   "execution_count": 67,
   "id": "58475673-d755-459e-a1d5-34280ab560c3",
   "metadata": {},
   "outputs": [],
   "source": [
    "file_path = 'demofile.txt'\n",
    "file = open(file_path, 'w')\n",
    "\n",
    "file.write(\"Hello, this is a line written to the file.\\n\")\n",
    "file.write(\"This is another line.\\n\")\n",
    "\n",
    "file.close()\n"
   ]
  },
  {
   "cell_type": "markdown",
   "id": "549ec2b4-903b-4ea4-b305-68108efa0ca8",
   "metadata": {},
   "source": [
    "### Appending to Files:\n",
    "To add content to the end of a file without overwriting its existing content, open it in append mode ('a') and then use the `rite() `method. "
   ]
  },
  {
   "cell_type": "code",
   "execution_count": 71,
   "id": "3f600f57-2e42-415f-880c-5ed63e9033fb",
   "metadata": {},
   "outputs": [],
   "source": [
    "file_path = 'demofile.txt'\n",
    "file = open(file_path, 'a')\n",
    "\n",
    "file.write(\"This line is appended to the file.\\n\")\n",
    "\n",
    "file.close()"
   ]
  },
  {
   "cell_type": "markdown",
   "id": "3b326c63-d4f9-40ce-bf05-d3e3a1600feb",
   "metadata": {},
   "source": [
    "### Using with Statements:\n",
    "Using the with statement is recommended because it automatically handles closing the file when you're done, even if an exception occurs:"
   ]
  },
  {
   "cell_type": "code",
   "execution_count": 73,
   "id": "3fb397a7-61d1-4372-8179-957cc1e88dd8",
   "metadata": {},
   "outputs": [
    {
     "name": "stdout",
     "output_type": "stream",
     "text": [
      "Hello, this is a line written to the file.\n",
      "This is another line.\n",
      "This line is appended to the file.\n",
      "This line is appended to the file.\n"
     ]
    }
   ],
   "source": [
    "file_path = 'demofile.txt'\n",
    "with open(file_path, 'r') as file:\n",
    "    lines = file.readlines()\n",
    "    for line in lines:\n",
    "        print(line.strip())\n",
    "# File is automatically closed outside the 'with' block\n"
   ]
  },
  {
   "cell_type": "markdown",
   "id": "2be78345-5d4c-45cd-ba0a-00667783348b",
   "metadata": {},
   "source": [
    "## 2.7 Working with JSON and CSV Data"
   ]
  },
  {
   "cell_type": "markdown",
   "id": "daf347ab-ced1-4d51-bb7a-1280c225da25",
   "metadata": {},
   "source": [
    "JSON (JavaScript Object Notation) and CSV (Comma-Separated Values) are two common formats for storing and exchanging data. In this section, we will show you how to work with JSON and CSV data in Python, including how to read data from these formats, write data to these formats, and manipulate data in these formats."
   ]
  },
  {
   "cell_type": "markdown",
   "id": "22f9159c-17b8-4bc0-99d2-8a7136c93f54",
   "metadata": {},
   "source": [
    "### JSON in Python\n",
    "Python has a built-in package called json, which can be used to work with JSON data."
   ]
  },
  {
   "cell_type": "markdown",
   "id": "c7b65fd1-e1cb-4268-b401-038ea0b7c843",
   "metadata": {},
   "source": [
    "#### Example\n",
    "Import the json module:"
   ]
  },
  {
   "cell_type": "code",
   "execution_count": 75,
   "id": "e65eb3f8-33a7-41e5-b4e6-dd77440088b4",
   "metadata": {},
   "outputs": [],
   "source": [
    "import json"
   ]
  },
  {
   "cell_type": "markdown",
   "id": "ebf3b72f-f129-4c0a-a004-34e43b2d05fd",
   "metadata": {},
   "source": [
    "If you have a JSON string, you can parse it by using the `json.loads()` method."
   ]
  },
  {
   "cell_type": "markdown",
   "id": "9c5b9dc3-75f7-4ada-8f44-f1e851240254",
   "metadata": {},
   "source": [
    "#### Convert from JSON to Python:\n"
   ]
  },
  {
   "cell_type": "code",
   "execution_count": 82,
   "id": "5241628e-21aa-49e5-a6e1-87252bcfdee1",
   "metadata": {},
   "outputs": [
    {
     "name": "stdout",
     "output_type": "stream",
     "text": [
      "30\n"
     ]
    }
   ],
   "source": [
    "import json\n",
    "\n",
    "# some JSON:\n",
    "x = '{ \"name\":\"John\", \"age\":30, \"city\":\"New York\"}'\n",
    "\n",
    "# parse x:\n",
    "y = json.loads(x)\n",
    "\n",
    "# the result is a Python dictionary:\n",
    "print(y[\"age\"])"
   ]
  },
  {
   "cell_type": "markdown",
   "id": "38b7b12a-e6ed-41ac-ae5d-2b47a38e21a7",
   "metadata": {},
   "source": [
    "#### Convert from Python to JSON\n",
    "If you have a Python object, you can convert it into a JSON string by using the `json.dumps()` method."
   ]
  },
  {
   "cell_type": "code",
   "execution_count": 114,
   "id": "51d3be4d-3bfe-468b-b8c8-123b462877ee",
   "metadata": {},
   "outputs": [
    {
     "name": "stdout",
     "output_type": "stream",
     "text": [
      "{\"name\": \"John\", \"age\": 30, \"city\": \"New York\"}\n"
     ]
    }
   ],
   "source": [
    "import json\n",
    "\n",
    "# a Python object (dict):\n",
    "x = {\n",
    "  \"name\": \"John\",\n",
    "  \"age\": 30,\n",
    "  \"city\": \"New York\"\n",
    "}\n",
    "\n",
    "# convert into JSON:\n",
    "y = json.dumps(x)\n",
    "\n",
    "# the result is a JSON string:\n",
    "print(y)"
   ]
  },
  {
   "cell_type": "markdown",
   "id": "dc7e181e-74b1-43a7-9ab6-0a7d7fbded71",
   "metadata": {},
   "source": [
    "#### Writing JSON:\n"
   ]
  },
  {
   "cell_type": "raw",
   "id": "b051fd0b-d76f-41cb-bb57-42dc434a9b4b",
   "metadata": {},
   "source": [
    "To write data as JSON to a file, you can use the json.dump() function. Here's an example:"
   ]
  },
  {
   "cell_type": "code",
   "execution_count": 126,
   "id": "241bb6d6-852a-409c-9e8c-669205704cd7",
   "metadata": {},
   "outputs": [],
   "source": [
    "data = {\"name\": \"John\", \"age\": 30, \"city\": \"New York\"}\n",
    "\n",
    "with open('output.json', 'w') as json_file:\n",
    "    json.dump(data, json_file) \n"
   ]
  },
  {
   "cell_type": "markdown",
   "id": "bf02ccad-2e6b-4216-bcd7-2b424394574f",
   "metadata": {},
   "source": [
    "####  Reading JSON:"
   ]
  },
  {
   "cell_type": "code",
   "execution_count": 129,
   "id": "721e84bd-b9fd-4ff7-8cfc-5014f1dfc04d",
   "metadata": {},
   "outputs": [
    {
     "name": "stdout",
     "output_type": "stream",
     "text": [
      "{'name': 'John', 'age': 30, 'city': 'New York'}\n"
     ]
    }
   ],
   "source": [
    "import json\n",
    "\n",
    "with open('output.json', 'r') as json_file:\n",
    "    data = json.load(json_file)\n",
    "    print(data)\n",
    "\n",
    "# Now 'data' contains the parsed JSON data as a Python dictionary or list\n"
   ]
  },
  {
   "cell_type": "markdown",
   "id": "52a1ec11-8881-47a0-80bf-ea0d77f28534",
   "metadata": {},
   "source": [
    "### Working with CSV:"
   ]
  },
  {
   "cell_type": "markdown",
   "id": "2108e2f9-b5bd-467b-ab72-698daeef2e22",
   "metadata": {},
   "source": [
    "CSV is a tabular format that stores data as plain text, with each line representing a row and values separated by commas."
   ]
  },
  {
   "cell_type": "markdown",
   "id": "f9df5b77-1ebf-4ee6-b1ac-841f16b82b9a",
   "metadata": {},
   "source": [
    "#### Writing with CSV:"
   ]
  },
  {
   "cell_type": "markdown",
   "id": "0a29f005-ee4c-40ed-860b-4d8b36f645d5",
   "metadata": {},
   "source": [
    "You can write data to a CSV file using the `csv.writer()`."
   ]
  },
  {
   "cell_type": "code",
   "execution_count": 89,
   "id": "85c4d9b1-f0a4-40e5-8742-6031e5d742e6",
   "metadata": {},
   "outputs": [],
   "source": [
    "import csv\n",
    "data = [\n",
    "    [\"Name\", \"Age\", \"City\"],\n",
    "    [\"John\", 30, \"New York\"],\n",
    "    [\"Alice\", 25, \"San Francisco\"]\n",
    "]\n",
    "\n",
    "with open('output.csv', 'w', newline='') as csv_file:\n",
    "    csv_writer = csv.writer(csv_file)\n",
    "    for row in data:\n",
    "        csv_writer.writerow(row)\n"
   ]
  },
  {
   "cell_type": "markdown",
   "id": "55c6110b-05e2-4c8c-b87b-f7af2677d2d9",
   "metadata": {},
   "source": [
    "##### Writing Dictionaries (with Headers):"
   ]
  },
  {
   "cell_type": "code",
   "execution_count": 93,
   "id": "febc08ed-537a-4737-974d-6b232f1ba45a",
   "metadata": {},
   "outputs": [],
   "source": [
    "data = [\n",
    "    {\"Name\": \"John\", \"Age\": 30, \"City\": \"New York\"},\n",
    "    {\"Name\": \"Alice\", \"Age\": 25, \"City\": \"San Francisco\"}\n",
    "]\n",
    "\n",
    "with open('output.csv', 'w', newline='') as csv_file:\n",
    "    fieldnames = ['Name', 'Age', 'City']\n",
    "    csv_writer = csv.DictWriter(csv_file, fieldnames=fieldnames)\n",
    "    \n",
    "    csv_writer.writeheader()  # Write the header row\n",
    "    for row in data:\n",
    "        csv_writer.writerow(row)\n"
   ]
  },
  {
   "cell_type": "markdown",
   "id": "38a02d28-8b9d-448b-bebc-7ebf6239d221",
   "metadata": {},
   "source": [
    "#### Reading With CSV \n"
   ]
  },
  {
   "cell_type": "markdown",
   "id": "fb3750e7-118a-4805-b939-354d6e2d8e23",
   "metadata": {},
   "source": [
    "#####  Reading as Lists:"
   ]
  },
  {
   "cell_type": "code",
   "execution_count": 94,
   "id": "15fac3c0-cd7c-45b7-9c91-86a1aa740e67",
   "metadata": {},
   "outputs": [
    {
     "name": "stdout",
     "output_type": "stream",
     "text": [
      "['Name', 'Age', 'City']\n",
      "['John', '30', 'New York']\n",
      "['Alice', '25', 'San Francisco']\n"
     ]
    }
   ],
   "source": [
    "with open('output.csv', 'r') as csv_file:\n",
    "    csv_reader = csv.reader(csv_file)\n",
    "    for row in csv_reader:\n",
    "        print(row)  # Each 'row' is a list containing the values of a row\n"
   ]
  },
  {
   "cell_type": "markdown",
   "id": "8c65ae39-0130-45cd-b0ba-f509d3422c78",
   "metadata": {},
   "source": [
    "#####  Reading as Dictionaries (with Headers):"
   ]
  },
  {
   "cell_type": "code",
   "execution_count": 95,
   "id": "65b716a2-8469-4f28-a7c1-62f364c24bc1",
   "metadata": {},
   "outputs": [
    {
     "name": "stdout",
     "output_type": "stream",
     "text": [
      "John 30\n",
      "Alice 25\n"
     ]
    }
   ],
   "source": [
    "with open('output.csv', 'r') as csv_file:\n",
    "    csv_reader = csv.DictReader(csv_file)\n",
    "    for row in csv_reader:\n",
    "        print(row['Name'], row['Age'])  # Access values by column header\n"
   ]
  },
  {
   "cell_type": "markdown",
   "id": "8f2f2c2e-77f8-4506-a28b-9ece298f80e2",
   "metadata": {},
   "source": [
    "## 2.8 Conclusion"
   ]
  },
  {
   "cell_type": "markdown",
   "id": "61de7b9f-4b96-4486-98e9-59efdd2d74a1",
   "metadata": {},
   "source": [
    "By the end of this chapter, you should have a deeper understanding of some of the basic programming concepts in Python, including variables and data types, operators, control flow statements, functions with parameters and return values, file I/O operations, and working with JSON and CSV data. In the next chapter, we will continue to build on these concepts and introduce you to some more advanced programming topics."
   ]
  },
  {
   "cell_type": "markdown",
   "id": "092838a0-ec40-413b-b79c-5dd713f7226b",
   "metadata": {},
   "source": [
    "# Chapter 3: Data Structures in Python"
   ]
  },
  {
   "cell_type": "markdown",
   "id": "6f4a077e-7c95-4098-9b62-3095993b578c",
   "metadata": {},
   "source": [
    "In Chapter 2, we introduced you to some of the basic programming concepts in Python, including variables and data types, operators, control flow statements, functions with parameters and return values, file I/O operations, and working with JSON and CSV data. In this chapter, we will focus on data structures in Python, which are collections of data that can be manipulated and organized in various ways."
   ]
  },
  {
   "cell_type": "markdown",
   "id": "6024b206-b799-4e89-9504-7945667dae96",
   "metadata": {},
   "source": [
    "## 3.1 Recap of Chapter 2"
   ]
  },
  {
   "cell_type": "markdown",
   "id": "5ba8dd13-290a-4c73-a898-a87310fe8e14",
   "metadata": {},
   "source": [
    "Before we move on, let's do a quick recap of what we learned in Chapter 2. We'll review some of the key concepts and code examples from Chapter 2, to make sure that you have a solid foundation before we move on to more advanced topics."
   ]
  },
  {
   "cell_type": "markdown",
   "id": "7878f11d-93ec-4789-acbb-3e09a2d0a333",
   "metadata": {},
   "source": [
    "## 3.2 Lists"
   ]
  },
  {
   "cell_type": "markdown",
   "id": "e84168d1-d6a8-41b3-8cd3-844044b09023",
   "metadata": {},
   "source": [
    "Lists are one of the most commonly used data structures in Python. A list is a collection of values that can be of any data type, and can be manipulated in various ways. In this section, we will introduce you to lists in Python, including how to create lists, access elements in a list, manipulate elements in a list, and use list methods."
   ]
  },
  {
   "cell_type": "markdown",
   "id": "27513d7e-617b-4651-83f6-324ea6b36c68",
   "metadata": {},
   "source": [
    "### Creating Lists:"
   ]
  },
  {
   "cell_type": "markdown",
   "id": "6f6d436b-a3a7-425b-b1d0-7e5522bcb1e8",
   "metadata": {},
   "source": [
    "You can create a list by enclosing a comma-separated sequence of values within square brackets []:"
   ]
  },
  {
   "cell_type": "code",
   "execution_count": 96,
   "id": "206c27f6-b22c-4989-bc76-94bd3ef3bfc8",
   "metadata": {},
   "outputs": [],
   "source": [
    "numbers = [1, 2, 3, 4, 5]\n",
    "fruits = [\"apple\", \"banana\", \"orange\"]\n",
    "mixed_list = [42, \"hello\", True]\n"
   ]
  },
  {
   "cell_type": "markdown",
   "id": "b075206c-9e3e-496a-ab67-5ae79b93777c",
   "metadata": {},
   "source": [
    "### Accessing Elements:"
   ]
  },
  {
   "cell_type": "markdown",
   "id": "927db61c-3778-4a1f-9638-3574e843c415",
   "metadata": {},
   "source": [
    "You can access individual elements in a list using zero-based indexing:"
   ]
  },
  {
   "cell_type": "code",
   "execution_count": 98,
   "id": "6d5bcd87-92dc-427a-a23f-00e93bf784f9",
   "metadata": {},
   "outputs": [
    {
     "data": {
      "text/plain": [
       "'apple'"
      ]
     },
     "execution_count": 98,
     "metadata": {},
     "output_type": "execute_result"
    }
   ],
   "source": [
    "fruits = [\"apple\", \"banana\", \"orange\"]\n",
    "first_fruit = fruits[0]  # Accesses the first element (\"apple\")\n",
    "second_fruit = fruits[1]  # Accesses the second element (\"banana\")\n",
    "first_fruit\n"
   ]
  },
  {
   "cell_type": "markdown",
   "id": "b7c8e96e-a866-4306-81fe-c9944c5a2943",
   "metadata": {},
   "source": [
    "### Manipulating Lists:"
   ]
  },
  {
   "cell_type": "markdown",
   "id": "51fbd82c-5a22-49c4-99b3-8df79f093070",
   "metadata": {},
   "source": [
    "Lists are mutable, meaning you can change their content after creation:"
   ]
  },
  {
   "cell_type": "code",
   "execution_count": 104,
   "id": "e2b32d25-c127-4e48-86a0-f926ffbbb0fe",
   "metadata": {},
   "outputs": [
    {
     "data": {
      "text/plain": [
       "[1, 2, 10, 4, 5]"
      ]
     },
     "execution_count": 104,
     "metadata": {},
     "output_type": "execute_result"
    }
   ],
   "source": [
    "numbers = [1, 2, 3, 4, 5]\n",
    "numbers[2] = 10  # Change the third element to 10\n",
    "numbers\n"
   ]
  },
  {
   "cell_type": "markdown",
   "id": "2a032447-7293-43b1-9211-514261790962",
   "metadata": {},
   "source": [
    "### List Methods:\n",
    "Python provides various built-in methods to manipulate lists:\n",
    "\n",
    "#### `append(item)`: Add an item to the end of the list.\n",
    "#### `insert(index`, item): Insert an item at a specific index.\n",
    "#### `remove(item)`: Remove the first occurrence of a specific item.\n",
    "#### `pop(index)`: Remove and return an item at a specific index.\n",
    "#### `index(item)`: Find the index of the first occurrence of an item.\n",
    "#### `len(list)`: Get the number of elements in the list."
   ]
  },
  {
   "cell_type": "code",
   "execution_count": 103,
   "id": "80f43e56-b590-473a-9dad-b4f826513457",
   "metadata": {},
   "outputs": [
    {
     "data": {
      "text/plain": [
       "2"
      ]
     },
     "execution_count": 103,
     "metadata": {},
     "output_type": "execute_result"
    }
   ],
   "source": [
    "fruits = [\"apple\", \"banana\", \"orange\"]\n",
    "fruits.append(\"grape\")    # Adds \"grape\" to the end\n",
    "fruits.insert(1, \"kiwi\")  # Inserts \"kiwi\" at index 1\n",
    "fruits.remove(\"banana\")   # Removes \"banana\"\n",
    "orange_index = fruits.index(\"orange\")  # Finds the index of \"orange\"\n",
    "orange_index"
   ]
  },
  {
   "cell_type": "markdown",
   "id": "186e816b-19de-45ce-b634-885b62e04c57",
   "metadata": {},
   "source": [
    "### Slicing Lists:"
   ]
  },
  {
   "cell_type": "markdown",
   "id": "b19b0b6c-5ae7-45f1-9a50-96694f291a91",
   "metadata": {},
   "source": [
    "You can extract a portion of a list using slicing:"
   ]
  },
  {
   "cell_type": "code",
   "execution_count": 102,
   "id": "e407b47a-ae11-40fa-8ea6-5a4236af20ec",
   "metadata": {},
   "outputs": [
    {
     "data": {
      "text/plain": [
       "[2, 3, 4]"
      ]
     },
     "execution_count": 102,
     "metadata": {},
     "output_type": "execute_result"
    }
   ],
   "source": [
    "numbers = [1, 2, 3, 4, 5]\n",
    "subset = numbers[1:4]  # Returns [2, 3, 4]\n",
    "subset"
   ]
  },
  {
   "cell_type": "markdown",
   "id": "97a269c3-7a3b-461b-97c4-179528fa224d",
   "metadata": {},
   "source": [
    "### Iterating Over Lists:"
   ]
  },
  {
   "cell_type": "markdown",
   "id": "d1a23bcf-095e-4767-ba44-7e091ce9cc80",
   "metadata": {},
   "source": [
    "You can use loops to iterate over the elements in a list:"
   ]
  },
  {
   "cell_type": "code",
   "execution_count": 105,
   "id": "07e38bdd-06fe-4de5-b79a-5476a5cf182e",
   "metadata": {},
   "outputs": [
    {
     "name": "stdout",
     "output_type": "stream",
     "text": [
      "apple\n",
      "banana\n",
      "orange\n"
     ]
    }
   ],
   "source": [
    "fruits = [\"apple\", \"banana\", \"orange\"]\n",
    "for fruit in fruits:\n",
    "    print(fruit)\n"
   ]
  },
  {
   "cell_type": "markdown",
   "id": "0980b5dc-6b39-4d2f-9d8b-1144e93df1d5",
   "metadata": {},
   "source": [
    "## 3.3 Tuples"
   ]
  },
  {
   "cell_type": "markdown",
   "id": "bae3c250-b46a-4354-816e-6a84abdadf56",
   "metadata": {},
   "source": [
    "Tuples are similar to lists, but are immutable, which means that they cannot be changed once they are created. In this section, we will introduce you to tuples in Python, including how to create tuples, access elements in a tuple, and use tuple methods."
   ]
  },
  {
   "cell_type": "markdown",
   "id": "bbcac9ca-4259-4b8f-80a5-7e3dac696e01",
   "metadata": {},
   "source": [
    "### Creating Tuples:"
   ]
  },
  {
   "cell_type": "markdown",
   "id": "12dff8b5-c321-4491-885c-4c50167d2e3b",
   "metadata": {},
   "source": [
    "You can create a tuple by enclosing a comma-separated sequence of values within parentheses ()"
   ]
  },
  {
   "cell_type": "code",
   "execution_count": 107,
   "id": "be7d9031-9e06-4d1d-b10a-a5e879aaf4dd",
   "metadata": {},
   "outputs": [
    {
     "data": {
      "text/plain": [
       "(42, 'hello', True)"
      ]
     },
     "execution_count": 107,
     "metadata": {},
     "output_type": "execute_result"
    }
   ],
   "source": [
    "point = (3, 5)\n",
    "colors = (\"red\", \"green\", \"blue\")\n",
    "mixed_tuple = (42, \"hello\", True)\n",
    "mixed_tuple"
   ]
  },
  {
   "cell_type": "markdown",
   "id": "ce12360e-af3e-4524-93d5-f96e20e5d066",
   "metadata": {},
   "source": [
    "### Accessing Elements:"
   ]
  },
  {
   "cell_type": "markdown",
   "id": "1ba1d89b-ec77-41cc-8716-f4861cc77d7b",
   "metadata": {},
   "source": [
    "Similar to lists, you can access individual elements in a tuple using zero-based indexing:"
   ]
  },
  {
   "cell_type": "code",
   "execution_count": 108,
   "id": "31921cb6-64e0-46c7-8b3e-b0daad1d5387",
   "metadata": {},
   "outputs": [],
   "source": [
    "point = (3, 5)\n",
    "x_coordinate = point[0]  # Accesses the first element (3)\n",
    "y_coordinate = point[1]  # Accesses the second element (5)\n"
   ]
  },
  {
   "cell_type": "markdown",
   "id": "fe0d602c-ece5-44b8-b179-5184c4c6ddd2",
   "metadata": {},
   "source": [
    "### Tuple Methods:"
   ]
  },
  {
   "cell_type": "markdown",
   "id": "92e5544e-af4f-4497-9bdf-4a06958405c5",
   "metadata": {},
   "source": [
    "Tuples have fewer methods compared to lists, as they cannot be modified after creation. However, there are a couple of methods you can use:\n",
    "\n",
    "#### 'count(item)':\n",
    "Returns the number of occurrences of a specific item in the tuple.\n",
    "#### 'index(item)':\n",
    "Returns the index of the first occurrence of a specific item."
   ]
  },
  {
   "cell_type": "code",
   "execution_count": 109,
   "id": "67e88a10-7ab0-49ee-ac50-4f3bae86e7f2",
   "metadata": {},
   "outputs": [],
   "source": [
    "colors = (\"red\", \"green\", \"blue\", \"red\")\n",
    "red_count = colors.count(\"red\")  # Counts the occurrences of \"red\"\n",
    "green_index = colors.index(\"green\")  # Finds the index of \"green\"\n"
   ]
  },
  {
   "cell_type": "markdown",
   "id": "fbbaa497-47ea-475d-b4ac-bf1d712c8f72",
   "metadata": {},
   "source": [
    "### Tuple Unpacking:"
   ]
  },
  {
   "cell_type": "markdown",
   "id": "7f89b57b-3761-4588-ae99-e2911f07f050",
   "metadata": {},
   "source": [
    "You can assign the values of a tuple to multiple variables using tuple unpacking:"
   ]
  },
  {
   "cell_type": "code",
   "execution_count": 111,
   "id": "f104fad5-6499-416a-835e-b349199a1762",
   "metadata": {},
   "outputs": [
    {
     "name": "stdout",
     "output_type": "stream",
     "text": [
      "3 5\n"
     ]
    }
   ],
   "source": [
    "point = (3, 5)\n",
    "x, y = point  # Unpacks the tuple into x and y variables\n",
    "print(x, y)\n"
   ]
  },
  {
   "cell_type": "markdown",
   "id": "b9724509-4878-409f-a928-f9a90e11da43",
   "metadata": {},
   "source": [
    "### Advantages of Tuples:"
   ]
  },
  {
   "cell_type": "markdown",
   "id": "d9c56dd4-ba09-4a2b-9ee6-a518b18f1338",
   "metadata": {},
   "source": [
    "### Immutability:\n",
    "Tuples can't be modified after creation, making them suitable for representing data that should remain constant.\n",
    "\n",
    "### Hashable:\n",
    "Tuples are hashable and can be used as keys in dictionaries or elements in sets, unlike lists.\n",
    "\n",
    "### Performance:\n",
    "Due to their immutability, tuples can be more memory-efficient and performant in certain scenarios.\n",
    "\n",
    "### Use Cases:\n",
    "Tuples are often used when you want to group related data together, especially when the order of the elements matters. For example, you might use a tuple to represent the coordinates of a point or a pair of values that need to remain associated."
   ]
  },
  {
   "cell_type": "markdown",
   "id": "b8f3bcb4-d485-45df-b2d5-d5723ddebec4",
   "metadata": {},
   "source": [
    "##  3.4 Dictionaries"
   ]
  },
  {
   "cell_type": "markdown",
   "id": "f51665fe-02e1-4d54-9fb0-73c9e95e889e",
   "metadata": {},
   "source": [
    "Dictionaries are another commonly used data structure in Python. A dictionary is a collection of key-value pairs, where each key corresponds to a value. In this section, we will introduce you to dictionaries in Python, including how to create dictionaries, access elements in a dictionary, manipulate elements in a dictionary, and use dictionary methods"
   ]
  },
  {
   "cell_type": "markdown",
   "id": "ab784540-0e72-4b06-9c6e-de55ba1307d9",
   "metadata": {},
   "source": [
    "### Creating Dictionaries:"
   ]
  },
  {
   "cell_type": "markdown",
   "id": "4ad29ca1-dadf-47e2-9673-4822fc8e4085",
   "metadata": {},
   "source": [
    "You can create a dictionary by enclosing comma-separated key-value pairs within curly braces {}:"
   ]
  },
  {
   "cell_type": "code",
   "execution_count": 112,
   "id": "5209d866-da2b-4bb7-9e91-013231980e9c",
   "metadata": {},
   "outputs": [
    {
     "data": {
      "text/plain": [
       "{'name': 'Alice', 'age': 25, 'is_student': True}"
      ]
     },
     "execution_count": 112,
     "metadata": {},
     "output_type": "execute_result"
    }
   ],
   "source": [
    "student = {\n",
    "    \"name\": \"Alice\",\n",
    "    \"age\": 25,\n",
    "    \"is_student\": True\n",
    "}\n",
    "student"
   ]
  },
  {
   "cell_type": "markdown",
   "id": "32d22bb5-6c35-4451-b8f4-7ac0424a752b",
   "metadata": {},
   "source": [
    "### Accessing Elements:"
   ]
  },
  {
   "cell_type": "markdown",
   "id": "813bbfe1-13ae-4e93-9165-f3fb241541b0",
   "metadata": {},
   "source": [
    "You can access the value associated with a specific key in a dictionary using the key"
   ]
  },
  {
   "cell_type": "code",
   "execution_count": 121,
   "id": "0f1facac-73c5-47bb-bbc1-2be9f9fc0379",
   "metadata": {},
   "outputs": [
    {
     "data": {
      "text/plain": [
       "'Alice'"
      ]
     },
     "execution_count": 121,
     "metadata": {},
     "output_type": "execute_result"
    }
   ],
   "source": [
    "student = {\n",
    "    \"name\": \"Alice\",\n",
    "    \"age\": 25,\n",
    "    \"is_student\": True\n",
    "}\n",
    "student_name = student[\"name\"]  # Accesses the value associated with the key \"name\"\n",
    "student_name"
   ]
  },
  {
   "cell_type": "markdown",
   "id": "3a5f528c-9208-4908-a192-3744d9e0127e",
   "metadata": {},
   "source": [
    "### Manipulating Dictionaries:"
   ]
  },
  {
   "cell_type": "markdown",
   "id": "b3c406f1-e501-47cc-8be3-42674b4946a4",
   "metadata": {},
   "source": [
    "Dictionaries are mutable, so you can add, modify, or remove key-value pairs:"
   ]
  },
  {
   "cell_type": "code",
   "execution_count": 122,
   "id": "3dcfb894-e9ff-43c8-ab47-874045768918",
   "metadata": {},
   "outputs": [
    {
     "data": {
      "text/plain": [
       "{'name': 'Alice', 'age': 26, 'grade': 'A'}"
      ]
     },
     "execution_count": 122,
     "metadata": {},
     "output_type": "execute_result"
    }
   ],
   "source": [
    "student = {\n",
    "    \"name\": \"Alice\",\n",
    "    \"age\": 25,\n",
    "    \"is_student\": True\n",
    "}\n",
    "student[\"age\"] = 26  # Modifies the value associated with the key \"age\"\n",
    "student[\"grade\"] = \"A\"  # Adds a new key-value pair\n",
    "del student[\"is_student\"]  # Removes the key-value pair with the key \"is_student\"\n",
    "student"
   ]
  },
  {
   "cell_type": "markdown",
   "id": "8cba9958-a32b-4eb6-9876-9429aed0e731",
   "metadata": {},
   "source": [
    "### Dictionary Methods:"
   ]
  },
  {
   "cell_type": "markdown",
   "id": "1a774a01-9859-485d-800f-845688d09f96",
   "metadata": {},
   "source": [
    "Dictionaries provide several built-in methods for manipulation:\n",
    "\n",
    "#### `keys()`:\n",
    "Returns a list of all keys in the dictionary.\n",
    "#### `values()`:\n",
    "Returns a list of all values in the dictionary.\n",
    "#### `items()`:\n",
    "Returns a list of key-value pairs as tuples."
   ]
  },
  {
   "cell_type": "code",
   "execution_count": 134,
   "id": "d36ac5e1-f046-4692-8681-1ed0eb5960a2",
   "metadata": {},
   "outputs": [
    {
     "name": "stdout",
     "output_type": "stream",
     "text": [
      "dict_keys(['name', 'age', 'is_student'])\n",
      "dict_values(['Alice', 25, True])\n",
      "dict_items([('name', 'Alice'), ('age', 25), ('is_student', True)])\n"
     ]
    }
   ],
   "source": [
    "student = {\n",
    "    \"name\": \"Alice\",\n",
    "    \"age\": 25,\n",
    "    \"is_student\": True\n",
    "}\n",
    "keys_list = student.keys()  # Gets a list of keys\n",
    "values_list = student.values()  # Gets a list of values\n",
    "items_list = student.items()  # Gets a list of key-value pairs\n",
    "print(keys_list)\n",
    "print(values_list)\n",
    "print(items_list)\n"
   ]
  },
  {
   "cell_type": "markdown",
   "id": "580872a4-bd16-4766-b604-ec9df70ea527",
   "metadata": {},
   "source": [
    "### Iterating Over Dictionaries:"
   ]
  },
  {
   "cell_type": "markdown",
   "id": "1bf79617-c92b-4bc1-ad71-d98714e9bd62",
   "metadata": {},
   "source": [
    "You can iterate over the keys, values, or items (key-value pairs) of a dictionary using loops:"
   ]
  },
  {
   "cell_type": "code",
   "execution_count": 135,
   "id": "ed21624d-f7aa-4dc8-b1c3-381f6001fb69",
   "metadata": {},
   "outputs": [
    {
     "name": "stdout",
     "output_type": "stream",
     "text": [
      "name Alice\n",
      "age 25\n",
      "is_student True\n",
      "Alice\n",
      "25\n",
      "True\n",
      "name Alice\n",
      "age 25\n",
      "is_student True\n"
     ]
    }
   ],
   "source": [
    "student = {\n",
    "    \"name\": \"Alice\",\n",
    "    \"age\": 25,\n",
    "    \"is_student\": True\n",
    "}\n",
    "for key in student:\n",
    "    print(key, student[key])\n",
    "\n",
    "for value in student.values():\n",
    "    print(value)\n",
    "\n",
    "for key, value in student.items():\n",
    "    print(key, value)\n"
   ]
  },
  {
   "cell_type": "markdown",
   "id": "d936e7bb-5573-4f03-928e-db94c40bdc9b",
   "metadata": {},
   "source": [
    "### Advantages of Dictionaries:"
   ]
  },
  {
   "cell_type": "markdown",
   "id": "3e41218e-d782-4b1b-8968-e21b73af504e",
   "metadata": {},
   "source": [
    "`Fast Lookups:` Dictionaries provide fast and efficient access to values based on their keys.\n",
    "\n",
    "`Flexibility:` Dictionaries can store data of various types, including lists, other dictionaries, or even functions.\n",
    "\n",
    "`Key-Value Association:` Dictionaries are ideal for scenarios where data needs to be associated with specific keys.\n",
    "\n",
    "`Use Cases:`\n",
    "Dictionaries are commonly used for tasks like storing configuration settings, building databases, and managing data where quick lookups by a unique identifier (key) are required."
   ]
  },
  {
   "cell_type": "markdown",
   "id": "831371c1-fa24-427c-9df2-916645f4eab2",
   "metadata": {},
   "source": [
    "## 3.5 Strings"
   ]
  },
  {
   "cell_type": "markdown",
   "id": "027bb1fc-c9e1-4e10-b67f-84982d27bf22",
   "metadata": {},
   "source": [
    "Strings are a type of data that represents a sequence of characters. In Python, strings are treated as a data structure, and can be manipulated in various ways. In this section, we will introduce you to strings in Python, including how to create strings, access characters in a string, manipulate characters in a string, and use string methods."
   ]
  },
  {
   "cell_type": "markdown",
   "id": "bd3e48b7-05e6-4b0d-9610-5717e1c37c2b",
   "metadata": {},
   "source": [
    "### Creating Strings:"
   ]
  },
  {
   "cell_type": "markdown",
   "id": "2c316fcc-2433-4d37-b7a5-2ff5bf93b8e2",
   "metadata": {},
   "source": [
    "You can create strings using ` single  (' '), double (\" \"), or triple (''' ''' or \"\"\" \"\"\")` quotes:"
   ]
  },
  {
   "cell_type": "code",
   "execution_count": 142,
   "id": "0266b40f-a232-43da-9d29-a28d8502cce9",
   "metadata": {},
   "outputs": [
    {
     "name": "stdout",
     "output_type": "stream",
     "text": [
      "Hello, World!\n",
      "Python Programming\n",
      "This is a multi-line\n",
      "string using triple quotes.\n"
     ]
    }
   ],
   "source": [
    "single_quoted = 'Hello, World!'\n",
    "double_quoted = \"Python Programming\"\n",
    "triple_quoted = '''This is a multi-line\n",
    "string using triple quotes.'''\n",
    "\n",
    "print(single_quoted)\n",
    "print(double_quoted)\n",
    "print(triple_quoted)\n"
   ]
  },
  {
   "cell_type": "markdown",
   "id": "11c8f6be-19f5-44d6-8e74-b2e38cf12e2c",
   "metadata": {},
   "source": [
    "### Accessing Characters:"
   ]
  },
  {
   "cell_type": "markdown",
   "id": "c796de4d-ca18-4602-a499-ef6ab2d5d5b7",
   "metadata": {},
   "source": [
    "Strings are sequences, and you can access individual characters using zero-based indexing:"
   ]
  },
  {
   "cell_type": "code",
   "execution_count": 143,
   "id": "2eed197c-ec8a-4e6d-a182-6e5098b10f0e",
   "metadata": {},
   "outputs": [
    {
     "name": "stdout",
     "output_type": "stream",
     "text": [
      "H\n",
      "e\n"
     ]
    }
   ],
   "source": [
    "text = \"Hello\"\n",
    "first_char = text[0]  # Accesses the first character ('H')\n",
    "second_char = text[1]  # Accesses the second character ('e')\n",
    "print(first_char)\n",
    "print(second_char)"
   ]
  },
  {
   "cell_type": "markdown",
   "id": "67be7d37-8fd8-4e0e-a3e1-5b4b3b0c7aa6",
   "metadata": {},
   "source": [
    "### String Concatenation:"
   ]
  },
  {
   "cell_type": "markdown",
   "id": "2b482e00-4ad2-491b-8f6b-96923db4b891",
   "metadata": {},
   "source": [
    "You can concatenate (combine) strings using the + operator:"
   ]
  },
  {
   "cell_type": "code",
   "execution_count": 144,
   "id": "3b981942-3b45-48b3-b8d1-0ec4d9bb43c2",
   "metadata": {},
   "outputs": [
    {
     "data": {
      "text/plain": [
       "'Hello, Alice'"
      ]
     },
     "execution_count": 144,
     "metadata": {},
     "output_type": "execute_result"
    }
   ],
   "source": [
    "greeting = \"Hello\"\n",
    "name = \"Alice\"\n",
    "message = greeting + \", \" + name  # Results in \"Hello, Alice\"\n",
    "message"
   ]
  },
  {
   "cell_type": "markdown",
   "id": "c6df18c4-d1bb-4e42-8b44-995d239af7b9",
   "metadata": {},
   "source": [
    "### String Methods:"
   ]
  },
  {
   "cell_type": "markdown",
   "id": "16d698ee-5b89-4adb-8b27-58417c4d5404",
   "metadata": {},
   "source": [
    "Strings provide a wide range of built-in methods for manipulation and transformation:"
   ]
  },
  {
   "cell_type": "markdown",
   "id": "15797c56-e3a7-4a37-bdfe-8ec466c0e486",
   "metadata": {},
   "source": [
    "`upper()`: Converts the string to uppercase."
   ]
  },
  {
   "cell_type": "code",
   "execution_count": 146,
   "id": "49e42969-2a33-4041-ad23-42c952713d4a",
   "metadata": {},
   "outputs": [
    {
     "data": {
      "text/plain": [
       "'   PYTHON PROGRAMMING   '"
      ]
     },
     "execution_count": 146,
     "metadata": {},
     "output_type": "execute_result"
    }
   ],
   "source": [
    "text = \"   Python Programming   \"\n",
    "upper_text = text.upper()  # Converts to uppercase\n",
    "upper_text"
   ]
  },
  {
   "cell_type": "markdown",
   "id": "c1410c1f-2c58-49fa-82a6-e2df17df1579",
   "metadata": {},
   "source": [
    "`lower()`: Converts the string to lowercase.\n"
   ]
  },
  {
   "cell_type": "code",
   "execution_count": 147,
   "id": "022abfb0-c0bc-494d-8657-db2828fd6448",
   "metadata": {},
   "outputs": [
    {
     "data": {
      "text/plain": [
       "'   python programming   '"
      ]
     },
     "execution_count": 147,
     "metadata": {},
     "output_type": "execute_result"
    }
   ],
   "source": [
    "lower_text = text.lower()  # Converts to lowercase\n",
    "lower_text"
   ]
  },
  {
   "cell_type": "markdown",
   "id": "f71e4e1f-55c5-488d-97b3-539db35e9a60",
   "metadata": {},
   "source": [
    "`strip()`: Removes leading and trailing whitespace."
   ]
  },
  {
   "cell_type": "code",
   "execution_count": 148,
   "id": "0491cd53-f768-4c67-b4f7-9302e92b8501",
   "metadata": {},
   "outputs": [
    {
     "data": {
      "text/plain": [
       "'Python Programming'"
      ]
     },
     "execution_count": 148,
     "metadata": {},
     "output_type": "execute_result"
    }
   ],
   "source": [
    "stripped_text = text.strip()  # Removes leading and trailing whitespace\n",
    "stripped_text"
   ]
  },
  {
   "cell_type": "markdown",
   "id": "b2518e14-93e1-42ae-904a-685c7d921fc4",
   "metadata": {},
   "source": [
    "`replace(old, new)`: Replaces occurrences of a substring."
   ]
  },
  {
   "cell_type": "code",
   "execution_count": 149,
   "id": "84dbd745-8ac2-4157-b607-b1f06ee8b879",
   "metadata": {},
   "outputs": [
    {
     "data": {
      "text/plain": [
       "'   Python Language   '"
      ]
     },
     "execution_count": 149,
     "metadata": {},
     "output_type": "execute_result"
    }
   ],
   "source": [
    "replaced_text = text.replace(\"Programming\", \"Language\")  # Replaces \"Programming\" with \"Language\"\n",
    "replaced_text"
   ]
  },
  {
   "cell_type": "markdown",
   "id": "57aecf4c-da93-41cb-9889-c68cd7a362f0",
   "metadata": {},
   "source": [
    "`split(separator)`: Splits the string into a list based on the separator"
   ]
  },
  {
   "cell_type": "code",
   "execution_count": 150,
   "id": "eb33d64c-76c9-4dbb-b76a-bb6830a69db5",
   "metadata": {},
   "outputs": [
    {
     "data": {
      "text/plain": [
       "['Python', 'Programming']"
      ]
     },
     "execution_count": 150,
     "metadata": {},
     "output_type": "execute_result"
    }
   ],
   "source": [
    "words = text.split()  # Splits the string into a list of words\n",
    "words"
   ]
  },
  {
   "cell_type": "markdown",
   "id": "49e7f004-80fc-4070-a4e7-3896299cb8bb",
   "metadata": {},
   "source": [
    "### String Formatting:"
   ]
  },
  {
   "cell_type": "markdown",
   "id": "db016e5f-5628-4cbb-880a-e5af47560ac9",
   "metadata": {},
   "source": [
    "You can format strings using placeholders or f-strings:"
   ]
  },
  {
   "cell_type": "code",
   "execution_count": 151,
   "id": "5de62374-5b45-4b97-98a1-60668b6b2587",
   "metadata": {},
   "outputs": [
    {
     "name": "stdout",
     "output_type": "stream",
     "text": [
      "My name is Alice and I am 30 years old.\n",
      "My name is Alice and I am 30 years old.\n"
     ]
    }
   ],
   "source": [
    "name = \"Alice\"\n",
    "age = 30\n",
    "formatted_string = \"My name is {} and I am {} years old.\".format(name, age)\n",
    "f_string = f\"My name is {name} and I am {age} years old.\"\n",
    "print(formatted_string)\n",
    "print(f_string)\n",
    "\n"
   ]
  },
  {
   "cell_type": "markdown",
   "id": "140685ad-f14f-485f-8f8c-cbce6c80b5ae",
   "metadata": {},
   "source": [
    "### String Length:"
   ]
  },
  {
   "cell_type": "markdown",
   "id": "7660c96d-9b0b-4ff5-8b4f-2772109e50bc",
   "metadata": {},
   "source": [
    "You can get the length of a string using the `len()` function:"
   ]
  },
  {
   "cell_type": "code",
   "execution_count": 152,
   "id": "223bb093-704b-4f33-a490-1dbd7b95aed6",
   "metadata": {},
   "outputs": [
    {
     "data": {
      "text/plain": [
       "13"
      ]
     },
     "execution_count": 152,
     "metadata": {},
     "output_type": "execute_result"
    }
   ],
   "source": [
    "text = \"Hello, World!\"\n",
    "length = len(text)  # Returns the length of the string (13)\n",
    "length\n"
   ]
  },
  {
   "cell_type": "markdown",
   "id": "f2c795c4-dfc1-4667-8b98-484d3a6a6f75",
   "metadata": {},
   "source": [
    "### Indexing and Slicing:"
   ]
  },
  {
   "cell_type": "markdown",
   "id": "220f5b87-6e74-4126-b565-7c07818b1449",
   "metadata": {},
   "source": [
    "You can use indexing and slicing to extract substrings from a string:"
   ]
  },
  {
   "cell_type": "code",
   "execution_count": 154,
   "id": "89162367-c8e0-40e9-85a0-ee616d1aaccb",
   "metadata": {},
   "outputs": [
    {
     "data": {
      "text/plain": [
       "'Programming'"
      ]
     },
     "execution_count": 154,
     "metadata": {},
     "output_type": "execute_result"
    }
   ],
   "source": [
    "text = \"Python Programming\"\n",
    "substring = text[7:18]  # Extracts \"Programming\"\n",
    "substring"
   ]
  },
  {
   "cell_type": "markdown",
   "id": "c2bd56b4-bcb4-4fbc-b38a-7e2ca9c0ad65",
   "metadata": {},
   "source": [
    "### Escape Characters:"
   ]
  },
  {
   "cell_type": "markdown",
   "id": "498cf07a-e5a7-4152-b82b-e485a9a6d6e8",
   "metadata": {},
   "source": [
    "Escape characters like `\\n` (newline) and `\\t` (tab) can be used `in` strings:"
   ]
  },
  {
   "cell_type": "code",
   "execution_count": 164,
   "id": "1a6740da-e723-41c0-b2fc-c31f9cdd26a8",
   "metadata": {},
   "outputs": [
    {
     "name": "stdout",
     "output_type": "stream",
     "text": [
      "Hello,\n",
      " \tPython\n"
     ]
    }
   ],
   "source": [
    "message ='Hello,\\n \\tPython'\n",
    "print(message)\n"
   ]
  },
  {
   "cell_type": "markdown",
   "id": "6826f59c-795e-472e-8f9a-e05bd6c26aec",
   "metadata": {},
   "source": [
    "## 3.6 File I/O with Data Structures"
   ]
  },
  {
   "cell_type": "markdown",
   "id": "6cb442b4-f04c-4fc4-9d79-6fc374eefd15",
   "metadata": {},
   "source": [
    "In Chapter 2, we showed you how to read and write files in Python. In this section, we will show you how to read and write data structures to files in Python, including how to read and write lists, tuples, dictionaries, and JSON data\n",
    "\n"
   ]
  },
  {
   "cell_type": "markdown",
   "id": "03c8b159-058d-4a06-b88e-2fa15458e746",
   "metadata": {},
   "source": [
    "### Reading and Writing Lists:"
   ]
  },
  {
   "cell_type": "markdown",
   "id": "25d1e1f5-6926-4d22-8cf4-7b797e59d333",
   "metadata": {},
   "source": [
    "You can use the pickle module for reading and writing Python objects, such as lists, to binary files:"
   ]
  },
  {
   "cell_type": "code",
   "execution_count": 166,
   "id": "2a40a598-bb3d-401a-a23b-447b0ab561d1",
   "metadata": {},
   "outputs": [],
   "source": [
    "import pickle\n",
    "\n",
    "# Writing a list to a binary file\n",
    "data_list = [1, 2, 3, 4, 5]\n",
    "with open(\"data_list.pkl\", \"wb\") as file:\n",
    "    pickle.dump(data_list, file)\n",
    "\n",
    "# Reading the list from the binary file\n",
    "with open(\"data_list.pkl\", \"rb\") as file:\n",
    "    loaded_list = pickle.load(file)\n"
   ]
  },
  {
   "cell_type": "markdown",
   "id": "ce89e1a7-eab2-467d-aa99-f74734f6f476",
   "metadata": {},
   "source": [
    "### Reading and Writing Tuples:"
   ]
  },
  {
   "cell_type": "markdown",
   "id": "1643cec0-4754-4cbf-a704-341737257b61",
   "metadata": {},
   "source": [
    "Tuples can also be read and written using the pickle module:"
   ]
  },
  {
   "cell_type": "code",
   "execution_count": 167,
   "id": "5792f34a-c6db-4d74-acbd-0fa36d35a6e3",
   "metadata": {},
   "outputs": [],
   "source": [
    "import pickle\n",
    "\n",
    "# Writing a tuple to a binary file\n",
    "data_tuple = (42, \"hello\", True)\n",
    "with open(\"data_tuple.pkl\", \"wb\") as file:\n",
    "    pickle.dump(data_tuple, file)\n",
    "\n",
    "# Reading the tuple from the binary file\n",
    "with open(\"data_tuple.pkl\", \"rb\") as file:\n",
    "    loaded_tuple = pickle.load(file)\n"
   ]
  },
  {
   "cell_type": "markdown",
   "id": "436d0553-058d-4ad6-8e05-b2bc96a93318",
   "metadata": {},
   "source": [
    "### Reading and Writing Dictionaries:"
   ]
  },
  {
   "cell_type": "markdown",
   "id": "c2f7919f-b345-4e5f-bb11-c0e4853d29bd",
   "metadata": {},
   "source": [
    "The pickle module can also be used for dictionaries:"
   ]
  },
  {
   "cell_type": "code",
   "execution_count": 168,
   "id": "24d9dc2a-43d3-4659-a914-4899c5d1b9c0",
   "metadata": {},
   "outputs": [],
   "source": [
    "import pickle\n",
    "\n",
    "# Writing a dictionary to a binary file\n",
    "data_dict = {\"name\": \"Alice\", \"age\": 30}\n",
    "with open(\"data_dict.pkl\", \"wb\") as file:\n",
    "    pickle.dump(data_dict, file)\n",
    "\n",
    "# Reading the dictionary from the binary file\n",
    "with open(\"data_dict.pkl\", \"rb\") as file:\n",
    "    loaded_dict = pickle.load(file)\n"
   ]
  },
  {
   "cell_type": "markdown",
   "id": "5bc75970-20a0-4478-b136-5b266ba36b94",
   "metadata": {},
   "source": [
    "### Reading and Writing JSON Data:"
   ]
  },
  {
   "cell_type": "markdown",
   "id": "1ad3f8fa-69fa-48ed-a55e-ece8a580aae1",
   "metadata": {},
   "source": [
    "JSON is a common format for data interchange and storage. Python's built-in json module makes working with JSON data easy:"
   ]
  },
  {
   "cell_type": "code",
   "execution_count": 169,
   "id": "43426e59-4298-4ba0-b2ac-4dc551cb9593",
   "metadata": {},
   "outputs": [],
   "source": [
    "import json\n",
    "\n",
    "# Writing JSON data to a file\n",
    "data = {\"name\": \"Alice\", \"age\": 30}\n",
    "with open(\"data.json\", \"w\") as file:\n",
    "    json.dump(data, file)\n",
    "\n",
    "# Reading JSON data from a file\n",
    "with open(\"data.json\", \"r\") as file:\n",
    "    loaded_data = json.load(file)\n"
   ]
  },
  {
   "cell_type": "markdown",
   "id": "ba15b296-ec64-4a24-bf2c-17fd6ec19e50",
   "metadata": {},
   "source": [
    "### 3.7 Conclusion"
   ]
  },
  {
   "cell_type": "markdown",
   "id": "6437174b-b9a8-436e-a7b9-9eaaa7bd144c",
   "metadata": {},
   "source": [
    "By the end of this chapter, you should have a solid understanding of data structures in Python, including lists, tuples, dictionaries, and strings. You should also be able to read and write data structures to files in Python. In the next chapter, we will continue to build on these concepts and introduce you to some more advanced programming topics"
   ]
  },
  {
   "cell_type": "markdown",
   "id": "b64bfe08-9c6a-4236-bd6c-cceee8da8004",
   "metadata": {},
   "source": [
    "Recapping the key takeaways from this chapter:\n",
    "\n",
    "`Lists:` Lists are versatile collections of items that can be modified. They allow you to store and manipulate data of various types.\n",
    "\n",
    "`Tuples:` Tuples are similar to lists but are immutable. They provide a way to group data that shouldn't change after creation.\n",
    "\n",
    "`Dictionaries:` Dictionaries are key-value pairs that offer efficient lookups and data association. They are ideal for storing and accessing data based on unique identifiers (keys).\n",
    "\n",
    "`Strings:` Strings represent sequences of characters and are fundamental for working with textual data. They provide various methods for manipulation and formatting.\n",
    "\n",
    "File I/O with Data Structures:` You've learned how to read and write lists, tuples, dictionaries, and JSON data to files, ensuring the persistence of complex data between program executions."
   ]
  },
  {
   "cell_type": "markdown",
   "id": "df633531-ac4f-4d0a-a526-0ff8c7899c64",
   "metadata": {},
   "source": [
    "# Chapter 4: Object-Oriented Programming (OOP) in Python"
   ]
  },
  {
   "cell_type": "markdown",
   "id": "afd63a0f-e51e-4f33-9acc-c1f42a23af92",
   "metadata": {},
   "source": [
    "In Chapters 1-3, we introduced you to some of the basic programming concepts and data structures in Python. In this chapter, we will introduce you to object-oriented programming (OOP) in Python, which is a programming paradigm that emphasizes the use of objects and classes to model real-world entities and their interactions."
   ]
  },
  {
   "cell_type": "markdown",
   "id": "2b1e08db-a049-4223-ae98-281783e39bde",
   "metadata": {},
   "source": [
    "## 4.1 Recap of Chapters 1-3"
   ]
  },
  {
   "cell_type": "markdown",
   "id": "e1673ba2-db07-41c8-a412-583a7b821c3c",
   "metadata": {},
   "source": [
    "<strong>Chapter 1</strong>: Introduction to Python\n",
    "\n",
    "<strong>Python as a Programming Language: </strong> Python is a versatile and readable programming language known for its simplicity and ease of use.\n",
    "\n",
    "<strong>Installation and Setup:</strong> You've learned how to install Python and set up your development environment.\n",
    "\n",
    "<strong>Basic Syntax and Output:</strong> You've explored Python's basic syntax and how to use the print() function to display output.\n",
    "\n",
    "<strong>Chapter 2:</strong> Programming Basics\n",
    "\n",
    "<strong>Variables and Data Types:<strong> You learned how to declare variables and understand basic data types like integers, floats, strings, and booleans.\n",
    "\n",
    "<strong>Operators:</strong> You explored various operators for arithmetic, comparison, and logical operations.\n",
    "\n",
    "<strong>Control Flow:</strong> You gained knowledge of if-else statements and loops (for and while) for controlling the flow of your program.\n",
    "\n",
    "<strong>Functions:</strong> You learned how to define and use functions for modular and reusable code.\n",
    "\n",
    "<strong>File I/O:</strong> You understood how to read from and write to files using Python's built-in functions.\n",
    "\n",
    "<strong>Working with JSON and CSV Data:</strong>> You learned about interacting with JSON and CSV formats for data storage and exchange.\n",
    "\n",
    "<strong>Chapter 3: Data Structures</strong>\n",
    "\n",
    "<strong>Lists:</strong> You explored creating, accessing, and manipulating lists, which are collections of values.\n",
    "\n",
    "<strong>Tuples:</strong> You understood the concept of immutable tuples and their usage.\n",
    "\n",
    "<strong>Dictionaries:</strong> You learned about dictionaries for storing key-value pairs and efficient data retrieval.\n",
    "\n",
    "<strong>Strings:</strong> You gained insights into string creation, manipulation, and formatting.\n",
    "\n",
    "<strong>File I/O with Data Structures:</strong> You saw how to read and write various data structures (lists, tuples, dictionaries) to files, including JSON data."
   ]
  },
  {
   "cell_type": "markdown",
   "id": "b5b9e815-db68-4a9b-9b67-e60b9e1f8126",
   "metadata": {},
   "source": [
    "## 4.2 Objects and Classes"
   ]
  },
  {
   "cell_type": "markdown",
   "id": "63447d7e-c475-44c6-871f-541961668a13",
   "metadata": {},
   "source": [
    "In OOP, an object is an instance of a class, which is a blueprint that defines the attributes and methods of a set of related objects. In this section, we will introduce you to objects and classes in Python, including how to define classes, create objects, access attributes and methods of objects, and use inheritance to create sub-classes"
   ]
  },
  {
   "cell_type": "markdown",
   "id": "1374d86a-a93b-4100-b69b-373667839e8a",
   "metadata": {},
   "source": [
    "### Defining a Class:"
   ]
  },
  {
   "cell_type": "markdown",
   "id": "073d5114-d36a-4a2d-9fbf-ea1d3d06952c",
   "metadata": {},
   "source": [
    "A class is defined using the class keyword. It encapsulates attributes (variables) and methods (functions) that operate on those attributes:"
   ]
  },
  {
   "cell_type": "code",
   "execution_count": 178,
   "id": "afeb99ac-0b5b-41a8-908d-183ac5c36013",
   "metadata": {},
   "outputs": [],
   "source": [
    "class Dog:\n",
    "    def __init__(self, name, age):\n",
    "        self.name = name\n",
    "        self.age = age\n",
    "    \n",
    "    def bark(self):\n",
    "        print(f\"{self.name} barks!\")\n"
   ]
  },
  {
   "cell_type": "markdown",
   "id": "a0b89a5e-0140-43fb-ada5-6db2a7dac9f7",
   "metadata": {},
   "source": [
    "### Creating Objects:"
   ]
  },
  {
   "cell_type": "markdown",
   "id": "c83ebe91-4922-4ebc-b539-62fb18de0492",
   "metadata": {},
   "source": [
    "An object is an instance of a class. You create an object by calling the class constructor:"
   ]
  },
  {
   "cell_type": "code",
   "execution_count": 171,
   "id": "faad00b2-b72a-474c-b52a-1084da487a38",
   "metadata": {},
   "outputs": [],
   "source": [
    "dog1 = Dog(\"Buddy\", 3)\n",
    "dog2 = Dog(\"Max\", 5)\n"
   ]
  },
  {
   "cell_type": "markdown",
   "id": "938659f7-ba7a-408a-aeb2-ab18f6e73eb0",
   "metadata": {},
   "source": [
    "### Accessing Attributes and Methods:"
   ]
  },
  {
   "cell_type": "markdown",
   "id": "79aa6184-acc8-433e-9629-15e429efd2de",
   "metadata": {},
   "source": [
    "You can access an object's attributes and methods using dot notation:"
   ]
  },
  {
   "cell_type": "code",
   "execution_count": 172,
   "id": "693dcd3f-af90-47af-ae46-5da955a5ca09",
   "metadata": {},
   "outputs": [
    {
     "name": "stdout",
     "output_type": "stream",
     "text": [
      "Buddy\n",
      "Max barks!\n"
     ]
    }
   ],
   "source": [
    "print(dog1.name)  # Accesses the 'name' attribute of dog1\n",
    "dog2.bark()      # Calls the 'bark' method of dog2\n"
   ]
  },
  {
   "cell_type": "markdown",
   "id": "10a6664c-6f2c-47ca-b2a2-8ea0071daefe",
   "metadata": {},
   "source": [
    "### Constructor (__init__ method):"
   ]
  },
  {
   "cell_type": "markdown",
   "id": "4f51762e-2a32-4f37-8bf9-93aec5419b30",
   "metadata": {},
   "source": [
    "The ` __init__ ` method is a special method that is called when an object is created. It initializes the object's attributes:"
   ]
  },
  {
   "cell_type": "code",
   "execution_count": 174,
   "id": "c0778099-3fa7-4dc9-b224-242598cd5b74",
   "metadata": {},
   "outputs": [],
   "source": [
    "class Car:\n",
    "    def __init__(self, make, model):\n",
    "        self.make = make\n",
    "        self.model = model\n",
    "\n",
    "my_car = Car(\"Toyota\", \"Camry\")\n"
   ]
  },
  {
   "cell_type": "markdown",
   "id": "b86bf3a3-b6ad-4a70-8dfc-100c50d8b990",
   "metadata": {},
   "source": [
    "### Inheritance and Sub-classes:"
   ]
  },
  {
   "cell_type": "markdown",
   "id": "2fd9589b-6901-48c3-88f9-28ec079f3ea5",
   "metadata": {},
   "source": [
    "Inheritance allows you to create a new class that inherits attributes and methods from an existing class (superclass). The new class is called a sub-class or derived class:"
   ]
  },
  {
   "cell_type": "code",
   "execution_count": 175,
   "id": "8de8a865-4780-4736-a19d-5121f40f2b33",
   "metadata": {},
   "outputs": [],
   "source": [
    "class ElectricCar(Car):\n",
    "    def __init__(self, make, model, battery_capacity):\n",
    "        super().__init__(make, model)  # Call the constructor of the superclass\n",
    "        self.battery_capacity = battery_capacity\n",
    "    \n",
    "    def charge(self):\n",
    "        print(f\"{self.make} {self.model} is charging.\")\n"
   ]
  },
  {
   "cell_type": "markdown",
   "id": "a8910586-b90d-4303-8a3a-721a226b9704",
   "metadata": {},
   "source": [
    "### Method Overriding:"
   ]
  },
  {
   "cell_type": "markdown",
   "id": "1eeeff4c-dcd1-4d44-ad61-99fa8c9b8589",
   "metadata": {},
   "source": [
    "Sub-classes can override methods of the superclass to customize their behavior:"
   ]
  },
  {
   "cell_type": "code",
   "execution_count": 176,
   "id": "a91ef8c7-d7e9-4dab-b5f0-03e3434002ce",
   "metadata": {},
   "outputs": [],
   "source": [
    "class HybridCar(Car):\n",
    "    def __init__(self, make, model, battery_capacity, fuel_efficiency):\n",
    "        super().__init__(make, model)\n",
    "        self.battery_capacity = battery_capacity\n",
    "        self.fuel_efficiency = fuel_efficiency\n",
    "    \n",
    "    def display_info(self):\n",
    "        print(f\"{self.make} {self.model} (Hybrid)\")\n"
   ]
  },
  {
   "cell_type": "markdown",
   "id": "9ddce57b-19ef-4f87-8860-b48d8eea699e",
   "metadata": {},
   "source": [
    "## 4.3 Encapsulation, Abstraction, and Polymorphism"
   ]
  },
  {
   "cell_type": "markdown",
   "id": "8f561990-5034-4d0f-a0a8-cc225572354d",
   "metadata": {},
   "source": [
    "Encapsulation, abstraction, and polymorphism are three important concepts in OOP. Encapsulation refers to the practice of hiding the internal implementation details of a class from the outside world. Abstraction refers to the practice of only exposing the essential features of a class to the outside world. Polymorphism refers to the ability of objects of different classes to be used interchangeably. In this section, we will introduce you to these concepts and show you how to use them in Python."
   ]
  },
  {
   "cell_type": "markdown",
   "id": "4de365aa-c1f8-421b-9aa3-a86c5da6e8ba",
   "metadata": {},
   "source": [
    "### Encapsulation:"
   ]
  },
  {
   "cell_type": "markdown",
   "id": "5f4f794f-efff-4de9-b5ff-96ce89326005",
   "metadata": {},
   "source": [
    "Encapsulation involves bundling the data (attributes) and methods (functions) that operate on that data into a single unit (a class). It aims to hide the internal details of the class from the outside world, exposing only the necessary interfaces. This helps in controlling access to the internal state of an object and prevents unwanted interference."
   ]
  },
  {
   "cell_type": "code",
   "execution_count": 177,
   "id": "f5d14beb-8123-48a4-b62e-b372cfb576be",
   "metadata": {},
   "outputs": [],
   "source": [
    "class BankAccount:\n",
    "    def __init__(self, balance):\n",
    "        self.__balance = balance  # Private attribute\n",
    "    \n",
    "    def deposit(self, amount):\n",
    "        self.__balance += amount\n",
    "    \n",
    "    def withdraw(self, amount):\n",
    "        if amount <= self.__balance:\n",
    "            self.__balance -= amount\n",
    "        else:\n",
    "            print(\"Insufficient balance\")\n",
    "    \n",
    "    def get_balance(self):\n",
    "        return self.__balance\n"
   ]
  },
  {
   "cell_type": "markdown",
   "id": "360c0a20-53cb-4465-af61-fb2e9644cc53",
   "metadata": {},
   "source": [
    "In this example, the` __balance `attribute is private, accessible only within the class methods. Encapsulation protects the internal state from being directly modified by external code."
   ]
  },
  {
   "cell_type": "markdown",
   "id": "21d8e9bc-ff45-42e5-ab9d-cb1d105c58d1",
   "metadata": {},
   "source": [
    "### Abstraction:"
   ]
  },
  {
   "cell_type": "markdown",
   "id": "ad2fcc18-04dc-4683-81ad-91db4c1b4f49",
   "metadata": {},
   "source": [
    "Abstraction involves simplifying complex reality by modeling classes based on their essential attributes and behaviors. It allows you to focus on what an object does rather than how it does it. Abstraction is achieved by defining interfaces (methods) that encapsulate the necessary functionality."
   ]
  },
  {
   "cell_type": "code",
   "execution_count": 179,
   "id": "08b45644-09db-42c7-b6c4-f49f6afd232f",
   "metadata": {},
   "outputs": [],
   "source": [
    "from abc import ABC, abstractmethod\n",
    "\n",
    "class Shape(ABC):\n",
    "    @abstractmethod\n",
    "    def area(self):\n",
    "        pass\n",
    "\n",
    "class Circle(Shape):\n",
    "    def __init__(self, radius):\n",
    "        self.radius = radius\n",
    "    \n",
    "    def area(self):\n",
    "        return 3.14 * self.radius * self.radius\n",
    "\n",
    "class Rectangle(Shape):\n",
    "    def __init__(self, width, height):\n",
    "        self.width = width\n",
    "        self.height = height\n",
    "    \n",
    "    def area(self):\n",
    "        return self.width * self.height\n"
   ]
  },
  {
   "cell_type": "markdown",
   "id": "b1cb187a-48ac-4eab-b0c7-267e38bf52dc",
   "metadata": {},
   "source": [
    "In this example, `Shape` is an abstract class with an abstract method `area()`. Subclasses like `Circle` and `Rectangle` provide their own implementations of` area()`. Abstraction allows you to define common interfaces for related classes without worrying about their internal details."
   ]
  },
  {
   "cell_type": "markdown",
   "id": "6f4ff800-59b4-43d2-b32b-c045d9dc58dd",
   "metadata": {},
   "source": [
    "### Polymorphism:"
   ]
  },
  {
   "cell_type": "markdown",
   "id": "aa00a668-bf75-4325-8704-159d67c30c95",
   "metadata": {},
   "source": [
    "The word \"polymorphism\" means \"many forms\", and in programming it refers to methods/functions/operators with the same name that can be executed on many objects or classes.\n",
    "Polymorphism allows objects of different classes to be used interchangeably based on a shared interface (methods). It enables you to write code that can work with objects of various classes without knowing their specific types."
   ]
  },
  {
   "cell_type": "code",
   "execution_count": 180,
   "id": "e8e4640f-5218-4532-a180-5be08a3e8199",
   "metadata": {},
   "outputs": [
    {
     "name": "stdout",
     "output_type": "stream",
     "text": [
      "78.5\n",
      "24\n"
     ]
    }
   ],
   "source": [
    "def calculate_area(shape):\n",
    "    return shape.area()\n",
    "\n",
    "circle = Circle(5)\n",
    "rectangle = Rectangle(4, 6)\n",
    "\n",
    "print(calculate_area(circle))     # Uses Circle's area() method\n",
    "print(calculate_area(rectangle))  # Uses Rectangle's area() method\n"
   ]
  },
  {
   "cell_type": "markdown",
   "id": "7691d9c8-4e08-448f-9240-79de3c4046bd",
   "metadata": {},
   "source": [
    "In this example, the` calculate_area()` function accepts different shapes (objects of different classes) as arguments and calls their `area()` methods without worrying about the specific class types."
   ]
  },
  {
   "cell_type": "markdown",
   "id": "ddeb334a-0598-40d0-95fa-891b28067d58",
   "metadata": {},
   "source": [
    "## 4.4 Advanced OOP Concepts"
   ]
  },
  {
   "cell_type": "markdown",
   "id": "3b42c9c2-c59b-4c0f-a2e2-417fe3cf21d5",
   "metadata": {},
   "source": [
    "In addition to the concepts covered in the previous section, there are several more advanced concepts in OOP that are used in Python. These include class methods, static methods, and properties. In this section, we will introduce you to these concepts and show you how to use them in Python."
   ]
  },
  {
   "cell_type": "markdown",
   "id": "57bf16c4-0d59-41b0-8112-b14a95f06ec0",
   "metadata": {},
   "source": [
    "### Class Methods:"
   ]
  },
  {
   "cell_type": "markdown",
   "id": "62a476b3-133f-4cb1-8fa5-91e16bf9eea8",
   "metadata": {},
   "source": [
    "Class methods are methods that are bound to the class rather than an instance of the class. They are defined using the `@classmethod `decorator and receive the `class` itself as the first argument (`cls`). Class methods can be used to create alternative constructors or perform operations that affect the entire class."
   ]
  },
  {
   "cell_type": "code",
   "execution_count": 181,
   "id": "f2ac6f19-919e-474d-ac6b-9561580e6f3f",
   "metadata": {},
   "outputs": [
    {
     "name": "stdout",
     "output_type": "stream",
     "text": [
      "2\n"
     ]
    }
   ],
   "source": [
    "class MyClass:\n",
    "    count = 0\n",
    "    \n",
    "    def __init__(self):\n",
    "        MyClass.count += 1\n",
    "    \n",
    "    @classmethod\n",
    "    def get_count(cls):\n",
    "        return cls.count\n",
    "\n",
    "obj1 = MyClass()\n",
    "obj2 = MyClass()\n",
    "print(MyClass.get_count())  # Outputs 2\n"
   ]
  },
  {
   "cell_type": "markdown",
   "id": "4d70d4ab-9449-4224-96fa-3ecaf6a4732c",
   "metadata": {},
   "source": [
    "In this example, the class method `get_count()` returns the count of instances created, which is a shared value among all instances of the class."
   ]
  },
  {
   "cell_type": "markdown",
   "id": "884f1127-b559-467b-a06b-e27a31de525e",
   "metadata": {},
   "source": [
    "### Static Methods:"
   ]
  },
  {
   "cell_type": "markdown",
   "id": "fef4173a-79e5-41b2-9f3f-cffdc0bd5460",
   "metadata": {},
   "source": [
    "Static methods are similar to class methods, but they are not bound to the class or instance. They are defined using the` @staticmethod `decorator and do not receive any special first argument. Static methods are typically used for utility functions that don't rely on class attributes or instance state."
   ]
  },
  {
   "cell_type": "code",
   "execution_count": null,
   "id": "95d16955-740a-4465-bec3-9f9ae40c387c",
   "metadata": {},
   "outputs": [],
   "source": [
    "class MathUtils:\n",
    "    @staticmethod\n",
    "    def square(number):\n",
    "        return number * number\n",
    "\n",
    "result = MathUtils.square(5)  # Computes the square of 5\n"
   ]
  },
  {
   "cell_type": "markdown",
   "id": "82689b33-eb0b-4a0e-bd88-28156f466e04",
   "metadata": {},
   "source": [
    "In this example, the static method` square() `is a utility function that doesn't depend on class or instance attributes."
   ]
  },
  {
   "cell_type": "markdown",
   "id": "141fbc90-1058-4144-ab8e-3dbbc9de3265",
   "metadata": {},
   "source": [
    "### Properties:"
   ]
  },
  {
   "cell_type": "markdown",
   "id": "3a6cab2e-87d9-428e-9f27-cb3b1cff0b65",
   "metadata": {},
   "source": [
    "Properties allow you to define methods that are accessed like attributes. They provide a way to encapsulate the retrieval and modification of an attribute's value, enabling you to control access and behavior."
   ]
  },
  {
   "cell_type": "code",
   "execution_count": null,
   "id": "b5c44792-70c7-4342-acf1-6cb7c92ad507",
   "metadata": {},
   "outputs": [],
   "source": [
    "class Circle:\n",
    "    def __init__(self, radius):\n",
    "        self._radius = radius\n",
    "    \n",
    "    @property\n",
    "    def radius(self):\n",
    "        return self._radius\n",
    "    \n",
    "    @radius.setter\n",
    "    def radius(self, value):\n",
    "        if value >= 0:\n",
    "            self._radius = value\n",
    "        else:\n",
    "            raise ValueError(\"Radius cannot be negative\")\n",
    "\n",
    "circle = Circle(5)\n",
    "print(circle.radius)  # Accesses the radius using the property\n",
    "circle.radius = 7     # Modifies the radius using the property\n"
   ]
  },
  {
   "cell_type": "markdown",
   "id": "1b682ac5-9566-4ac0-bc65-b05f21c07fef",
   "metadata": {},
   "source": [
    "In this example, the` radius `attribute is encapsulated using a property. The` @property `decorator defines a method for getting the value, and the `@radius.setter` decorator defines a method for setting the value."
   ]
  },
  {
   "cell_type": "markdown",
   "id": "ab0d1387-cbc0-450a-be1b-1a9c28e20392",
   "metadata": {},
   "source": [
    "## 4.5 Exceptions and Error Handling"
   ]
  },
  {
   "cell_type": "markdown",
   "id": "c15637a7-2099-41e2-b161-670786088be3",
   "metadata": {},
   "source": [
    "In Chapter 1, we introduced you to debugging and error handling in Python. In this section, we will show you how to handle exceptions and errors in object-oriented programs, including how to define custom exceptions and use the try-except statement to handle exceptions"
   ]
  },
  {
   "cell_type": "markdown",
   "id": "b80945df-22eb-41fb-810f-84a57f08d68e",
   "metadata": {},
   "source": [
    "### Handling Exceptions in Methods:"
   ]
  },
  {
   "cell_type": "markdown",
   "id": "a7b956ad-ac6b-40a3-b566-a3c50532b947",
   "metadata": {},
   "source": [
    "When dealing `with` exceptions within methods of a class, you can use the `try` and `except` statements to catch and handle specific exceptions:"
   ]
  },
  {
   "cell_type": "code",
   "execution_count": null,
   "id": "04e7fc2c-f13f-41f7-983a-75c421af0012",
   "metadata": {},
   "outputs": [],
   "source": [
    "class DivisionCalculator:\n",
    "    def divide(self, numerator, denominator):\n",
    "        try:\n",
    "            result = numerator / denominator\n",
    "            return result\n",
    "        except ZeroDivisionError:\n",
    "            print(\"Division by zero is not allowed\")\n",
    "            return None\n",
    "\n",
    "calculator = DivisionCalculator()\n",
    "print(calculator.divide(10, 2))   # Outputs 5.0\n",
    "print(calculator.divide(8, 0))    # Outputs \"Division by zero is not allowed\"\n"
   ]
  },
  {
   "cell_type": "markdown",
   "id": "98705fdd-ef14-4878-8c74-2fc27224dde2",
   "metadata": {},
   "source": [
    "In this example, the `divide()` method catches the `ZeroDivisionError` exception and prints an error message. This prevents the program from crashing due to division by zero."
   ]
  },
  {
   "cell_type": "markdown",
   "id": "d5fab2d8-c71e-4e27-a9bb-3077092a5b5b",
   "metadata": {},
   "source": [
    "### Custom Exceptions:"
   ]
  },
  {
   "cell_type": "markdown",
   "id": "98ee57f1-1254-4574-b04d-9d783647e340",
   "metadata": {},
   "source": [
    "You can define your own custom exceptions by creating new classes that inherit from the built-in `Exception `class or its subclasses:"
   ]
  },
  {
   "cell_type": "code",
   "execution_count": 182,
   "id": "0d342a26-8931-4fc9-a244-fc55bea1fc1c",
   "metadata": {},
   "outputs": [
    {
     "name": "stdout",
     "output_type": "stream",
     "text": [
      "Negative value not allowed: -4\n"
     ]
    }
   ],
   "source": [
    "class NegativeValueError(ValueError):\n",
    "    def __init__(self, value):\n",
    "        self.value = value\n",
    "        super().__init__(f\"Negative value not allowed: {value}\")\n",
    "\n",
    "class CustomCalculator:\n",
    "    def square_root(self, number):\n",
    "        if number < 0:\n",
    "            raise NegativeValueError(number)\n",
    "        return number ** 0.5\n",
    "\n",
    "calculator = CustomCalculator()\n",
    "try:\n",
    "    result = calculator.square_root(-4)\n",
    "except NegativeValueError as e:\n",
    "    print(e)  # Outputs \"Negative value not allowed: -4\"\n"
   ]
  },
  {
   "cell_type": "markdown",
   "id": "93221af0-89fb-44bd-a4da-fb69c222fc9d",
   "metadata": {},
   "source": [
    "In this example, the `NegativeValueError` is a custom exception that's raised when attempting to calculate the square root of a negative number."
   ]
  },
  {
   "cell_type": "markdown",
   "id": "4f431d3a-9f90-4b5d-b749-aa83c704fe17",
   "metadata": {},
   "source": [
    "### Handling Exceptions in Constructors:"
   ]
  },
  {
   "cell_type": "markdown",
   "id": "69df2e8d-61d9-4f80-8094-b4bb25dc74b1",
   "metadata": {},
   "source": [
    "Exceptions can also be handled in constructors. If an exception occurs during object creation, the object may not be properly initialized:"
   ]
  },
  {
   "cell_type": "code",
   "execution_count": 184,
   "id": "9d45d68b-1f1d-41cd-a0b8-9133e4591755",
   "metadata": {},
   "outputs": [
    {
     "name": "stdout",
     "output_type": "stream",
     "text": [
      "Invalid temperature value\n"
     ]
    }
   ],
   "source": [
    "class Temperature:\n",
    "    def __init__(self, value):\n",
    "        try:\n",
    "            self.value = float(value)\n",
    "        except ValueError:\n",
    "            print(\"Invalid temperature value\")\n",
    "            self.value = None\n",
    "\n",
    "temp1 = Temperature(\"25.5\")\n",
    "temp2 = Temperature(\"abc\")  # Outputs \"Invalid temperature value\"\n"
   ]
  },
  {
   "cell_type": "markdown",
   "id": "df208984-34c6-48e9-98ca-865fda9efd17",
   "metadata": {},
   "source": [
    "In this example, the `Temperature` class handles the case when the input value cannot be converted to a floating-point number."
   ]
  },
  {
   "cell_type": "markdown",
   "id": "67886da4-6f5c-443c-b908-171f54f74377",
   "metadata": {},
   "source": [
    "## 4.6 Testing Your Code"
   ]
  },
  {
   "cell_type": "markdown",
   "id": "ea88f1b0-5073-461c-a476-24820cd4c222",
   "metadata": {},
   "source": [
    "Testing is an important part of software development, and in this section, we will show you how to test your object-oriented code using unit tests. We will introduce you to the unittest module, which is included in Python's standard library, and show you how to write test cases for your classes and methods."
   ]
  },
  {
   "cell_type": "markdown",
   "id": "55acac84-61c9-4c83-8d87-8f5bd4240cba",
   "metadata": {},
   "source": [
    "### Writing Unit Tests with unittest:"
   ]
  },
  {
   "cell_type": "markdown",
   "id": "32ebd66e-eaa6-4591-bb74-b597c1395bdf",
   "metadata": {},
   "source": [
    "Create a separate test file (e.g., `test_myclass.py`) for your tests."
   ]
  },
  {
   "cell_type": "markdown",
   "id": "ed593e52-920c-4084-a892-8e703bc9ebee",
   "metadata": {},
   "source": [
    "Import the necessary modules and classes."
   ]
  },
  {
   "cell_type": "markdown",
   "id": "9b8b50fd-5abe-4ce3-808a-8666668940a3",
   "metadata": {},
   "source": [
    "Create test cases by subclassing `unittest.TestCase`."
   ]
  },
  {
   "cell_type": "markdown",
   "id": "16e7124c-4786-4b77-81f2-904941d4e5a7",
   "metadata": {},
   "source": [
    "Define test methods within the test case class. Test methods must start with the word `test`"
   ]
  },
  {
   "cell_type": "markdown",
   "id": "7145968f-5699-4dd0-91a0-a272ce53c7e5",
   "metadata": {},
   "source": [
    "Use various assertion methods (e.g., `assertEqual`, `assertTrue`, `assertRaises`) to check if the results match your expectations."
   ]
  },
  {
   "cell_type": "markdown",
   "id": "9981e557-5698-4dbc-b08a-ad2658e85462",
   "metadata": {},
   "source": [
    "Run the tests using the `unittest` test runner."
   ]
  },
  {
   "cell_type": "markdown",
   "id": "7bbac0b5-7e66-440f-85a7-79ba7e02eadb",
   "metadata": {},
   "source": [
    "### Example Test Case:"
   ]
  },
  {
   "cell_type": "markdown",
   "id": "4d97a75d-5110-4394-bda0-b5d113f0be70",
   "metadata": {},
   "source": [
    "Let's assume you have a simple `Calculator` class with methods for addition and subtraction. Here's how you could write unit tests for it"
   ]
  },
  {
   "cell_type": "code",
   "execution_count": null,
   "id": "eeb5e431-7aa8-4915-8f6a-8f93d3d3ec6a",
   "metadata": {},
   "outputs": [],
   "source": [
    "import unittest\n",
    "from calculator import Calculator  # Assuming you have a Calculator class in a separate file\n",
    "\n",
    "class TestCalculator(unittest.TestCase):\n",
    "    def test_add(self):\n",
    "        calc = Calculator()\n",
    "        result = calc.add(3, 5)\n",
    "        self.assertEqual(result, 8)  # Asserts that result is equal to 8\n",
    "    \n",
    "    def test_subtract(self):\n",
    "        calc = Calculator()\n",
    "        result = calc.subtract(10, 4)\n",
    "        self.assertEqual(result, 6)  # Asserts that result is equal to 6\n",
    "\n",
    "if __name__ == '__main__':\n",
    "    unittest.main()\n"
   ]
  },
  {
   "cell_type": "markdown",
   "id": "0d505ad5-0b2f-4e92-a689-b814d851754e",
   "metadata": {},
   "source": [
    "### Running Unit Tests:"
   ]
  },
  {
   "cell_type": "markdown",
   "id": "3d93b85d-f849-4c8d-8c2e-8ab87a2d81fb",
   "metadata": {},
   "source": [
    "To run your unit tests, you can execute the test file using the Python interpreter. You can also use test discovery to automatically discover and run all test cases in a directory."
   ]
  },
  {
   "cell_type": "markdown",
   "id": "c154fe78-23d0-418d-a010-6db6bb24ab95",
   "metadata": {},
   "source": [
    "For the example above, if the test file is named `test_calculator.py`, you can run the tests by executing:"
   ]
  },
  {
   "cell_type": "markdown",
   "id": "d9a72965-61f5-4d43-a756-c2cc003f0c4a",
   "metadata": {},
   "source": [
    "`python test_calculator.py`\n"
   ]
  },
  {
   "cell_type": "markdown",
   "id": "479e2c75-79f1-4c87-a186-5506845de1fc",
   "metadata": {},
   "source": [
    "The unittest test runner will execute the test methods, and you'll see output indicating whether the tests passed or failed."
   ]
  },
  {
   "cell_type": "markdown",
   "id": "591d4085-fc5a-4543-82a0-b51c483b42a7",
   "metadata": {},
   "source": [
    "## 4.7 Conclusion"
   ]
  },
  {
   "cell_type": "markdown",
   "id": "3fd10fba-1311-4eaa-94d6-6b2d273a4a91",
   "metadata": {},
   "source": [
    "By the end of this chapter, you should have a solid understanding of object-oriented programming (OOP) in Python, including how to define classes, create objects, use encapsulation, abstraction, and polymorphism, and handle exceptions and errors. You should also be able to write unit tests for your object-oriented code. In the next chapter, we will continue to build on these concepts and introduce you to some more advanced programming topics."
   ]
  },
  {
   "cell_type": "markdown",
   "id": "7ac28d45-f91a-4e32-912b-81b13b1cf843",
   "metadata": {},
   "source": [
    "Recapping the key takeaways from this chapter:\n",
    "\n",
    "<strong>Classes and Objects:</strong> You've learned how to define classes as blueprints and create objects from those classes.\n",
    "\n",
    "<strong>Encapsulation:</strong> You've understood the practice of hiding internal details of a class from external access, protecting object integrity.\n",
    "\n",
    "<strong>Abstraction:</strong> You've seen how to expose only essential features of a class to the outside world, simplifying interactions.\n",
    "\n",
    "<strong>Polymorphism:</strong> You've explored the ability of objects to be used interchangeably, promoting code flexibility.\n",
    "\n",
    "<strong>Exception Handling:</strong> You've learned how to handle exceptions and errors gracefully using try-except statements.\n",
    "\n",
    "<strong>Unit Testing:</strong> You've discovered the importance of testing and how to write unit tests using the unittest module."
   ]
  },
  {
   "cell_type": "markdown",
   "id": "6e11ebd5-9378-4678-8649-39cbf0249417",
   "metadata": {},
   "source": [
    "# Chapter 5: Debugging and Error Handling"
   ]
  },
  {
   "cell_type": "markdown",
   "id": "7f52ca50-c08e-4229-8e65-0d67fa5e1231",
   "metadata": {},
   "source": [
    "In programming, it is common to encounter errors and bugs that can cause unexpected behavior or crashes. In this chapter, we will explore some common debugging techniques, as well as ways to handle errors and test your code."
   ]
  },
  {
   "cell_type": "markdown",
   "id": "33597683-51be-4091-98ad-1e2d2d2b9fd2",
   "metadata": {},
   "source": [
    "## 5.1 Types of Errors\n",
    "There are several types of errors that can occur in a program, including syntax errors, runtime errors, and logical errors. In this section, we will explain what each of these errors is and provide examples.\n"
   ]
  },
  {
   "cell_type": "markdown",
   "id": "6e6a9370-83ab-400f-aafa-bb77b561950a",
   "metadata": {},
   "source": [
    "### 1. Syntax Errors:"
   ]
  },
  {
   "cell_type": "markdown",
   "id": "e56afc8e-6243-401c-a267-b65ba3d9d2c2",
   "metadata": {},
   "source": [
    "Syntax errors occur when the code violates the rules of the programming language. These errors are detected by the compiler or interpreter during the parsing phase. They prevent the code from being executed and need to be fixed before running the program."
   ]
  },
  {
   "cell_type": "code",
   "execution_count": null,
   "id": "a0cf2539-fa63-4a60-95fe-3c06e2d4f73c",
   "metadata": {},
   "outputs": [],
   "source": [
    "# Syntax Error: Missing closing parenthesis\n",
    "print(\"Hello, World\"\n"
   ]
  },
  {
   "cell_type": "markdown",
   "id": "774930f2-7917-42d4-8db4-be586e7db8ef",
   "metadata": {},
   "source": [
    "In this example, the missing <strong>closing parenthesis</strong> will result in a syntax error."
   ]
  },
  {
   "cell_type": "markdown",
   "id": "7f22f9e7-a198-4927-b3a5-271bb1f9f552",
   "metadata": {},
   "source": [
    "### 2. Runtime Errors:"
   ]
  },
  {
   "cell_type": "markdown",
   "id": "4b42cc9b-c607-4119-b4a6-940b8b2bfa54",
   "metadata": {},
   "source": [
    "Runtime errors, also known as exceptions, occur during the execution of the program when an unexpected condition or situation arises. These errors cause the program to terminate unless they are handled using error handling techniques like try-except statements."
   ]
  },
  {
   "cell_type": "code",
   "execution_count": null,
   "id": "0c708f19-4977-4414-ae03-b3d89dc23488",
   "metadata": {},
   "outputs": [],
   "source": [
    "# Runtime Error: Division by zero\n",
    "numerator = 10\n",
    "denominator = 0\n",
    "result = numerator / denominator\n"
   ]
  },
  {
   "cell_type": "markdown",
   "id": "adeff776-cbbe-40fc-bb0e-0e58ac5d46f7",
   "metadata": {},
   "source": [
    "In this example, attempting to divide by zero will raise a runtime error <strong>(ZeroDivisionError)</strong>."
   ]
  },
  {
   "cell_type": "markdown",
   "id": "f8069d2f-83f1-41d6-83d3-c128a60e6194",
   "metadata": {},
   "source": [
    "### 3. Logical Errors:"
   ]
  },
  {
   "cell_type": "markdown",
   "id": "c4f593f1-4e5e-441a-8921-e615be2c69f6",
   "metadata": {},
   "source": [
    "Logical errors, also known as bugs, occur when the program runs without any error messages, but it does not produce the expected or desired output. These errors are often the most challenging to identify because the code runs without any indication of a problem."
   ]
  },
  {
   "cell_type": "code",
   "execution_count": null,
   "id": "730f4a42-deb6-4557-a1e0-8e52e6d324ed",
   "metadata": {},
   "outputs": [],
   "source": [
    "# Logical Error: Incorrect formula for calculating the area of a circle\n",
    "radius = 5\n",
    "area = radius * radius  # Incorrect formula (should be radius * radius * pi)\n"
   ]
  },
  {
   "cell_type": "markdown",
   "id": "3a23b071-b7d3-47be-a99c-aa7700b0d66e",
   "metadata": {},
   "source": [
    "In this example, the logical error results in an incorrect calculation of the circle's area."
   ]
  },
  {
   "cell_type": "markdown",
   "id": "9a9f7231-ab22-459c-8fca-124ab098a972",
   "metadata": {},
   "source": [
    "## 5.2 Debugging Techniques\n",
    "Debugging is the process of finding and fixing errors in a program. There are several techniques that can be used to debug a program, such as printing debug statements, using a debugger, and using logging. In this section, we will explain each of these techniques and provide examples.\n"
   ]
  },
  {
   "cell_type": "markdown",
   "id": "18e830b3-cbf7-4c17-921f-9796026e9a2b",
   "metadata": {},
   "source": [
    "### 1. Printing Debug Statements:"
   ]
  },
  {
   "cell_type": "markdown",
   "id": "9260bc63-7cee-4f5a-a6f3-13c7d03052b5",
   "metadata": {},
   "source": [
    "One of the simplest and most effective debugging techniques is to insert print statements in your code to display the values of variables or the flow of execution at different points in your program."
   ]
  },
  {
   "cell_type": "code",
   "execution_count": 192,
   "id": "586724e4-3b12-486a-b9df-734ef6bb0597",
   "metadata": {},
   "outputs": [
    {
     "name": "stdout",
     "output_type": "stream",
     "text": [
      "Total: 60\n",
      "Count: 3\n",
      "Average: 20.0\n"
     ]
    },
    {
     "data": {
      "text/plain": [
       "20.0"
      ]
     },
     "execution_count": 192,
     "metadata": {},
     "output_type": "execute_result"
    }
   ],
   "source": [
    "def calculate_average(numbers):\n",
    "    total = sum(numbers)\n",
    "    count = len(numbers)\n",
    "    average = total / count\n",
    "    print(\"Total:\", total)\n",
    "    print(\"Count:\", count)\n",
    "    print(\"Average:\", average)\n",
    "    return average\n",
    "\n",
    "numbers = [10, 20, 30]\n",
    "calculate_average(numbers)\n"
   ]
  },
  {
   "cell_type": "markdown",
   "id": "8463bfc9-121f-469c-a23c-179c9f4a48f0",
   "metadata": {},
   "source": [
    "In this example, adding print statements helps you see the values of` total`, `count`, and `average` during the execution of the `calculate_average` function."
   ]
  },
  {
   "cell_type": "markdown",
   "id": "f2580e5f-e1a0-4bad-bc21-765f145cc243",
   "metadata": {},
   "source": [
    "### 2. Using a Debugger:"
   ]
  },
  {
   "cell_type": "markdown",
   "id": "79b461ab-85c9-4402-a805-6aa8ee5c2756",
   "metadata": {},
   "source": [
    "A debugger is a tool that allows you to interactively step through your code, set breakpoints, and inspect variables at different points in your program's execution. Python comes with a built-in debugger called `pdb`."
   ]
  },
  {
   "cell_type": "code",
   "execution_count": null,
   "id": "56a998ff-6947-46a6-8e33-6221efd986d9",
   "metadata": {},
   "outputs": [],
   "source": [
    "import pdb\n",
    "\n",
    "def divide(numerator, denominator):\n",
    "    pdb.set_trace()  # Set a breakpoint\n",
    "    result = numerator / denominator\n",
    "    return result\n",
    "\n",
    "divide(10, 2)\n"
   ]
  },
  {
   "cell_type": "markdown",
   "id": "d94d30d4-139b-4e37-afff-5ebd8e167a7b",
   "metadata": {},
   "source": [
    "In this example, the `pdb.set_trace()` line sets a breakpoint, allowing you to step through the code and inspect variables interactively using debugger commands."
   ]
  },
  {
   "cell_type": "markdown",
   "id": "2a181e28-4b63-4489-b230-dfdb930a1f66",
   "metadata": {},
   "source": [
    "### 3. Using Logging:"
   ]
  },
  {
   "cell_type": "markdown",
   "id": "10ef92ed-0173-482e-9478-6bd8e176d866",
   "metadata": {},
   "source": [
    "Logging involves writing messages to a log file to track the flow of execution and values of variables. The logging module in Python provides a flexible way to log information."
   ]
  },
  {
   "cell_type": "code",
   "execution_count": null,
   "id": "d5cf390e-7d0a-4b10-945b-7bb4fcfdaefa",
   "metadata": {},
   "outputs": [],
   "source": [
    "import logging\n",
    "\n",
    "logging.basicConfig(level=logging.DEBUG)  # Set logging level to DEBUG\n",
    "\n",
    "def factorial(n):\n",
    "    logging.debug(f\"Calculating factorial of {n}\")\n",
    "    if n == 0:\n",
    "        return 1\n",
    "    else:\n",
    "        return n * factorial(n - 1)\n",
    "\n",
    "result = factorial(5)\n"
   ]
  },
  {
   "cell_type": "markdown",
   "id": "5623882a-7fd8-4cf1-b7b5-c7f058ed3e67",
   "metadata": {},
   "source": [
    "In this example, the `logging` module is used to print debug messages as the `factorial` function is called recursively."
   ]
  },
  {
   "cell_type": "markdown",
   "id": "b63b3b85-7836-4d0b-a40e-7e127bb0d294",
   "metadata": {},
   "source": [
    "## 5.3 Common Errors and How to Handle Them\n",
    "There are some errors that are more common than others and can be easily handled with specific techniques. For example, handling input errors or file errors. In this section, we will introduce some common errors and explain how to handle them.\n"
   ]
  },
  {
   "cell_type": "markdown",
   "id": "dab0b704-e2eb-4599-af78-22b80b8109cf",
   "metadata": {},
   "source": [
    "### 1. Input Errors:"
   ]
  },
  {
   "cell_type": "markdown",
   "id": "b4f07d01-a9fb-4908-8da7-d8d307ec155f",
   "metadata": {},
   "source": [
    "Input errors occur when the user provides invalid input that the program is not designed to handle. To handle input errors, you can use loops and validation techniques to ensure that the input is within the expected range or format."
   ]
  },
  {
   "cell_type": "code",
   "execution_count": null,
   "id": "d34ff0f5-595a-4ef7-8a5c-00177c1790c6",
   "metadata": {},
   "outputs": [],
   "source": [
    "while True:\n",
    "    try:\n",
    "        age = int(input(\"Enter your age: \"))\n",
    "        if age < 0:\n",
    "            raise ValueError(\"Age cannot be negative\")\n",
    "        break\n",
    "    except ValueError as e:\n",
    "        print(e)\n"
   ]
  },
  {
   "cell_type": "markdown",
   "id": "4792e6d5-00e7-4308-ac6a-f9c0200b5b99",
   "metadata": {},
   "source": [
    "In this example, the program uses a loop to repeatedly prompt the user for input until a valid age is provided."
   ]
  },
  {
   "cell_type": "markdown",
   "id": "4cfebccf-63a2-4a56-a6e6-e498514be71e",
   "metadata": {},
   "source": [
    "### 2. File Errors:"
   ]
  },
  {
   "cell_type": "markdown",
   "id": "2c241698-c15c-4218-8ed0-625a92de3c82",
   "metadata": {},
   "source": [
    "File errors occur when there are issues with reading or writing files, such as missing files or permission issues. To handle file errors, you can use try-except statements to catch specific exceptions related to file operations."
   ]
  },
  {
   "cell_type": "code",
   "execution_count": null,
   "id": "29ee80d8-7e8b-4791-b09b-14b60e674e67",
   "metadata": {},
   "outputs": [],
   "source": [
    "try:\n",
    "    with open(\"data.txt\", \"r\") as file:\n",
    "        content = file.read()\n",
    "except FileNotFoundError:\n",
    "    print(\"File not found\")\n",
    "except PermissionError:\n",
    "    print(\"Permission denied\")\n"
   ]
  },
  {
   "cell_type": "markdown",
   "id": "cfb81955-cc0f-4c8b-9a16-f2c5729efd8b",
   "metadata": {},
   "source": [
    "In this example, the program attempts to read the contents of a file called `\"data.txt\"` and handles the cases where the file is not found or access is denied."
   ]
  },
  {
   "cell_type": "markdown",
   "id": "10178ea0-2e08-4b96-a275-5ad2da1a8067",
   "metadata": {},
   "source": [
    "### 3. Division Errors:"
   ]
  },
  {
   "cell_type": "markdown",
   "id": "09a07a43-98c7-42f3-bdc8-f8eed857bde5",
   "metadata": {},
   "source": [
    "Division errors occur when attempting to divide by zero. To handle division errors, you can use try-except statements to catch specific exceptions related to division by zero."
   ]
  },
  {
   "cell_type": "code",
   "execution_count": null,
   "id": "3b0075fa-6132-4440-8759-0636f778700d",
   "metadata": {},
   "outputs": [],
   "source": [
    "try:\n",
    "    result = 10 / 0\n",
    "except ZeroDivisionError:\n",
    "    print(\"Division by zero is not allowed\")\n"
   ]
  },
  {
   "cell_type": "markdown",
   "id": "5adfcb96-b08a-47f9-a11f-344e96030655",
   "metadata": {},
   "source": [
    "In this example, the program attempts to perform a division and handles the case where division by zero occurs."
   ]
  },
  {
   "cell_type": "markdown",
   "id": "ecc1c57b-4a0b-4f64-8ee6-9ee09076143c",
   "metadata": {},
   "source": [
    "### 4. Index Errors:"
   ]
  },
  {
   "cell_type": "markdown",
   "id": "7eae52d0-65df-4e81-b6b5-9cfc64d19f61",
   "metadata": {},
   "source": [
    "Index errors occur when attempting to access an element in a list, tuple, or string using an invalid index. To handle index errors, you can use try-except statements to catch specific exceptions related to index out of range."
   ]
  },
  {
   "cell_type": "code",
   "execution_count": null,
   "id": "9cf0a97a-6061-4547-baf3-561e5cb4c6a2",
   "metadata": {},
   "outputs": [],
   "source": [
    "my_list = [1, 2, 3]\n",
    "try:\n",
    "    value = my_list[5]\n",
    "except IndexError:\n",
    "    print(\"Index out of range\")\n"
   ]
  },
  {
   "cell_type": "markdown",
   "id": "c73279ee-d795-40bd-8974-0a26754f30f6",
   "metadata": {},
   "source": [
    "In this example, the program attempts to access an element at index 5 in the list and handles the index error."
   ]
  },
  {
   "cell_type": "markdown",
   "id": "fb342147-f3b0-47df-894e-cdbb09c4617a",
   "metadata": {},
   "source": [
    "### 5.4 Error Handling in Python\n",
    "Python provides several built-in mechanisms for handling errors and exceptions. In this section, we will explore how to use try-except blocks to catch and handle errors in your code, and introduce you to some of the built-in exception classes in Python.\n"
   ]
  },
  {
   "cell_type": "markdown",
   "id": "0f3f5c6c-0f8f-4671-805f-564f89ca234b",
   "metadata": {},
   "source": [
    "### 1. Input Errors:"
   ]
  },
  {
   "cell_type": "markdown",
   "id": "23e794a0-65df-412d-ab78-04987da41635",
   "metadata": {},
   "source": [
    "Input errors occur when the user provides invalid input that the program is not designed to handle. To handle input errors, you can use loops and validation techniques to ensure that the input is within the expected range or format."
   ]
  },
  {
   "cell_type": "code",
   "execution_count": null,
   "id": "47062559-a9dc-4e44-b8f8-06db8ae6b5b0",
   "metadata": {},
   "outputs": [],
   "source": [
    "while True:\n",
    "    try:\n",
    "        age = int(input(\"Enter your age: \"))\n",
    "        if age < 0:\n",
    "            raise ValueError(\"Age cannot be negative\")\n",
    "        break\n",
    "    except ValueError as e:\n",
    "        print(e)\n"
   ]
  },
  {
   "cell_type": "markdown",
   "id": "49eb6dbf-340a-4694-b058-6662df0f1281",
   "metadata": {},
   "source": [
    "In this example, the program uses a loop to repeatedly prompt the user for input until a valid age is provided."
   ]
  },
  {
   "cell_type": "markdown",
   "id": "ac26d67a-54da-4236-b34b-7363e401f231",
   "metadata": {},
   "source": [
    "### 2. File Errors:"
   ]
  },
  {
   "cell_type": "markdown",
   "id": "5f79b4e5-f95e-4b95-924f-549dffb3b1c5",
   "metadata": {},
   "source": [
    "File errors occur when there are issues with reading or writing files, such as missing files or permission issues. To handle file errors, you can use try-except statements to catch specific exceptions related to file operations."
   ]
  },
  {
   "cell_type": "code",
   "execution_count": null,
   "id": "c1cdcc12-669f-4206-80dd-45b57b46aa48",
   "metadata": {},
   "outputs": [],
   "source": [
    "try:\n",
    "    with open(\"data.txt\", \"r\") as file:\n",
    "        content = file.read()\n",
    "except FileNotFoundError:\n",
    "    print(\"File not found\")\n",
    "except PermissionError:\n",
    "    print(\"Permission denied\")\n"
   ]
  },
  {
   "cell_type": "markdown",
   "id": "ed3458ad-93d7-4eb0-aa99-fa62cf0656d7",
   "metadata": {},
   "source": [
    "In this example, the program attempts to read the contents of a file called \"data.txt\" and handles the cases where the file is not found or access is denied."
   ]
  },
  {
   "cell_type": "markdown",
   "id": "41ed7e2f-b2c3-4fd3-82a2-25bcbbd150b9",
   "metadata": {},
   "source": [
    "### 3. Division Errors:"
   ]
  },
  {
   "cell_type": "markdown",
   "id": "6f485700-aad5-409d-bb15-a648def6ff62",
   "metadata": {},
   "source": [
    "Division errors occur when attempting to divide by zero. To handle division errors, you can use try-except statements to catch specific exceptions related to division by zero."
   ]
  },
  {
   "cell_type": "code",
   "execution_count": null,
   "id": "918548ec-692a-48ad-a5d3-1ae318b99fb7",
   "metadata": {},
   "outputs": [],
   "source": [
    "try:\n",
    "    result = 10 / 0\n",
    "except ZeroDivisionError:\n",
    "    print(\"Division by zero is not allowed\")\n"
   ]
  },
  {
   "cell_type": "markdown",
   "id": "58f199ec-cd01-41cc-86fe-67cb04a58950",
   "metadata": {},
   "source": [
    "In this example, the program attempts to perform a division and handles the case where division by zero occurs."
   ]
  },
  {
   "cell_type": "markdown",
   "id": "21091502-e3c8-4f00-b269-cb6417c34f01",
   "metadata": {},
   "source": [
    "### 4. Index Errors:"
   ]
  },
  {
   "cell_type": "markdown",
   "id": "b44a29b1-4c82-4138-9b9f-885bd17f9ddc",
   "metadata": {},
   "source": [
    "Index errors occur when attempting to access an element in a list, tuple, or string using an invalid index. To handle index errors, you can use try-except statements to catch specific exceptions related to index out of range."
   ]
  },
  {
   "cell_type": "code",
   "execution_count": null,
   "id": "cf773d0d-1d9d-4689-a1ea-ab526c865fda",
   "metadata": {},
   "outputs": [],
   "source": [
    "my_list = [1, 2, 3]\n",
    "try:\n",
    "    value = my_list[5]\n",
    "except IndexError:\n",
    "    print(\"Index out of range\")\n"
   ]
  },
  {
   "cell_type": "markdown",
   "id": "b4862a73-eeb7-46a3-9cb4-8ff5aa796a5b",
   "metadata": {},
   "source": [
    "In this example, the program attempts to access an element at index 5 in the list and handles the index error."
   ]
  },
  {
   "cell_type": "markdown",
   "id": "627d8e38-9504-4cfb-8398-82ee61400e69",
   "metadata": {},
   "source": [
    "## 5.5 Logging\n",
    "Logging is a technique used to record information about the behavior of a program. In this section, we will show you how to use the logging module in Python to log messages at different levels of severity, and how to configure the logging output.\n"
   ]
  },
  {
   "cell_type": "markdown",
   "id": "e1bdf373-2287-4a18-a66e-e1b222bafc04",
   "metadata": {},
   "source": [
    "### Basic Logging:"
   ]
  },
  {
   "cell_type": "markdown",
   "id": "842f2e34-74cb-4db7-8041-853005da3d6e",
   "metadata": {},
   "source": [
    "You can use the `logging ` module to create log messages at different levels such as `DEBUG`, `INFO`, `WARNING`, `ERROR`, and`CRITICAL`."
   ]
  },
  {
   "cell_type": "code",
   "execution_count": null,
   "id": "7afd5b39-f43b-4b64-bc60-78d8798ca2b2",
   "metadata": {},
   "outputs": [],
   "source": [
    "import logging\n",
    "\n",
    "logging.basicConfig(level=logging.DEBUG)  # Set the logging level to DEBUG\n",
    "\n",
    "logging.debug(\"This is a debug message\")\n",
    "logging.info(\"This is an info message\")\n",
    "logging.warning(\"This is a warning message\")\n",
    "logging.error(\"This is an error message\")\n",
    "logging.critical(\"This is a critical message\")\n"
   ]
  },
  {
   "cell_type": "markdown",
   "id": "5b04ff18-6293-4ee7-9633-9e8dd2f61a51",
   "metadata": {},
   "source": [
    "### Logging to a File:"
   ]
  },
  {
   "cell_type": "markdown",
   "id": "6040dfe8-e771-4f53-bc10-683442e36985",
   "metadata": {},
   "source": [
    "By default, log messages are printed to the console. However, you can configure the `logging` module to write log messages to a file."
   ]
  },
  {
   "cell_type": "code",
   "execution_count": null,
   "id": "0b6d5fa7-3709-4b86-836b-6ff9042695dd",
   "metadata": {},
   "outputs": [],
   "source": [
    "import logging\n",
    "\n",
    "logging.basicConfig(filename=\"app.log\", level=logging.DEBUG)  # Log messages to a file\n",
    "\n",
    "logging.debug(\"This is a debug message\")\n",
    "logging.info(\"This is an info message\")\n"
   ]
  },
  {
   "cell_type": "markdown",
   "id": "ad846ae3-b83a-4d26-8a53-70070f680364",
   "metadata": {},
   "source": [
    "### Formatting Log Messages:"
   ]
  },
  {
   "cell_type": "markdown",
   "id": "398d715f-4409-4321-bb8f-6d52867b670f",
   "metadata": {},
   "source": [
    "You can customize the format of log messages using the `format ` parameter in the`basicConfig()` function."
   ]
  },
  {
   "cell_type": "code",
   "execution_count": null,
   "id": "da67e3e9-3c57-4e40-8c30-47e2a5814d8e",
   "metadata": {},
   "outputs": [],
   "source": [
    "import logging\n",
    "\n",
    "logging.basicConfig(\n",
    "    format=\"%(asctime)s - %(levelname)s - %(message)s\",\n",
    "    datefmt=\"%Y-%m-%d %H:%M:%S\",\n",
    "    level=logging.INFO\n",
    ")\n",
    "\n",
    "logging.info(\"This is an info message with custom formatting\")\n"
   ]
  },
  {
   "cell_type": "markdown",
   "id": "51a218d8-e907-4919-bf3c-856ebb9b269f",
   "metadata": {},
   "source": [
    "### Using Logger Instances:"
   ]
  },
  {
   "cell_type": "markdown",
   "id": "8a4a9506-80b5-4060-9ad4-6f5f412ef222",
   "metadata": {},
   "source": [
    "It's often recommended to use logger instances rather than the root logger to have more control over the logging behavior."
   ]
  },
  {
   "cell_type": "code",
   "execution_count": null,
   "id": "aba8ac3b-f743-4a30-b31c-a7fb68719f0d",
   "metadata": {},
   "outputs": [],
   "source": [
    "import logging\n",
    "\n",
    "logger = logging.getLogger(\"my_logger\")\n",
    "logger.setLevel(logging.DEBUG)\n",
    "\n",
    "handler = logging.FileHandler(\"my_app.log\")\n",
    "handler.setLevel(logging.DEBUG)\n",
    "\n",
    "formatter = logging.Formatter(\"%(asctime)s - %(levelname)s - %(message)s\")\n",
    "handler.setFormatter(formatter)\n",
    "\n",
    "logger.addHandler(handler)\n",
    "\n",
    "logger.debug(\"This is a debug message using a logger instance\")\n"
   ]
  },
  {
   "cell_type": "markdown",
   "id": "cd62ab07-0fc0-4808-9d48-c289046d6b4b",
   "metadata": {},
   "source": [
    "By configuring and using the `logging` module effectively, you can capture useful information about your program's behavior, identify issues, and make informed decisions about its execution. Logging is a crucial tool for debugging, monitoring, and maintaining your software applications."
   ]
  },
  {
   "cell_type": "markdown",
   "id": "ffa48dcd-42c5-4eb5-af15-2fad12228486",
   "metadata": {},
   "source": [
    "## 5.6 Testing Your Code\n",
    "Testing is an important part of the software development process. In this section, we will introduce you to the concept of unit testing and show you how to write unit tests for your code using the unittest module in Python.\n"
   ]
  },
  {
   "cell_type": "markdown",
   "id": "bc13dae1-daef-439c-bb04-bde55b8d6a56",
   "metadata": {},
   "source": [
    "### Writing Unit Tests with unittest:"
   ]
  },
  {
   "cell_type": "markdown",
   "id": "d3063dce-502f-4618-a9ac-bfc9e6ab7b85",
   "metadata": {},
   "source": [
    "Import the `unittest ` module and the classes/functions you want to test.\n",
    "Create test cases by subclassing `unittest.TestCase`.\n",
    "Define test methods within the test case class. Test methods must start with the word test.\n",
    "Use various assertion methods provided by `unittest` (e.g., `assertEqual`, `assertTrue`, `assertRaises`) to check if the results match your expectations.\n",
    "Run the tests using the` unittest` test runner."
   ]
  },
  {
   "cell_type": "markdown",
   "id": "85e958cc-e534-42af-bfbd-b64635883af2",
   "metadata": {},
   "source": [
    "#### Example Test Case:"
   ]
  },
  {
   "cell_type": "markdown",
   "id": "9e244e15-ce6a-469a-91b5-8d71a33d01cd",
   "metadata": {},
   "source": [
    "Let's say you have a simple `Math` class with methods for addition and multiplication. Here's how you could write unit tests for it using the `unittest` module:"
   ]
  },
  {
   "cell_type": "code",
   "execution_count": null,
   "id": "647ef60e-22ed-4fe6-b751-9fd6aac62b95",
   "metadata": {},
   "outputs": [],
   "source": [
    "import unittest\n",
    "from math_operations import Math  # Assuming you have a Math class in a separate file\n",
    "\n",
    "class TestMath(unittest.TestCase):\n",
    "    def test_add(self):\n",
    "        math_obj = Math()\n",
    "        result = math_obj.add(3, 5)\n",
    "        self.assertEqual(result, 8)  # Asserts that result is equal to 8\n",
    "    \n",
    "    def test_multiply(self):\n",
    "        math_obj = Math()\n",
    "        result = math_obj.multiply(4, 3)\n",
    "        self.assertEqual(result, 12)  # Asserts that result is equal to 12\n",
    "\n",
    "if __name__ == '__main__':\n",
    "    unittest.main()\n"
   ]
  },
  {
   "cell_type": "markdown",
   "id": "9e844be3-621d-45bd-8d7d-5d5119aa36d3",
   "metadata": {},
   "source": [
    "### Running Unit Tests:"
   ]
  },
  {
   "cell_type": "markdown",
   "id": "329780d4-6d00-4b13-b0a9-b158ebadcd63",
   "metadata": {},
   "source": [
    "To run your unit tests, execute the test file using the Python interpreter.\n",
    "\n",
    "For the example above, if the test file is named `test_math_operations.py`, you can run the tests by executing:"
   ]
  },
  {
   "cell_type": "markdown",
   "id": "298b6176-4143-48e2-9129-009e0f3af577",
   "metadata": {},
   "source": [
    "`python test_math_operations.py`\n"
   ]
  },
  {
   "cell_type": "markdown",
   "id": "3c3e772a-2e4a-4e2b-aca7-2c49638ed541",
   "metadata": {},
   "source": [
    "The `unittest` test runner will execute the test methods and provide output indicating whether the tests passed or failed."
   ]
  },
  {
   "cell_type": "markdown",
   "id": "b3a5f96f-5323-49c2-9bb2-ab86ab05014c",
   "metadata": {},
   "source": [
    "## 5.7 Conclusion"
   ]
  },
  {
   "cell_type": "markdown",
   "id": "fa4fd6af-c587-4bd0-8548-6dbe924c90a8",
   "metadata": {},
   "source": [
    "By the end of this chapter, you should have a solid understanding of debugging techniques, error handling in Python, logging, and testing your code. You should also be able to apply these techniques to find and fix errors in your programs. In the final chapter, we will wrap up the book and give you some tips for continuing your Python programming journey."
   ]
  },
  {
   "cell_type": "markdown",
   "id": "e151f5ae-535a-481a-be3d-e4ec893bf8c9",
   "metadata": {},
   "source": [
    "<strong>Types of Errors:</strong> You've learned about different types of errors including syntax errors, runtime errors, and logical errors, and how to recognize and handle each of them.\n",
    "\n",
    "<strong>Debugging Techniques:</strong> You've explored various debugging techniques such as using print statements, using a debugger, and logging to track down and fix errors in your code.\n",
    "\n",
    "<strong>Handling Common Errors:</strong> You've seen how to handle common errors like input errors, file errors, division errors, and index errors using appropriate techniques.\n",
    "\n",
    "<strong>Logging:</strong> You've learned about using the logging module to record information about your program's behavior at different levels of severity and how to customize the logging output.\n",
    "\n",
    "<strong>Testing Your Code:</strong> You've been introduced to the concept of unit testing and how to write unit tests using the unittest module in Python to ensure the correctness and reliability of your code."
   ]
  },
  {
   "cell_type": "markdown",
   "id": "b5978524-0a66-4bc4-9060-68c1e8ac0971",
   "metadata": {},
   "source": [
    "# Chapter 6: Web Development with Python"
   ]
  },
  {
   "cell_type": "markdown",
   "id": "f0e850ca-b7a4-4dc0-8814-275b578e6477",
   "metadata": {},
   "source": [
    "Python is a popular language for web development, and there are several web frameworks available that make it easy to build web applications. In this chapter, we will introduce you to Flask, a lightweight web framework for Python, and show you how to use it to build a basic web application"
   ]
  },
  {
   "cell_type": "markdown",
   "id": "49611b1b",
   "metadata": {},
   "source": [
    "## 6.1 Introduction to Web Development\n",
    "Before we dive into Flask, we will provide an overview of web development and explain some key concepts, such as client-server architecture, HTTP, and web frameworks."
   ]
  },
  {
   "cell_type": "markdown",
   "id": "552a2dae",
   "metadata": {},
   "source": [
    "### Web Development Overview:"
   ]
  },
  {
   "cell_type": "markdown",
   "id": "f8065b23",
   "metadata": {},
   "source": [
    "Web development refers to the process of creating websites and web applications that can be accessed through the internet using web browsers. It involves a combination of front-end and back-end development."
   ]
  },
  {
   "cell_type": "markdown",
   "id": "43f885c5",
   "metadata": {},
   "source": [
    "### Client-Server Architecture:"
   ]
  },
  {
   "cell_type": "markdown",
   "id": "2016ce74",
   "metadata": {},
   "source": [
    "At the core of web development is the client-server architecture. This architecture divides the responsibilities of a web application into two main components:"
   ]
  },
  {
   "cell_type": "markdown",
   "id": "4e6bb07f",
   "metadata": {},
   "source": [
    "<strong> Client:</strong> The client is typically a web browser, such as Chrome or Firefox, that users interact with. The client sends requests to the server for specific web resources and displays the received data to users."
   ]
  },
  {
   "cell_type": "markdown",
   "id": "f8dae4f5",
   "metadata": {},
   "source": [
    "<strong>Server:</strong> The server hosts the web application, processes client requests, and sends back the appropriate responses. It manages the back-end logic, database interactions, and other server-side operations."
   ]
  },
  {
   "cell_type": "markdown",
   "id": "ff27a355",
   "metadata": {},
   "source": [
    "### HTTP (Hypertext Transfer Protocol):"
   ]
  },
  {
   "cell_type": "markdown",
   "id": "57e99294",
   "metadata": {},
   "source": [
    "HTTP is the foundation of data communication on the World Wide Web. It defines how requests and responses are structured for communication between clients and servers. HTTP requests are made by clients to request resources like web pages, images, or data from the server. HTTP responses contain the requested data or information about the status of the request."
   ]
  },
  {
   "cell_type": "markdown",
   "id": "b25061e5",
   "metadata": {},
   "source": [
    "HTTP methods are used to indicate the purpose of a request. Some common HTTP methods include:"
   ]
  },
  {
   "cell_type": "markdown",
   "id": "2270f892",
   "metadata": {},
   "source": [
    "<strong>GET:</strong> Retrieve data from the server.\n",
    "\n",
    "<strong>POST:</strong> Send data to the server to create or update resources.\n",
    "\n",
    "<strong>PUT:</strong> Update a resource on the server.\n",
    "\n",
    "<strong>DELETE:</strong> Remove a resource from the server."
   ]
  },
  {
   "cell_type": "markdown",
   "id": "4004d1e2",
   "metadata": {},
   "source": [
    "### Web Frameworks:"
   ]
  },
  {
   "cell_type": "markdown",
   "id": "add86e75",
   "metadata": {},
   "source": [
    "Web frameworks are tools and libraries that provide a structured way to develop web applications. They streamline the development process by offering pre-built components, handling common tasks, and promoting best practices. Web frameworks help developers focus on the specific features of their applications rather than reinventing the wheel for every project."
   ]
  },
  {
   "cell_type": "markdown",
   "id": "5822bc3a",
   "metadata": {},
   "source": [
    "### Flask:"
   ]
  },
  {
   "cell_type": "markdown",
   "id": "bdecd160",
   "metadata": {},
   "source": [
    "Flask is a lightweight and flexible Python web framework. It's designed to be simple and easy to use while still providing the necessary tools for building web applications. Flask allows you to define routes, which are URLs that map to specific functions in your code. These functions then handle requests and generate responses to be sent back to the client.\n",
    "\n",
    "Flask also supports the use of templates to generate dynamic HTML content, and it can integrate with various databases for back-end data storage."
   ]
  },
  {
   "cell_type": "markdown",
   "id": "0bf9bbeb",
   "metadata": {},
   "source": [
    "## 6.2 Introduction to Flask\n",
    "Flask is a micro web framework for Python that is simple and easy to use. In this section, we will introduce you to Flask and show you how to install it."
   ]
  },
  {
   "cell_type": "markdown",
   "id": "ede01f8e",
   "metadata": {},
   "source": [
    "Here's a basic overview of Flask and how to get started with it:"
   ]
  },
  {
   "cell_type": "markdown",
   "id": "2f99e817",
   "metadata": {},
   "source": [
    "<strong>1.  Installation:</strong> You can install Flask using `pip`, the Python package installer. Open your command line or terminal and run the following command:"
   ]
  },
  {
   "cell_type": "markdown",
   "id": "5705f10a",
   "metadata": {},
   "source": [
    "`pip install Flask`\n",
    "\n"
   ]
  },
  {
   "cell_type": "markdown",
   "id": "8e32c0c9",
   "metadata": {},
   "source": [
    "<strong>2. Creating a Basic Flask App:</strong>"
   ]
  },
  {
   "cell_type": "markdown",
   "id": "f1795347",
   "metadata": {},
   "source": [
    "To create a simple Flask application, you'll need to follow these steps:"
   ]
  },
  {
   "cell_type": "code",
   "execution_count": null,
   "id": "43c6a9d2",
   "metadata": {},
   "outputs": [],
   "source": [
    "from flask import Flask\n",
    "\n",
    "# Create an instance of the Flask class\n",
    "app = Flask(__name__)\n",
    "\n",
    "# Define a route and a function to handle the route\n",
    "@app.route('/')\n",
    "def hello():\n",
    "    return 'Hello, Flask!'\n",
    "\n",
    "if __name__ == '__main__':\n",
    "    app.run()\n"
   ]
  },
  {
   "cell_type": "markdown",
   "id": "41c1e747",
   "metadata": {},
   "source": [
    "Save the above code to a file, for example, `app.py`."
   ]
  },
  {
   "cell_type": "markdown",
   "id": "fdf12cd8",
   "metadata": {},
   "source": [
    "<strong>3. Running the App:</strong>"
   ]
  },
  {
   "cell_type": "markdown",
   "id": "b60cba08",
   "metadata": {},
   "source": [
    "Open your terminal and navigate to the directory where your `app.py` file is located. Run the following command:"
   ]
  },
  {
   "cell_type": "markdown",
   "id": "562249fb",
   "metadata": {},
   "source": [
    "`python app.py`\n"
   ]
  },
  {
   "cell_type": "markdown",
   "id": "c66536f1",
   "metadata": {},
   "source": [
    "This will start a local development server, and your Flask app will be accessible at `http://localhost:5000/ ` by default."
   ]
  },
  {
   "cell_type": "markdown",
   "id": "446c5250",
   "metadata": {},
   "source": [
    "<strong> 4. Routes and Views: </strong>"
   ]
  },
  {
   "cell_type": "markdown",
   "id": "b7c7ce3f",
   "metadata": {},
   "source": [
    "In Flask, routes are defined using the `@app.route()` decorator. The function below the decorator is called a \"view function\" and is responsible for generating the response for that particular route."
   ]
  },
  {
   "cell_type": "markdown",
   "id": "b5e22c7e",
   "metadata": {},
   "source": [
    "<strong>5. Templates and Static Files: "
   ]
  },
  {
   "cell_type": "markdown",
   "id": "db041392",
   "metadata": {},
   "source": [
    "Flask allows you to render HTML templates and serve static files like CSS, JavaScript, and images. You can use the `render_template `function to render HTML templates and the `url_for `function to generate URLs for static files"
   ]
  },
  {
   "cell_type": "markdown",
   "id": "f4fd6dfc",
   "metadata": {},
   "source": [
    "<strong>6. Templates Example:"
   ]
  },
  {
   "cell_type": "markdown",
   "id": "ad332304",
   "metadata": {},
   "source": [
    "Create a `templates `folder in your project directory and add an HTML file named `index.html. `You can then modify your `app.py `to render this template:"
   ]
  },
  {
   "cell_type": "code",
   "execution_count": null,
   "id": "5b551e7b",
   "metadata": {},
   "outputs": [],
   "source": [
    "from flask import Flask, render_template\n",
    "\n",
    "app = Flask(__name__)\n",
    "\n",
    "@app.route('/')\n",
    "def hello():\n",
    "    return render_template('index.html')\n",
    "\n",
    "if __name__ == '__main__':\n",
    "    app.run()\n"
   ]
  },
  {
   "cell_type": "markdown",
   "id": "11bd7987",
   "metadata": {},
   "source": [
    "Note that you'll need to have a templates folder in the same directory as your `app.py` for this to work."
   ]
  },
  {
   "cell_type": "markdown",
   "id": "c01f269a",
   "metadata": {},
   "source": [
    "## 6.3 Building a Basic Web Application\n",
    "In this section, we will show you how to build a basic web application using Flask. We will walk you through the process of creating a Flask app, defining routes, and using templates to render HTML.\n"
   ]
  },
  {
   "cell_type": "markdown",
   "id": "83fe59d7",
   "metadata": {},
   "source": [
    "### 1. Setting Up the Project:"
   ]
  },
  {
   "cell_type": "markdown",
   "id": "8e60016d",
   "metadata": {},
   "source": [
    "Create a new folder for your project. Inside the project folder, create a virtual environment to isolate your project's dependencies. Open your terminal and navigate to your project folder:"
   ]
  },
  {
   "cell_type": "markdown",
   "id": "9f80513b",
   "metadata": {},
   "source": [
    "`cd /path/to/your/project`\n"
   ]
  },
  {
   "cell_type": "markdown",
   "id": "eb3b382b",
   "metadata": {},
   "source": [
    "#### Create a virtual environment:"
   ]
  },
  {
   "cell_type": "markdown",
   "id": "5dc1e8ee",
   "metadata": {},
   "source": [
    "`python -m venv venv`\n"
   ]
  },
  {
   "cell_type": "markdown",
   "id": "ae9c523f",
   "metadata": {},
   "source": [
    "##### Activate the virtual environment:"
   ]
  },
  {
   "cell_type": "markdown",
   "id": "d0813c42",
   "metadata": {},
   "source": [
    "##### On Windows:"
   ]
  },
  {
   "cell_type": "markdown",
   "id": "f90becd3",
   "metadata": {},
   "source": [
    "`venv\\Scripts\\activate`\n"
   ]
  },
  {
   "cell_type": "markdown",
   "id": "421835d0",
   "metadata": {},
   "source": [
    "##### on MacOS or Linux"
   ]
  },
  {
   "cell_type": "markdown",
   "id": "956c84b2",
   "metadata": {},
   "source": [
    "`source venv/bin/activate`\n"
   ]
  },
  {
   "cell_type": "markdown",
   "id": "33cb2728",
   "metadata": {},
   "source": [
    "### 2. Installing Flask:\n",
    "With your virtual environment activated, install Flask using `pip`:\n"
   ]
  },
  {
   "cell_type": "markdown",
   "id": "40c33b87",
   "metadata": {},
   "source": [
    "`pip install Flask `\n"
   ]
  },
  {
   "cell_type": "markdown",
   "id": "d5491b74",
   "metadata": {},
   "source": [
    "### 3. Creating the Flask App:\n",
    "Create a Python file named `app.py `in your project folder and add the following code"
   ]
  },
  {
   "cell_type": "code",
   "execution_count": null,
   "id": "138cf234",
   "metadata": {},
   "outputs": [],
   "source": [
    "from flask import Flask, render_template\n",
    "\n",
    "app = Flask(__name__)\n",
    "\n",
    "@app.route('/')\n",
    "def home():\n",
    "    return \"Welcome to my Flask app!\"\n",
    "\n",
    "@app.route('/about')\n",
    "def about():\n",
    "    return \"This is the about page.\"\n",
    "\n",
    "if __name__ == '__main__':\n",
    "    app.run()\n"
   ]
  },
  {
   "cell_type": "markdown",
   "id": "41d786d6",
   "metadata": {},
   "source": [
    "### 4. Creating Templates:"
   ]
  },
  {
   "cell_type": "markdown",
   "id": "eb9f804f",
   "metadata": {},
   "source": [
    "Create a `templates` folder in your project directory. Inside the `templates` folder, create an HTML file named `index.html`:"
   ]
  },
  {
   "cell_type": "code",
   "execution_count": null,
   "id": "555e686f",
   "metadata": {},
   "outputs": [],
   "source": [
    "<!DOCTYPE html>\n",
    "<html>\n",
    "<head>\n",
    "    <title>My Flask App</title>\n",
    "</head>\n",
    "<body>\n",
    "    <h1>Welcome to my Flask app!</h1>\n",
    "    <p>This is a basic web application.</p>\n",
    "    <a href=\"{{ url_for('about') }}\">About</a>\n",
    "</body>\n",
    "</html>\n"
   ]
  },
  {
   "cell_type": "markdown",
   "id": "5d48d7f8",
   "metadata": {},
   "source": [
    "Create another HTML file named `about.html `inside the `templates `folder:"
   ]
  },
  {
   "cell_type": "code",
   "execution_count": null,
   "id": "5a8b7b6f",
   "metadata": {},
   "outputs": [],
   "source": [
    "<!DOCTYPE html>\n",
    "<html>\n",
    "<head>\n",
    "    <title>About</title>\n",
    "</head>\n",
    "<body>\n",
    "    <h1>About Page</h1>\n",
    "    <p>This is the about page of my Flask app.</p>\n",
    "    <a href=\"{{ url_for('home') }}\">Home</a>\n",
    "</body>\n",
    "</html>\n"
   ]
  },
  {
   "cell_type": "markdown",
   "id": "fc48fdea",
   "metadata": {},
   "source": [
    "### 5. Running the App:\n",
    "Make sure your virtual environment is still activated, and then run the Flask app:"
   ]
  },
  {
   "cell_type": "markdown",
   "id": "0982ccbb",
   "metadata": {},
   "source": [
    "`python app.py`\n"
   ]
  },
  {
   "cell_type": "markdown",
   "id": "1543dc41",
   "metadata": {},
   "source": [
    "Your app will be accessible at `http://localhost:5000/ `and `http://localhost:5000/about.`"
   ]
  },
  {
   "cell_type": "markdown",
   "id": "82535012",
   "metadata": {},
   "source": [
    "Congratulations! You've built a basic web application using Flask. This example demonstrated how to create routes and render HTML content using templates"
   ]
  },
  {
   "cell_type": "markdown",
   "id": "6cd218c2",
   "metadata": {},
   "source": [
    "## 6.4 Using HTML and CSS with Flask\n",
    "HTML and CSS are two key technologies used in web development to create the structure and style of web pages. In this section, we will show you how to use HTML and CSS with Flask to create a dynamic and visually appealing web application"
   ]
  },
  {
   "cell_type": "markdown",
   "id": "2180bdc6",
   "metadata": {},
   "source": [
    "### 1. Using HTML Templates:"
   ]
  },
  {
   "cell_type": "markdown",
   "id": "8f0f1d2d",
   "metadata": {},
   "source": [
    "Flask makes it easy to render HTML templates using the `render_template`function. Templates enable you to separate your HTML structure from your Python code, making your codebase more organized.\n",
    "\n",
    "Inside your `templates` folder, you can create HTML files that Flask will render. For example, let's modify the `index.html `template from before:"
   ]
  },
  {
   "cell_type": "code",
   "execution_count": null,
   "id": "5d8a6efe",
   "metadata": {},
   "outputs": [],
   "source": [
    "<!DOCTYPE html>\n",
    "<html>\n",
    "<head>\n",
    "    <title>My Flask App</title>\n",
    "    <link rel=\"stylesheet\" href=\"{{ url_for('static', filename='style.css') }}\">\n",
    "</head>\n",
    "<body>\n",
    "    <header>\n",
    "        <h1>Welcome to my Flask app!</h1>\n",
    "    </header>\n",
    "    <nav>\n",
    "        <ul>\n",
    "            <li><a href=\"{{ url_for('home') }}\">Home</a></li>\n",
    "            <li><a href=\"{{ url_for('about') }}\">About</a></li>\n",
    "        </ul>\n",
    "    </nav>\n",
    "    <main>\n",
    "        <p>This is a basic web application.</p>\n",
    "    </main>\n",
    "    <footer>\n",
    "        <p>&copy; 2023 My Flask App</p>\n",
    "    </footer>\n",
    "</body>\n",
    "</html>\n"
   ]
  },
  {
   "cell_type": "markdown",
   "id": "5b19f4f9",
   "metadata": {},
   "source": [
    "### 2. Adding CSS Styling:\n",
    "\n",
    "You can enhance the visual design of your web application using CSS. Create a `static `folder in your project directory to store your CSS files. Inside the `static folder`, create a file named `style.css`:\n"
   ]
  },
  {
   "cell_type": "code",
   "execution_count": null,
   "id": "d3666ac5",
   "metadata": {},
   "outputs": [],
   "source": [
    "body {\n",
    "    font-family: Arial, sans-serif;\n",
    "    margin: 0;\n",
    "    padding: 0;\n",
    "    background-color: #f5f5f5;\n",
    "}\n",
    "\n",
    "header {\n",
    "    background-color: #333;\n",
    "    color: #fff;\n",
    "    text-align: center;\n",
    "    padding: 1em 0;\n",
    "}\n",
    "\n",
    "nav ul {\n",
    "    list-style-type: none;\n",
    "    padding: 0;\n",
    "}\n",
    "\n",
    "nav ul li {\n",
    "    display: inline;\n",
    "    margin-right: 20px;\n",
    "}\n",
    "\n",
    "nav ul li a {\n",
    "    text-decoration: none;\n",
    "    color: #333;\n",
    "}\n",
    "\n",
    "main {\n",
    "    padding: 20px;\n",
    "}\n",
    "\n",
    "footer {\n",
    "    text-align: center;\n",
    "    padding: 10px 0;\n",
    "    background-color: #333;\n",
    "    color: #fff;\n",
    "}\n"
   ]
  },
  {
   "cell_type": "markdown",
   "id": "fbefecaf",
   "metadata": {},
   "source": [
    "Link the CSS file in your HTML template using the `<link> `tag in the` <head>` section, as shown earlier in the `index.html `template."
   ]
  },
  {
   "cell_type": "markdown",
   "id": "f75c1c75",
   "metadata": {},
   "source": [
    "### 3. Running the App:\n",
    "Make sure your virtual environment is still activated, and then run the Flask app:"
   ]
  },
  {
   "cell_type": "markdown",
   "id": "5f9a340d",
   "metadata": {},
   "source": [
    "`python app.py`\n"
   ]
  },
  {
   "cell_type": "markdown",
   "id": "fbc61bce",
   "metadata": {},
   "source": [
    "Your app will now have the defined HTML structure and styling from the CSS file."
   ]
  },
  {
   "cell_type": "markdown",
   "id": "88904b25",
   "metadata": {},
   "source": [
    "## 6.5 Conclusion\n"
   ]
  },
  {
   "cell_type": "markdown",
   "id": "e2f93f54",
   "metadata": {},
   "source": [
    "let's summarize the key takeaways:\n",
    "\n",
    "<strong>Flask:</strong> You've gained an introduction to Flask, a micro web framework for Python. You've learned how to install it, create routes, and use templates to render dynamic content.\n",
    "\n",
    "<strong>Building a Web Application:</strong> You've gone through the process of setting up a basic Flask application, defining routes, and creating HTML templates. This foundation can be expanded upon to develop more complex web applications.\n",
    "\n",
    "<strong>HTML and CSS Integration:</strong> You've integrated HTML and CSS into your Flask application to structure and style your web pages. This combination allows you to create visually appealing and dynamic web experiences.\n",
    "\n",
    "<strong>Next Steps:</strong> As you approach the conclusion of this book, you're well-equipped to continue your journey in Python programming and web development. Consider exploring more advanced Flask features, such as handling forms, interacting with databases, and deploying your web application to a live server."
   ]
  },
  {
   "cell_type": "markdown",
   "id": "0d848802",
   "metadata": {},
   "source": [
    "By the end of this chapter, you should have a solid understanding of Flask and how to use it to build a basic web application. You should also be able to use HTML and CSS to create the structure and style of your web pages. In the final chapter, we will wrap up the book and give you some tips for continuing your Python programming journey."
   ]
  },
  {
   "cell_type": "markdown",
   "id": "0a026bae",
   "metadata": {},
   "source": [
    "# Chapter 7: Advanced Topics in Python\n",
    "In this chapter, we will cover some more advanced topics in Python, including regular expressions, working with databases, networking and sockets, concurrency and multi-threading, and best practices for code optimization."
   ]
  },
  {
   "cell_type": "markdown",
   "id": "8e49c96d",
   "metadata": {},
   "source": [
    "## 7.1 Regular Expressions\n",
    "Regular expressions are a powerful tool for working with text data. In this section, we will introduce you to regular expressions in Python, including how to create regular expressions, match patterns in text, and use regular expressions for text manipulation\n"
   ]
  },
  {
   "cell_type": "markdown",
   "id": "961f8550",
   "metadata": {},
   "source": [
    "### 1. Importing the re Module:"
   ]
  },
  {
   "cell_type": "markdown",
   "id": "35fc7e95",
   "metadata": {},
   "source": [
    "Python provides the `re `module, which you need to import in order to work with regular expressions:"
   ]
  },
  {
   "cell_type": "code",
   "execution_count": null,
   "id": "5cf6d860",
   "metadata": {},
   "outputs": [],
   "source": [
    "import re"
   ]
  },
  {
   "cell_type": "markdown",
   "id": "ead95583",
   "metadata": {},
   "source": [
    "### 2. Creating Basic Patterns:\n",
    "Regular expressions are used to define patterns that match specific strings. Here's a simple example"
   ]
  },
  {
   "cell_type": "code",
   "execution_count": null,
   "id": "52bbc20b",
   "metadata": {},
   "outputs": [],
   "source": [
    "pattern = r\"apple\"\n",
    "text = \"I have an apple and an orange.\"\n",
    "\n",
    "match = re.search(pattern, text)\n",
    "if match:\n",
    "    print(\"Found:\", match.group())\n",
    "else:\n",
    "    print(\"Not found.\")\n"
   ]
  },
  {
   "cell_type": "markdown",
   "id": "48efd90a",
   "metadata": {},
   "source": [
    "### 3. Basic Metacharacters:"
   ]
  },
  {
   "cell_type": "markdown",
   "id": "98caa87f",
   "metadata": {},
   "source": [
    "Regular expressions include metacharacters that have special meanings. Some common metacharacters include:\n",
    "\n",
    "<ul><li> `.` :  Matches any character except a newline.</li>\n",
    "\n",
    "<li> `*` : Matches zero or more occurrences of the preceding character.\n",
    "\n",
    "<li> `+` : Matches one or more occurrences of the preceding character.\n",
    "\n",
    "<li> `?` : Matches zero or one occurrence of the preceding character.\n",
    "\n",
    "<li> `[]`: Defines a character set.\n",
    "\n",
    "<li> `^`: Matches the start of a string.\n",
    "\n",
    "<li> `$`: Matches the end of a string.</ul>\n"
   ]
  },
  {
   "cell_type": "markdown",
   "id": "0748a8cf",
   "metadata": {},
   "source": [
    "### 4. Groups and Capturing:\n",
    "Regular expressions can use parentheses `() `to create groups. These groups can be used for capturing portions of the matched text:"
   ]
  },
  {
   "cell_type": "code",
   "execution_count": null,
   "id": "e01a47ee",
   "metadata": {},
   "outputs": [],
   "source": [
    "pattern = r\"(apple|orange)\"\n",
    "text = \"I have an apple and an orange.\"\n",
    "\n",
    "match = re.search(pattern, text)\n",
    "if match:\n",
    "    print(\"Found:\", match.group())\n",
    "else:\n",
    "    print(\"Not found.\")\n"
   ]
  },
  {
   "cell_type": "markdown",
   "id": "5e16b0b3",
   "metadata": {},
   "source": [
    "### 5. Using `re.findall()`:"
   ]
  },
  {
   "cell_type": "markdown",
   "id": "e867ca2c",
   "metadata": {},
   "source": [
    "The `re.findall() `function returns a list of all occurrences of the pattern in the text:"
   ]
  },
  {
   "cell_type": "code",
   "execution_count": null,
   "id": "ad925826",
   "metadata": {},
   "outputs": [],
   "source": [
    "pattern = r\"\\d+\"  # Matches one or more digits\n",
    "text = \"There are 123 apples and 456 oranges.\"\n",
    "\n",
    "numbers = re.findall(pattern, text)\n",
    "print(\"Numbers:\", numbers)\n"
   ]
  },
  {
   "cell_type": "markdown",
   "id": "66b3833b",
   "metadata": {},
   "source": [
    "### 6. Text Manipulation:"
   ]
  },
  {
   "cell_type": "markdown",
   "id": "cdeea885",
   "metadata": {},
   "source": [
    "Regular expressions can also be used for text manipulation, like replacing text:"
   ]
  },
  {
   "cell_type": "code",
   "execution_count": null,
   "id": "ab985ec8",
   "metadata": {},
   "outputs": [],
   "source": [
    "pattern = r\"apple\"\n",
    "replacement = \"banana\"\n",
    "text = \"I have an apple and an orange.\"\n",
    "\n",
    "new_text = re.sub(pattern, replacement, text)\n",
    "print(\"Modified text:\", new_text)\n"
   ]
  },
  {
   "cell_type": "markdown",
   "id": "a8d05689",
   "metadata": {},
   "source": [
    "## 7.2 Working with Databases\n",
    "Python has several libraries that make it easy to work with databases. In this section, we will introduce you to some of the most commonly used database libraries in Python, such as SQLite, MySQL, and PostgreSQL, and show you how to connect to a database, query data, and modify data.\n"
   ]
  },
  {
   "cell_type": "markdown",
   "id": "e41a1441",
   "metadata": {},
   "source": [
    "### 1. SQLite:"
   ]
  },
  {
   "cell_type": "markdown",
   "id": "457aeee7",
   "metadata": {},
   "source": [
    "SQLite is a self-contained, serverless, and file-based relational database. It's a great choice for smaller applications and testing purposes. Here's how to use it in Python:"
   ]
  },
  {
   "cell_type": "code",
   "execution_count": null,
   "id": "8ab7edc8",
   "metadata": {},
   "outputs": [],
   "source": [
    "import sqlite3\n",
    "\n",
    "# Connect to a SQLite database (it will create the database if it doesn't exist)\n",
    "conn = sqlite3.connect('mydatabase.db')\n",
    "\n",
    "# Create a cursor\n",
    "cursor = conn.cursor()\n",
    "\n",
    "# Execute SQL queries\n",
    "cursor.execute('''CREATE TABLE IF NOT EXISTS users (id INTEGER PRIMARY KEY, name TEXT, email TEXT)''')\n",
    "\n",
    "# Insert data\n",
    "cursor.execute(\"INSERT INTO users (name, email) VALUES (?, ?)\", (\"John Doe\", \"john@example.com\"))\n",
    "\n",
    "# Commit changes and close the connection\n",
    "conn.commit()\n",
    "conn.close()\n"
   ]
  },
  {
   "cell_type": "markdown",
   "id": "89a3bd42",
   "metadata": {},
   "source": [
    "### 2. MySQL:"
   ]
  },
  {
   "cell_type": "markdown",
   "id": "ffd9b66b",
   "metadata": {},
   "source": [
    "MySQL is a popular open-source relational database management system. To work with MySQL databases in Python, you can use the `mysql-connector `library:"
   ]
  },
  {
   "cell_type": "code",
   "execution_count": null,
   "id": "022e6766",
   "metadata": {},
   "outputs": [],
   "source": [
    "import mysql.connector\n",
    "\n",
    "# Connect to MySQL database\n",
    "conn = mysql.connector.connect(\n",
    "    host=\"localhost\",\n",
    "    user=\"username\",\n",
    "    password=\"password\",\n",
    "    database=\"mydb\"\n",
    ")\n",
    "\n",
    "cursor = conn.cursor()\n",
    "\n",
    "# Execute SQL queries\n",
    "cursor.execute('''CREATE TABLE IF NOT EXISTS users (id INT AUTO_INCREMENT PRIMARY KEY, name VARCHAR(255), email VARCHAR(255))''')\n",
    "\n",
    "# Insert data\n",
    "cursor.execute(\"INSERT INTO users (name, email) VALUES (%s, %s)\", (\"Jane Smith\", \"jane@example.com\"))\n",
    "\n",
    "# Commit changes and close the connection\n",
    "conn.commit()\n",
    "conn.close()\n"
   ]
  },
  {
   "cell_type": "markdown",
   "id": "effc148e",
   "metadata": {},
   "source": [
    "### 3. PostgreSQL:"
   ]
  },
  {
   "cell_type": "markdown",
   "id": "c2a5bfb6",
   "metadata": {},
   "source": [
    "PostgreSQL is another powerful open-source relational database. The `psycopg2 `library enables interaction with PostgreSQL databases in Python:"
   ]
  },
  {
   "cell_type": "code",
   "execution_count": null,
   "id": "72b24c87",
   "metadata": {},
   "outputs": [],
   "source": [
    "import psycopg2\n",
    "\n",
    "# Connect to PostgreSQL database\n",
    "conn = psycopg2.connect(\n",
    "    host=\"localhost\",\n",
    "    database=\"mydb\",\n",
    "    user=\"username\",\n",
    "    password=\"password\"\n",
    ")\n",
    "\n",
    "cursor = conn.cursor()\n",
    "\n",
    "# Execute SQL queries\n",
    "cursor.execute('''CREATE TABLE IF NOT EXISTS users (id SERIAL PRIMARY KEY, name VARCHAR(255), email VARCHAR(255))''')\n",
    "\n",
    "# Insert data\n",
    "cursor.execute(\"INSERT INTO users (name, email) VALUES (%s, %s)\", (\"Alice Brown\", \"alice@example.com\"))\n",
    "\n",
    "# Commit changes and close the connection\n",
    "conn.commit()\n",
    "conn.close()\n"
   ]
  },
  {
   "cell_type": "markdown",
   "id": "ef3f8d53",
   "metadata": {},
   "source": [
    "## 7.3 Networking and Sockets\n",
    "Python has a built-in module called socket that allows you to create network connections and communicate over the internet. In this section, we will show you how to use sockets in Python to create client-server applications, and communicate over TCP and UDP protocols.\n"
   ]
  },
  {
   "cell_type": "markdown",
   "id": "e67637a9",
   "metadata": {},
   "source": [
    "### 1. TCP Client-Server Example:\n",
    "TCP (Transmission Control Protocol) is a reliable, connection-oriented protocol. Here's a simple example of a TCP client-server interaction using sockets:"
   ]
  },
  {
   "cell_type": "markdown",
   "id": "b30e9314",
   "metadata": {},
   "source": [
    "#### Server:"
   ]
  },
  {
   "cell_type": "code",
   "execution_count": null,
   "id": "814f499c",
   "metadata": {},
   "outputs": [],
   "source": [
    "import socket\n",
    "\n",
    "server_socket = socket.socket(socket.AF_INET, socket.SOCK_STREAM)\n",
    "server_socket.bind((\"127.0.0.1\", 12345))\n",
    "server_socket.listen()\n",
    "\n",
    "print(\"Server listening...\")\n",
    "\n",
    "client_socket, client_address = server_socket.accept()\n",
    "print(\"Client connected:\", client_address)\n",
    "\n",
    "message = \"Hello from the server!\"\n",
    "client_socket.send(message.encode())\n",
    "\n",
    "client_socket.close()\n",
    "server_socket.close()\n"
   ]
  },
  {
   "cell_type": "markdown",
   "id": "e45577b2",
   "metadata": {},
   "source": [
    "#### Client:"
   ]
  },
  {
   "cell_type": "code",
   "execution_count": null,
   "id": "d23e6af7",
   "metadata": {},
   "outputs": [],
   "source": [
    "import socket\n",
    "\n",
    "client_socket = socket.socket(socket.AF_INET, socket.SOCK_STREAM)\n",
    "client_socket.connect((\"127.0.0.1\", 12345))\n",
    "\n",
    "message = client_socket.recv(1024).decode()\n",
    "print(\"Received:\", message)\n",
    "\n",
    "client_socket.close()\n"
   ]
  },
  {
   "cell_type": "markdown",
   "id": "045ebdfb",
   "metadata": {},
   "source": [
    "### 2. UDP Client-Server Example:"
   ]
  },
  {
   "cell_type": "markdown",
   "id": "7299d175",
   "metadata": {},
   "source": [
    "UDP (User Datagram Protocol) is a connectionless protocol. It's useful for scenarios where low latency is important, but reliability is less critical. Here's a simple example of a UDP client-server interaction using sockets:"
   ]
  },
  {
   "cell_type": "markdown",
   "id": "030fbed5",
   "metadata": {},
   "source": [
    "#### Server:"
   ]
  },
  {
   "cell_type": "code",
   "execution_count": null,
   "id": "5e977094",
   "metadata": {},
   "outputs": [],
   "source": [
    "import socket\n",
    "\n",
    "server_socket = socket.socket(socket.AF_INET, socket.SOCK_DGRAM)\n",
    "server_socket.bind((\"127.0.0.1\", 12345))\n",
    "\n",
    "print(\"Server listening...\")\n",
    "\n",
    "message, client_address = server_socket.recvfrom(1024)\n",
    "print(\"Received:\", message.decode())\n",
    "\n",
    "server_socket.close()\n"
   ]
  },
  {
   "cell_type": "markdown",
   "id": "4b86df1e",
   "metadata": {},
   "source": [
    "#### Client:"
   ]
  },
  {
   "cell_type": "markdown",
   "id": "c153d26b",
   "metadata": {},
   "source": [
    "import socket\n",
    "\n",
    "client_socket = socket.socket(socket.AF_INET, socket.SOCK_DGRAM)\n",
    "\n",
    "message = \"Hello from the client!\"\n",
    "client_socket.sendto(message.encode(), (\"127.0.0.1\", 12345))\n",
    "\n",
    "client_socket.close()\n"
   ]
  },
  {
   "cell_type": "markdown",
   "id": "e091cc45",
   "metadata": {},
   "source": [
    "These examples provide a basic understanding of creating client-server applications using sockets in Python. The `socket `module offers many more features and options for handling various network scenarios, error handling, and different socket types."
   ]
  },
  {
   "cell_type": "markdown",
   "id": "b9df584c",
   "metadata": {},
   "source": [
    "## 7.4 Concurrency and Multi-Threading\n",
    "Concurrency and multi-threading are important concepts in computer science that allow programs to perform multiple tasks simultaneously. In this section, we will introduce you to concurrency and multi-threading in Python, including how to create and manage threads, use locks and semaphores for synchronization, and avoid common pitfalls in multi-threaded programs.\n"
   ]
  },
  {
   "cell_type": "markdown",
   "id": "7e36e27f",
   "metadata": {},
   "source": [
    "### 1 Creating Threads:\n",
    "The `threading `module allows you to create and manage threads in Python:"
   ]
  },
  {
   "cell_type": "code",
   "execution_count": null,
   "id": "966952ee",
   "metadata": {},
   "outputs": [],
   "source": [
    "import threading\n",
    "\n",
    "def worker():\n",
    "    print(\"Thread is working.\")\n",
    "\n",
    "thread = threading.Thread(target=worker)\n",
    "thread.start()  # Start the thread\n",
    "thread.join()   # Wait for the thread to complete\n"
   ]
  },
  {
   "cell_type": "markdown",
   "id": "0279e9d3",
   "metadata": {},
   "source": [
    "### 2. Synchronization with Locks:"
   ]
  },
  {
   "cell_type": "markdown",
   "id": "ede91281",
   "metadata": {},
   "source": [
    "When multiple threads access shared resources, you need synchronization to prevent conflicts. Locks help ensure only one thread accesses the shared resource at a time:"
   ]
  },
  {
   "cell_type": "code",
   "execution_count": null,
   "id": "89f1a87d",
   "metadata": {},
   "outputs": [],
   "source": [
    "import threading\n",
    "\n",
    "counter = 0\n",
    "counter_lock = threading.Lock()\n",
    "\n",
    "def increment():\n",
    "    global counter\n",
    "    with counter_lock:\n",
    "        counter += 1\n",
    "\n",
    "threads = []\n",
    "for _ in range(10):\n",
    "    thread = threading.Thread(target=increment)\n",
    "    threads.append(thread)\n",
    "    thread.start()\n",
    "\n",
    "for thread in threads:\n",
    "    thread.join()\n",
    "\n",
    "print(\"Counter:\", counter)\n"
   ]
  },
  {
   "cell_type": "markdown",
   "id": "da47e5db",
   "metadata": {},
   "source": [
    "### 3. Using Semaphores:"
   ]
  },
  {
   "cell_type": "markdown",
   "id": "f553c204",
   "metadata": {},
   "source": [
    "Semaphores allow you to control access to a limited number of resources. They can be used to limit the number of threads accessing a shared resource simultaneously:"
   ]
  },
  {
   "cell_type": "code",
   "execution_count": null,
   "id": "f3a13821",
   "metadata": {},
   "outputs": [],
   "source": [
    "import threading\n",
    "\n",
    "semaphore = threading.Semaphore(value=3)  # Allow 3 threads at a time\n",
    "\n",
    "def worker():\n",
    "    with semaphore:\n",
    "        print(\"Thread is working.\")\n",
    "\n",
    "threads = []\n",
    "for _ in range(10):\n",
    "    thread = threading.Thread(target=worker)\n",
    "    threads.append(thread)\n",
    "    thread.start()\n",
    "\n",
    "for thread in threads:\n",
    "    thread.join()\n"
   ]
  },
  {
   "cell_type": "markdown",
   "id": "064fae0e",
   "metadata": {},
   "source": [
    "### 4. Common Pitfalls and GIL:"
   ]
  },
  {
   "cell_type": "markdown",
   "id": "131fad2d",
   "metadata": {},
   "source": [
    "Python's Global Interpreter Lock (GIL) restricts the execution of multiple threads in a single process. This means that even though you have multiple threads, only one thread can execute Python bytecode at a time. This can impact the performance of CPU-bound tasks.\n",
    "\n",
    "However, the GIL is released during I/O-bound operations, allowing for better concurrency in such scenarios. For CPU-bound tasks, using multiprocessing instead of threading can be more effective"
   ]
  },
  {
   "cell_type": "code",
   "execution_count": null,
   "id": "9281543d",
   "metadata": {},
   "outputs": [],
   "source": [
    "import threading\n",
    "\n",
    "def worker():\n",
    "    global counter\n",
    "    for _ in range(100000):\n",
    "        with counter_lock:\n",
    "            counter += 1\n",
    "\n",
    "counter = 0\n",
    "counter_lock = threading.Lock()\n",
    "\n",
    "threads = []\n",
    "for _ in range(10):\n",
    "    thread = threading.Thread(target=worker)\n",
    "    threads.append(thread)\n",
    "    thread.start()\n",
    "\n",
    "for thread in threads:\n",
    "    thread.join()\n",
    "\n",
    "print(\"Counter:\", counter)\n"
   ]
  },
  {
   "cell_type": "markdown",
   "id": "edf1c4e1",
   "metadata": {},
   "source": [
    "### 2. Thread Safety and Deadlocks:"
   ]
  },
  {
   "cell_type": "markdown",
   "id": "d9304fb7",
   "metadata": {},
   "source": [
    "When working with threads, be aware of thread safety and potential deadlocks. Deadlocks occur when multiple threads are waiting for resources that each other holds. Proper synchronization and careful design can help avoid these issues."
   ]
  },
  {
   "cell_type": "code",
   "execution_count": null,
   "id": "d66e830d",
   "metadata": {},
   "outputs": [],
   "source": [
    "import threading\n",
    "\n",
    "lock1 = threading.Lock()\n",
    "lock2 = threading.Lock()\n",
    "\n",
    "def thread1():\n",
    "    with lock1:\n",
    "        print(\"Thread 1 acquired lock1\")\n",
    "        with lock2:\n",
    "            print(\"Thread 1 acquired lock2\")\n",
    "\n",
    "def thread2():\n",
    "    with lock2:\n",
    "        print(\"Thread 2 acquired lock2\")\n",
    "        with lock1:\n",
    "            print(\"Thread 2 acquired lock1\")\n",
    "\n",
    "thread1 = threading.Thread(target=thread1)\n",
    "thread2 = threading.Thread(target=thread2)\n",
    "\n",
    "thread1.start()\n",
    "thread2.start()\n",
    "\n",
    "thread1.join()\n",
    "thread2.join()\n",
    "\n",
    "print(\"Threads finished.\")\n"
   ]
  },
  {
   "cell_type": "markdown",
   "id": "968ecaad",
   "metadata": {},
   "source": [
    "Note that the above code examples illustrate the concepts and potential pitfalls related to multi-threading. The deadlock example is intentionally designed to create a deadlock situation. In practice, avoiding deadlocks requires careful design and synchronization strategies.\n",
    "\n",
    "Additionally, the code examples for common pitfalls highlight the GIL's impact on performance in CPU-bound scenarios. If you're dealing with CPU-bound tasks, you might consider using the `multiprocessing` module to achieve true parallelism by utilizing multiple processes instead of threads."
   ]
  },
  {
   "cell_type": "markdown",
   "id": "681162df",
   "metadata": {},
   "source": [
    "## 7.5 Best Practices and Code Optimization\n",
    "In this section, we will discuss some best practices for Python programming, such as using virtual environments, writing efficient and readable code, and optimizing code for performance.\n"
   ]
  },
  {
   "cell_type": "markdown",
   "id": "9e1e6801",
   "metadata": {},
   "source": [
    "### 1. Using Virtual Environments:\n",
    "Virtual environments isolate your Python project's dependencies from system-wide packages. This helps avoid conflicts and ensures consistent environments across projects:"
   ]
  },
  {
   "cell_type": "markdown",
   "id": "7a6b7417",
   "metadata": {},
   "source": [
    "# Create a virtual environment\n",
    "python -m venv myenv\n",
    "\n",
    "# Activate the virtual environment\n",
    "# On Windows\n",
    "myenv\\Scripts\\activate\n",
    "# On macOS and Linux\n",
    "source myenv/bin/activate\n",
    "\n",
    "# Install packages within the virtual environment\n",
    "pip install package_name\n",
    "\n",
    "# Deactivate the virtual environment\n",
    "deactivate\n"
   ]
  },
  {
   "cell_type": "markdown",
   "id": "f8b2e064",
   "metadata": {},
   "source": [
    "### 2. Writing Readable Code:"
   ]
  },
  {
   "cell_type": "markdown",
   "id": "87ef74a3",
   "metadata": {},
   "source": [
    "Writing code that is easy to understand and maintain is crucial for collaboration and long-term projects. Follow the PEP 8 style guide for consistent formatting and naming conventions."
   ]
  },
  {
   "cell_type": "markdown",
   "id": "44bf68bf",
   "metadata": {},
   "source": [
    "### 3. Efficiency and Optimization:\n",
    "\n",
    "Use Built-in Functions and Libraries: Python's standard library contains many efficient built-in functions and modules for common tasks. Utilize them to avoid reinventing the wheel.\n",
    "\n",
    "#### List Comprehensions: \n",
    "Use list comprehensions for concise and efficient list creation.\n",
    "\n",
    "#### Generators:\n",
    "When processing large datasets, consider using generators instead of lists to conserve memory.\n",
    "\n",
    "#### Profiling: \n",
    "Profile your code using tools like cProfile or line_profiler to identify performance bottlenecks.\n",
    "\n",
    "#### Algorithmic Optimization:\n",
    "Choose the right algorithms and data structures for your tasks. Sometimes, a more efficient algorithm can make a significant difference.\n",
    "\n",
    "#### Avoid Global Variables: \n",
    "Minimize the use of global variables. They can lead to unexpected behavior and make code harder to understand.\n",
    "\n",
    "#### Avoid Unnecessary Loops: \n",
    "Use vectorized operations provided by libraries like NumPy for numerical computations instead of manual loops.\n",
    "\n",
    "#### Cache Results: \n",
    "If you have expensive computations that yield the same result multiple times, consider caching the results to improve performance.\n",
    "\n",
    "#### Use Libraries and Modules: \n",
    "Leverage third-party libraries and modules whenever possible. They often provide optimized implementations and can save you development time."
   ]
  },
  {
   "cell_type": "markdown",
   "id": "0f474aa3",
   "metadata": {},
   "source": [
    "### 4. Documentation and Comments:\n",
    "\n",
    "Document your code using comments, docstrings, and meaningful variable and function names. Clear documentation helps you and others understand the code's purpose and functionality."
   ]
  },
  {
   "cell_type": "markdown",
   "id": "83fafb8c",
   "metadata": {},
   "source": [
    "### 5. Testing and Quality Assurance:\n",
    "Write unit tests to ensure that your code functions correctly. Consider using testing frameworks like `unittest `or `pytest `to automate testing."
   ]
  },
  {
   "cell_type": "markdown",
   "id": "20e16002",
   "metadata": {},
   "source": [
    "## 7.6 Conclusion\n",
    "\n",
    "\n"
   ]
  },
  {
   "cell_type": "markdown",
   "id": "ae7091a3",
   "metadata": {},
   "source": [
    "To recap:\n",
    "\n",
    "### Regular Expressions:\n",
    "You've learned how to work with regular expressions, a powerful tool for text manipulation and pattern matching.\n",
    "\n",
    "### Working with Databases:\n",
    "You're now familiar with how to connect to and interact with databases using Python, covering SQLite, MySQL, and PostgreSQL.\n",
    "\n",
    "### Networking and Sockets: \n",
    "You've gained an introduction to creating networked applications using the socket module, including TCP and UDP protocols.\n",
    "\n",
    "### Concurrency and Multi-Threading: \n",
    "You've delved into the world of concurrency and multi-threading, exploring thread creation, synchronization, and tackling common pitfalls.\n",
    "\n",
    "Best Practices and Code Optimization: You've learned about the importance of adhering to best practices for code organization, readability, and efficiency, including optimization strategies."
   ]
  },
  {
   "cell_type": "markdown",
   "id": "95e73c73",
   "metadata": {},
   "source": [
    "By the end of this chapter, you should have a solid understanding of some of the more advanced topics in Python, including regular expressions, working with databases, networking and sockets, concurrency and multi-threading, and best practices for code optimization. You should also be able to apply these concepts to solve more complex programming problems. In the final chapter, we will wrap up the book and give you some tips for continuing your Python programming journey."
   ]
  },
  {
   "cell_type": "markdown",
   "id": "170cada2",
   "metadata": {},
   "source": [
    "# Chapter 8: Code Style and Standards"
   ]
  },
  {
   "cell_type": "markdown",
   "id": "a3bb7d68",
   "metadata": {},
   "source": [
    "## 8.1 Introduction to Code Style and Standards\n",
    "Code style and standards are important for several reasons, such as making your code more readable, maintainable, and scalable. In this section, we will discuss the importance of code style and standards, and provide an overview of some common standards and best practices.\n"
   ]
  },
  {
   "cell_type": "markdown",
   "id": "895a0555",
   "metadata": {},
   "source": [
    "### 1.  Code Readability and Maintainability:\n",
    "\n",
    "Code is often read more frequently than it's written. Clear and consistent code style improves readability, making it easier for you and others to understand, modify, and debug code. This is particularly vital when working in teams or revisiting code after a period of time."
   ]
  },
  {
   "cell_type": "code",
   "execution_count": null,
   "id": "3c3522ee",
   "metadata": {},
   "outputs": [],
   "source": [
    "# Project 1: Calculate Circle Area\n",
    "\n",
    "import math\n",
    "\n",
    "# Constants\n",
    "CIRCLE_RADIUS = 5\n",
    "\n",
    "def calculate_circle_area(radius):\n",
    "    \"\"\"\n",
    "    Calculate the area of a circle.\n",
    "    \n",
    "    Args:\n",
    "        radius (float): The radius of the circle.\n",
    "        \n",
    "    Returns:\n",
    "        float: The area of the circle.\n",
    "    \"\"\"\n",
    "    area = math.pi * radius ** 2\n",
    "    return area\n",
    "\n",
    "if __name__ == \"__main__\":\n",
    "    area = calculate_circle_area(CIRCLE_RADIUS)\n",
    "    print(\"Circle Area:\", area)\n",
    "\n",
    "\n",
    "# Project 2: Calculate Triangle Area\n",
    "\n",
    "# Constants\n",
    "TRIANGLE_BASE = 10\n",
    "TRIANGLE_HEIGHT = 7\n",
    "\n",
    "def calculate_triangle_area(base, height):\n",
    "    \"\"\"\n",
    "    Calculate the area of a triangle.\n",
    "    \n",
    "    Args:\n",
    "        base (float): The base of the triangle.\n",
    "        height (float): The height of the triangle.\n",
    "        \n",
    "    Returns:\n",
    "        float: The area of the triangle.\n",
    "    \"\"\"\n",
    "    area = 0.5 * base * height\n",
    "    return area\n",
    "\n",
    "if __name__ == \"__main__\":\n",
    "    area = calculate_triangle_area(TRIANGLE_BASE, TRIANGLE_HEIGHT)\n",
    "    print(\"Triangle Area:\", area)\n"
   ]
  },
  {
   "cell_type": "markdown",
   "id": "972b68c7",
   "metadata": {},
   "source": [
    "### Consistency Across Projects:\n",
    "\n",
    "Following a set of standards ensures a consistent appearance and structure across projects. This consistency reduces cognitive load when switching between different projects and helps maintain a coherent coding style."
   ]
  },
  {
   "cell_type": "markdown",
   "id": "825e4a11",
   "metadata": {},
   "source": [
    "Suppose you're working on two different projects: one involves handling customer information, and the other involves managing product data. By maintaining a consistent coding style and structure across both projects, you make it easier to switch between them and maintain a coherent coding style."
   ]
  },
  {
   "cell_type": "code",
   "execution_count": null,
   "id": "b955102c",
   "metadata": {},
   "outputs": [],
   "source": [
    "# Project 1: Customer Information\n",
    "\n",
    "class Customer:\n",
    "    def __init__(self, name, email):\n",
    "        self.name = name\n",
    "        self.email = email\n",
    "\n",
    "    def display_info(self):\n",
    "        print(f\"Customer Name: {self.name}\")\n",
    "        print(f\"Customer Email: {self.email}\")\n",
    "\n",
    "if __name__ == \"__main__\":\n",
    "    customer = Customer(\"Alice Smith\", \"alice@example.com\")\n",
    "    customer.display_info()\n",
    "\n",
    "\n",
    "# Project 2: Product Management\n",
    "\n",
    "class Product:\n",
    "    def __init__(self, name, price):\n",
    "        self.name = name\n",
    "        self.price = price\n",
    "\n",
    "    def display_info(self):\n",
    "        print(f\"Product Name: {self.name}\")\n",
    "        print(f\"Product Price: ${self.price:.2f}\")\n",
    "\n",
    "if __name__ == \"__main__\":\n",
    "    product = Product(\"Widget\", 19.99)\n",
    "    product.display_info()\n"
   ]
  },
  {
   "cell_type": "markdown",
   "id": "c428c59c",
   "metadata": {},
   "source": [
    "In this example:\n",
    "\n",
    "The naming conventions for classes (`Customer`, `Product`), methods (`__init__`, `display_info`), and variables (`name`, `email`, `price`) are consistent across both projects.\n",
    "The use of docstrings, indentation, and method structures is the same in both projects.\n",
    "The if `__name__ == \"__main__\"`: blocks are used consistently for test code execution"
   ]
  },
  {
   "cell_type": "markdown",
   "id": "ecd186b2",
   "metadata": {},
   "source": [
    "### 3. Reduced Likelihood of Errors:\n",
    "\n",
    "Clear coding standards can catch syntax errors, logic flaws, and other issues early. This can prevent bugs from arising due to inconsistent or confusing code structures."
   ]
  },
  {
   "cell_type": "code",
   "execution_count": null,
   "id": "3ad4c2e6",
   "metadata": {},
   "outputs": [],
   "source": [
    "# Inconsistent Naming and Lack of Clear Structure\n",
    "\n",
    "circle_radius = 5\n",
    "rectangle_width = 10\n",
    "rectangle_height = 7\n",
    "\n",
    "# Incorrect calculation due to inconsistency\n",
    "area_of_circle = 3.14 * circle_radius ** 2\n",
    "area_of_rectangle = rectangle_width * rectangle_height\n",
    "\n",
    "# Print the calculated areas\n",
    "print(\"Circle Area:\", area_of_circle)\n",
    "print(\"Rectangle Area:\", area_of_rectangle)\n",
    "\n",
    "\n",
    "# Consistent Naming and Clear Structure\n",
    "\n",
    "def calculate_circle_area(radius):\n",
    "    \"\"\"\n",
    "    Calculate the area of a circle.\n",
    "    \n",
    "    Args:\n",
    "        radius (float): The radius of the circle.\n",
    "        \n",
    "    Returns:\n",
    "        float: The area of the circle.\n",
    "    \"\"\"\n",
    "    return math.pi * radius ** 2\n",
    "\n",
    "def calculate_rectangle_area(width, height):\n",
    "    \"\"\"\n",
    "    Calculate the area of a rectangle.\n",
    "    \n",
    "    Args:\n",
    "        width (float): The width of the rectangle.\n",
    "        height (float): The height of the rectangle.\n",
    "        \n",
    "    Returns:\n",
    "        float: The area of the rectangle.\n",
    "    \"\"\"\n",
    "    return width * height\n",
    "\n",
    "if __name__ == \"__main__\":\n",
    "    circle_radius = 5\n",
    "    rectangle_width = 10\n",
    "    rectangle_height = 7\n",
    "    \n",
    "    area_of_circle = calculate_circle_area(circle_radius)\n",
    "    area_of_rectangle = calculate_rectangle_area(rectangle_width, rectangle_height)\n",
    "    \n",
    "    print(\"Circle Area:\", area_of_circle)\n",
    "    print(\"Rectangle Area:\", area_of_rectangle)\n"
   ]
  },
  {
   "cell_type": "markdown",
   "id": "c74827d2",
   "metadata": {},
   "source": [
    "In the first part of the example, inconsistent variable naming and lack of clear structure lead to errors and confusion. In contrast, the second part follows consistent naming conventions, uses clear functions, and provides meaningful comments and docstrings. This not only prevents bugs but also makes the code more understandable and maintainable."
   ]
  },
  {
   "cell_type": "markdown",
   "id": "1fccddb5",
   "metadata": {},
   "source": [
    "### 4. Ease of Collaboration:\n",
    "\n",
    "When team members follow the same coding standards, collaborating on projects becomes smoother. Code reviews become more efficient, and it's easier to understand and integrate contributions."
   ]
  },
  {
   "cell_type": "code",
   "execution_count": null,
   "id": "7eeb6163",
   "metadata": {},
   "outputs": [],
   "source": [
    "# Developer A: Circle Area Calculation\n",
    "\n",
    "import math\n",
    "\n",
    "class Circle:\n",
    "    def __init__(self, radius):\n",
    "        self.radius = radius\n",
    "\n",
    "    def calculate_area(self):\n",
    "        return math.pi * self.radius ** 2\n",
    "\n",
    "\n",
    "# Developer B: Triangle Area Calculation\n",
    "\n",
    "class Triangle:\n",
    "    def __init__(self, base, height):\n",
    "        self.base = base\n",
    "        self.height = height\n",
    "\n",
    "    def calculate_area(self):\n",
    "        return 0.5 * self.base * self.height\n",
    "\n",
    "\n",
    "# Collaborative Code\n",
    "\n",
    "if __name__ == \"__main__\":\n",
    "    circle = Circle(5)\n",
    "    triangle = Triangle(10, 7)\n",
    "    \n",
    "    circle_area = circle.calculate_area()\n",
    "    triangle_area = triangle.calculate_area()\n",
    "    \n",
    "    print(\"Circle Area:\", circle_area)\n",
    "    print(\"Triangle Area:\", triangle_area)\n"
   ]
  },
  {
   "cell_type": "markdown",
   "id": "f9a291ef",
   "metadata": {},
   "source": [
    "In this example:\n",
    "\n",
    "Developer A and Developer B each work on different geometric area calculations using consistent class structures and method naming.\n",
    "\n",
    "Both developers adhere to the same naming conventions and structure for classes and methods.\n",
    "\n",
    "The collaborative code block shows how their contributions are integrated and executed seamlessly.\n",
    "\n",
    "Following the same coding standards results in a smoother collaboration process:\n",
    "\n",
    "During code reviews, team members can quickly understand the code and provide feedback.\n",
    "\n",
    "Contributions can be easily integrated without having to adjust for inconsistent coding styles.\n",
    "\n",
    "The project maintains a coherent and unified coding style, even when multiple developers are involved."
   ]
  },
  {
   "cell_type": "markdown",
   "id": "5027fcea",
   "metadata": {},
   "source": []
  },
  {
   "cell_type": "markdown",
   "id": "fe7a9634",
   "metadata": {},
   "source": [
    "### 5. Adherence to PEP 8:\n",
    "\n",
    "Introduce the Python Enhancement Proposal 8 (PEP 8), the official style guide for Python code. Explain how it covers various aspects of code style, including indentation, naming conventions, and formatting."
   ]
  },
  {
   "cell_type": "code",
   "execution_count": null,
   "id": "e499b56d",
   "metadata": {},
   "outputs": [],
   "source": [
    "# PEP 8 Example\n",
    "\n",
    "class Animal:\n",
    "    def __init__(self, name, species):\n",
    "        self.name = name\n",
    "        self.species = species\n",
    "\n",
    "    def make_sound(self, sound):\n",
    "        print(f\"{self.name} makes a {sound} sound.\")\n",
    "\n",
    "def main():\n",
    "    dog = Animal(\"Buddy\", \"Dog\")\n",
    "    cat = Animal(\"Whiskers\", \"Cat\")\n",
    "\n",
    "    dog.make_sound(\"bark\")\n",
    "    cat.make_sound(\"meow\")\n",
    "\n",
    "if __name__ == \"__main__\":\n",
    "    main()"
   ]
  },
  {
   "cell_type": "markdown",
   "id": "da6dbe23",
   "metadata": {},
   "source": [
    "\n",
    "In this example:\n",
    "\n",
    "Class names (`Animal`) follow the CapWords (CamelCase) convention.\n",
    "\n",
    "Method names (`__init__`, `make_sound`, `main`) use lowercase letters with underscores for readability.\n",
    "\n",
    "Variable names (`name`, `species`, `sound`, `dog`, `cat`) are lowercase with underscores for multiple words.\n",
    "\n",
    "Proper indentation is maintained using four spaces.\n",
    "\n",
    "PEP 8 recommends keeping lines under 79 characters, so lines are kept within this limit."
   ]
  },
  {
   "cell_type": "markdown",
   "id": "33ff2620",
   "metadata": {},
   "source": [
    "### 6. Whitespace and Indentation:\n",
    "\n",
    "Discuss the significance of consistent whitespace and indentation. Explain how improper indentation can lead to syntax errors or unintended behavior."
   ]
  },
  {
   "cell_type": "code",
   "execution_count": null,
   "id": "e117e741",
   "metadata": {},
   "outputs": [],
   "source": [
    "# Inconsistent Indentation (Causing Syntax Error)\n",
    "\n",
    "def print_numbers():\n",
    "print(\"1\")\n",
    "    print(\"2\")\n",
    "    print(\"3\")\n",
    "\n",
    "# Calling the function\n",
    "print_numbers()\n"
   ]
  },
  {
   "cell_type": "code",
   "execution_count": null,
   "id": "56b48063",
   "metadata": {},
   "outputs": [],
   "source": [
    "# Corrected Indentation\n",
    "\n",
    "def print_numbers():\n",
    "    print(\"1\")\n",
    "    print(\"2\")\n",
    "    print(\"3\")\n",
    "\n",
    "# Calling the function\n",
    "print_numbers()\n"
   ]
  },
  {
   "cell_type": "markdown",
   "id": "78dc2c66",
   "metadata": {},
   "source": [
    "### 7. Naming Conventions:\n",
    "\n",
    "Cover the importance of using meaningful and descriptive variable, function, and class names. Explain how following naming conventions enhances code clarity and communicates intent."
   ]
  },
  {
   "cell_type": "code",
   "execution_count": null,
   "id": "feb62a2e",
   "metadata": {},
   "outputs": [],
   "source": [
    "# Poor Naming Conventions\n",
    "\n",
    "def f(x):\n",
    "    return x ** 2\n",
    "\n",
    "a = 5\n",
    "b = f(a)\n",
    "\n",
    "class MyClass:\n",
    "    def __init__(self, p):\n",
    "        self.p = p\n",
    "\n",
    "obj = MyClass(10)\n",
    "c = obj.p\n"
   ]
  },
  {
   "cell_type": "code",
   "execution_count": null,
   "id": "bd1348cc",
   "metadata": {},
   "outputs": [],
   "source": [
    "# Improved Naming Conventions\n",
    "\n",
    "def calculate_square(x):\n",
    "    return x ** 2\n",
    "\n",
    "input_number = 5\n",
    "squared_number = calculate_square(input_number)\n",
    "\n",
    "class Shape:\n",
    "    def __init__(self, side_length):\n",
    "        self.side_length = side_length\n",
    "\n",
    "shape_object = Shape(10)\n",
    "side_length_value = shape_object.side_length\n"
   ]
  },
  {
   "cell_type": "markdown",
   "id": "bfe57bd8",
   "metadata": {},
   "source": [
    "In the improved version:\n",
    "\n",
    "Function name `calculate_square` clearly communicates the purpose of the function.\n",
    "\n",
    "Variable names like `input_number`, `squared_number`, `shape_object`, and `side_length_value provide meaningful context.\n",
    "\n",
    "Class name `Shape` reflects the concept being modeled, and the attribute `side_length` is self-explanatory."
   ]
  },
  {
   "cell_type": "markdown",
   "id": "3e1ee73e",
   "metadata": {},
   "source": [
    "### 8. Avoiding Magic Numbers:\n",
    "\n",
    "Explain the concept of \"magic numbers\" (hard-coded values without context) and encourage using named constants or variables to improve code maintainability."
   ]
  },
  {
   "cell_type": "code",
   "execution_count": null,
   "id": "466df982",
   "metadata": {},
   "outputs": [],
   "source": [
    "\n",
    "# Code with Magic Numbers\n",
    "\n",
    "def calculate_area(radius):\n",
    "    return 3.14 * radius ** 2\n",
    "\n",
    "circle_radius = 5\n",
    "circle_area = calculate_area(circle_radius)\n",
    "print(\"Circle Area:\", circle_area)\n",
    "\n",
    "\n",
    "# Improved Code with Named Constant\n",
    "\n",
    "PI = 3.14\n",
    "\n",
    "def calculate_area_with_constant(radius):\n",
    "    return PI * radius ** 2\n",
    "\n",
    "circle_radius = 5\n",
    "circle_area = calculate_area_with_constant(circle_radius)\n",
    "print(\"Circle Area:\", circle_area)\n"
   ]
  },
  {
   "cell_type": "markdown",
   "id": "8453abc6",
   "metadata": {},
   "source": [
    "### 9. Line Length and Comments:\n",
    "\n",
    "Highlight the recommended line length and how breaking lines improves code readability. Discuss the importance of comments to explain complex logic, assumptions, and decisions."
   ]
  },
  {
   "cell_type": "code",
   "execution_count": null,
   "id": "0e3dd0d3",
   "metadata": {},
   "outputs": [],
   "source": [
    "# Code with Long Lines and Lack of Comments\n",
    "\n",
    "def calculate_total_price(quantity, unit_price, discount_percentage):\n",
    "    total = quantity * unit_price - quantity * unit_price * discount_percentage / 100\n",
    "    return total\n",
    "\n",
    "# Calling the function\n",
    "total_price = calculate_total_price(10, 25.5, 10)\n",
    "print(\"Total Price:\", total_price)\n"
   ]
  },
  {
   "cell_type": "markdown",
   "id": "d3295718",
   "metadata": {},
   "source": [
    "Here's the improved version:"
   ]
  },
  {
   "cell_type": "code",
   "execution_count": null,
   "id": "79f40d94",
   "metadata": {},
   "outputs": [],
   "source": [
    "# Improved Code with Line Breaks and Comments\n",
    "\n",
    "def calculate_total_price(quantity, unit_price, discount_percentage):\n",
    "    \"\"\"\n",
    "    Calculate the total price after applying a discount.\n",
    "    \n",
    "    Args:\n",
    "        quantity (int): The quantity of items.\n",
    "        unit_price (float): The unit price of each item.\n",
    "        discount_percentage (float): The discount percentage.\n",
    "        \n",
    "    Returns:\n",
    "        float: The total price after discount.\n",
    "    \"\"\"\n",
    "    discount_amount = quantity * unit_price * discount_percentage / 100\n",
    "    total_price = quantity * unit_price - discount_amount\n",
    "    return total_price\n",
    "\n",
    "# Calling the function\n",
    "quantity = 10\n",
    "unit_price = 25.5\n",
    "discount_percentage = 10\n",
    "\n",
    "total_price = calculate_total_price(quantity, unit_price, discount_percentage)\n",
    "print(\"Total Price:\", total_price)\n"
   ]
  },
  {
   "cell_type": "markdown",
   "id": "c8302e29",
   "metadata": {},
   "source": [
    "In the improved version:\n",
    "\n",
    "Line breaks are used to split the calculation into multiple lines, improving readability.\n",
    "\n",
    "A docstring is provided to explain the purpose of the function, its arguments, and the return value.\n",
    "\n",
    "Comments are added to explain the steps of the calculation, assumptions, and decisions made."
   ]
  },
  {
   "cell_type": "markdown",
   "id": "96c7714f",
   "metadata": {},
   "source": [
    "### 10. Linting Tools and Automation:\n",
    "\n",
    "Introduce the concept of linting tools like Flake8, pylint, and black. Explain how these tools automate style checks and help maintain code quality."
   ]
  },
  {
   "cell_type": "markdown",
   "id": "1eb81716",
   "metadata": {},
   "source": [
    "Suppose you have a Python script with some formatting issues and you want to use Flake8, pylint, and black to identify and fix those issues."
   ]
  },
  {
   "cell_type": "code",
   "execution_count": null,
   "id": "3ef478ec",
   "metadata": {},
   "outputs": [],
   "source": [
    "# Code with Formatting Issues\n",
    "\n",
    "def calculate_square(x):\n",
    "return x ** 2\n",
    "\n",
    "print ( calculate_square( 5 ) )\n",
    "\n",
    "\n",
    "# After Running Linting and Formatting Tools\n",
    "\n",
    "def calculate_square(x):\n",
    "    return x ** 2\n",
    "\n",
    "print(calculate_square(5))\n"
   ]
  },
  {
   "cell_type": "markdown",
   "id": "d6cc6b92",
   "metadata": {},
   "source": [
    "## 8.2 Writing Efficient Code\n",
    "Writing efficient code is important for improving the performance and scalability of your programs. In this section, we will introduce you to some best practices for writing efficient code, such as avoiding unnecessary computations, using built-in functions, and optimizing loops\n"
   ]
  },
  {
   "cell_type": "markdown",
   "id": "234b4613",
   "metadata": {},
   "source": [
    "### 1.  Avoid Unnecessary Computations:\n",
    "\n",
    "Identify and eliminate redundant calculations or operations.\n",
    "\n",
    "Store intermediate results in variables to avoid recomputing them multiple times. \n",
    "code please"
   ]
  },
  {
   "cell_type": "code",
   "execution_count": null,
   "id": "9be532a8",
   "metadata": {},
   "outputs": [],
   "source": [
    "# Code with Unnecessary Computations\n",
    "\n",
    "def calculate_square_and_cube(x):\n",
    "    square = x ** 2\n",
    "    cube = x ** 3\n",
    "    total = square + cube\n",
    "    return total\n",
    "\n",
    "number = 5\n",
    "result = calculate_square_and_cube(number)\n",
    "print(\"Result:\", result)\n",
    "\n",
    "\n",
    "# Improved Code with Stored Intermediate Result\n",
    "\n",
    "def calculate_square_and_cube_optimized(x):\n",
    "    square = x ** 2\n",
    "    cube = square * x  # Reuse the square value\n",
    "    total = square + cube\n",
    "    return total\n",
    "\n",
    "number = 5\n",
    "result = calculate_square_and_cube_optimized(number)\n",
    "print(\"Result:\", result)\n"
   ]
  },
  {
   "cell_type": "markdown",
   "id": "4b3f29ac",
   "metadata": {},
   "source": [
    "In the first part of the example, the original code calculates the `square` and cube of the same number separately, resulting in redundant calculations. The intermediate square value is calculated twice.\n",
    "\n",
    "In the improved version, the `square` value is calculated only once and then reused to calculate the cube. This eliminates the redundant computation and improves the efficiency of the code.\n",
    "\n",
    "By storing and reusing intermediate results, you can avoid unnecessary calculations and reduce the overall computational load, resulting in more efficient code execution"
   ]
  },
  {
   "cell_type": "markdown",
   "id": "e878f2cb",
   "metadata": {},
   "source": [
    "### 2.  Use Built-in Functions and Libraries:\n",
    "\n",
    "Python provides a rich set of built-in functions and libraries optimized for performance.\n",
    "\n",
    "Utilize functions like `map()`, `filter()`, and `reduce()` for efficient data processing.\n",
    "Leverage libraries like numpy for numerical operations and `collections` for specialized data structures.\n"
   ]
  },
  {
   "cell_type": "code",
   "execution_count": null,
   "id": "5c75bdc9",
   "metadata": {},
   "outputs": [],
   "source": [
    "# Using Built-in Functions and Libraries\n",
    "\n",
    "# Using map() to calculate squares of numbers\n",
    "numbers = [1, 2, 3, 4, 5]\n",
    "squares = list(map(lambda x: x ** 2, numbers))\n",
    "print(\"Squares:\", squares)\n",
    "\n",
    "# Using filter() to extract even numbers\n",
    "evens = list(filter(lambda x: x % 2 == 0, numbers))\n",
    "print(\"Even Numbers:\", evens)\n",
    "\n",
    "\n",
    "# Using numpy for numerical operations\n",
    "\n",
    "import numpy as np\n",
    "\n",
    "# Create an array using numpy\n",
    "array = np.array([1, 2, 3, 4, 5])\n",
    "\n",
    "# Perform element-wise square operation\n",
    "squares_array = np.square(array)\n",
    "print(\"Squares using numpy:\", squares_array)\n",
    "\n",
    "# Calculate the mean of the array\n",
    "mean = np.mean(array)\n",
    "print(\"Mean using numpy:\", mean)\n"
   ]
  },
  {
   "cell_type": "markdown",
   "id": "41329945",
   "metadata": {},
   "source": [
    "In this example:\n",
    "\n",
    "The `map()` function is used to apply the square operation to each element of the `numbers `list, generating a list of squares.\n",
    "\n",
    "The `filter()` function is used to extract even numbers from the numbers list.\n",
    "\n",
    "The `numpy ` library is utilized for efficient numerical operations. It allows you to perform element-wise calculations on arrays and efficiently calculate statistics like the mean."
   ]
  },
  {
   "cell_type": "markdown",
   "id": "b498f34b",
   "metadata": {},
   "source": [
    "### 3. Optimize Loops:\n",
    "\n",
    "Minimize the number of iterations in loops.\n",
    "\n",
    "If possible, use list comprehensions or generator expressions instead of traditional loops.\n",
    "\n",
    "Avoid recalculating the length of iterable objects within loops."
   ]
  },
  {
   "cell_type": "code",
   "execution_count": null,
   "id": "60142001",
   "metadata": {},
   "outputs": [],
   "source": [
    "# Optimizing Loops\n",
    "\n",
    "# Traditional Loop: Minimize Iterations\n",
    "def sum_even_numbers(limit):\n",
    "    total = 0\n",
    "    for i in range(2, limit + 1, 2):\n",
    "        total += i\n",
    "    return total\n",
    "\n",
    "limit = 10\n",
    "even_sum = sum_even_numbers(limit)\n",
    "print(\"Sum of even numbers up to\", limit, \":\", even_sum)\n",
    "\n",
    "\n",
    "# List Comprehension: Efficient Iteration and Calculation\n",
    "def sum_square_of_odd_numbers(limit):\n",
    "    squares = [x ** 2 for x in range(1, limit + 1) if x % 2 != 0]\n",
    "    return sum(squares)\n",
    "\n",
    "limit = 5\n",
    "odd_squares_sum = sum_square_of_odd_numbers(limit)\n",
    "print(\"Sum of squares of odd numbers up to\", limit, \":\", odd_squares_sum)\n",
    "\n",
    "\n",
    "# Avoid Recalculating Iterable Length\n",
    "def count_positive_numbers(numbers):\n",
    "    positive_count = 0\n",
    "    for num in numbers:\n",
    "        if num > 0:\n",
    "            positive_count += 1\n",
    "    return positive_count\n",
    "\n",
    "numbers = [1, -2, 3, -4, 5]\n",
    "positive_count = count_positive_numbers(numbers)\n",
    "print(\"Number of positive numbers:\", positive_count)\n"
   ]
  },
  {
   "cell_type": "markdown",
   "id": "753ac451",
   "metadata": {},
   "source": [
    "In this example:\n",
    "\n",
    "The s`um_even_numbers()` function uses a traditional loop to sum even numbers. The loop starts from 2 and iterates by increments of 2 to minimize the number of iterations.\n",
    "\n",
    "The `sum_square_of_odd_numbers()` function employs a list comprehension to efficiently calculate the sum of squares of odd numbers. List comprehensions are often more concise and efficient than traditional loops.\n",
    "\n",
    "The `count_positive_numbers() `function avoids recalculating the length of the iterable numbers within the loop. Instead, it directly counts positive numbers, optimizing performance."
   ]
  },
  {
   "cell_type": "markdown",
   "id": "c6528598",
   "metadata": {},
   "source": [
    "### 4. Choose the Right Data Structures:\n",
    "\n",
    "Select data structures (lists, dictionaries, sets, etc.) based on the specific requirements of your task.\n",
    "\n",
    "Understand the time complexity of various operations for each data structure."
   ]
  },
  {
   "cell_type": "code",
   "execution_count": null,
   "id": "29579548",
   "metadata": {},
   "outputs": [],
   "source": [
    "# Choosing the Right Data Structures\n",
    "\n",
    "# Using Lists\n",
    "numbers_list = [1, 2, 3, 4, 5]\n",
    "print(\"List:\", numbers_list)\n",
    "\n",
    "# Using Dictionaries\n",
    "student_info = {\n",
    "    \"name\": \"Alice\",\n",
    "    \"age\": 20,\n",
    "    \"major\": \"Computer Science\"\n",
    "}\n",
    "print(\"Dictionary:\", student_info)\n",
    "\n",
    "# Using Sets\n",
    "unique_numbers = {1, 2, 3, 4, 5}\n",
    "print(\"Set:\", unique_numbers)\n",
    "\n",
    "# List Operations and Time Complexity\n",
    "print(\"List Length:\", len(numbers_list))\n",
    "print(\"Access Element at Index 2:\", numbers_list[2])  # O(1)\n",
    "numbers_list.append(6)  # O(1)\n",
    "numbers_list.pop()  # O(1)\n",
    "numbers_list.sort()  # O(n log n)\n",
    "\n",
    "# Dictionary Operations and Time Complexity\n",
    "print(\"Value of 'age':\", student_info[\"age\"])  # O(1)\n",
    "student_info[\"university\"] = \"XYZ University\"  # O(1)\n",
    "del student_info[\"major\"]  # O(1)\n",
    "\n",
    "# Set Operations and Time Complexity\n",
    "print(\"Is 3 in the set?\", 3 in unique_numbers)  # O(1)\n",
    "unique_numbers.add(6)  # O(1)\n",
    "unique_numbers.remove(3)  # O(1)\n",
    "\n",
    "# Set Operations with Multiple Sets\n",
    "set1 = {1, 2, 3}\n",
    "set2 = {3, 4, 5}\n",
    "union_set = set1.union(set2)  # O(len(set1) + len(set2))\n",
    "intersection_set = set1.intersection(set2)  # O(min(len(set1), len(set2)))\n"
   ]
  },
  {
   "cell_type": "markdown",
   "id": "246d6f88",
   "metadata": {},
   "source": [
    "In this example:\n",
    "\n",
    "Lists are used for ordered collections of elements.\n",
    "\n",
    "Dictionaries store key-value pairs for quick access using keys.\n",
    "\n",
    "Sets store unique elements and offer efficient membership checks.\n",
    "\n",
    "The time complexity of various operations is mentioned in comments."
   ]
  },
  {
   "cell_type": "markdown",
   "id": "3d3f562a",
   "metadata": {},
   "source": [
    "### 5. Profile and Benchmark:\n",
    "\n",
    "Use profiling tools like cProfile to identify bottlenecks in your code.\n",
    "\n",
    "Benchmark different approaches to find the most efficient solution."
   ]
  },
  {
   "cell_type": "markdown",
   "id": "0c7627d9",
   "metadata": {},
   "source": [
    "Here's an example that demonstrates how to use `cProfile` for profiling and `timeit `for benchmarking:"
   ]
  },
  {
   "cell_type": "code",
   "execution_count": null,
   "id": "b16ad919",
   "metadata": {},
   "outputs": [],
   "source": [
    "import cProfile\n",
    "import timeit\n",
    "\n",
    "# Profiling with cProfile\n",
    "def fibonacci_recursive(n):\n",
    "    if n <= 1:\n",
    "        return n\n",
    "    return fibonacci_recursive(n - 1) + fibonacci_recursive(n - 2)\n",
    "\n",
    "cProfile.run(\"fibonacci_recursive(20)\")  # Profile the function call\n",
    "\n",
    "\n",
    "# Benchmarking with timeit\n",
    "setup_code = \"\"\"\n",
    "import numpy as np\n",
    "array = np.random.randint(1, 100, 1000000)\n",
    "\"\"\"\n",
    "\n",
    "# Approach 1: Using a for loop\n",
    "loop_code = \"\"\"\n",
    "total = 0\n",
    "for num in array:\n",
    "    total += num\n",
    "\"\"\"\n",
    "\n",
    "# Approach 2: Using NumPy's sum function\n",
    "numpy_code = \"\"\"\n",
    "total = np.sum(array)\n",
    "\"\"\"\n",
    "\n",
    "loop_time = timeit.timeit(loop_code, setup=setup_code, number=100)\n",
    "numpy_time = timeit.timeit(numpy_code, setup=setup_code, number=100)\n",
    "\n",
    "print(\"Time taken by the loop approach:\", loop_time)\n",
    "print(\"Time taken by the NumPy approach:\", numpy_time)\n"
   ]
  },
  {
   "cell_type": "markdown",
   "id": "39906441",
   "metadata": {},
   "source": [
    "In this example:\n",
    "\n",
    "`cProfile` is used to profile the `fibonacci_recursive() `function, helping identify potential bottlenecks and improving performance.\n",
    "\n",
    "`timeit `is used to benchmark two different approaches to calculate the sum of an array. The benchmarking compares the time taken by a traditional for loop and NumPy's `built-in sum() `function.\n",
    "\n",
    "By utilizing profiling tools like   `cProfile `and benchmarking techniques like `timeit`, you can identify slow sections of your code and compare \n",
    "the efficiency of different approaches. This information is invaluable for making informed decisions on code optimization and performance enhancement."
   ]
  },
  {
   "cell_type": "markdown",
   "id": "efed36a7",
   "metadata": {},
   "source": [
    "### 6. Cache and Memoization:\n",
    "\n",
    "Implement caching techniques to store and reuse results of expensive computations.\n",
    "Memoization is particularly useful for recursive algorithms."
   ]
  },
  {
   "cell_type": "code",
   "execution_count": null,
   "id": "c314aa4c",
   "metadata": {},
   "outputs": [],
   "source": [
    "# Caching and Memoization\n",
    "\n",
    "# Caching with a Dictionary\n",
    "cache = {}  # Store computed results\n",
    "\n",
    "def calculate_factorial(n):\n",
    "    if n in cache:\n",
    "        return cache[n]\n",
    "    \n",
    "    if n == 0 or n == 1:\n",
    "        result = 1\n",
    "    else:\n",
    "        result = n * calculate_factorial(n - 1)\n",
    "    \n",
    "    cache[n] = result\n",
    "    return result\n",
    "\n",
    "print(\"Factorial of 5:\", calculate_factorial(5))  # Computes and stores results in cache\n",
    "print(\"Factorial of 3:\", calculate_factorial(3))  # Reuses result from cache\n",
    "\n",
    "\n",
    "# Memoization for Recursive Fibonacci\n",
    "memo = {}  # Store computed Fibonacci values\n",
    "\n",
    "def fibonacci_memoization(n):\n",
    "    if n in memo:\n",
    "        return memo[n]\n",
    "    \n",
    "    if n <= 1:\n",
    "        result = n\n",
    "    else:\n",
    "        result = fibonacci_memoization(n - 1) + fibonacci_memoization(n - 2)\n",
    "    \n",
    "    memo[n] = result\n",
    "    return result\n",
    "\n",
    "print(\"Fibonacci number at index 8:\", fibonacci_memoization(8))  # Computes and stores results in memo\n",
    "print(\"Fibonacci number at index 5:\", fibonacci_memoization(5))  # Reuses result from memo\n"
   ]
  },
  {
   "cell_type": "markdown",
   "id": "ebdfff55",
   "metadata": {},
   "source": [
    "In this example:\n",
    "\n",
    "Caching is demonstrated using a dictionary (`cache`). The `calculate_factorial() `function computes the `factorial `of a number and stores the results in the cache dictionary. When the function is called with the same input again, it reuses the cached result.\n",
    "\n",
    "Memoization is used to optimize the recursive `fibonacci_memoization() `function. The function stores computed Fibonacci values in the `memo` dictionary to avoid redundant calculations. This significantly speeds up the computation of Fibonacci numbers."
   ]
  },
  {
   "cell_type": "markdown",
   "id": "600a3552",
   "metadata": {},
   "source": [
    "### 7. Use Generators:\n",
    "\n",
    "When dealing with large datasets, generators offer memory-efficient alternatives to lists.\n",
    "\n",
    "Generators produce values on-the-fly, minimizing memory consumption."
   ]
  },
  {
   "cell_type": "markdown",
   "id": "96160ad1",
   "metadata": {},
   "source": [
    "Here's an example that demonstrates the use of generators for memory-efficient data processing:"
   ]
  },
  {
   "cell_type": "code",
   "execution_count": null,
   "id": "7a3c6415",
   "metadata": {},
   "outputs": [],
   "source": [
    "# Using Generators for Memory Efficiency\n",
    "\n",
    "# Using a List to Generate Squares (Memory-Intensive)\n",
    "def generate_squares_list(n):\n",
    "    squares = []\n",
    "    for i in range(n):\n",
    "        squares.append(i ** 2)\n",
    "    return squares\n",
    "\n",
    "squares_list = generate_squares_list(5)  # Generates a list of squares\n",
    "print(\"Squares List:\", squares_list)\n",
    "\n",
    "\n",
    "# Using a Generator to Generate Squares (Memory-Efficient)\n",
    "def generate_squares_generator(n):\n",
    "    for i in range(n):\n",
    "        yield i ** 2\n",
    "\n",
    "squares_generator = generate_squares_generator(5)  # Generates squares on-the-fly\n",
    "print(\"Squares Generator:\", list(squares_generator))  # Converts generator to list\n",
    "\n",
    "\n",
    "# Memory Usage Comparison\n",
    "import sys\n",
    "\n",
    "squares_list = generate_squares_list(1000000)\n",
    "squares_generator = generate_squares_generator(1000000)\n",
    "\n",
    "print(\"Memory used by Squares List:\", sys.getsizeof(squares_list), \"bytes\")\n",
    "print(\"Memory used by Squares Generator:\", sys.getsizeof(squares_generator), \"bytes\")\n"
   ]
  },
  {
   "cell_type": "markdown",
   "id": "92bb4bcb",
   "metadata": {},
   "source": [
    "In this example:\n",
    "\n",
    "The `generate_squares_list() `function generates a list of squares using a traditional loop, which consumes memory for the entire list.\n",
    "\n",
    "The `generate_squares_generator() `function uses a generator to produce squares on-the-fly as needed. This minimizes memory consumption.\n",
    "\n",
    "A comparison of memory usage between the list and generator versions demonstrates the significant memory savings achieved by using a generator.\n",
    "\n",
    "Generators are especially valuable when dealing with large datasets or situations where memory is a concern. They allow you to process data one element at a time, without loading the entire dataset into memory, thereby optimizing memory usage and improving performance."
   ]
  },
  {
   "cell_type": "markdown",
   "id": "5a268079",
   "metadata": {},
   "source": [
    "### 8. Avoid Global Variables:\n",
    "\n",
    "Global variables can slow down code execution due to the need for scope lookups.\n",
    "Whenever possible, pass variables as arguments to functions or use class attributes."
   ]
  },
  {
   "cell_type": "code",
   "execution_count": null,
   "id": "082f8586",
   "metadata": {},
   "outputs": [],
   "source": [
    "# Avoiding Global Variables\n",
    "\n",
    "# Using a Global Variable\n",
    "global_count = 0  # Avoid using global variables\n",
    "\n",
    "def increment_global_count():\n",
    "    global global_count\n",
    "    global_count += 1\n",
    "\n",
    "increment_global_count()\n",
    "increment_global_count()\n",
    "print(\"Global Count:\", global_count)\n",
    "\n",
    "\n",
    "# Using Function Arguments Instead\n",
    "def increment_local_count(count):\n",
    "    count += 1\n",
    "    return count\n",
    "\n",
    "local_count = 0\n",
    "local_count = increment_local_count(local_count)\n",
    "local_count = increment_local_count(local_count)\n",
    "print(\"Local Count:\", local_count)\n",
    "\n",
    "\n",
    "# Using Class Attributes\n",
    "class Counter:\n",
    "    def __init__(self):\n",
    "        self.count = 0\n",
    "    \n",
    "    def increment(self):\n",
    "        self.count += 1\n",
    "\n",
    "counter = Counter()\n",
    "counter.increment()\n",
    "counter.increment()\n",
    "print(\"Counter:\", counter.count)\n"
   ]
  },
  {
   "cell_type": "markdown",
   "id": "3ef1c8e3",
   "metadata": {},
   "source": [
    "In this example:\n",
    "\n",
    "The first part demonstrates the use of a global variable `global_count`, which can lead to slower code execution due to scope lookups and potential unintended modifications.\n",
    "\n",
    "The second part shows a better approach by passing variables as arguments to functions (`increment_local_count()`). This avoids the use of global variables and provides better control over the variable's scope.\n",
    "\n",
    "The third part uses a class `Counter `with an attribute `count `to store and modify the count. This encapsulates the count variable within a class, providing better organization and avoiding global scope.\n",
    "\n",
    "By minimizing the use of global variables and instead passing variables as function arguments or encapsulating them within classes, you can improve code performance, maintainability, and organization.\n",
    "\n",
    "\n",
    "\n",
    "\n",
    "\n"
   ]
  },
  {
   "cell_type": "markdown",
   "id": "c36bec56",
   "metadata": {},
   "source": [
    "### 9. Vectorization for NumPy Arrays:\n",
    "\n",
    "If you're working with arrays, use NumPy's vectorized operations for efficient element-wise computations."
   ]
  },
  {
   "cell_type": "code",
   "execution_count": null,
   "id": "877e0c23",
   "metadata": {},
   "outputs": [],
   "source": [
    "# Vectorization with NumPy\n",
    "\n",
    "import numpy as np\n",
    "\n",
    "# Using Python Lists (Non-vectorized)\n",
    "numbers = [1, 2, 3, 4, 5]\n",
    "squares = [x ** 2 for x in numbers]\n",
    "print(\"Squares (List):\", squares)\n",
    "\n",
    "# Using NumPy Arrays (Vectorized)\n",
    "numbers_array = np.array(numbers)\n",
    "squares_array = numbers_array ** 2\n",
    "print(\"Squares (NumPy Array):\", squares_array)\n",
    "\n",
    "# Perform Arithmetic Operations on Arrays (Vectorized)\n",
    "array1 = np.array([1, 2, 3])\n",
    "array2 = np.array([4, 5, 6])\n",
    "sum_array = array1 + array2\n",
    "product_array = array1 * array2\n",
    "print(\"Sum Array:\", sum_array)\n",
    "print(\"Product Array:\", product_array)\n"
   ]
  },
  {
   "cell_type": "markdown",
   "id": "d0bca600",
   "metadata": {},
   "source": [
    "In this example:\n",
    "\n",
    "The non-vectorized approach calculates the squares of elements in a Python list using a list comprehension.\n",
    "\n",
    "The vectorized approach uses NumPy arrays and the `** `operator to efficiently calculate the squares of elements in the array.\n",
    "\n",
    "NumPy's vectorized operations extend to arithmetic operations, enabling efficient element-wise addition and multiplication of arrays.\n",
    "\n",
    "NumPy's vectorized operations leverage optimized low-level libraries, leading to significant performance improvements for array computations. When working with large datasets or arrays, using NumPy's vectorized operations can result in faster and more memory-efficient code.\n",
    "\n",
    "\n",
    "\n",
    "\n",
    "\n"
   ]
  },
  {
   "cell_type": "markdown",
   "id": "d94e2f8a",
   "metadata": {},
   "source": [
    "### 10. Batch Processing:\n",
    "\n",
    "For tasks involving multiple computations, batch processing can reduce overhead by performing operations in groups"
   ]
  },
  {
   "cell_type": "code",
   "execution_count": null,
   "id": "8828f459",
   "metadata": {},
   "outputs": [],
   "source": [
    "# Batch Processing Example\n",
    "\n",
    "# Batch Process Function\n",
    "def process_batch(data_batch):\n",
    "    results = []\n",
    "    for item in data_batch:\n",
    "        # Simulate some processing on each item\n",
    "        processed_item = item * 2\n",
    "        results.append(processed_item)\n",
    "    return results\n",
    "\n",
    "# Sample Data\n",
    "data = list(range(1, 101))  # Data from 1 to 100\n",
    "\n",
    "# Batch Size\n",
    "batch_size = 10\n",
    "\n",
    "# Perform Batch Processing\n",
    "batched_results = []\n",
    "for i in range(0, len(data), batch_size):\n",
    "    data_batch = data[i:i + batch_size]\n",
    "    batched_results.extend(process_batch(data_batch))\n",
    "\n",
    "print(\"Batched Results:\", batched_results)\n"
   ]
  },
  {
   "cell_type": "markdown",
   "id": "307d5ae6",
   "metadata": {},
   "source": [
    "In this example:\n",
    "\n",
    "The `process_batch() ` function simulates some processing on a batch of data items and returns the processed results.\n",
    "\n",
    "The sample data contains numbers from 1 to 100.\n",
    "\n",
    "The batch size is set to 10, indicating that processing will be done on groups of 10 items at a time.\n",
    "\n",
    "The loop iterates through the data in batches, invoking the `process_batch() `function for each batch and extending the `batched_results `list with the processed results.\n",
    "\n",
    "By using batch processing, you can efficiently perform operations on large datasets or perform tasks involving multiple computations. Batch processing reduces the overhead associated with invoking functions multiple times and can lead to significant performance improvements.\n",
    "\n",
    "\n",
    "\n",
    "\n",
    "\n"
   ]
  },
  {
   "cell_type": "markdown",
   "id": "7fece4fd",
   "metadata": {},
   "source": [
    "## 8.3 Optimizing Code Performance\n",
    "Optimizing code performance is important for improving the speed and responsiveness of your programs. In this section, we will introduce you to some techniques for optimizing code performance, such as using caching, reducing memory usage, and parallelizing computations\n"
   ]
  },
  {
   "cell_type": "markdown",
   "id": "a04ce30f",
   "metadata": {},
   "source": [
    " Let's explore some techniques for optimizing code performance:"
   ]
  },
  {
   "cell_type": "markdown",
   "id": "53db8619",
   "metadata": {},
   "source": [
    "### 1. Caching and Memoization: \n",
    "As discussed earlier, caching and memoization help store and reuse results of expensive computations, saving time and reducing redundant calculations."
   ]
  },
  {
   "cell_type": "markdown",
   "id": "2cca85f7",
   "metadata": {},
   "source": [
    "### 2. Consistency Across Projects:\n",
    "\n",
    "Following a set of standards ensures a consistent appearance and structure across projects. \n",
    "This consistency reduces cognitive load when switching between different projects and helps\n",
    " maintain a coherent coding style."
   ]
  },
  {
   "cell_type": "markdown",
   "id": "62dc3fe5",
   "metadata": {},
   "source": [
    "### 3. Reduced Likelihood of Errors:\n",
    "\n",
    "Clear coding standards can catch syntax errors, logic flaws, and other issues early. This can prevent bugs from arising due to inconsistent or confusing code structures."
   ]
  },
  {
   "cell_type": "markdown",
   "id": "baf43c6d",
   "metadata": {},
   "source": [
    "### 4. Ease of Collaboration:\n",
    "\n",
    "When team members follow the same coding standards, collaborating on projects becomes smoother. Code reviews become more efficient, and it's easier to understand and integrate contributions."
   ]
  },
  {
   "cell_type": "markdown",
   "id": "03e7cfa5",
   "metadata": {},
   "source": [
    "### 5. Adherence to PEP 8:\n",
    "\n",
    "Introduce the Python Enhancement Proposal 8 (PEP 8), the official style guide for Python code. Explain how it covers various aspects of code style, including indentation, naming conventions, and formatting."
   ]
  },
  {
   "cell_type": "markdown",
   "id": "07a80032",
   "metadata": {},
   "source": [
    "### 6. Whitespace and Indentation:\n",
    "\n",
    "Discuss the significance of consistent whitespace and indentation. Explain how improper indentation can lead to syntax errors or unintended behavior."
   ]
  },
  {
   "cell_type": "markdown",
   "id": "ed40586d",
   "metadata": {},
   "source": [
    "### 7. Naming Conventions:\n",
    "\n",
    "Cover the importance of using meaningful and descriptive variable, function, and class names. Explain how following naming conventions enhances code clarity and communicates intent. "
   ]
  },
  {
   "cell_type": "markdown",
   "id": "c13d871b",
   "metadata": {},
   "source": [
    "### 8. Avoiding Magic Numbers:\n",
    "\n",
    "Explain the concept of \"magic numbers\" (hard-coded values without context) and encourage using named constants or variables to improve code maintainability."
   ]
  },
  {
   "cell_type": "markdown",
   "id": "525956ca",
   "metadata": {},
   "source": [
    "### 9. Line Length and Comments:\n",
    "\n",
    "Highlight the recommended line length and how breaking lines improves code readability. Discuss the importance of comments to explain complex logic, assumptions, and decisions."
   ]
  },
  {
   "cell_type": "markdown",
   "id": "001fd92b",
   "metadata": {},
   "source": [
    "### 10. Linting Tools and Automation:\n",
    "\n",
    "Introduce the concept of linting tools like Flake8, pylint, and black. Explain how these tools automate style checks and help maintain code quality."
   ]
  },
  {
   "cell_type": "markdown",
   "id": "e0668b09",
   "metadata": {},
   "source": [
    "## 8.4 Conclusion and Next Steps\n",
    "\n"
   ]
  },
  {
   "cell_type": "markdown",
   "id": "06bef01a",
   "metadata": {},
   "source": [
    "Let's summarize what you've learned:\n",
    "\n",
    "### 1. Code Style and Standards:\n",
    "### 2. Efficient Code Writing: \n",
    "### 3. Caching and Memoization:\n",
    "### 4. Avoiding Global Variables:\n",
    "### 5. Optimization Techniques:\n"
   ]
  },
  {
   "cell_type": "markdown",
   "id": "1886d020",
   "metadata": {},
   "source": [
    "By the end of this chapter, you should have a solid understanding of the importance of code style and standards, as well as some best practices for writing efficient and optimized code. You should also be able to apply these techniques to improve the performance and scalability of your programs. In the final section of the book, we will wrap up and provide some tips for continuing your Python programming journey"
   ]
  },
  {
   "cell_type": "markdown",
   "id": "f15b667a",
   "metadata": {},
   "source": [
    "# Chapter 9: Conclusion and Next Steps"
   ]
  },
  {
   "cell_type": "markdown",
   "id": "5a321676",
   "metadata": {},
   "source": [
    "In this final chapter, we will recap what you have learned throughout the book, provide additional resources and next steps for your Python programming journey, and suggest a portfolio project to showcase your skills."
   ]
  },
  {
   "cell_type": "markdown",
   "id": "cdf4bd01",
   "metadata": {},
   "source": [
    "## 9.1 Recap of What You Have Learned\n"
   ]
  },
  {
   "cell_type": "markdown",
   "id": "f3a4b5f8",
   "metadata": {},
   "source": [
    "Throughout this book, we have covered a wide range of topics related to learning to program in Python, including basic programming concepts, data structures, object-oriented programming, web development, and advanced topics such as regular expressions, working with databases, networking and sockets, concurrency and multi-threading, and code optimization. We have also discussed best practices for writing efficient and optimized code.\n"
   ]
  },
  {
   "cell_type": "markdown",
   "id": "9f5904f9",
   "metadata": {},
   "source": [
    "### 1. Basic Programming Concepts:\n",
    " You learned about variables, data types, operators, control structures (if statements, loops), and how to create functions. These fundamentals are the building blocks of any programming language."
   ]
  },
  {
   "cell_type": "markdown",
   "id": "6d6b62b2",
   "metadata": {},
   "source": [
    "### 2. Data Structures:\n",
    " You explored lists, tuples, sets, and dictionaries – essential data structures that help organize and manipulate data efficiently."
   ]
  },
  {
   "cell_type": "markdown",
   "id": "01432754",
   "metadata": {},
   "source": [
    "### 3. bject-Oriented Programming (OOP): \n",
    "You delved into the principles of OOP, creating classes, objects, and exploring concepts like inheritance, encapsulation, and polymorphism."
   ]
  },
  {
   "cell_type": "markdown",
   "id": "0586ab6c",
   "metadata": {},
   "source": [
    "### 4. File Handling: \n",
    "You discovered how to read and write data to files, gaining insights into managing and processing external data."
   ]
  },
  {
   "cell_type": "markdown",
   "id": "99a750d4",
   "metadata": {},
   "source": [
    "#### 5. Error Handling:\n",
    " You learned how to gracefully handle exceptions and errors, ensuring that your programs are robust and maintain functionality even in challenging scenarios"
   ]
  },
  {
   "cell_type": "markdown",
   "id": "84d727f9",
   "metadata": {},
   "source": [
    "### 6. Modules and Libraries: \n",
    "You explored the power of modules and libraries, both built-in and third-party, which extend Python's capabilities and save you time."
   ]
  },
  {
   "cell_type": "markdown",
   "id": "5f25f74f",
   "metadata": {},
   "source": [
    "### 7. Web Development with Flask: \n",
    "You built a basic web application using Flask, explored HTML and CSS integration, defined routes, and used templates to create dynamic web pages."
   ]
  },
  {
   "cell_type": "markdown",
   "id": "9f3b85a5",
   "metadata": {},
   "source": [
    "### 8. Advanced Topics: \n",
    "You tackled more advanced topics like regular expressions for text manipulation, working with databases (SQLite, MySQL, PostgreSQL), networking and sockets, and the intricacies of concurrency and multi-threading."
   ]
  },
  {
   "cell_type": "markdown",
   "id": "affbb746",
   "metadata": {},
   "source": [
    "### 9. Code Optimization and Performance: \n",
    "You learned best practices for writing efficient code, avoiding global variables, using caching and memoization, and optimizing loops and data structures."
   ]
  },
  {
   "cell_type": "markdown",
   "id": "ee33bd4c",
   "metadata": {},
   "source": []
  },
  {
   "cell_type": "markdown",
   "id": "e97c75c8",
   "metadata": {},
   "source": [
    "## 9.2 Additional Resources and Next Steps\n",
    "Python is a versatile and constantly evolving language, and there is always more to learn. In this section, we will provide some additional resources and next steps for your Python programming journey, such as online courses, books, and communities.\n"
   ]
  },
  {
   "cell_type": "markdown",
   "id": "2f3e1e05",
   "metadata": {},
   "source": [
    "### 9.2.1 Online Courses\n",
    "#### Coursera:\n",
    " Offers a variety of Python courses from universities and institutions around the world. Check out courses like \"Python for Everybody\" and \"Applied Data Science with Python\": https://www.coursera.org/\n",
    "\n",
    "#### edX:\n",
    " Provides online courses, including those focused on Python programming. \"Introduction to Computer Science and Programming Using Python\" is a popular choice: https://www.edx.org/\n",
    "\n",
    "#### Udemy:\n",
    " Offers a wide range of Python courses, from beginners to advanced topics. Search for courses based on your interests and skill level: https://www.udemy.com/\n",
    "\n",
    "### 9.2.2 Books\n",
    "<strong>\"Python Crash Course\" </strong> by Eric Matthes: A great book for beginners, covering the basics of Python programming and web development using Django.\n",
    "\n",
    "<strong>\"Fluent Python\"</strong> by Luciano Ramalho: If you're looking to deepen your understanding of Python's features and concepts, this book is an excellent resource.\n",
    "\n",
    "<strong>\"Effective Python\"</strong> by Brett Slatkin: Offers practical advice on writing efficient and Pythonic code.\n",
    "\n",
    "### 9.2.3 Online Communities\n",
    "#### Stack Overflow:\n",
    " A thriving Q&A community where you can ask and answer programming-related questions. A great place to seek help when you're stuck: https://stackoverflow.com/\n",
    "\n",
    "#### Reddit:\n",
    " The r/learnpython subreddit is an active community where beginners and experienced Python programmers share resources, ask questions, and discuss programming topics: https://www.reddit.com/r/learnpython/\n",
    "\n",
    "#### Python.org:\n",
    " The official Python website hosts forums where you can engage with other Python enthusiasts and seek advice: https://www.python.org/community/forums/\n",
    "\n",
    "### 9.2.4 Practice Platforms\n",
    "#### LeetCode:\n",
    " Offers a variety of coding challenges that help you practice your algorithmic and problem-solving skills: https://leetcode.com/\n",
    "\n",
    "#### HackerRank: \n",
    "Provides coding challenges and competitions, covering a wide range of topics: https://www.hackerrank.com/\n",
    "\n",
    "### 9.2.5 Open Source Contribution\n",
    "Contributing to open-source projects is an excellent way to learn, collaborate, and give back to the community. Browse GitHub repositories and find projects aligned with your interests.\n",
    "\n",
    "### 9.2.6 Specialized Areas\n",
    "Python is widely used in various fields, such as data science, machine learning, web development, automation, and more. Depending on your interests, consider diving deeper into these specialized areas.\n",
    "\n",
    "### 9.2.7 Personal Projects\n",
    "Apply what you've learned by working on personal projects. Whether it's building tools, web applications, automation scripts, or experimenting with data analysis, projects offer hands-on learning and valuable portfolio pieces.\n",
    "\n",
    "### 9.2.8 Stay Curious\n",
    "Python is a versatile language, and its ecosystem continues to grow. Stay curious, explore new libraries, stay updated with the latest releases, and never stop learning!\n",
    "\n",
    "Remember, your Python programming journey is ongoing. Continue to explore, learn, and build, and you'll find yourself becoming a more proficient and confident programmer with every step.\n",
    "\n",
    "\n",
    "\n",
    "\n",
    "\n"
   ]
  },
  {
   "cell_type": "markdown",
   "id": "7702f281",
   "metadata": {},
   "source": [
    "## 9.3 Building a Portfolio Project"
   ]
  },
  {
   "cell_type": "markdown",
   "id": "d39b46e4",
   "metadata": {},
   "source": [
    "## 9.4 Conclusion\n"
   ]
  },
  {
   "cell_type": "markdown",
   "id": "35fa253c",
   "metadata": {},
   "source": [
    "Congratulations! By completing this book, you have gained a solid foundation in programming in Python, and are well on your way to becoming a proficient programmer. We hope that you have found this book helpful and enjoyable, and that you continue to explore the many possibilities that Python has to offer.\n"
   ]
  },
  {
   "cell_type": "markdown",
   "id": "835f0a9e",
   "metadata": {},
   "source": []
  }
 ],
 "metadata": {
  "kernelspec": {
   "display_name": "Python 3 (ipykernel)",
   "language": "python",
   "name": "python3"
  },
  "language_info": {
   "codemirror_mode": {
    "name": "ipython",
    "version": 3
   },
   "file_extension": ".py",
   "mimetype": "text/x-python",
   "name": "python",
   "nbconvert_exporter": "python",
   "pygments_lexer": "ipython3",
   "version": "3.11.4"
  }
 },
 "nbformat": 4,
 "nbformat_minor": 5
}
