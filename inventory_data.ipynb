{
 "cells": [
  {
   "cell_type": "markdown",
   "metadata": {},
   "source": [
    "Scenario: Inventory Tracking\n",
    "\n",
    "You are managing inventory for a small grocery store. To keep track of your products, you want to create a program that allows you to input information about various items in your inventory. Your program will:\n",
    "Ask how many different products you want to add to your inventory.\n",
    "For each product, prompt for the following information:\n",
    "Product name.\n",
    "Product code or barcode.\n",
    "Price per unit.\n",
    "Quantity in stock.\n",
    "Store this information for each product in a structured format.\n",
    "Finally, your program will provide you with an inventory summary, listing all the products, their codes, prices, and quantities in stock"
   ]
  },
  {
   "cell_type": "code",
   "execution_count": 20,
   "metadata": {},
   "outputs": [
    {
     "name": "stdout",
     "output_type": "stream",
     "text": [
      "\n",
      "Product 1\n",
      "\n",
      "Inventory Summary:\n",
      "Product Name: watch\n",
      "Product Code: 258963\n",
      "Price per Unit: $456000.00\n",
      "Quantity in Stock: 1\n",
      "\n",
      "\n"
     ]
    }
   ],
   "source": [
    "inventory = []\n",
    "\n",
    "num_products = int(input(\"How many products do you want to add your inventory? \"))\n",
    "\n",
    "for i in range(num_products):\n",
    "    print(f\"\\nProduct {i + 1}\")\n",
    "    product_name = input(\"Product name: \")\n",
    "    product_code = input(\"Product code and barcode: \")\n",
    "    price_per_unit = float(input(\"Price per unit: \"))\n",
    "    quantity_in_stock = int(input(\"Quantity In Stock: \"))\n",
    "\n",
    "    product_info = {\n",
    "        \"Product Name\": product_name,\n",
    "        \"Product Code\": product_code,\n",
    "        \"Price per Unit\": price_per_unit,\n",
    "        \"Quantity in Stock\": quantity_in_stock\n",
    "    }\n",
    "    \n",
    "    inventory.append(product_info)\n",
    "    \n",
    "print(\"\\nInventory Summary:\")\n",
    "for product in inventory:\n",
    "    print(f\"Product Name: {product['Product Name']}\")\n",
    "    print(f\"Product Code: {product['Product Code']}\")\n",
    "    print(f\"Price per Unit: ${product['Price per Unit']:.2f}\")\n",
    "    print(f\"Quantity in Stock: {product['Quantity in Stock']}\")\n",
    "    print(\"\\n\")\n"
   ]
  },
  {
   "cell_type": "code",
   "execution_count": 14,
   "metadata": {},
   "outputs": [
    {
     "name": "stdout",
     "output_type": "stream",
     "text": [
      "\n",
      "Product 1\n",
      "\n",
      "Product 2\n",
      "\n",
      "Inventory Summary:\n",
      "Product Name: bhgh\n",
      "Product Code: 32561\n",
      "Price per Unit: $15000.00\n",
      "Quantity in Stock: 2\n",
      "\n",
      "\n",
      "Product Name: hjhjhjhj\n",
      "Product Code: 58745632\n",
      "Price per Unit: $125000.00\n",
      "Quantity in Stock: 4\n",
      "\n",
      "\n"
     ]
    }
   ],
   "source": [
    "# Initialize an empty list to store inventory data\n",
    "inventory = []\n",
    "\n",
    "# Ask how many products to add to inventory\n",
    "num_products = int(input(\"How many products do you want to add to your inventory? \"))\n",
    "\n",
    "# Loop to collect information for each product\n",
    "for i in range(num_products):\n",
    "    print(f\"\\nProduct {i + 1}\")\n",
    "    product_name = input(\"Product name: \")\n",
    "    product_code = input(\"Product code or barcode: \")\n",
    "    price_per_unit = float(input(\"Price per unit: \"))\n",
    "    quantity_in_stock = int(input(\"Quantity in stock: \"))\n",
    "\n",
    "    # Create a dictionary to store product information\n",
    "    product_info = {\n",
    "        \"Product Name\": product_name,\n",
    "        \"Product Code\": product_code,\n",
    "        \"Price per Unit\": price_per_unit,\n",
    "        \"Quantity in Stock\": quantity_in_stock\n",
    "    }\n",
    "    # Add the product information to the inventory list\n",
    "    inventory.append(product_info)\n",
    "\n",
    "# Display the inventory summary\n",
    "print(\"\\nInventory Summary:\")\n",
    "for product in inventory:\n",
    "    print(f\"Product Name: {product['Product Name']}\")\n",
    "    print(f\"Product Code: {product['Product Code']}\")\n",
    "    print(f\"Price per Unit: ${product['Price per Unit']:.2f}\")\n",
    "    print(f\"Quantity in Stock: {product['Quantity in Stock']}\")\n",
    "    print(\"\\n\")"
   ]
  }
 ],
 "metadata": {
  "kernelspec": {
   "display_name": "Python 3",
   "language": "python",
   "name": "python3"
  },
  "language_info": {
   "codemirror_mode": {
    "name": "ipython",
    "version": 3
   },
   "file_extension": ".py",
   "mimetype": "text/x-python",
   "name": "python",
   "nbconvert_exporter": "python",
   "pygments_lexer": "ipython3",
   "version": "3.11.4"
  }
 },
 "nbformat": 4,
 "nbformat_minor": 2
}
