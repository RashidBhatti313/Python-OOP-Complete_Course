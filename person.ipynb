{
 "cells": [
  {
   "cell_type": "code",
   "execution_count": 4,
   "metadata": {},
   "outputs": [
    {
     "data": {
      "text/plain": [
       "'Ali'"
      ]
     },
     "execution_count": 4,
     "metadata": {},
     "output_type": "execute_result"
    }
   ],
   "source": [
    "dataperson = {1: {'name':\"Ali\", \"age\": 1, \"gender\": \"Male\"},\n",
    "              2: {'name':\"Ali\", \"age\": 5, \"gender\": \"Male\"},\n",
    "              3: {'name':\"Ali\", \"age\": 3, \"gender\": \"Male\"},\n",
    "              4: {'name':\"Ali\", \"age\": 14, \"gender\": \"Male\"},\n",
    "              5: {'name':\"Ali\", \"age\": 15, \"gender\": \"Male\"},}\n",
    "dataperson[1]['name']"
   ]
  },
  {
   "cell_type": "code",
   "execution_count": 25,
   "metadata": {},
   "outputs": [
    {
     "data": {
      "text/plain": [
       "<__main__.Person at 0x2b323667610>"
      ]
     },
     "execution_count": 25,
     "metadata": {},
     "output_type": "execute_result"
    }
   ],
   "source": [
    "class Person: # making class of person\n",
    "    # init method or constructor\n",
    "    def __init__(self,name, age,gender) -> None:\n",
    "        # instance variable set \n",
    "        self.name = name\n",
    "        self.age = age\n",
    "        self.gender = gender\n",
    "\n",
    "    # def show (self):\n",
    "    #     return f\" name : {self.name} age = {self.age} \\n gender = {self.gender}\"\n",
    "    def __str__(self):\n",
    "\n",
    "        return f\" name : {self.name} age = {self.age} \\n gender = {self.gender}\"\n",
    "#creating object of this class\n",
    "\n",
    "\n",
    "p1 = Person(\"ali\",33,\"Male\")\n",
    "\n",
    "p2 = Person(\"Rashid\",18,\"Male\")\n",
    "\n",
    "p3 = Person(\"Chacha\",19,\"Male\")\n",
    "\n",
    "p4 = Person(\"Sami\",17,\"Male\")\n",
    "# print(p1.show())\n",
    "# print(p2.show())\n",
    "# print(p3.show())\n",
    "# p4.show()\n",
    "p1\n"
   ]
  },
  {
   "cell_type": "code",
   "execution_count": 4,
   "metadata": {},
   "outputs": [
    {
     "data": {
      "text/plain": [
       "<__main__.Person at 0x1d3916a1f50>"
      ]
     },
     "execution_count": 4,
     "metadata": {},
     "output_type": "execute_result"
    }
   ],
   "source": [
    "class Person: # making class of person\n",
    "    def __init__(self, name, age, gender) -> None:\n",
    "        # instance variable set\n",
    "        self.name = name\n",
    "        self.age = age\n",
    "        self.gender = gender\n",
    "\n",
    "    def __str__(self):\n",
    "        return f\" name : {self.name} age = {self.age} \\n gender = {self.gender}\"\n",
    "p1 = Person(\"ali\", 33 ,\"Male\")\n",
    "p2 = Person(\"Rashid\", 18 , \"Male\")\n",
    "p3 = Person(\"Kashif\", 13 , \"Male\")\n",
    "p4 = Person(\"Sami\", 17 , \"Male\")\n",
    "p1\n",
    "        \n",
    "        \n"
   ]
  },
  {
   "cell_type": "code",
   "execution_count": 13,
   "metadata": {},
   "outputs": [
    {
     "name": "stdout",
     "output_type": "stream",
     "text": [
      " name : ALI \n",
      " grade : A\n",
      " name : Usman \n",
      " grade : B\n",
      " name : UMAR \n",
      " grade : C\n"
     ]
    },
    {
     "data": {
      "text/plain": [
       "'B'"
      ]
     },
     "execution_count": 13,
     "metadata": {},
     "output_type": "execute_result"
    }
   ],
   "source": [
    "class Student:\n",
    "    def __init__(self, name, grade) -> None:\n",
    "        self.name = name\n",
    "        self.grade = grade\n",
    "    \n",
    "    def __str__(self) -> str:\n",
    "        return f\" name : {self.name} \\n grade : {self.grade}\"\n",
    "    \n",
    "    def getname (self):\n",
    "        return self.name\n",
    "    \n",
    "    def printGrades(self):\n",
    "        return self.grade\n",
    "    \n",
    "p1 = Student(\"ALI\", \"A\")\n",
    "    \n",
    "print(p1)\n",
    "p2 = Student(\"Usman\", \"B\")\n",
    "print(p2)\n",
    "p3 = Student(\"UMAR\", \"C\")\n",
    "print(p3)\n",
    "p4 = Student(\"ABU Bakar\", \"A\")\n",
    "# p1.name\n",
    "\n",
    "p1.getname()\n",
    "p2.printGrades()"
   ]
  },
  {
   "cell_type": "code",
   "execution_count": 24,
   "metadata": {},
   "outputs": [
    {
     "name": "stdout",
     "output_type": "stream",
     "text": [
      "name : Ali \n",
      " grade : A\n",
      "name : Usman \n",
      " grade : C\n",
      "name : Asif \n",
      " grade : B\n",
      "name : Bakar \n",
      " grade : A\n"
     ]
    },
    {
     "data": {
      "text/plain": [
       "'Usman'"
      ]
     },
     "execution_count": 24,
     "metadata": {},
     "output_type": "execute_result"
    }
   ],
   "source": [
    "class Student:\n",
    "    def __init__(self, name, grade) -> None:\n",
    "        self.name = name\n",
    "        self.grade = grade\n",
    "\n",
    "    def __str__(self) -> str:\n",
    "        return f\"name : {self.name} \\n grade : {self.grade}\"\n",
    "\n",
    "    def getname (self):\n",
    "        return self.name\n",
    "\n",
    "    def printgrade (self):\n",
    "        return self.grade\n",
    "\n",
    "p1 = Student(\"Ali\", \"A\")\n",
    "print(p1)\n",
    "p2 = Student(\"Usman\", \"C\")\n",
    "print(p2)\n",
    "p3 = Student(\"Asif\", \"B\")\n",
    "print(p3)\n",
    "p4 = Student(\"Bakar\", \"A\")\n",
    "print(p4)\n",
    "\n",
    "# p1.name\n",
    "p1.getname()\n",
    "p2.getname()\n"
   ]
  },
  {
   "cell_type": "code",
   "execution_count": 34,
   "metadata": {},
   "outputs": [
    {
     "data": {
      "text/plain": [
       "12.568"
      ]
     },
     "execution_count": 34,
     "metadata": {},
     "output_type": "execute_result"
    }
   ],
   "source": [
    "class Circle:\n",
    "    def __init__(self, radius, color) -> None:\n",
    "        self.radius = radius\n",
    "        self.color = color\n",
    "\n",
    "    def __str__(self) -> str:\n",
    "        return f\"radius : {self.radius} \\n color : {self.color}\"\n",
    "    \n",
    "    def getradius (self):\n",
    "        return self.radius\n",
    "    \n",
    "    def getArea (self):\n",
    "        return (3.142)*(self.radius)**2 \n",
    "        \n",
    "circle1 = Circle(2, \"red\")\n",
    "print(circle1)\n",
    "\n",
    "circle1.getradius()\n",
    "circle1.getArea()"
   ]
  },
  {
   "cell_type": "code",
   "execution_count": 39,
   "metadata": {},
   "outputs": [
    {
     "data": {
      "text/plain": [
       "12.568"
      ]
     },
     "execution_count": 39,
     "metadata": {},
     "output_type": "execute_result"
    }
   ],
   "source": [
    "from typing import Any\n",
    "\n",
    "\n",
    "class Circle:\n",
    "    def __init__(self, radius, color) -> None:\n",
    "        self.radius = radius\n",
    "        self.color = color\n",
    "    \n",
    "    def __str__(self) -> str:\n",
    "        return f\" radius : {self.radius} \\n color : {self.color}\"\n",
    "\n",
    "    def getradius (self):\n",
    "        return self.radius\n",
    "    \n",
    "    def getCircumferance (self):\n",
    "        return (2*(3.142)*(self.radius))\n",
    "    \n",
    "circle1 = Circle(2, \"yellow\")\n",
    "\n",
    "\n",
    "# circle1.getradius()\n",
    "circle1.getCircumferance()\n"
   ]
  },
  {
   "cell_type": "code",
   "execution_count": 16,
   "metadata": {},
   "outputs": [
    {
     "name": "stdout",
     "output_type": "stream",
     "text": [
      " name : Rashid \n",
      " number : 12 \n",
      " xlocation : 2 \n",
      " ylocation : 3\n"
     ]
    },
    {
     "data": {
      "text/plain": [
       "True"
      ]
     },
     "execution_count": 16,
     "metadata": {},
     "output_type": "execute_result"
    }
   ],
   "source": [
    "class SoccerPlayer:\n",
    "    def __init__(self, name, number, xlocation, ylocation) -> None:\n",
    "        self.name = name\n",
    "        self.number = number\n",
    "        self.xlocation = xlocation\n",
    "        self.ylocation = ylocation\n",
    "        \n",
    "    def __str__(self) -> str:\n",
    "        return f\" name : {self.name} \\n number : {self.number} \\n xlocation : {self.xlocation} \\n ylocation : {self.ylocation}\"\n",
    "    \n",
    "    def run (self):\n",
    "        return True\n",
    "    \n",
    "    def jump(self):\n",
    "        return True\n",
    "    \n",
    "    def kickBall(self):\n",
    "        return True\n",
    "    \n",
    "Player1 = SoccerPlayer(\"Rashid\", 12, 2, 3)\n",
    "print(Player1)\n",
    "\n",
    "Player1.run()\n",
    "Player1.jump()\n",
    "\n",
    "        "
   ]
  },
  {
   "cell_type": "code",
   "execution_count": 50,
   "metadata": {},
   "outputs": [
    {
     "name": "stdout",
     "output_type": "stream",
     "text": [
      " platenumber : 2323 \n",
      " xlocation : 3 \n",
      " ylocation : 4 \n",
      " speed : 130\n"
     ]
    },
    {
     "data": {
      "text/plain": [
       "True"
      ]
     },
     "execution_count": 50,
     "metadata": {},
     "output_type": "execute_result"
    }
   ],
   "source": [
    "class Car():\n",
    "    def __init__(self, platenumber, xlocation, ylocation, speed) -> None:\n",
    "        self.platenumber = platenumber\n",
    "        self.xlocation = xlocation\n",
    "        self.ylocation = ylocation\n",
    "        self.speed = speed\n",
    "\n",
    "    def __str__(self) -> str:\n",
    "        return f\" platenumber : {self.platenumber} \\n xlocation : {self.xlocation} \\n ylocation : {self.ylocation} \\n speed : {self.speed}\"\n",
    "    \n",
    "    def move (self):\n",
    "        return True\n",
    "    \n",
    "    def park (self):\n",
    "        return True\n",
    "    \n",
    "    def accelerate (self):\n",
    "        return True\n",
    "    \n",
    "Toyota = Car(2323, 3, 4, 130)\n",
    "print(Toyota)\n",
    "\n",
    "# Toyota.move()\n",
    "# Toyota.park()\n",
    "Toyota.accelerate()\n",
    "        "
   ]
  },
  {
   "cell_type": "code",
   "execution_count": 7,
   "metadata": {},
   "outputs": [
    {
     "data": {
      "text/plain": [
       "<__main__.Student at 0x1804bad3090>"
      ]
     },
     "execution_count": 7,
     "metadata": {},
     "output_type": "execute_result"
    }
   ],
   "source": [
    "class Student:\n",
    "    def __init__(a, name, school, age, email, address) -> None:\n",
    "        a.naam = name\n",
    "        a.skool = school\n",
    "        a.umar = age\n",
    "        a.email = email\n",
    "        a.pata = address\n",
    "        a.marks = []\n",
    "\n",
    "    def average(a):\n",
    "        return sum(a.marks)/len(a.marks)\n",
    "    \n",
    "    def friend(a, fName):\n",
    "        return Student(fName,a.skool,a.umar,a.email, a.pata)\n",
    "\n",
    "student1 = Student(\"Ali\", \"Ata Supply factory\", 22, \"AliJaveed232@gmail.com\", \"Machar calony\")\n",
    "\n",
    "student1.marks = [22,34,55,66,77,88,44]\n",
    "student1.average()\n",
    "student1.friend(\"Umer\")\n",
    "\n",
    "\n"
   ]
  },
  {
   "cell_type": "code",
   "execution_count": 8,
   "metadata": {},
   "outputs": [
    {
     "data": {
      "text/plain": [
       "20000000"
      ]
     },
     "execution_count": 8,
     "metadata": {},
     "output_type": "execute_result"
    }
   ],
   "source": [
    "class WorkingStudent(Student):\n",
    "    def __init__(self,name, school, age, email, address, salary) -> None:\n",
    "        super().__init__(name,school,age,email,address)\n",
    "        self.tankha = salary\n",
    "studen2 = WorkingStudent(\"Mustafa\", \"Thata cemint factory \", 21, \"Mustafa@gmail.com\",\"Nagan Chorngi\", 20000000)\n",
    "studen2.tankha"
   ]
  },
  {
   "cell_type": "code",
   "execution_count": 5,
   "metadata": {},
   "outputs": [
    {
     "name": "stdout",
     "output_type": "stream",
     "text": [
      "woof!\n",
      "Meow!\n",
      "Chirp!\n"
     ]
    }
   ],
   "source": [
    "class Animal:\n",
    "    def __init__(self, name, age) -> None:\n",
    "        self.name = name\n",
    "        self.age = age\n",
    "\n",
    "    def speak (self):\n",
    "        pass\n",
    "\n",
    "class Dog(Animal):\n",
    "    def speak(self):\n",
    "        return \"woof!\"\n",
    "    \n",
    "class Cat(Animal):\n",
    "    def speak(self):\n",
    "        return \"Meow!\"\n",
    "    \n",
    "class Bird(Animal):\n",
    "    def speak(self):\n",
    "        return \"Chirp!\"\n",
    "    \n",
    "dog = Dog(\"Buddy\", 3)\n",
    "print(dog.speak())     \n",
    "\n",
    "cat = Cat(\"Whiskers\", 2)\n",
    "print(cat.speak())     \n",
    "\n",
    "bird = Bird(\"Eagle\", 4)\n",
    "print(bird.speak())   \n",
    "        "
   ]
  },
  {
   "cell_type": "code",
   "execution_count": 12,
   "metadata": {},
   "outputs": [
    {
     "name": "stdout",
     "output_type": "stream",
     "text": [
      "Rectangle Area:  50\n",
      "Ractangle Perimeter:  30\n",
      "Circle of Area:  50.26548245743669\n",
      "Circle of perimeter:  25.132741228718345\n",
      "Triangle Area:  0.0\n",
      "Triangle perimeter:  12\n"
     ]
    }
   ],
   "source": [
    "import math\n",
    "\n",
    "class Shape:\n",
    "    def area(self):\n",
    "        pass\n",
    "\n",
    "    def perimeter(self):\n",
    "        pass\n",
    "\n",
    "class Rectangle(Shape):\n",
    "    def __init__(self, width, height):\n",
    "        self.width = width\n",
    "        self.height = height\n",
    "\n",
    "    def area(self):\n",
    "        return self.width * self.height\n",
    "    \n",
    "    def perimeter(self):\n",
    "        return 2 * (self.width + self.height)\n",
    "    \n",
    "class Circle(Shape):\n",
    "    def __init__(self, radius):\n",
    "        self.radius = radius\n",
    "\n",
    "    def area(self):\n",
    "        return math.pi * self.radius * self.radius\n",
    "    \n",
    "    def perimeter(self):\n",
    "        return 2 * math.pi * self.radius\n",
    "    \n",
    "class Triangle:\n",
    "    def __init__(self, side1, side2, side3):\n",
    "        self.side1 = side1\n",
    "        self.side2 = side2\n",
    "        self.side3 = side3\n",
    "\n",
    "    def area(self):\n",
    "        s = (self.side1 + self.side2 + self.side3) / 2\n",
    "        return math.sqrt(s * (s - self.side1) * (s - self.side2) * (s - self.side3))\n",
    "    \n",
    "    def perimeter(self):\n",
    "        return self.side1 + self.side2 + self.side3\n",
    "    \n",
    "rectangle = Rectangle(5 , 10)\n",
    "print(\"Rectangle Area: \", rectangle.area())\n",
    "print(\"Ractangle Perimeter: \", rectangle.perimeter())\n",
    "\n",
    "circle1 = Circle(4)\n",
    "print(\"Circle of Area: \", circle1.area())\n",
    "print(\"Circle of perimeter: \", circle1.perimeter())\n",
    "\n",
    "triangle = Triangle(2, 4, 6)\n",
    "print(\"Triangle Area: \", triangle.area())\n",
    "print(\"Triangle perimeter: \", triangle.perimeter())\n",
    "        \n",
    "\n",
    "        \n"
   ]
  },
  {
   "cell_type": "code",
   "execution_count": 16,
   "metadata": {},
   "outputs": [
    {
     "name": "stdout",
     "output_type": "stream",
     "text": [
      "Toyota Camery 2023 started.\n",
      "Toyota Camery 2023 stopped.\n",
      "Harley-davidson street-22 2022 started.\n",
      "Harley-davidson street-22 2022 stopped.\n",
      "Mercedes f-150 2021 started.\n",
      "Mercedes f-150 2021 stopped.\n"
     ]
    }
   ],
   "source": [
    "class Vehicles:\n",
    "    def __init__(self, make, model, year) -> None:\n",
    "        self.make = make\n",
    "        self.model = model\n",
    "        self.year = year\n",
    "\n",
    "    def start(self):\n",
    "        pass\n",
    "\n",
    "    def stop(self):\n",
    "        pass\n",
    "\n",
    "class Car(Vehicles):\n",
    "    def start(self):\n",
    "        return f\"{self.make} {self.model} {self.year} started.\"\n",
    "    \n",
    "    def stop(self):\n",
    "        return f\"{self.make} {self.model} {self.year} stopped.\"\n",
    "    \n",
    "class Motorcycles(Vehicles):\n",
    "    def start(self):\n",
    "        return f\"{self.make} {self.model} {self.year} started.\"\n",
    "    \n",
    "    def stop(self):\n",
    "        return f\"{self.make} {self.model} {self.year} stopped.\"\n",
    "    \n",
    "class Trucks(Vehicles):\n",
    "    def start(self):\n",
    "        return f\"{self.make} {self.model} {self.year} started.\"\n",
    "    \n",
    "    def stop(self):\n",
    "        return f\"{self.make} {self.model} {self.year} stopped.\"\n",
    "    \n",
    "car = Car(\"Toyota\", \"Camery\", 2023)\n",
    "print(car.start())\n",
    "print(car.stop())\n",
    "        \n",
    "motorcycles = Motorcycles(\"Harley-davidson\", \"street-22\", 2022)\n",
    "print(motorcycles.start())\n",
    "print(motorcycles.stop())\n",
    "\n",
    "truks = Trucks(\"Mercedes\", \"f-150\", 2021)\n",
    "print(truks.start())\n",
    "print(truks.stop())"
   ]
  },
  {
   "cell_type": "code",
   "execution_count": 8,
   "metadata": {},
   "outputs": [
    {
     "name": "stdout",
     "output_type": "stream",
     "text": [
      "None\n",
      "7.5\n"
     ]
    }
   ],
   "source": [
    "class BankAccount:\n",
    "    def __init__(self, balance) -> None:\n",
    "        self.balance = balance\n",
    "    \n",
    "    def deposite(self, amount):\n",
    "        self.balance += amount\n",
    "\n",
    "    def withdraw(self, amount):\n",
    "        if self.balance <= amount:\n",
    "            self.balance -= amount\n",
    "        else:\n",
    "            print(\"Insufficient balance.\")\n",
    "\n",
    "class SavingsAccount(BankAccount):\n",
    "    def calculator_interest(self, rate):\n",
    "        return self.balance * rate / 100\n",
    "    \n",
    "class CheckingAccount(BankAccount):\n",
    "    def check_min_balance(self, min_balance):\n",
    "        if self.balance < min_balance:\n",
    "            print(\"Account balanced is below the minimum required balance. \")\n",
    "        else:\n",
    "            print(\"Account balance is within the minimum required balance. \")\n",
    "\n",
    "saving_acc = SavingsAccount(1000)\n",
    "print(saving_acc.deposite(500))\n",
    "saving_acc.calculator_interest(1100000)\n",
    "interest = saving_acc.calculator_interest(0.5)\n",
    "print(interest)\n",
    "\n",
    "\n",
    "\n"
   ]
  },
  {
   "cell_type": "code",
   "execution_count": 20,
   "metadata": {},
   "outputs": [
    {
     "name": "stdout",
     "output_type": "stream",
     "text": [
      "Manager salary:  2220000\n",
      "Developer salary:  120000000\n",
      "Designer salary:  150000\n"
     ]
    }
   ],
   "source": [
    "class Employee:\n",
    "    def __init__(self, name, id, salary) -> None:\n",
    "        self.name = name \n",
    "        self.id = id \n",
    "        self.salary = salary\n",
    "\n",
    "    def calculate_salary(self):\n",
    "        return self.salary\n",
    "    \n",
    "class Manager(Employee):\n",
    "    def __init__(self, name, id, salary, bonus) -> None:\n",
    "        super().__init__(name, id, salary)\n",
    "        self.bonus = bonus\n",
    "\n",
    "    def calculate_salary(self):\n",
    "        return self.salary + self.bonus\n",
    "    \n",
    "class Developer(Employee):\n",
    "    def __init__(self, name, id, salary, language) -> None:\n",
    "        super().__init__(name, id, salary)\n",
    "        self.language = language\n",
    "\n",
    "class Designer(Employee):\n",
    "    def __init__(self, name, id, salary, tool) -> None:\n",
    "        super().__init__(name, id, salary)\n",
    "        self.tool = tool\n",
    "\n",
    "manager = Manager(\"john dio\", 101, 2200000, 20000)\n",
    "print(\"Manager salary: \", manager.calculate_salary())\n",
    "\n",
    "developer = Developer(\"Rashid Bhatti\", 786, 120000000, \"Pyhton\")\n",
    "print(\"Developer salary: \", developer.calculate_salary())\n",
    "\n",
    "designer = Designer(\"Adnan\", 222, 150000, \"Autocad\")\n",
    "print(\"Designer salary: \", designer.calculate_salary())"
   ]
  },
  {
   "cell_type": "code",
   "execution_count": 23,
   "metadata": {},
   "outputs": [
    {
     "name": "stdout",
     "output_type": "stream",
     "text": [
      "Kashif is studing Math\n",
      "Mr Smith is teaching Chemistry.\n"
     ]
    }
   ],
   "source": [
    "class Person:\n",
    "    def __init__(self, name, age) -> None:\n",
    "        self.name = name\n",
    "        self.age = age\n",
    "\n",
    "class Student(Person):\n",
    "    def __init__(self, name, age, grade) -> None:\n",
    "        super().__init__(name, age)\n",
    "        self.grade = grade\n",
    "\n",
    "    def study(self, subject):\n",
    "        return f\"{self.name} is studing {subject}\"\n",
    "    \n",
    "class Teacher(Person):\n",
    "    def __init__(self, name, age, subject) -> None:\n",
    "        super().__init__(name, age)\n",
    "        self.subject = subject\n",
    "\n",
    "    def teach(self):\n",
    "        return f\"{self.name} is teaching {self.subject}.\"\n",
    "    \n",
    "student = Student(\"Kashif\", 13, \"A PLUS\")\n",
    "print(student.study(\"Math\"))\n",
    "\n",
    "teacher = Teacher(\"Mr Smith\", 28, \"Chemistry\")\n",
    "print(teacher.teach())"
   ]
  },
  {
   "cell_type": "code",
   "execution_count": 9,
   "metadata": {},
   "outputs": [
    {
     "name": "stdout",
     "output_type": "stream",
     "text": [
      "Apple iphone12, OS: ios\n",
      "Dell XPS 13, Screen size: 13\n",
      "Samsung QLED Q90T, resolution: 4K Ultra HD\n"
     ]
    }
   ],
   "source": [
    "class ElectronicDevice:\n",
    "    def __init__(self, brand, model) -> None:\n",
    "        self.brand = brand\n",
    "        self.model = model\n",
    "\n",
    "    def info(self):\n",
    "        return f\"{self.brand} {self.model}\"\n",
    "    \n",
    "class Phone(ElectronicDevice):\n",
    "    def __init__(self, brand, model, os) -> None:\n",
    "        super().__init__(brand, model)\n",
    "        self.os = os\n",
    "\n",
    "    def info(self):\n",
    "        return f\"{super(). info()}, OS: {self.os}\"\n",
    "    \n",
    "class Laptop(ElectronicDevice):\n",
    "    def __init__(self, brand, model, screen_size) -> None:\n",
    "        super().__init__(brand, model)\n",
    "        self.screen_size = screen_size\n",
    "\n",
    "    def info(self):\n",
    "        return f\"{super().info()}, Screen size: {self.screen_size}\"\n",
    "    \n",
    "class TV(ElectronicDevice):\n",
    "    def __init__(self, brand, model, resolution) -> None:\n",
    "        super().__init__(brand, model)\n",
    "        self.resolution = resolution\n",
    "\n",
    "    def info(self):\n",
    "        return f\"{super().info()}, resolution: {self.resolution}\"\n",
    "    \n",
    "phone1 = Phone(\"Apple\", \"iphone12\", \"ios\")\n",
    "print(phone1.info())\n",
    "\n",
    "laptop = Laptop(\"Dell\", \"XPS 13\", 13)\n",
    "print(laptop.info())  \n",
    "\n",
    "tv = TV(\"Samsung\", \"QLED Q90T\", \"4K Ultra HD\")\n",
    "print(tv.info()) \n",
    "    "
   ]
  },
  {
   "cell_type": "code",
   "execution_count": 13,
   "metadata": {},
   "outputs": [
    {
     "ename": "TypeError",
     "evalue": "Player.attack() missing 1 required positional argument: 'target'",
     "output_type": "error",
     "traceback": [
      "\u001b[1;31m---------------------------------------------------------------------------\u001b[0m",
      "\u001b[1;31mTypeError\u001b[0m                                 Traceback (most recent call last)",
      "Cell \u001b[1;32mIn[13], line 30\u001b[0m\n\u001b[0;32m     27\u001b[0m         \u001b[39mprint\u001b[39m(\u001b[39mf\u001b[39m\u001b[39m\"\u001b[39m\u001b[39m{\u001b[39;00m\u001b[39mself\u001b[39m\u001b[39m.\u001b[39mname\u001b[39m}\u001b[39;00m\u001b[39m attacked \u001b[39m\u001b[39m{\u001b[39;00mtarget\u001b[39m.\u001b[39mname\u001b[39m}\u001b[39;00m\u001b[39m for \u001b[39m\u001b[39m{\u001b[39;00mdamage\u001b[39m}\u001b[39;00m\u001b[39m damage.\u001b[39m\u001b[39m\"\u001b[39m)\n\u001b[0;32m     29\u001b[0m player \u001b[39m=\u001b[39m Player(\u001b[39m\"\u001b[39m\u001b[39mHero\u001b[39m\u001b[39m\"\u001b[39m, \u001b[39m100\u001b[39m, \u001b[39m5\u001b[39m)\n\u001b[1;32m---> 30\u001b[0m \u001b[39mprint\u001b[39m(player\u001b[39m.\u001b[39;49mattack())\n\u001b[0;32m     31\u001b[0m enemy \u001b[39m=\u001b[39m Enemy(\u001b[39m\"\u001b[39m\u001b[39mGolbin\u001b[39m\u001b[39m\"\u001b[39m, \u001b[39m60\u001b[39m, \u001b[39m3\u001b[39m)\n\u001b[0;32m     32\u001b[0m \u001b[39mprint\u001b[39m(enemy)\n",
      "\u001b[1;31mTypeError\u001b[0m: Player.attack() missing 1 required positional argument: 'target'"
     ]
    }
   ],
   "source": [
    "class Character:\n",
    "    def __init__(self, name, health) -> None:\n",
    "        self.name = name\n",
    "        self.health = health\n",
    "\n",
    "    def attack(self,):\n",
    "        pass\n",
    "\n",
    "class Player(Character):\n",
    "    def __init__(self, name, health, level) -> None:\n",
    "        super().__init__(name, health)\n",
    "        self.level = level\n",
    "\n",
    "    def attack(self, target):\n",
    "        damage = self.level * 10\n",
    "        target.health -= damage\n",
    "        print(f\"{self.name} attacked {target.name} for {damage} damage.\")\n",
    "\n",
    "class Enemy(Character):\n",
    "    def __init__(self, name, health, strenght) -> None:\n",
    "        super().__init__(name, health)\n",
    "        self.strenght = strenght\n",
    "\n",
    "    def attack(self, target):\n",
    "        damage = self.strenght * 5\n",
    "        target.health -= damage\n",
    "        print(f\"{self.name} attacked {target.name} for {damage} damage.\")\n",
    "\n",
    "player = Player(\"Hero\", 100, 5)\n",
    "print(player.attack())\n",
    "enemy = Enemy(\"Golbin\", 60, 3)\n",
    "print(enemy)\n",
    "# player.attack(Enemy) \n",
    "# enemy.attack(Player)"
   ]
  },
  {
   "cell_type": "code",
   "execution_count": null,
   "metadata": {},
   "outputs": [],
   "source": [
    "class Shape:\n",
    "    def area(self):\n",
    "        pass\n",
    "\n",
    "    def perimeter(self):\n",
    "        pass\n",
    "\n",
    "class Rectangle(Shape):\n",
    "    def __init__(self,\n",
    "\n",
    " width, height):\n",
    "        self.width = width\n",
    "        self.height = height\n",
    "\n",
    "    def area(self):\n",
    "        return self.width * self.height\n",
    "\n",
    "    def perimeter(self):\n",
    "        return 2 * (self.width + self.height)\n",
    "\n",
    "class Circle(Shape):\n",
    "    def __init__(self, radius):\n",
    "        self.radius = radius\n",
    "\n",
    "    def area(self):\n",
    "        return 3.14 * self.radius * self.radius\n",
    "\n",
    "    def perimeter(self):\n",
    "        return 2 * 3.14 * self.radius\n",
    "\n",
    "\n",
    "    "
   ]
  },
  {
   "cell_type": "code",
   "execution_count": 15,
   "metadata": {},
   "outputs": [
    {
     "name": "stdout",
     "output_type": "stream",
     "text": [
      "<__main__.SavingsBank object at 0x00000200CB58E210>\n",
      "Interest Earned: 25.0\n",
      "Can withdraw: False\n"
     ]
    }
   ],
   "source": [
    "class Bank:\n",
    "    def __init__(self):\n",
    "        self.accounts = {}\n",
    "\n",
    "    def create_account(self, account_number, initial_balance):\n",
    "        self.accounts[account_number] = initial_balance\n",
    "\n",
    "    def close_account(self, account_number):\n",
    "        if account_number in self.accounts:\n",
    "            del self.accounts[account_number]\n",
    "            print(f\"Account {account_number} closed.\")\n",
    "        else:\n",
    "            print(f\"Account {account_number} not found.\")\n",
    "\n",
    "class SavingsBank(Bank):\n",
    "    def __init__(self):\n",
    "        super().__init__()\n",
    "\n",
    "    def calculate_interest(self, account_number, rate):\n",
    "        if account_number in self.accounts:\n",
    "            balance = self.accounts[account_number]\n",
    "            return balance * rate / 100\n",
    "        else:\n",
    "            print(f\"Account {account_number} not found.\")\n",
    "            return 0\n",
    "\n",
    "class CurrentBank(Bank):\n",
    "    def __init__(self):\n",
    "        super().__init__()\n",
    "\n",
    "    def check_overdraft(self, account_number, amount):\n",
    "        if account_number in self.accounts:\n",
    "            balance = self.accounts[account_number]\n",
    "            if balance >= amount:\n",
    "                return True\n",
    "            else:\n",
    "                return False\n",
    "        else:\n",
    "            print(f\"Account {account_number} not found.\")\n",
    "            return False\n",
    "\n",
    "savings_bank = SavingsBank()\n",
    "print(savings_bank)\n",
    "savings_bank.create_account(\"12345\", 1000)\n",
    "interest = savings_bank.calculate_interest(\"12345\", 2.5)\n",
    "print(\"Interest Earned:\", interest)  \n",
    "\n",
    "current_bank = CurrentBank()\n",
    "current_bank.create_account(\"67890\", 5000)\n",
    "can_withdraw = current_bank.check_overdraft(\"67890\", 6000)\n",
    "print(\"Can withdraw:\", can_withdraw)"
   ]
  }
 ],
 "metadata": {
  "kernelspec": {
   "display_name": "Python 3",
   "language": "python",
   "name": "python3"
  },
  "language_info": {
   "codemirror_mode": {
    "name": "ipython",
    "version": 3
   },
   "file_extension": ".py",
   "mimetype": "text/x-python",
   "name": "python",
   "nbconvert_exporter": "python",
   "pygments_lexer": "ipython3",
   "version": "3.11.1"
  },
  "orig_nbformat": 4
 },
 "nbformat": 4,
 "nbformat_minor": 2
}
