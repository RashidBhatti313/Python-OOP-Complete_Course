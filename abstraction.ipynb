{
 "cells": [
  {
   "cell_type": "code",
   "execution_count": 19,
   "metadata": {},
   "outputs": [
    {
     "name": "stdout",
     "output_type": "stream",
     "text": [
      " Triangle has 3 sides\n",
      " Pentagon has 5 sides\n",
      " Hexagon has 6 sides\n",
      " Quadrilatral have 4 sides\n"
     ]
    }
   ],
   "source": [
    "from abc import ABC, abstractmethod\n",
    "\n",
    "class Polygon(ABC):\n",
    "    @abstractmethod\n",
    "    # abstract method\n",
    "    def no_ofsides(self):\n",
    "        pass\n",
    "\n",
    "class Triangle(Polygon):\n",
    "    # overridding abstract method\n",
    "    def no_ofsides(self):\n",
    "        return f\" Triangle has 3 sides\"\n",
    "   \n",
    "class Pentagon(Polygon):\n",
    "    # Overridding abstract method\n",
    "    def no_ofsides(self):\n",
    "        return f\" Pentagon has 5 sides\"\n",
    "\n",
    "class Hexagon(Polygon):\n",
    "    # Overridding abstract method\n",
    "    def no_ofsides(self):\n",
    "        return f\" Hexagon has 6 sides\"\n",
    "    \n",
    "class Quadrilatral(Polygon):\n",
    "    # Overridding abstract method\n",
    "    def no_ofsides(self):\n",
    "        return f\" Quadrilatral have 4 sides\"\n",
    "    \n",
    "t = Triangle()\n",
    "print(t.no_ofsides())\n",
    "\n",
    "p = Pentagon()\n",
    "print(p.no_ofsides())\n",
    "\n",
    "H = Hexagon()\n",
    "print(H.no_ofsides())\n",
    "\n",
    "Q = Quadrilatral()\n",
    "print(Q.no_ofsides())\n"
   ]
  },
  {
   "cell_type": "code",
   "execution_count": 17,
   "metadata": {},
   "outputs": [
    {
     "name": "stdout",
     "output_type": "stream",
     "text": [
      " I can crawl!\n",
      " I can bark!\n",
      " I can roar\n"
     ]
    }
   ],
   "source": [
    "from abc import ABC, abstractmethod\n",
    "\n",
    "class Animal(ABC):\n",
    "    @abstractmethod\n",
    "    def move(self):\n",
    "        pass\n",
    "\n",
    "class Snake(Animal):\n",
    "    def move(self):\n",
    "        return f\" I can crawl!\"\n",
    "    \n",
    "class Dog(Animal):\n",
    "    def move(self):\n",
    "        return f\" I can bark!\"\n",
    "    \n",
    "class Loin(Animal):\n",
    "    def move(self):\n",
    "        return f\" I can roar\"\n",
    "    \n",
    "S = Snake()\n",
    "print(S.move())\n",
    "\n",
    "D = Dog()\n",
    "print(D.move())\n",
    "\n",
    "L = Loin()\n",
    "print(L.move())\n",
    "\n",
    "\n"
   ]
  },
  {
   "cell_type": "code",
   "execution_count": 5,
   "metadata": {},
   "outputs": [
    {
     "name": "stdout",
     "output_type": "stream",
     "text": [
      " name = CG 125 \n",
      " price 225000\n",
      " name = honda70 \n",
      " price 125000 \n",
      "  engine = 70cc\n"
     ]
    }
   ],
   "source": [
    "from abc import ABC, abstractmethod\n",
    "\n",
    "class Bike(ABC):\n",
    "    @abstractmethod\n",
    "    def oneWheeling(self):\n",
    "        pass\n",
    "    \n",
    "class HondaBike(Bike):\n",
    "    def __init__(self, name, price) -> None:\n",
    "        self.name = name\n",
    "        self.price = price\n",
    "    \n",
    "    def oneWheeling(self):\n",
    "        return True\n",
    "\n",
    "    def __str__(self) -> str:\n",
    "        return f\" name = {self.name} \\n price {self.price}\"\n",
    "    \n",
    "class CD70Bike(HondaBike):\n",
    "    def __init__(self, name, price, engine) -> None:\n",
    "        super().__init__(name, price)\n",
    "        self.engine = engine\n",
    "\n",
    "    def __str__(self) -> str:\n",
    "        return f\"{super().__str__()} \\n  engine = {self.engine}\"\n",
    "    \n",
    "hondabike = HondaBike(\"CG 125\", 225000)\n",
    "print(hondabike)\n",
    "hondabike.oneWheeling()\n",
    "\n",
    "cd70 = CD70Bike(\"honda70\", 125000, \"70cc\")\n",
    "print(cd70)\n",
    "\n"
   ]
  }
 ],
 "metadata": {
  "kernelspec": {
   "display_name": "Python 3",
   "language": "python",
   "name": "python3"
  },
  "language_info": {
   "codemirror_mode": {
    "name": "ipython",
    "version": 3
   },
   "file_extension": ".py",
   "mimetype": "text/x-python",
   "name": "python",
   "nbconvert_exporter": "python",
   "pygments_lexer": "ipython3",
   "version": "3.11.4"
  },
  "orig_nbformat": 4
 },
 "nbformat": 4,
 "nbformat_minor": 2
}
