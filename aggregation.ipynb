{
 "cells": [
  {
   "cell_type": "code",
   "execution_count": 10,
   "metadata": {},
   "outputs": [
    {
     "name": "stdout",
     "output_type": "stream",
     "text": [
      " Department: Computer Science\n",
      " Department: Electrical Engineering\n"
     ]
    }
   ],
   "source": [
    "class Department:\n",
    "    def __init__(self, name) -> None:\n",
    "        self.name = name\n",
    "\n",
    "class University:\n",
    "    def __init__(self, name) -> None:\n",
    "        self.name = name\n",
    "        self.departments =[]\n",
    "\n",
    "    def add_department(self,department):\n",
    "        self.departments.append(department)\n",
    "\n",
    "    def display_departments(self):\n",
    "        for department in self.departments:\n",
    "            print(f\" Department: {department.name}\")\n",
    "\n",
    "dept1 = Department(\"Computer Science\") \n",
    "dept2 = Department(\"Electrical Engineering\")\n",
    "\n",
    "university = University(\"ABC University\")\n",
    "university.add_department(dept1)\n",
    "university.add_department(dept2)\n",
    "university.display_departments()\n",
    "# print(dept1)\n",
    "# print(dept2)"
   ]
  },
  {
   "cell_type": "code",
   "execution_count": 20,
   "metadata": {},
   "outputs": [
    {
     "name": "stdout",
     "output_type": "stream",
     "text": [
      " Employee name is: Alice \n",
      " His role number is: Software\n",
      " Employee name is: Bob \n",
      " His role number is: Project Manager\n",
      " Employee name is: <bound method Company.hire_employee of <__main__.Company object at 0x000001AA679B0850>>\n"
     ]
    }
   ],
   "source": [
    "class Employee:\n",
    "    def __init__(self, name, role) -> None:\n",
    "        self.name = name\n",
    "        self.role = role\n",
    "\n",
    "    def Employees(self):\n",
    "        print(f\" Employee name is: {self.name} \\n His role number is: {self.role}\")\n",
    "\n",
    "\n",
    "class Company:\n",
    "    def __init__(self, name) -> None:\n",
    "        self.name = name\n",
    "        self.employees = []\n",
    "\n",
    "    def hire_employee(self, employee):\n",
    "        self.employees.append(employee)\n",
    "    \n",
    "    def showCampany(self):\n",
    "        print(f\" Employee name is: {self.hire_employee}\")\n",
    "    \n",
    "    \n",
    "emp1 = Employee(\"Alice\", \"Software\")\n",
    "emp2 = Employee(\"Bob\", \"Project Manager\")\n",
    "emp1.Employees()\n",
    "emp2.Employees()\n",
    "\n",
    "company = Company(\"ABC Inc.\")\n",
    "# company.hire_employee(emp1)\n",
    "# company.hire_employee(emp2)\n",
    "company.showCampany()\n",
    "# company.hire_employee()\n",
    "\n",
    "\n",
    "\n"
   ]
  },
  {
   "cell_type": "code",
   "execution_count": 13,
   "metadata": {},
   "outputs": [
    {
     "name": "stdout",
     "output_type": "stream",
     "text": [
      " There are five capacity of engine: 5\n",
      " The car make by: Toyota \n",
      " The model is: 2022 \n",
      " The car engine is: 1800cc\n"
     ]
    }
   ],
   "source": [
    "class Engine:\n",
    "    def __init__(self, capacity) -> None:\n",
    "        self.capacity = capacity\n",
    "        \n",
    "    def showDisplay(self):\n",
    "        print(f\" There are five capacity of engine: {self.capacity}\")\n",
    "\n",
    "class Car:\n",
    "    def __init__(self, make, model, engine) -> None:\n",
    "        self.make = make\n",
    "        self.model = model\n",
    "        self.engine = engine\n",
    "\n",
    "    def showCar(self):\n",
    "        print(f\" The car make by: {self.make} \\n The model is: {self.model} \\n The car engine is: {self.engine}\")\n",
    "        \n",
    "\n",
    "engine = Engine(5)\n",
    "# print(engine)\n",
    "engine.showDisplay()\n",
    "\n",
    "car = Car(\"Toyota\", 2022, \"1800cc\")\n",
    "# print(car)\n",
    "car.showCar()\n",
    "\n"
   ]
  },
  {
   "cell_type": "code",
   "execution_count": 1,
   "metadata": {},
   "outputs": [],
   "source": [
    "class CreditCard:\n",
    "    def __init__(self, number) -> None:\n",
    "        self.number = number\n",
    "\n",
    "class Wallet:\n",
    "    def __init__(self) -> None:\n",
    "        self.credit_cards = []\n",
    "\n",
    "    def add_credit_card(self, credit_card):\n",
    "        self.credit_cards.append(credit_card)\n",
    "        \n",
    "\n",
    "    "
   ]
  },
  {
   "cell_type": "code",
   "execution_count": 7,
   "metadata": {},
   "outputs": [
    {
     "name": "stdout",
     "output_type": "stream",
     "text": [
      " Make = Toyota \n",
      " Model = Camry \n",
      " Wheels = [<__main__.Wheel object at 0x0000028133A9EDD0>, <__main__.Wheel object at 0x0000028133A9ECD0>, <__main__.Wheel object at 0x0000028133A9EF90>, <__main__.Wheel object at 0x0000028133A9EFD0>]\n",
      " Wheel Size = 18 inches\n",
      " Wheel Size = 18 inches\n",
      " Wheel Size = 18 inches\n",
      " Wheel Size = 18 inches\n"
     ]
    }
   ],
   "source": [
    "class Wheel:\n",
    "    def __init__(self, size) -> None:\n",
    "        self.size = size\n",
    "\n",
    "class Car:\n",
    "    def __init__(self, make, model, wheels) -> None:\n",
    "        self.make = make\n",
    "        self.model = model\n",
    "        self.wheels = wheels\n",
    "\n",
    "    def __str__(self) -> str:\n",
    "        return f\" Make = {self.make} \\n Model = {self.model} \\n Wheels = {self.wheels}\"\n",
    "    \n",
    "    def display_wheels(self):\n",
    "        for wheel in self.wheels:\n",
    "            print(f\" Wheel Size = {wheel.size} inches\")\n",
    "\n",
    "wheel1 = Wheel(18)\n",
    "wheel2 = Wheel(18)\n",
    "wheel3 = Wheel(18)\n",
    "wheel4 = Wheel(18)\n",
    "car = Car(\"Toyota\", \"Camry\", [wheel1, wheel2, wheel3, wheel4])\n",
    "print(car)\n",
    "car.display_wheels()"
   ]
  }
 ],
 "metadata": {
  "kernelspec": {
   "display_name": "Python 3",
   "language": "python",
   "name": "python3"
  },
  "language_info": {
   "codemirror_mode": {
    "name": "ipython",
    "version": 3
   },
   "file_extension": ".py",
   "mimetype": "text/x-python",
   "name": "python",
   "nbconvert_exporter": "python",
   "pygments_lexer": "ipython3",
   "version": "3.11.4"
  },
  "orig_nbformat": 4
 },
 "nbformat": 4,
 "nbformat_minor": 2
}
