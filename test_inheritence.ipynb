{
 "cells": [
  {
   "cell_type": "code",
   "execution_count": 2,
   "metadata": {},
   "outputs": [
    {
     "name": "stdout",
     "output_type": "stream",
     "text": [
      " house = Location: karachi \n",
      " Rooms: 4 \n",
      " Parking: True \n",
      " Price_House: 30000000\n",
      " house = Location: LahoreDHA \n",
      " Rooms: 6 \n",
      " Parking: True \n",
      " Price_House: 130000000\n",
      " house = Location: Peshaware \n",
      " Rooms: 24 \n",
      " Parking: True \n",
      " Price_House: 3330000000\n",
      " house = Location: sawat \n",
      " Rooms: 34 \n",
      " Parking: True \n",
      " Price_House: 353300000.0\n"
     ]
    }
   ],
   "source": [
    "class Residentialhouses:\n",
    "    def __init__(self, location, rooms,parking_Is_available, price) -> None:\n",
    "        self.location = location\n",
    "        self.rooms = rooms\n",
    "        self.parking = parking_Is_available\n",
    "        self.price = price\n",
    "    \n",
    "house1 = Residentialhouses(\"karachi\", 4, True, 30000000)\n",
    "\n",
    "house2 = Residentialhouses(\"LahoreDHA\", 6, True, 130000000)\n",
    "house3 = Residentialhouses(\"Peshaware\", 24, True, 3330000000)\n",
    "house4 = Residentialhouses(\"sawat\", 34, True,353300000.00)\n",
    "print(f\" house = Location: {house1.location} \\n Rooms: {house1.rooms} \\n Parking: {house1.parking} \\n Price_House: {house1.price}\")\n",
    "print(f\" house = Location: {house2.location} \\n Rooms: {house2.rooms} \\n Parking: {house2.parking} \\n Price_House: {house2.price}\")\n",
    "print(f\" house = Location: {house3.location} \\n Rooms: {house3.rooms} \\n Parking: {house3.parking} \\n Price_House: {house3.price}\")\n",
    "print(f\" house = Location: {house4.location} \\n Rooms: {house4.rooms} \\n Parking: {house4.parking} \\n Price_House: {house4.price}\")\n"
   ]
  },
  {
   "cell_type": "code",
   "execution_count": 3,
   "metadata": {},
   "outputs": [
    {
     "name": "stdout",
     "output_type": "stream",
     "text": [
      "Samsung\n",
      "Galaxy S23\n",
      "['Camera', '5G']\n",
      "Apple\n",
      "iphone 13 Pro max\n",
      "['Face ID', 'A15 Bionic']\n"
     ]
    }
   ],
   "source": [
    "class MobileCompany:\n",
    "    def __init__(self, brand, model, features) -> None:\n",
    "        self.brand = brand\n",
    "        self.model = model\n",
    "        self.features = features\n",
    "\n",
    "    # def __str__(self) -> str:\n",
    "    #     return f\"Brand : {self.brand} Model : {self.model} features : {self.features}\"\n",
    "    \n",
    "    def make_cell (self, number):\n",
    "        print(f\"Calling : {number} using {self.brand}{self.model}\")\n",
    "\n",
    "    def send_message(self, number, message):\n",
    "        print(f\"Sending message to : {number} using {self.brand}{self.model}: {message}\")\n",
    "\n",
    "phone1 = MobileCompany(\"Samsung\", \"Galaxy S23\", ['Camera', '5G'])\n",
    "phone2 = MobileCompany(\"Apple\", \"iphone 13 Pro max\", [\"Face ID\", \"A15 Bionic\"])\n",
    "print(phone1.brand)\n",
    "print(phone1.model)\n",
    "print(phone1.features)\n",
    "print(phone2.brand)\n",
    "print(phone2.model)\n",
    "print(phone2.features)\n"
   ]
  },
  {
   "cell_type": "code",
   "execution_count": null,
   "metadata": {},
   "outputs": [],
   "source": []
  }
 ],
 "metadata": {
  "kernelspec": {
   "display_name": "Python 3",
   "language": "python",
   "name": "python3"
  },
  "language_info": {
   "codemirror_mode": {
    "name": "ipython",
    "version": 3
   },
   "file_extension": ".py",
   "mimetype": "text/x-python",
   "name": "python",
   "nbconvert_exporter": "python",
   "pygments_lexer": "ipython3",
   "version": "3.11.1"
  },
  "orig_nbformat": 4
 },
 "nbformat": 4,
 "nbformat_minor": 2
}
