{
 "cells": [
  {
   "cell_type": "markdown",
   "metadata": {},
   "source": [
    "##### Program 1: Create a python file name it as fish_polymorphic.py .\n"
   ]
  },
  {
   "cell_type": "code",
   "execution_count": 4,
   "metadata": {},
   "outputs": [
    {
     "name": "stdout",
     "output_type": "stream",
     "text": [
      "The shark is swimming.\n",
      "The shark is cannot swim backwords, but can sink backwords.\n",
      "The shark's skeleton is made of cartilage.\n",
      "The clownfish are swimming!\n",
      "The clownfish can swim backwards.\n",
      "The clownfish's skeleton is made of bone.\n"
     ]
    }
   ],
   "source": [
    "class Shark():\n",
    "    def swim(self):\n",
    "        print(\"The shark is swimming.\")\n",
    "\n",
    "    def swim_backwords(self):\n",
    "        print(\"The shark is cannot swim backwords, but can sink backwords.\")\n",
    "\n",
    "    def skeleton(self):\n",
    "        print(\"The shark's skeleton is made of cartilage.\")\n",
    "\n",
    "class Clownfish():\n",
    "    def swim(self):\n",
    "        print(\"The clownfish are swimming!\")\n",
    "\n",
    "    def swim_backwords(self):\n",
    "        print(\"The clownfish can swim backwards.\")\n",
    "\n",
    "    def skeleton(self):\n",
    "        print(\"The clownfish's skeleton is made of bone.\")\n",
    "\n",
    "obj_shark = Shark()\n",
    "obj_clownfish = Clownfish()\n",
    "\n",
    "obj_shark.swim()\n",
    "obj_shark.swim_backwords()\n",
    "obj_shark.skeleton()\n",
    "\n",
    "obj_clownfish.swim()\n",
    "obj_clownfish.swim_backwords()\n",
    "obj_clownfish.skeleton()\n"
   ]
  },
  {
   "cell_type": "markdown",
   "metadata": {},
   "source": [
    "##### Program 2: Write a Python program to show the polymorphism with class methods."
   ]
  },
  {
   "cell_type": "code",
   "execution_count": 7,
   "metadata": {},
   "outputs": [
    {
     "name": "stdout",
     "output_type": "stream",
     "text": [
      "The shark's skeleton is made of cartilage.\n",
      "The clownfish's skeleton is made of bone.\n",
      "The shark is swimming.\n",
      "The shark is cannot swim backwords, but can sink backwords.\n",
      "The shark's skeleton is made of cartilage.\n",
      "The clownfish are swimming!\n",
      "The clownfish can swim backwards.\n",
      "The clownfish's skeleton is made of bone.\n"
     ]
    }
   ],
   "source": [
    "class Shark():\n",
    "    def swim(self):\n",
    "        print(\"The shark is swimming.\")\n",
    "\n",
    "    def swim_backwords(self):\n",
    "        print(\"The shark is cannot swim backwords, but can sink backwords.\")\n",
    "\n",
    "    def skeleton(self):\n",
    "        print(\"The shark's skeleton is made of cartilage.\")\n",
    "\n",
    "class Clownfish():\n",
    "    def swim(self):\n",
    "        print(\"The clownfish are swimming!\")\n",
    "\n",
    "    def swim_backwords(self):\n",
    "        print(\"The clownfish can swim backwards.\")\n",
    "\n",
    "    def skeleton(self):\n",
    "        print(\"The clownfish's skeleton is made of bone.\")\n",
    "\n",
    "obj_shark = Shark()\n",
    "obj_shark.skeleton()\n",
    "\n",
    "obj_clownfish = Clownfish()\n",
    "obj_clownfish.skeleton()\n",
    "\n",
    "for fish in (obj_shark, obj_clownfish):\n",
    "    fish.swim()\n",
    "    fish.swim_backwords()\n",
    "    fish.skeleton()\n",
    "    "
   ]
  },
  {
   "cell_type": "markdown",
   "metadata": {},
   "source": [
    "Program 3: Write a Python program to show the polymorphism with class methods in real world \n",
    "problem"
   ]
  },
  {
   "cell_type": "code",
   "execution_count": 12,
   "metadata": {},
   "outputs": [
    {
     "name": "stdout",
     "output_type": "stream",
     "text": [
      "<__main__.MP3Fie object at 0x000001D887166F90>\n"
     ]
    }
   ],
   "source": [
    "class AudioFile:\n",
    "    def __init__(self, filename) -> None:\n",
    "        if not filename.endswith(self.ext):\n",
    "            raise Exception(\"Invalid file format.\")\n",
    "        self.filename = filename\n",
    "\n",
    "class MP3Fie(AudioFile):\n",
    "    ext = \"mp3\"\n",
    "    def play(self):\n",
    "        print(\"Playing {} as mp3\".format(self.filename))\n",
    "\n",
    "class WavFile(AudioFile):\n",
    "    ext = \"Wav\"\n",
    "    def play(self):\n",
    "        print(\"Playing {} as Wav\".format(self.filename))\n",
    "\n",
    "class OggFie(AudioFile):\n",
    "    ext = \"Ogg\"\n",
    "    def play(self):\n",
    "        print(\"playing {} as Ogg\".format(self.filename))\n",
    "\n",
    "class FlacFile:\n",
    "    def __init__(self, filename) -> None:\n",
    "        self.filename = filename\n",
    "        if not filename.endswith(\".flac\"):\n",
    "            raise Exception(\"Invalid file format.\")\n",
    "        self.filename = filename\n",
    "    \n",
    "    def play(self):\n",
    "        print(\"Playing {} as flac\".format(self.filename))\n",
    "\n",
    "audio = MP3Fie(\"mp3\")\n",
    "print(audio)\n"
   ]
  },
  {
   "cell_type": "markdown",
   "metadata": {},
   "source": [
    "Program 4: Write a Python program to show the polymorphism with parrot class and penguin class use \n",
    "fly() methods to show polymorphism"
   ]
  },
  {
   "cell_type": "code",
   "execution_count": 15,
   "metadata": {},
   "outputs": [
    {
     "name": "stdout",
     "output_type": "stream",
     "text": [
      "Penguin can't fly.\n",
      "Parrot can fly.\n"
     ]
    }
   ],
   "source": [
    "class Parrot:\n",
    "    def fly(self):\n",
    "        print(\"Parrot can fly.\")\n",
    "\n",
    "    def swim(self):\n",
    "        print(\"Parrot can't swim.\")\n",
    "    \n",
    "class Penguin:\n",
    "    def fly(self):\n",
    "        print(\"Penguin can't fly.\")\n",
    "\n",
    "    def swim(self):\n",
    "        print(\"Penguin can swim.\")\n",
    "\n",
    "def flying_test(bird):\n",
    "    bird.fly()\n",
    "\n",
    "blu = Parrot()\n",
    "peggy = Penguin()\n",
    "\n",
    "flying_test(peggy)\n",
    "flying_test(blu)\n"
   ]
  },
  {
   "cell_type": "markdown",
   "metadata": {},
   "source": [
    "Program 5: Write a Python program to show the how we can remove the duplicate code.\n"
   ]
  },
  {
   "cell_type": "code",
   "execution_count": 16,
   "metadata": {},
   "outputs": [
    {
     "name": "stdout",
     "output_type": "stream",
     "text": [
      "Red\n",
      "Full\n",
      "2475\n",
      "Yellow\n",
      "Half\n",
      "78.55\n",
      "Blue\n",
      "Green\n"
     ]
    }
   ],
   "source": [
    "class Rectangle:\n",
    "    def __init__(self, color, filled, width, lenght) -> None:\n",
    "        self.__color = color\n",
    "        self.__filled = filled\n",
    "        self.__width = width\n",
    "        self.__lenght = lenght\n",
    "\n",
    "    def get_color(self):\n",
    "        return self.__color\n",
    "    \n",
    "    def set_color(self, color):\n",
    "        self.__color = color\n",
    "\n",
    "    def get_filled(self):\n",
    "        return self.__filled\n",
    "    \n",
    "    def set_filled(self, filled):\n",
    "        self.__filled = filled\n",
    "\n",
    "    def get_area(self):\n",
    "        return self.__width * self.__lenght\n",
    "    \n",
    "class Circle:\n",
    "    def __init__(self, color, filled, radius) -> None:\n",
    "        self.__color = color\n",
    "        self.__filled = filled\n",
    "        self.__radius = radius\n",
    "\n",
    "    def get_color(self):\n",
    "        return self.__color\n",
    "    \n",
    "    def set_color(self, color):\n",
    "        self.__color = color\n",
    "\n",
    "    def get_filled(self):\n",
    "        return self.__filled\n",
    "    \n",
    "    def set_filled(self, filled):\n",
    "        self.__filled = filled\n",
    "\n",
    "    def get_area(self):\n",
    "        return 3.142 * self.__radius ** 2\n",
    "\n",
    "obj_rectangle = Rectangle(\"Red\", \"Full\", 45, 55)\n",
    "print(obj_rectangle.get_color())\n",
    "print(obj_rectangle.get_filled())\n",
    "print(obj_rectangle.get_area())\n",
    "\n",
    "obj_circle = Circle(\"Yellow\", \"Half\", 5)\n",
    "print(obj_circle.get_color())\n",
    "print(obj_circle.get_filled())\n",
    "print(obj_circle.get_area())\n",
    "\n",
    "obj_rectangle.set_color(\"Blue\")\n",
    "print(obj_rectangle.get_color())\n",
    "obj_circle.set_color(\"Green\")\n",
    "print(obj_circle.get_color())\n"
   ]
  },
  {
   "cell_type": "markdown",
   "metadata": {},
   "source": [
    "Program 6: Write a Python program to correct Program 5."
   ]
  },
  {
   "cell_type": "code",
   "execution_count": 8,
   "metadata": {},
   "outputs": [
    {
     "name": "stdout",
     "output_type": "stream",
     "text": [
      "Area of rectangle r1:  13.5\n",
      "Perimeter of rectangle r1:  4.5\n",
      "Color of rectangle r1: red\n",
      "Is rectangle r1 filled ?  False\n",
      "Is rectangle r1 filled ?  True\n",
      "Color of rectangle r1: red\n",
      "\n",
      "Area of circle c1: 452.39\n",
      "Perimeter of circle c1: 75.40\n",
      "Color of circle c1: red\n",
      "Is circle c1 filled ?  False\n",
      "Is circle c1 filled ?  True\n",
      "Color of circle c1: blue\n"
     ]
    }
   ],
   "source": [
    "import math\n",
    "\n",
    "class Shape:\n",
    "    def __init__(self, color = 'red', filled = False) -> None:\n",
    "        self.__color = color\n",
    "        self.__filled = filled \n",
    "        \n",
    "    def get_color(self):\n",
    "        return self.__color\n",
    "    \n",
    "    def set_color(self, color):\n",
    "        self.__color = color\n",
    "\n",
    "    def get_filled(self):\n",
    "        return self.__filled\n",
    "    \n",
    "    def set_filled(self, filled):\n",
    "        self.__filled = filled\n",
    "\n",
    "class Rectangle(Shape):\n",
    "    def __init__(self, lenght, breadth):\n",
    "        super().__init__()\n",
    "        self.__lenght = lenght\n",
    "        self.__breadth = breadth\n",
    "\n",
    "    def get_lenght(self):\n",
    "        return self.__lenght\n",
    "    \n",
    "    def set_color(self, lenght):\n",
    "        self.__lenght = lenght\n",
    "\n",
    "    def get_breadth(self):\n",
    "        return self.__breadth\n",
    "    \n",
    "    def set_breadth(self, breadth):\n",
    "        self.__breadth = breadth\n",
    "\n",
    "class Circle(Shape):\n",
    "    def __init__(self, radius) -> None:\n",
    "        super().__init__()\n",
    "        self.__radius = radius\n",
    "\n",
    "    def get_radius(self):\n",
    "        return self.__radius\n",
    "    \n",
    "    def set_radius(self, radius):\n",
    "        self.__radius = radius\n",
    "\n",
    "    def get_area(self):\n",
    "        return math.pi * self.__radius ** 2\n",
    "    \n",
    "    def get_perimeter(self):\n",
    "        return 2 * math.pi * self.__radius\n",
    "    \n",
    "r1 = Rectangle(13.5, 4.5)\n",
    "\n",
    "print(\"Area of rectangle r1: \", r1.get_lenght())\n",
    "print(\"Perimeter of rectangle r1: \", r1.get_breadth())\n",
    "print(\"Color of rectangle r1:\", r1.get_color()) \n",
    "print(\"Is rectangle r1 filled ? \", r1.get_filled()) \n",
    "r1.set_filled(True)\n",
    "print(\"Is rectangle r1 filled ? \", r1.get_filled()) \n",
    "r1.set_color(\"orange\")\n",
    "print(\"Color of rectangle r1:\", r1.get_color())\n",
    "        \n",
    "c1 = Circle(12)\n",
    "\n",
    "print(\"\\nArea of circle c1:\", format(c1.get_area(), \"0.2f\")) \n",
    "print(\"Perimeter of circle c1:\", format(c1.get_perimeter(), \"0.2f\")) \n",
    "print(\"Color of circle c1:\", c1.get_color())\n",
    "print(\"Is circle c1 filled ? \", c1.get_filled()) \n",
    "c1.set_filled(True)\n",
    "print(\"Is circle c1 filled ? \", c1.get_filled()) \n",
    "c1.set_color(\"blue\")\n",
    "print(\"Color of circle c1:\", c1.get_color())\n"
   ]
  },
  {
   "cell_type": "markdown",
   "metadata": {},
   "source": [
    "Program 7: Write a Python program to show polymorphism using function."
   ]
  },
  {
   "cell_type": "code",
   "execution_count": 7,
   "metadata": {},
   "outputs": [
    {
     "name": "stdout",
     "output_type": "stream",
     "text": [
      "Groarrr\n",
      "Woof woof!\n"
     ]
    }
   ],
   "source": [
    "class Bear(object):\n",
    "    def sound(self):\n",
    "        print(\"Groarrr\")\n",
    "\n",
    "class Dog(object):\n",
    "    def sound(self):\n",
    "        print(\"Woof woof!\")\n",
    "\n",
    "    def makeSound(animalType):\n",
    "        animalType.sound()\n",
    "\n",
    "obj_bear = Bear()\n",
    "obj_dog = Dog()\n",
    "obj_bear.sound()                            \n",
    "# obj_dog.sound()\n",
    "obj_dog.makeSound()\n",
    "\n"
   ]
  }
 ],
 "metadata": {
  "kernelspec": {
   "display_name": "Python 3",
   "language": "python",
   "name": "python3"
  },
  "language_info": {
   "codemirror_mode": {
    "name": "ipython",
    "version": 3
   },
   "file_extension": ".py",
   "mimetype": "text/x-python",
   "name": "python",
   "nbconvert_exporter": "python",
   "pygments_lexer": "ipython3",
   "version": "3.11.4"
  },
  "orig_nbformat": 4
 },
 "nbformat": 4,
 "nbformat_minor": 2
}
