{
 "cells": [
  {
   "cell_type": "code",
   "execution_count": 10,
   "metadata": {},
   "outputs": [
    {
     "name": "stdout",
     "output_type": "stream",
     "text": [
      " Name = Toyota \n",
      " Model = Corolla \n",
      " Year = 2023\n",
      "<__main__.Car object at 0x0000025D24E41E90>\n"
     ]
    },
    {
     "data": {
      "text/plain": [
       "' <bound method Vehicles.ShowDetail of <__main__.Car object at 0x0000025D24E41E90>> door = 4'"
      ]
     },
     "execution_count": 10,
     "metadata": {},
     "output_type": "execute_result"
    }
   ],
   "source": [
    "class Vehicles:\n",
    "    def __init__(self, name, model, year) -> None:\n",
    "        self.name = name\n",
    "        self.model = model\n",
    "        self.year = year\n",
    "\n",
    "    def ShowDetail(self):\n",
    "        print(f\" Name = {self.name} \\n Model = {self.model} \\n Year = {self.year}\")\n",
    "\n",
    "class Car(Vehicles):\n",
    "    def __init__(self, name, model, year, door) -> None:\n",
    "        super().__init__(name, model, year)\n",
    "        self.door = door\n",
    "\n",
    "    def ShowCar(self):\n",
    "        return f\" {super().ShowDetail} door = {self.door}\"\n",
    "    \n",
    "class Truck(Car):\n",
    "    def __init__(self, name, model, year, load) -> None:\n",
    "        super().__init__(name, model, year)\n",
    "        self.load = load\n",
    "\n",
    "    def ShowDetail(self):\n",
    "        return super().ShowDetail(self.load)\n",
    "    \n",
    "vehicle = Vehicles(\"Toyota\", \"Corolla\", 2023)\n",
    "vehicle.ShowDetail()\n",
    "\n",
    "car = Car(\"Honda\", \"Civic\", 2023, 4)\n",
    "print(car)\n",
    "# print(car.ShowCar())\n",
    "car.ShowCar()\n",
    "\n",
    "\n",
    "\n",
    "\n"
   ]
  }
 ],
 "metadata": {
  "kernelspec": {
   "display_name": "Python 3",
   "language": "python",
   "name": "python3"
  },
  "language_info": {
   "codemirror_mode": {
    "name": "ipython",
    "version": 3
   },
   "file_extension": ".py",
   "mimetype": "text/x-python",
   "name": "python",
   "nbconvert_exporter": "python",
   "pygments_lexer": "ipython3",
   "version": "3.11.4"
  },
  "orig_nbformat": 4
 },
 "nbformat": 4,
 "nbformat_minor": 2
}
