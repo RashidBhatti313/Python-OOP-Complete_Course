{
 "cells": [
  {
   "cell_type": "code",
   "execution_count": 1,
   "metadata": {},
   "outputs": [
    {
     "name": "stdout",
     "output_type": "stream",
     "text": [
      "Calling function: add\n",
      "Arguments: args=(5, 3), Kwargs={}\n",
      "add retured: 8\n",
      "Calling function: subtract\n",
      "Arguments: args=(5, 3), Kwargs={}\n",
      "subtract retured: 2\n"
     ]
    }
   ],
   "source": [
    "def log_function_call(func):\n",
    "    def wrapper(*args, **kwargs):\n",
    "        print(f\"Calling function: {func.__name__}\")\n",
    "        print(f\"Arguments: args={args}, Kwargs={kwargs}\")\n",
    "        resut = func(*args, **kwargs)\n",
    "        print(f\"{func.__name__} retured: {resut}\")\n",
    "        return resut\n",
    "    return wrapper\n",
    "\n",
    "@log_function_call\n",
    "def add(a, b):\n",
    "    return a+b\n",
    "\n",
    "@log_function_call\n",
    "def subtract(a, b):\n",
    "    return a - b\n",
    "\n",
    "result = add(5,3)\n",
    "result = subtract(5,3)"
   ]
  },
  {
   "cell_type": "code",
   "execution_count": 2,
   "metadata": {},
   "outputs": [
    {
     "name": "stdout",
     "output_type": "stream",
     "text": [
      "Alice performed a sensitive operation.\n",
      "Access denied. Please log in.\n"
     ]
    }
   ],
   "source": [
    "def authenticate(func):\n",
    "    def wrapper(user):\n",
    "        if user[\"is_authenticated\"]:\n",
    "            return func(user)\n",
    "        else:\n",
    "            return \"Access denied. Please log in.\"\n",
    "\n",
    "    return wrapper\n",
    "\n",
    "def perform_sensitive_operation(user):\n",
    "    return f\"{user['username']} performed a sensitive operation.\"\n",
    "\n",
    "user1 = {\"username\": \"Alice\", \"is_authenticated\": True}\n",
    "user2 = {\"username\": \"Bob\", \"is_authenticated\": False}\n",
    "\n",
    "secured_operation = authenticate(perform_sensitive_operation)\n",
    "\n",
    "result1 = secured_operation(user1)\n",
    "result2 = secured_operation(user2)\n",
    "\n",
    "print(result1)\n",
    "print(result2)\n"
   ]
  }
 ],
 "metadata": {
  "kernelspec": {
   "display_name": "Python 3",
   "language": "python",
   "name": "python3"
  },
  "language_info": {
   "codemirror_mode": {
    "name": "ipython",
    "version": 3
   },
   "file_extension": ".py",
   "mimetype": "text/x-python",
   "name": "python",
   "nbconvert_exporter": "python",
   "pygments_lexer": "ipython3",
   "version": "3.11.4"
  },
  "orig_nbformat": 4
 },
 "nbformat": 4,
 "nbformat_minor": 2
}
