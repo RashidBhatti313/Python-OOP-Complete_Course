{
 "cells": [
  {
   "cell_type": "code",
   "execution_count": 2,
   "metadata": {},
   "outputs": [
    {
     "name": "stdout",
     "output_type": "stream",
     "text": [
      "Average Income by Age Group:\n",
      "AgeGroup\n",
      "18-30    35000.0\n",
      "31-45    75000.0\n",
      "46-60    65000.0\n",
      "61+      72500.0\n",
      "Name: Income, dtype: float64\n",
      "\n",
      "Average Purchase by Age Group:\n",
      "AgeGroup\n",
      "18-30     76.666667\n",
      "31-45    225.000000\n",
      "46-60    183.333333\n",
      "61+      325.000000\n",
      "Name: PurchaseHistory, dtype: float64\n",
      "\n",
      "Age Group with the Highest Average Purchase:\n",
      "61+ with an average purchase of 325.0\n"
     ]
    },
    {
     "name": "stderr",
     "output_type": "stream",
     "text": [
      "C:\\Users\\rashi\\AppData\\Local\\Temp\\ipykernel_13096\\1053678463.py:16: FutureWarning: The default of observed=False is deprecated and will be changed to True in a future version of pandas. Pass observed=False to retain current behavior or observed=True to adopt the future default and silence this warning.\n",
      "  average_income_by_age_group = df.groupby('AgeGroup')['Income'].mean()\n",
      "C:\\Users\\rashi\\AppData\\Local\\Temp\\ipykernel_13096\\1053678463.py:18: FutureWarning: The default of observed=False is deprecated and will be changed to True in a future version of pandas. Pass observed=False to retain current behavior or observed=True to adopt the future default and silence this warning.\n",
      "  average_purchase_by_age_group = df.groupby('AgeGroup')['PurchaseHistory'].mean()\n"
     ]
    }
   ],
   "source": [
    "import pandas as pd\n",
    "\n",
    "data = {\n",
    "    'Age': [25, 35, 50, 68, 30, 42, 55, 60, 21, 73],\n",
    "    'Income': [40000, 60000, 80000, 75000, 35000, 90000, 60000, 55000, 30000, 70000],\n",
    "    'PurchaseHistory': [100, 200, 150, 300, 50, 250, 180, 220, 80, 350]\n",
    "}\n",
    "\n",
    "df = pd.DataFrame(data)\n",
    "\n",
    "bins = [18, 30, 45, 60, 100]\n",
    "labels = ['18-30', '31-45', '46-60', '61+']\n",
    "\n",
    "df['AgeGroup'] = pd.cut(df['Age'], bins=bins, labels=labels)\n",
    "\n",
    "average_income_by_age_group = df.groupby('AgeGroup')['Income'].mean()\n",
    "\n",
    "average_purchase_by_age_group = df.groupby('AgeGroup')['PurchaseHistory'].mean()\n",
    "\n",
    "# Identify the age group with the highest average purchase\n",
    "max_purchase_age_group = average_purchase_by_age_group.idxmax()\n",
    "max_average_purchase = average_purchase_by_age_group.max()\n",
    "\n",
    "print(\"Average Income by Age Group:\")\n",
    "print(average_income_by_age_group)\n",
    "print(\"\\nAverage Purchase by Age Group:\")\n",
    "print(average_purchase_by_age_group)\n",
    "print(\"\\nAge Group with the Highest Average Purchase:\")\n",
    "print(f\"{max_purchase_age_group} with an average purchase of {max_average_purchase}\")"
   ]
  }
 ],
 "metadata": {
  "kernelspec": {
   "display_name": "Python 3",
   "language": "python",
   "name": "python3"
  },
  "language_info": {
   "codemirror_mode": {
    "name": "ipython",
    "version": 3
   },
   "file_extension": ".py",
   "mimetype": "text/x-python",
   "name": "python",
   "nbconvert_exporter": "python",
   "pygments_lexer": "ipython3",
   "version": "3.11.4"
  }
 },
 "nbformat": 4,
 "nbformat_minor": 2
}
