{
 "cells": [
  {
   "cell_type": "code",
   "execution_count": 4,
   "metadata": {},
   "outputs": [],
   "source": [
    "class Complex:\n",
    "    def __init__(self, r, i) -> None:\n",
    "        self.real = r\n",
    "        self.img = i\n",
    "\n",
    "    \n",
    "c1 = Complex(5,3)\n",
    "c2 = Complex(3,4)\n"
   ]
  },
  {
   "cell_type": "code",
   "execution_count": 5,
   "metadata": {},
   "outputs": [
    {
     "name": "stdout",
     "output_type": "stream",
     "text": [
      "sum =  (8+7j)\n"
     ]
    }
   ],
   "source": [
    "class Complex:\n",
    "    def __init__(self, r, i) -> None:\n",
    "        self.real = r\n",
    "        self.img = i\n",
    "\n",
    "    def __add__(self, sec):\n",
    "        r = self.real + sec.real\n",
    "        i = self.img + sec.img\n",
    "        return complex(r, i)\n",
    "    \n",
    "    def __str__(self) -> str:\n",
    "        return str(self.real)+' + '+str(self.img)+'i'\n",
    "    \n",
    "c1 = Complex(5,3)\n",
    "c2 = Complex(3,4)\n",
    "print(\"sum = \", c1 + c2)\n",
    "\n"
   ]
  },
  {
   "cell_type": "markdown",
   "metadata": {},
   "source": [
    "\n",
    "## 5. Overloading - Operator"
   ]
  },
  {
   "cell_type": "code",
   "execution_count": 1,
   "metadata": {},
   "outputs": [
    {
     "name": "stdout",
     "output_type": "stream",
     "text": [
      "(1, 2)\n"
     ]
    }
   ],
   "source": [
    "class Point:\n",
    "    def __init__(self, x=0, y=0) -> None:\n",
    "        self.x = x\n",
    "        self.y = y\n",
    "\n",
    "    def __str__(self) -> str:\n",
    "        return \"({0}, {1})\".format(self.x, self.y)\n",
    "    \n",
    "    def __sub__(self, other):\n",
    "        x = self.x - other.x\n",
    "        y = self.y - other.y\n",
    "        return Point(x, y)\n",
    "    \n",
    "p1 = Point(5,4)\n",
    "p2 = Point(4,2)\n",
    "print(p1-p2)"
   ]
  },
  {
   "cell_type": "markdown",
   "metadata": {},
   "source": [
    "#### Abstract Classes in Python"
   ]
  },
  {
   "cell_type": "markdown",
   "metadata": {},
   "source": [
    "Case Study 1:\n",
    "Create a class fruit Use polymorphism to show the functions of these such as type (), color (), \n",
    "taste () etc."
   ]
  },
  {
   "cell_type": "code",
   "execution_count": 5,
   "metadata": {},
   "outputs": [
    {
     "name": "stdout",
     "output_type": "stream",
     "text": [
      " name = Banana \n",
      " color = Yellow \n",
      " taste = VIP\n",
      " name = Mango \n",
      " color = Yellow \n",
      " taste = Sweet \n",
      " variety = Chunsa\n",
      " name = Apple \n",
      " color = Red \n",
      " taste = Sweet \n",
      " Apple = GoldenApple\n"
     ]
    }
   ],
   "source": [
    "class Fruit:\n",
    "    def __init__(self, name, color, taste) -> None:\n",
    "        self.name = name\n",
    "        self.color = color\n",
    "        self.taste = taste\n",
    "\n",
    "    def __str__(self) -> str:\n",
    "        return f\" name = {self.name} \\n color = {self.color} \\n taste = {self.taste}\"\n",
    "    \n",
    "class Mango(Fruit):\n",
    "    def __init__(self, name, color, taste, variety) -> None:\n",
    "        super().__init__(name, color, taste)\n",
    "        self.variety = variety\n",
    "\n",
    "    def __str__(self) -> str:\n",
    "        return f\"{super().__str__()} \\n variety = {self.variety}\"\n",
    "    \n",
    "class Apple(Fruit):\n",
    "    def __init__(self, name, color, taste, Apple) -> None:\n",
    "        super().__init__(name, color, taste)\n",
    "        self.apple = Apple\n",
    "\n",
    "    def __str__(self) -> str:\n",
    "        return f\"{super().__str__()} \\n Apple = {self.apple}\"\n",
    "    \n",
    "fruit = Fruit(\"Banana\", \"Yellow\", \"VIP\")\n",
    "print(fruit)\n",
    "fruit1 = Mango(\"Mango\", \"Yellow\", \"Sweet\", \"Chunsa\")\n",
    "print(fruit1)\n",
    "fruit2 = Apple(\"Apple\", \"Red\", \"Sweet\", \"GoldenApple\")\n",
    "print(fruit2)\n"
   ]
  },
  {
   "cell_type": "code",
   "execution_count": 13,
   "metadata": {},
   "outputs": [
    {
     "name": "stdout",
     "output_type": "stream",
     "text": [
      "Apple:\n",
      "- Apple is red in color.\n",
      "- Apple tastes sweet and crisp\n",
      "\n",
      "Banana:\n",
      "- Banana is yellow in color.\n",
      "- Banana tastes sweet and creamy\n",
      "\n",
      "Orange:\n",
      "- Orange is orange in color.\n",
      "- Orange tastes citrusy and juicy\n",
      "\n"
     ]
    }
   ],
   "source": [
    "class Fruit:\n",
    "    def __init__(self, name, color, taste) -> None:\n",
    "        self.name = name\n",
    "        self.color = color\n",
    "        self.taste = taste\n",
    "\n",
    "    def get_type(self):\n",
    "        return \"Generic Fruit\"\n",
    "    \n",
    "    def get_color(self):\n",
    "        return f\"{self.name} is {self.color} in color.\"\n",
    "    \n",
    "    def get_taste(self):\n",
    "        return f\"{self.name} tastes {self.taste}\"\n",
    "    \n",
    "class Apple(Fruit):\n",
    "    def get_type(self):\n",
    "        return \"Apple\"\n",
    "    \n",
    "class Banana(Fruit):\n",
    "    def get_type(self):\n",
    "        return \"Banana\"\n",
    "    \n",
    "class Orange(Fruit):\n",
    "    def get_type(self):\n",
    "        return \"Orange\"\n",
    "    \n",
    "apple = Apple(\"Apple\", \"red\", \"sweet and crisp\")\n",
    "banana = Banana(\"Banana\", \"yellow\", \"sweet and creamy\")\n",
    "orange = Orange(\"Orange\", \"orange\", \"citrusy and juicy\")\n",
    "\n",
    "fruits = [apple, banana, orange]\n",
    "\n",
    "for fruit in fruits:\n",
    "    print(f\"{fruit.get_type()}:\")\n",
    "    print(f\"- {fruit.get_color()}\")\n",
    "    print(f\"- {fruit.get_taste()}\")\n",
    "    print()"
   ]
  },
  {
   "cell_type": "markdown",
   "metadata": {},
   "source": [
    "Case Study 2: \n",
    "Create an ABC class of Vehicle and add some abstract method like model, color  now add some \n",
    "classes in which you will implement abstract class like Car,   motorbike "
   ]
  },
  {
   "cell_type": "code",
   "execution_count": 16,
   "metadata": {},
   "outputs": [
    {
     "name": "stdout",
     "output_type": "stream",
     "text": [
      "Toyota's model is Corolla\n",
      "Toyota is Black in color.\n",
      " Honda's model is CG 125\n",
      "Honda is Red in color.\n"
     ]
    }
   ],
   "source": [
    "from abc import ABC, abstractmethod\n",
    "\n",
    "class Vehicle(ABC):\n",
    "    def __init__(self, name) -> None:\n",
    "        self.name = name\n",
    "\n",
    "    @abstractmethod\n",
    "    def model(self):\n",
    "        pass\n",
    "\n",
    "    def color(self):\n",
    "        pass\n",
    "\n",
    "class Car(Vehicle):\n",
    "    def __init__(self, name, model, color) -> None:\n",
    "        super().__init__(name)\n",
    "        self.car_model = model\n",
    "        self.car_color = color\n",
    "\n",
    "    def model(self):\n",
    "        return f\"{self.name}'s model is {self.car_model}\"\n",
    "    \n",
    "    def color(self):\n",
    "        return f\"{self.name} is {self.car_color} in color.\"\n",
    "    \n",
    "class MotorCycle(Vehicle):\n",
    "    def __init__(self, name, model, color) -> None:\n",
    "        super().__init__(name)\n",
    "        self.MotorCtcle_model = model\n",
    "        self.MotorCtcle_color = color\n",
    "\n",
    "    def model(self):\n",
    "        return f\" {self.name}'s model is {self.MotorCtcle_model}\"\n",
    "    \n",
    "    def color(self):\n",
    "        return f\"{self.name} is {self.MotorCtcle_color} in color.\"\n",
    "    \n",
    "car = Car(\"Toyota\", \"Corolla\", \"Black\")\n",
    "motorcycle = MotorCycle(\"Honda\", \"CG 125\", \"Red\")\n",
    "print(car.model())\n",
    "print(car.color())\n",
    "\n",
    "print(motorcycle.model())\n",
    "print(motorcycle.color())    \n"
   ]
  }
 ],
 "metadata": {
  "kernelspec": {
   "display_name": "Python 3",
   "language": "python",
   "name": "python3"
  },
  "language_info": {
   "codemirror_mode": {
    "name": "ipython",
    "version": 3
   },
   "file_extension": ".py",
   "mimetype": "text/x-python",
   "name": "python",
   "nbconvert_exporter": "python",
   "pygments_lexer": "ipython3",
   "version": "3.11.4"
  },
  "orig_nbformat": 4
 },
 "nbformat": 4,
 "nbformat_minor": 2
}
