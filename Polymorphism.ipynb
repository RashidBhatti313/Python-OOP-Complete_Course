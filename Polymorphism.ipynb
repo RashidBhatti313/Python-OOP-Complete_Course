{
 "cells": [
  {
   "cell_type": "code",
   "execution_count": 4,
   "metadata": {},
   "outputs": [
    {
     "name": "stdout",
     "output_type": "stream",
     "text": [
      "Islamabad is the capital of Pakistan\n",
      "Urdu is the most widely spoken language of Pakistan\n",
      "Pakistan is the agricultural country\n",
      "Pakistan is the Asia continent\n",
      "Washington is the capital of USA\n",
      "English is the primary language of USA\n",
      "USA is the developed country\n",
      "North america is continent in USA\n"
     ]
    }
   ],
   "source": [
    "class Pakistan():\n",
    "    def capital(self):\n",
    "        print(\"Islamabad is the capital of Pakistan\")\n",
    "\n",
    "    def language(self):\n",
    "        print(\"Urdu is the most widely spoken language of Pakistan\")\n",
    "\n",
    "    def type(self):\n",
    "        print(\"Pakistan is the agricultural country\")\n",
    "\n",
    "    def continent(self):\n",
    "        print(\"Pakistan is the Asia continent\")\n",
    "\n",
    "class USA():\n",
    "    def capital(self):\n",
    "        print(\"Washington is the capital of USA\")\n",
    "\n",
    "    def language(self):\n",
    "        print(\"English is the primary language of USA\")\n",
    "\n",
    "    def type(self):\n",
    "        print(\"USA is the developed country\")\n",
    "\n",
    "    def continent(self):\n",
    "        print(\"North america is continent in USA\")\n",
    "\n",
    "obj_Pakistan = Pakistan()\n",
    "obj_Usa = USA()\n",
    "\n",
    "for country in (obj_Pakistan, obj_Usa):\n",
    "    country.capital()\n",
    "    country.language()\n",
    "    country.type()\n",
    "    country.continent()\n"
   ]
  },
  {
   "cell_type": "code",
   "execution_count": 8,
   "metadata": {},
   "outputs": [
    {
     "name": "stdout",
     "output_type": "stream",
     "text": [
      "There are many types of birds.\n",
      "Most of the birds can fly but some cannot.\n",
      "There are many types of birds.\n",
      "Sparrow can fly.\n",
      "There are many types of birds.\n",
      "Ostriches cannot fly.\n"
     ]
    }
   ],
   "source": [
    "class Bird:\n",
    "    def intro(self):\n",
    "        print(\"There are many types of birds.\")\n",
    "\n",
    "    def flight(self):\n",
    "        print(\"Most of the birds can fly but some cannot.\")\n",
    "\n",
    "class Sparrow(Bird):\n",
    "    def flight(self):\n",
    "        print(\"Sparrow can fly.\")\n",
    "\n",
    "class ostrich(Bird):\n",
    "  def flight(self):\n",
    "    print(\"Ostriches cannot fly.\")\n",
    "\n",
    "obj_bird = Bird()\n",
    "obj_spr = Sparrow()\n",
    "obj_ost = ostrich()\n",
    "\n",
    "obj_bird.intro()\n",
    "obj_bird.flight()\n",
    "\n",
    "obj_spr.intro()\n",
    "obj_spr.flight()\n",
    "\n",
    "obj_ost.intro()\n",
    "obj_ost.flight()\n"
   ]
  }
 ],
 "metadata": {
  "kernelspec": {
   "display_name": "Python 3",
   "language": "python",
   "name": "python3"
  },
  "language_info": {
   "codemirror_mode": {
    "name": "ipython",
    "version": 3
   },
   "file_extension": ".py",
   "mimetype": "text/x-python",
   "name": "python",
   "nbconvert_exporter": "python",
   "pygments_lexer": "ipython3",
   "version": "3.11.4"
  },
  "orig_nbformat": 4
 },
 "nbformat": 4,
 "nbformat_minor": 2
}
