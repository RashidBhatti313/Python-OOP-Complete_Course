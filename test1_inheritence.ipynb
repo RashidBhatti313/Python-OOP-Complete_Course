{
 "cells": [
  {
   "cell_type": "code",
   "execution_count": 1,
   "metadata": {},
   "outputs": [
    {
     "name": "stdout",
     "output_type": "stream",
     "text": [
      " name : Toyota Model : Corolla year : 2022\n"
     ]
    }
   ],
   "source": [
    "class Car:\n",
    "    def __init__(self, name, Model, year) -> None:\n",
    "        self.name = name\n",
    "        self.Model = Model\n",
    "        self.year = year\n",
    "\n",
    "    def __str__(self) -> str:\n",
    "        return f\" name : {self.name} Model : {self.Model} year : {self.year}\"\n",
    "    \n",
    "    def move(self):\n",
    "        return True\n",
    "    \n",
    "    def park(self):\n",
    "        return True\n",
    "    \n",
    "    def accelerate(self):\n",
    "        return True\n",
    "    \n",
    "car = Car(\"Toyota\", \"Corolla\", 2022)\n",
    "print(car)"
   ]
  },
  {
   "cell_type": "code",
   "execution_count": 1,
   "metadata": {},
   "outputs": [
    {
     "name": "stdout",
     "output_type": "stream",
     "text": [
      "kiya kar sakty hain\n"
     ]
    }
   ],
   "source": [
    "class CustomerAccuont:\n",
    "    def __init__(self, CustomerName, TypeOfAccouont, AccountNumber, CurrentBalance) -> None:\n",
    "        self.CustomerName = CustomerName\n",
    "        self.TypeOfAccount = TypeOfAccouont\n",
    "        self.AccountNumber = AccountNumber\n",
    "        self.CurrentBalance = CurrentBalance\n",
    "\n",
    "    def setAccoutBalance(self, balance):\n",
    "        self.CurrentBalance += balance\n",
    "\n",
    "    def getAccontBalance(self):\n",
    "        return self.CurrentBalance\n",
    "    \n",
    "    def credit(self, balance):\n",
    "        self.CurrentBalance += balance\n",
    "\n",
    "    def getcredit(self):\n",
    "        return self.CurrentBalance\n",
    "    \n",
    "    def withdraw(self, balance):\n",
    "        if self.CurrentBalance >= balance:\n",
    "            self.CurrentBalance -= balance\n",
    "        else:\n",
    "            print(\"kiya kar sakty hain\")\n",
    "\n",
    "\n",
    "cust1 = CustomerAccuont(\"USMAN\",\"Saving\",343545454,2666666)\n",
    "cust1.CurrentBalance\n",
    "cust1.setAccoutBalance(354545)\n",
    "cust1.getAccontBalance()\n",
    "coust2 = CustomerAccuont(\"Kashif\", \"saving\", 266565656, 454545454)\n",
    "coust2.CurrentBalance\n",
    "coust2.credit(787877)\n",
    "coust2.getcredit()\n",
    "cust3 = CustomerAccuont(\"ali\", \"saving\", 4545445, 323232322)\n",
    "cust3.CurrentBalance\n",
    "cust3.withdraw(1212112121212)\n",
    "\n",
    "\n"
   ]
  },
  {
   "cell_type": "code",
   "execution_count": 5,
   "metadata": {},
   "outputs": [
    {
     "name": "stdout",
     "output_type": "stream",
     "text": [
      "<__main__.CustomerAccount object at 0x000001EE3D955090>\n"
     ]
    }
   ],
   "source": [
    "class CustomerAccount:\n",
    "    def __init__(self, customer_name, account_type, account_number, current_balance):\n",
    "        self.__customer_name = customer_name\n",
    "        self.__account_type = account_type\n",
    "        self.__account_number = account_number\n",
    "        self.__current_balance = current_balance\n",
    "    \n",
    "    def get_customer_name(self):\n",
    "        return self.__customer_name\n",
    "    \n",
    "    def get_account_type(self):\n",
    "        return self.__account_type\n",
    "    \n",
    "    def get_account_number(self):\n",
    "        return self.__account_number\n",
    "    \n",
    "    def get_current_balance(self):\n",
    "        return self.__current_balance\n",
    "    \n",
    "    def debit(self, amount):\n",
    "        if amount > 0:\n",
    "            self.__current_balance -= amount\n",
    "            return True\n",
    "        return False\n",
    "    \n",
    "    def credit(self, amount):\n",
    "        if amount > 0:\n",
    "            self.__current_balance += amount\n",
    "            return True\n",
    "        return False\n",
    "    \n",
    "    def withdraw(self, amount):\n",
    "        if amount > 0 and amount <= self.__current_balance:\n",
    "            self.__current_balance -= amount\n",
    "            return True\n",
    "        return False\n",
    "\n",
    "# Creating customer account objects\n",
    "customer1 = CustomerAccount(\"John Doe\", \"Savings\", \"123456789\", 1000.00)\n",
    "customer2 = CustomerAccount(\"Jane Smith\", \"Checking\", \"987654321\", 1500.00)\n",
    "customer3 = CustomerAccount(\"Alice Johnson\", \"Savings\", \"567890123\", 2000.00)\n",
    "print(customer1)"
   ]
  },
  {
   "cell_type": "code",
   "execution_count": 3,
   "metadata": {},
   "outputs": [
    {
     "name": "stdout",
     "output_type": "stream",
     "text": [
      "Falcon fires laser!\n",
      "300 units of cargo loaded onto CargoStar.\n",
      "150 units of cargo unloaded from CargoStar.\n"
     ]
    }
   ],
   "source": [
    "import random\n",
    "\n",
    "class Spaceship:\n",
    "    def __init__(self, name, fuel_capacity) -> None:\n",
    "        self.name = name\n",
    "        self.fuel_capacity = fuel_capacity\n",
    "\n",
    "class FighterShip(Spaceship):\n",
    "    def __init__(self, name, fuel_capacity, weapon) -> None:\n",
    "        super().__init__(name, fuel_capacity)\n",
    "        self.weapon = weapon\n",
    "\n",
    "    def fire_weapon(self):\n",
    "        if self.weapon:\n",
    "            weapon_to_fire = random.choice(self.weapon)\n",
    "            print(f\"{self.name} fires {weapon_to_fire}!\")\n",
    "        else:\n",
    "            print(f\"{self.name} has no weapon to fire. \")\n",
    "\n",
    "class CargoShip(Spaceship):\n",
    "    def __init__(self, name, fuel_capacity, cargo_capacity) -> None:\n",
    "        super().__init__(name, fuel_capacity)\n",
    "        self.cargo_capacity = cargo_capacity\n",
    "        self.current_cargo = 0\n",
    "\n",
    "    def load_cargo(self, amount):\n",
    "        if self.current_cargo + amount <= self.cargo_capacity:\n",
    "            self.current_cargo += amount\n",
    "            print(f\"{amount} units of cargo loaded onto {self.name}.\")\n",
    "        else:\n",
    "            print(f\"Not enough space to load {amount} units of cargo.\")\n",
    "    \n",
    "    def unload_cargo(self, amount):\n",
    "        if self.current_cargo >= amount:\n",
    "            self.current_cargo -= amount\n",
    "            print(f\"{amount} units of cargo unloaded from {self.name}.\")\n",
    "        else:\n",
    "            print(f\"Not enough cargo to unload {amount} units.\")\n",
    "\n",
    "fighter1 = FighterShip(\"Falcon\", 100, [\"laser\", \"Missile\"])\n",
    "fighter1.fire_weapon()\n",
    "\n",
    "cargo_ship = CargoShip(\"CargoStar\", 200, 500)\n",
    "cargo_ship.load_cargo(300)\n",
    "cargo_ship.unload_cargo(150)\n",
    "\n",
    "        \n",
    "        "
   ]
  }
 ],
 "metadata": {
  "kernelspec": {
   "display_name": "Python 3",
   "language": "python",
   "name": "python3"
  },
  "language_info": {
   "codemirror_mode": {
    "name": "ipython",
    "version": 3
   },
   "file_extension": ".py",
   "mimetype": "text/x-python",
   "name": "python",
   "nbconvert_exporter": "python",
   "pygments_lexer": "ipython3",
   "version": "3.11.1"
  },
  "orig_nbformat": 4
 },
 "nbformat": 4,
 "nbformat_minor": 2
}
